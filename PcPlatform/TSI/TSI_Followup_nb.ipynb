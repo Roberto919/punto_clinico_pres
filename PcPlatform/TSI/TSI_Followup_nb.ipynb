{
 "cells": [
  {
   "cell_type": "markdown",
   "metadata": {},
   "source": [
    "# Project followup\n",
    "**Enlisting all tasks and performing analysis of pending work and advancements** \n",
    "- Author: Rob (GH: Roberto919)\n",
    "- Date: 25 June 2020"
   ]
  },
  {
   "cell_type": "markdown",
   "metadata": {},
   "source": [
    "---\n",
    "---"
   ]
  },
  {
   "cell_type": "markdown",
   "metadata": {},
   "source": [
    "## Imports"
   ]
  },
  {
   "cell_type": "markdown",
   "metadata": {},
   "source": [
    "#### Python libraries"
   ]
  },
  {
   "cell_type": "code",
   "execution_count": 1,
   "metadata": {
    "ExecuteTime": {
     "end_time": "2020-11-13T16:08:35.944239Z",
     "start_time": "2020-11-13T16:08:35.287438Z"
    }
   },
   "outputs": [],
   "source": [
    "import pandas as pd\n",
    "\n",
    "import pprint as pp\n",
    "\n",
    "import plotly.express as px\n",
    "\n",
    "from datetime import *\n",
    "\n",
    "import json\n",
    "\n",
    "from collections import Counter"
   ]
  },
  {
   "cell_type": "markdown",
   "metadata": {},
   "source": [
    "#### Ancillary modules"
   ]
  },
  {
   "cell_type": "code",
   "execution_count": 2,
   "metadata": {
    "ExecuteTime": {
     "end_time": "2020-11-13T16:08:36.149530Z",
     "start_time": "2020-11-13T16:08:35.946393Z"
    }
   },
   "outputs": [],
   "source": [
    "## Reloading imports\n",
    "%load_ext autoreload\n",
    "%autoreload 2\n",
    "\n",
    "from TSI_Followup_funcs import * \n",
    "\n",
    "from TSI_Followup_params import (\n",
    "    followup_dev_activities,\n",
    ")"
   ]
  },
  {
   "cell_type": "markdown",
   "metadata": {},
   "source": [
    "---"
   ]
  },
  {
   "cell_type": "markdown",
   "metadata": {
    "heading_collapsed": true
   },
   "source": [
    "## Processing work plan based on TSI reported advancements"
   ]
  },
  {
   "cell_type": "markdown",
   "metadata": {
    "hidden": true
   },
   "source": [
    "#### Importing raw data"
   ]
  },
  {
   "cell_type": "code",
   "execution_count": null,
   "metadata": {
    "ExecuteTime": {
     "end_time": "2020-11-10T23:34:54.412053Z",
     "start_time": "2020-11-10T23:34:54.290850Z"
    },
    "hidden": true,
    "scrolled": true
   },
   "outputs": [],
   "source": [
    "# data = pd.read_excel('sources/ControlRob/ControlRob_WP.xlsx')\n",
    "data = pd.read_excel(\"sources/TSI_docs_fix/WP_2020_10_30_fix.xlsx\")\n",
    "data"
   ]
  },
  {
   "cell_type": "code",
   "execution_count": null,
   "metadata": {
    "ExecuteTime": {
     "end_time": "2020-11-10T23:34:55.756561Z",
     "start_time": "2020-11-10T23:34:55.726018Z"
    },
    "hidden": true
   },
   "outputs": [],
   "source": [
    "m1 = data[\"Nombre de tarea\"].str.contains(\"telecon\")\n",
    "data.loc[m1, :]"
   ]
  },
  {
   "cell_type": "markdown",
   "metadata": {
    "hidden": true
   },
   "source": [
    "#### Creating dictionary of dataframes for every task and subtasks"
   ]
  },
  {
   "cell_type": "code",
   "execution_count": null,
   "metadata": {
    "ExecuteTime": {
     "end_time": "2020-11-10T23:34:57.583289Z",
     "start_time": "2020-11-10T23:34:57.559229Z"
    },
    "hidden": true,
    "scrolled": true
   },
   "outputs": [],
   "source": [
    "md_dict, data = extract_md_dict(data)"
   ]
  },
  {
   "cell_type": "raw",
   "metadata": {
    "ExecuteTime": {
     "end_time": "2020-10-27T20:19:31.963846Z",
     "start_time": "2020-10-27T20:19:31.925421Z"
    },
    "hidden": true
   },
   "source": [
    "data"
   ]
  },
  {
   "cell_type": "markdown",
   "metadata": {
    "hidden": true
   },
   "source": [
    "#### Updating data with info stored in parameters."
   ]
  },
  {
   "cell_type": "code",
   "execution_count": null,
   "metadata": {
    "ExecuteTime": {
     "end_time": "2020-11-10T23:34:59.915447Z",
     "start_time": "2020-11-10T23:34:59.894033Z"
    },
    "hidden": true
   },
   "outputs": [],
   "source": [
    "## Converting *followup_dev_activities* dictionary into a dataframe\n",
    "stored_info = pd.DataFrame.from_dict(followup_dev_activities, orient=\"index\")"
   ]
  },
  {
   "cell_type": "code",
   "execution_count": null,
   "metadata": {
    "ExecuteTime": {
     "end_time": "2020-11-10T23:35:00.397318Z",
     "start_time": "2020-11-10T23:35:00.377040Z"
    },
    "hidden": true,
    "scrolled": true
   },
   "outputs": [],
   "source": [
    "## Pasting stored results with new workplan.\n",
    "data_add = data.join(stored_info, on=\"md_names\", rsuffix=\"_stored\")\n",
    "# data_add"
   ]
  },
  {
   "cell_type": "code",
   "execution_count": null,
   "metadata": {
    "ExecuteTime": {
     "end_time": "2020-11-10T23:35:00.999086Z",
     "start_time": "2020-11-10T23:35:00.981079Z"
    },
    "hidden": true,
    "scrolled": true
   },
   "outputs": [],
   "source": [
    "## Fixing some entries that were not present in previous stored values.\n",
    "data_add[\"No.\"] = range(1, data_add.shape[0] + 1)\n",
    "data_add[\"RevRob\"].fillna(0, inplace=True)\n",
    "data_add[\"Notas_Rob\"].fillna(\"-\", inplace=True)"
   ]
  },
  {
   "cell_type": "markdown",
   "metadata": {
    "hidden": true
   },
   "source": [
    "#### Printing dictionary with followup info"
   ]
  },
  {
   "cell_type": "raw",
   "metadata": {
    "ExecuteTime": {
     "end_time": "2020-10-30T16:46:52.285184Z",
     "start_time": "2020-10-30T16:46:52.250826Z"
    },
    "hidden": true
   },
   "source": [
    "followup_dict(data_add)"
   ]
  },
  {
   "cell_type": "markdown",
   "metadata": {
    "hidden": true
   },
   "source": [
    "#### Formatting dataframe"
   ]
  },
  {
   "cell_type": "code",
   "execution_count": null,
   "metadata": {
    "ExecuteTime": {
     "end_time": "2020-11-10T23:35:03.312809Z",
     "start_time": "2020-11-10T23:35:03.287459Z"
    },
    "hidden": true,
    "scrolled": true
   },
   "outputs": [],
   "source": [
    "data_gant_tsi = format_df(data_add)\n",
    "# data_gant_tsi"
   ]
  },
  {
   "cell_type": "markdown",
   "metadata": {
    "hidden": true
   },
   "source": [
    "#### Creating dataframes based on md_dict"
   ]
  },
  {
   "cell_type": "code",
   "execution_count": null,
   "metadata": {
    "ExecuteTime": {
     "end_time": "2020-11-10T23:35:04.477436Z",
     "start_time": "2020-11-10T23:35:04.443898Z"
    },
    "hidden": true
   },
   "outputs": [],
   "source": [
    "md_dfs = mother_daughter_dfs(md_dict, data_gant_tsi)"
   ]
  },
  {
   "cell_type": "code",
   "execution_count": null,
   "metadata": {
    "ExecuteTime": {
     "end_time": "2020-11-10T23:35:05.675184Z",
     "start_time": "2020-11-10T23:35:05.454658Z"
    },
    "hidden": true,
    "scrolled": false
   },
   "outputs": [],
   "source": [
    "gantt_chart(md_dfs, 'Proyecto consultorios')"
   ]
  },
  {
   "cell_type": "raw",
   "metadata": {
    "ExecuteTime": {
     "end_time": "2020-10-27T20:24:05.586924Z",
     "start_time": "2020-10-27T20:24:05.512126Z"
    },
    "hidden": true
   },
   "source": [
    "gantt_chart(md_dfs, 'Desarrollo')"
   ]
  },
  {
   "cell_type": "raw",
   "metadata": {
    "ExecuteTime": {
     "end_time": "2020-10-27T20:24:06.112951Z",
     "start_time": "2020-10-27T20:24:06.068383Z"
    },
    "hidden": true
   },
   "source": [
    "gantt_chart(md_dfs, 'Diseño pantallas')"
   ]
  },
  {
   "cell_type": "markdown",
   "metadata": {
    "hidden": true
   },
   "source": [
    "---"
   ]
  },
  {
   "cell_type": "markdown",
   "metadata": {
    "heading_collapsed": true
   },
   "source": [
    "## Rob's followup of tasks"
   ]
  },
  {
   "cell_type": "markdown",
   "metadata": {
    "hidden": true
   },
   "source": [
    "#### Formatting dataframe"
   ]
  },
  {
   "cell_type": "code",
   "execution_count": null,
   "metadata": {
    "ExecuteTime": {
     "end_time": "2020-11-04T17:14:01.498553Z",
     "start_time": "2020-11-04T17:14:01.468640Z"
    },
    "hidden": true,
    "scrolled": true
   },
   "outputs": [],
   "source": [
    "data_gant_rob = format_df(data_add, version='Rob')"
   ]
  },
  {
   "cell_type": "markdown",
   "metadata": {
    "hidden": true
   },
   "source": [
    "#### Creating dataframes based on md_dict"
   ]
  },
  {
   "cell_type": "code",
   "execution_count": null,
   "metadata": {
    "ExecuteTime": {
     "end_time": "2020-11-04T17:14:02.176485Z",
     "start_time": "2020-11-04T17:14:02.144772Z"
    },
    "hidden": true
   },
   "outputs": [],
   "source": [
    "md_dfs = mother_daughter_dfs(md_dict, data_gant_rob)"
   ]
  },
  {
   "cell_type": "code",
   "execution_count": null,
   "metadata": {
    "ExecuteTime": {
     "end_time": "2020-11-04T17:14:02.871028Z",
     "start_time": "2020-11-04T17:14:02.345139Z"
    },
    "hidden": true
   },
   "outputs": [],
   "source": [
    "gantt_chart(md_dfs, \"Proyecto consultorios\", version=\"Rob\")"
   ]
  },
  {
   "cell_type": "code",
   "execution_count": null,
   "metadata": {
    "ExecuteTime": {
     "end_time": "2020-11-04T17:14:02.941242Z",
     "start_time": "2020-11-04T17:14:02.873230Z"
    },
    "hidden": true,
    "scrolled": false
   },
   "outputs": [],
   "source": [
    "gantt_chart(md_dfs, \"Desarrollo\", version=\"Rob\")"
   ]
  },
  {
   "cell_type": "markdown",
   "metadata": {
    "hidden": true
   },
   "source": [
    "---"
   ]
  },
  {
   "cell_type": "markdown",
   "metadata": {},
   "source": [
    "## *Notas*"
   ]
  },
  {
   "cell_type": "markdown",
   "metadata": {},
   "source": [
    "#### Looking for specific tasks in followup dictionary."
   ]
  },
  {
   "cell_type": "code",
   "execution_count": 3,
   "metadata": {
    "ExecuteTime": {
     "end_time": "2020-11-13T16:08:37.547587Z",
     "start_time": "2020-11-13T16:08:37.514576Z"
    }
   },
   "outputs": [
    {
     "data": {
      "text/html": [
       "<div>\n",
       "<style scoped>\n",
       "    .dataframe tbody tr th:only-of-type {\n",
       "        vertical-align: middle;\n",
       "    }\n",
       "\n",
       "    .dataframe tbody tr th {\n",
       "        vertical-align: top;\n",
       "    }\n",
       "\n",
       "    .dataframe thead th {\n",
       "        text-align: right;\n",
       "    }\n",
       "</style>\n",
       "<table border=\"1\" class=\"dataframe\">\n",
       "  <thead>\n",
       "    <tr style=\"text-align: right;\">\n",
       "      <th></th>\n",
       "      <th>No.</th>\n",
       "      <th>RevRob</th>\n",
       "      <th>Notas_Rob</th>\n",
       "    </tr>\n",
       "  </thead>\n",
       "  <tbody>\n",
       "    <tr>\n",
       "      <th>Seed --&gt; Proyecto consultorios</th>\n",
       "      <td>1</td>\n",
       "      <td>0.5</td>\n",
       "      <td>En proceso</td>\n",
       "    </tr>\n",
       "    <tr>\n",
       "      <th>Proyecto consultorios --&gt; Inicio</th>\n",
       "      <td>2</td>\n",
       "      <td>0.5</td>\n",
       "      <td>En proceso</td>\n",
       "    </tr>\n",
       "    <tr>\n",
       "      <th>Proyecto consultorios --&gt; Diseño pantallas</th>\n",
       "      <td>3</td>\n",
       "      <td>0.5</td>\n",
       "      <td>Todavía no están listas todas las secciones de...</td>\n",
       "    </tr>\n",
       "    <tr>\n",
       "      <th>Diseño pantallas --&gt; Personalización menú superior</th>\n",
       "      <td>4</td>\n",
       "      <td>0.5</td>\n",
       "      <td>- [ ] En Configuración/Catálogos/ hay dos entr...</td>\n",
       "    </tr>\n",
       "    <tr>\n",
       "      <th>Diseño pantallas --&gt; Diseño de lateral izquierdo-buscador</th>\n",
       "      <td>5</td>\n",
       "      <td>1.0</td>\n",
       "      <td>- [X] El buscador si filtra por nombres correc...</td>\n",
       "    </tr>\n",
       "    <tr>\n",
       "      <th>...</th>\n",
       "      <td>...</td>\n",
       "      <td>...</td>\n",
       "      <td>...</td>\n",
       "    </tr>\n",
       "    <tr>\n",
       "      <th>Proyecto consultorios --&gt; Liberación</th>\n",
       "      <td>264</td>\n",
       "      <td>0.0</td>\n",
       "      <td>-</td>\n",
       "    </tr>\n",
       "    <tr>\n",
       "      <th>Liberación --&gt; Generar solicitud de migración</th>\n",
       "      <td>265</td>\n",
       "      <td>0.0</td>\n",
       "      <td>-</td>\n",
       "    </tr>\n",
       "    <tr>\n",
       "      <th>Liberación --&gt; Liberación</th>\n",
       "      <td>266</td>\n",
       "      <td>0.0</td>\n",
       "      <td>-</td>\n",
       "    </tr>\n",
       "    <tr>\n",
       "      <th>Liberación --&gt; Validación productiva</th>\n",
       "      <td>267</td>\n",
       "      <td>0.0</td>\n",
       "      <td>-</td>\n",
       "    </tr>\n",
       "    <tr>\n",
       "      <th>Proyecto consultorios --&gt; Fin</th>\n",
       "      <td>268</td>\n",
       "      <td>0.0</td>\n",
       "      <td>-</td>\n",
       "    </tr>\n",
       "  </tbody>\n",
       "</table>\n",
       "<p>268 rows × 3 columns</p>\n",
       "</div>"
      ],
      "text/plain": [
       "                                                    No.  RevRob  \\\n",
       "Seed --> Proyecto consultorios                        1     0.5   \n",
       "Proyecto consultorios --> Inicio                      2     0.5   \n",
       "Proyecto consultorios --> Diseño pantallas            3     0.5   \n",
       "Diseño pantallas --> Personalización menú superior    4     0.5   \n",
       "Diseño pantallas --> Diseño de lateral izquierd...    5     1.0   \n",
       "...                                                 ...     ...   \n",
       "Proyecto consultorios --> Liberación                264     0.0   \n",
       "Liberación --> Generar solicitud de migración       265     0.0   \n",
       "Liberación --> Liberación                           266     0.0   \n",
       "Liberación --> Validación productiva                267     0.0   \n",
       "Proyecto consultorios --> Fin                       268     0.0   \n",
       "\n",
       "                                                                                            Notas_Rob  \n",
       "Seed --> Proyecto consultorios                                                             En proceso  \n",
       "Proyecto consultorios --> Inicio                                                           En proceso  \n",
       "Proyecto consultorios --> Diseño pantallas          Todavía no están listas todas las secciones de...  \n",
       "Diseño pantallas --> Personalización menú superior  - [ ] En Configuración/Catálogos/ hay dos entr...  \n",
       "Diseño pantallas --> Diseño de lateral izquierd...  - [X] El buscador si filtra por nombres correc...  \n",
       "...                                                                                               ...  \n",
       "Proyecto consultorios --> Liberación                                                                -  \n",
       "Liberación --> Generar solicitud de migración                                                       -  \n",
       "Liberación --> Liberación                                                                           -  \n",
       "Liberación --> Validación productiva                                                                -  \n",
       "Proyecto consultorios --> Fin                                                                       -  \n",
       "\n",
       "[268 rows x 3 columns]"
      ]
     },
     "execution_count": 3,
     "metadata": {},
     "output_type": "execute_result"
    }
   ],
   "source": [
    "df_follow = pd.DataFrame.from_dict(followup_dev_activities, orient=\"index\")\n",
    "df_follow"
   ]
  },
  {
   "cell_type": "markdown",
   "metadata": {},
   "source": [
    "###### Looking based on match with specific string."
   ]
  },
  {
   "cell_type": "code",
   "execution_count": 4,
   "metadata": {
    "ExecuteTime": {
     "end_time": "2020-11-13T16:08:38.753423Z",
     "start_time": "2020-11-13T16:08:38.736907Z"
    }
   },
   "outputs": [],
   "source": [
    "srch_txt = \"Expediente clinico paciente\""
   ]
  },
  {
   "cell_type": "code",
   "execution_count": 5,
   "metadata": {
    "ExecuteTime": {
     "end_time": "2020-11-13T16:08:39.017716Z",
     "start_time": "2020-11-13T16:08:38.998271Z"
    },
    "scrolled": true
   },
   "outputs": [
    {
     "name": "stdout",
     "output_type": "stream",
     "text": [
      "Number of entries: 17\n",
      "\n",
      "{\n",
      "    \"Diseño pantallas --> Expediente clinico paciente\": {\n",
      "        \"No.\": 15,\n",
      "        \"RevRob\": 1.0,\n",
      "        \"Notas_Rob\": \"- [X] Se observó la funcionalidad de las distintas pantallas del expediente        \"\n",
      "    },\n",
      "    \"Expediente clinico paciente --> Encabezado expediente clinico\": {\n",
      "        \"No.\": 16,\n",
      "        \"RevRob\": 0.5,\n",
      "        \"Notas_Rob\": \"- [ ] Solicitamos cambio para ver historial de citas del paciente- [ ] Solicitamos cambio para ver resumen        \"\n",
      "    },\n",
      "    \"Expediente clinico paciente --> Lateral expediente clinico (iconos)\": {\n",
      "        \"No.\": 17,\n",
      "        \"RevRob\": 1.0,\n",
      "        \"Notas_Rob\": \"Se revisó con Adrian\"\n",
      "    },\n",
      "    \"Expediente clinico paciente --> Pantalla Datos demograficos\": {\n",
      "        \"No.\": 18,\n",
      "        \"RevRob\": 1.0,\n",
      "        \"Notas_Rob\": \"Se revisó con Adrian\"\n",
      "    },\n",
      "    \"Expediente clinico paciente --> Pantalla Contactos\": {\n",
      "        \"No.\": 19,\n",
      "        \"RevRob\": 1.0,\n",
      "        \"Notas_Rob\": \"Se revisó con Adrian\"\n",
      "    },\n",
      "    \"Expediente clinico paciente --> Pantalla Profesional a cargo\": {\n",
      "        \"No.\": 20,\n",
      "        \"RevRob\": 1.0,\n",
      "        \"Notas_Rob\": \"Se revisó con Adrian\"\n",
      "    },\n",
      "    \"Expediente clinico paciente --> Pantalla Relaciones\": {\n",
      "        \"No.\": 21,\n",
      "        \"RevRob\": 1.0,\n",
      "        \"Notas_Rob\": \"Se revisó con Adrian\"\n",
      "    },\n",
      "    \"Expediente clinico paciente --> Agenda rapida de cita del paciente\": {\n",
      "        \"No.\": 22,\n",
      "        \"RevRob\": 1.0,\n",
      "        \"Notas_Rob\": \"Se revisó con Adrian; es la lupa.\"\n",
      "    },\n",
      "    \"Expediente clinico paciente --> Pantalla lateral izquierda, Historial de citas\": {\n",
      "        \"No.\": 23,\n",
      "        \"RevRob\": 1.0,\n",
      "        \"Notas_Rob\": \"Se revisó con Adrian.\"\n",
      "    },\n",
      "    \"Expediente clinico paciente --> Pantalla Cita-Detalle de consulta\": {\n",
      "        \"No.\": 24,\n",
      "        \"RevRob\": 1.0,\n",
      "        \"Notas_Rob\": \"Se revisó con Adrian.\"\n",
      "    },\n",
      "    \"Expediente clinico paciente --> Pantalla Cita-Mensajeria\": {\n",
      "        \"No.\": 25,\n",
      "        \"RevRob\": 0.5,\n",
      "        \"Notas_Rob\": \"Se revisó con Adrian. Hay que ver si se cambia algo.\"\n",
      "    },\n",
      "    \"Expediente clinico paciente --> Pantalla Cita-Tarea\": {\n",
      "        \"No.\": 26,\n",
      "        \"RevRob\": 0.5,\n",
      "        \"Notas_Rob\": \"Se revisó con Adrian. Hay que ver si se cambia algo.\"\n",
      "    },\n",
      "    \"Expediente clinico paciente --> Pantalla Cita-Recordatorio\": {\n",
      "        \"No.\": 27,\n",
      "        \"RevRob\": 0.5,\n",
      "        \"Notas_Rob\": \"Se revisó con Adrian. Hay que ver si se cambia algo.\"\n",
      "    },\n",
      "    \"Expediente clinico paciente --> Pantalla Cita-Comunicaciones\": {\n",
      "        \"No.\": 28,\n",
      "        \"RevRob\": 0.0,\n",
      "        \"Notas_Rob\": \"Se revisó con Adrian. Hay que ver si se cambia algo.\"\n",
      "    },\n",
      "    \"Expediente clinico paciente --> Pantalla Cita-Cargos a paciente\": {\n",
      "        \"No.\": 29,\n",
      "        \"RevRob\": 1.0,\n",
      "        \"Notas_Rob\": \"Se revisó con Adrian.\"\n",
      "    },\n",
      "    \"Expediente clinico paciente --> Pantalla de administrar documentos\": {\n",
      "        \"No.\": 30,\n",
      "        \"RevRob\": 0.5,\n",
      "        \"Notas_Rob\": \"Se revisó con Adrian. Se intetó cargar una radiografía como ejemplo pero falló.\"\n",
      "    },\n",
      "    \"Expediente clinico paciente --> Pantalla de carga de documentos\": {\n",
      "        \"No.\": 31,\n",
      "        \"RevRob\": 0.5,\n",
      "        \"Notas_Rob\": \"Se intentó hacer un ejemplo y falló.\"\n",
      "    }\n",
      "}\n"
     ]
    }
   ],
   "source": [
    "follow_search_res = df_follow[df_follow.index.str.contains(srch_txt)]\n",
    "print(\"Number of entries: {}\\n\".format(follow_search_res.shape[0]))\n",
    "\n",
    "json_dump_dict(follow_search_res.to_dict(orient=\"index\"))"
   ]
  },
  {
   "cell_type": "code",
   "execution_count": 6,
   "metadata": {
    "ExecuteTime": {
     "end_time": "2020-11-13T16:08:39.883977Z",
     "start_time": "2020-11-13T16:08:39.861316Z"
    },
    "scrolled": true
   },
   "outputs": [
    {
     "name": "stdout",
     "output_type": "stream",
     "text": [
      "Number of entries: 17\n",
      "\n"
     ]
    },
    {
     "data": {
      "text/html": [
       "<div>\n",
       "<style scoped>\n",
       "    .dataframe tbody tr th:only-of-type {\n",
       "        vertical-align: middle;\n",
       "    }\n",
       "\n",
       "    .dataframe tbody tr th {\n",
       "        vertical-align: top;\n",
       "    }\n",
       "\n",
       "    .dataframe thead th {\n",
       "        text-align: right;\n",
       "    }\n",
       "</style>\n",
       "<table border=\"1\" class=\"dataframe\">\n",
       "  <thead>\n",
       "    <tr style=\"text-align: right;\">\n",
       "      <th></th>\n",
       "      <th>No.</th>\n",
       "      <th>RevRob</th>\n",
       "      <th>Notas_Rob</th>\n",
       "    </tr>\n",
       "  </thead>\n",
       "  <tbody>\n",
       "    <tr>\n",
       "      <th>Diseño pantallas --&gt; Expediente clinico paciente</th>\n",
       "      <td>15</td>\n",
       "      <td>1.0</td>\n",
       "      <td>- [X] Se observó la funcionalidad de las disti...</td>\n",
       "    </tr>\n",
       "    <tr>\n",
       "      <th>Expediente clinico paciente --&gt; Encabezado expediente clinico</th>\n",
       "      <td>16</td>\n",
       "      <td>0.5</td>\n",
       "      <td>- [ ] Solicitamos cambio para ver historial de...</td>\n",
       "    </tr>\n",
       "    <tr>\n",
       "      <th>Expediente clinico paciente --&gt; Lateral expediente clinico (iconos)</th>\n",
       "      <td>17</td>\n",
       "      <td>1.0</td>\n",
       "      <td>Se revisó con Adrian</td>\n",
       "    </tr>\n",
       "    <tr>\n",
       "      <th>Expediente clinico paciente --&gt; Pantalla Datos demograficos</th>\n",
       "      <td>18</td>\n",
       "      <td>1.0</td>\n",
       "      <td>Se revisó con Adrian</td>\n",
       "    </tr>\n",
       "    <tr>\n",
       "      <th>Expediente clinico paciente --&gt; Pantalla Contactos</th>\n",
       "      <td>19</td>\n",
       "      <td>1.0</td>\n",
       "      <td>Se revisó con Adrian</td>\n",
       "    </tr>\n",
       "    <tr>\n",
       "      <th>Expediente clinico paciente --&gt; Pantalla Profesional a cargo</th>\n",
       "      <td>20</td>\n",
       "      <td>1.0</td>\n",
       "      <td>Se revisó con Adrian</td>\n",
       "    </tr>\n",
       "    <tr>\n",
       "      <th>Expediente clinico paciente --&gt; Pantalla Relaciones</th>\n",
       "      <td>21</td>\n",
       "      <td>1.0</td>\n",
       "      <td>Se revisó con Adrian</td>\n",
       "    </tr>\n",
       "    <tr>\n",
       "      <th>Expediente clinico paciente --&gt; Agenda rapida de cita del paciente</th>\n",
       "      <td>22</td>\n",
       "      <td>1.0</td>\n",
       "      <td>Se revisó con Adrian; es la lupa.</td>\n",
       "    </tr>\n",
       "    <tr>\n",
       "      <th>Expediente clinico paciente --&gt; Pantalla lateral izquierda, Historial de citas</th>\n",
       "      <td>23</td>\n",
       "      <td>1.0</td>\n",
       "      <td>Se revisó con Adrian.</td>\n",
       "    </tr>\n",
       "    <tr>\n",
       "      <th>Expediente clinico paciente --&gt; Pantalla Cita-Detalle de consulta</th>\n",
       "      <td>24</td>\n",
       "      <td>1.0</td>\n",
       "      <td>Se revisó con Adrian.</td>\n",
       "    </tr>\n",
       "    <tr>\n",
       "      <th>Expediente clinico paciente --&gt; Pantalla Cita-Mensajeria</th>\n",
       "      <td>25</td>\n",
       "      <td>0.5</td>\n",
       "      <td>Se revisó con Adrian. Hay que ver si se cambia...</td>\n",
       "    </tr>\n",
       "    <tr>\n",
       "      <th>Expediente clinico paciente --&gt; Pantalla Cita-Tarea</th>\n",
       "      <td>26</td>\n",
       "      <td>0.5</td>\n",
       "      <td>Se revisó con Adrian. Hay que ver si se cambia...</td>\n",
       "    </tr>\n",
       "    <tr>\n",
       "      <th>Expediente clinico paciente --&gt; Pantalla Cita-Recordatorio</th>\n",
       "      <td>27</td>\n",
       "      <td>0.5</td>\n",
       "      <td>Se revisó con Adrian. Hay que ver si se cambia...</td>\n",
       "    </tr>\n",
       "    <tr>\n",
       "      <th>Expediente clinico paciente --&gt; Pantalla Cita-Comunicaciones</th>\n",
       "      <td>28</td>\n",
       "      <td>0.0</td>\n",
       "      <td>Se revisó con Adrian. Hay que ver si se cambia...</td>\n",
       "    </tr>\n",
       "    <tr>\n",
       "      <th>Expediente clinico paciente --&gt; Pantalla Cita-Cargos a paciente</th>\n",
       "      <td>29</td>\n",
       "      <td>1.0</td>\n",
       "      <td>Se revisó con Adrian.</td>\n",
       "    </tr>\n",
       "    <tr>\n",
       "      <th>Expediente clinico paciente --&gt; Pantalla de administrar documentos</th>\n",
       "      <td>30</td>\n",
       "      <td>0.5</td>\n",
       "      <td>Se revisó con Adrian. Se intetó cargar una rad...</td>\n",
       "    </tr>\n",
       "    <tr>\n",
       "      <th>Expediente clinico paciente --&gt; Pantalla de carga de documentos</th>\n",
       "      <td>31</td>\n",
       "      <td>0.5</td>\n",
       "      <td>Se intentó hacer un ejemplo y falló.</td>\n",
       "    </tr>\n",
       "  </tbody>\n",
       "</table>\n",
       "</div>"
      ],
      "text/plain": [
       "                                                    No.  RevRob  \\\n",
       "Diseño pantallas --> Expediente clinico paciente     15     1.0   \n",
       "Expediente clinico paciente --> Encabezado expe...   16     0.5   \n",
       "Expediente clinico paciente --> Lateral expedie...   17     1.0   \n",
       "Expediente clinico paciente --> Pantalla Datos ...   18     1.0   \n",
       "Expediente clinico paciente --> Pantalla Contactos   19     1.0   \n",
       "Expediente clinico paciente --> Pantalla Profes...   20     1.0   \n",
       "Expediente clinico paciente --> Pantalla Relaci...   21     1.0   \n",
       "Expediente clinico paciente --> Agenda rapida d...   22     1.0   \n",
       "Expediente clinico paciente --> Pantalla latera...   23     1.0   \n",
       "Expediente clinico paciente --> Pantalla Cita-D...   24     1.0   \n",
       "Expediente clinico paciente --> Pantalla Cita-M...   25     0.5   \n",
       "Expediente clinico paciente --> Pantalla Cita-T...   26     0.5   \n",
       "Expediente clinico paciente --> Pantalla Cita-R...   27     0.5   \n",
       "Expediente clinico paciente --> Pantalla Cita-C...   28     0.0   \n",
       "Expediente clinico paciente --> Pantalla Cita-C...   29     1.0   \n",
       "Expediente clinico paciente --> Pantalla de adm...   30     0.5   \n",
       "Expediente clinico paciente --> Pantalla de car...   31     0.5   \n",
       "\n",
       "                                                                                            Notas_Rob  \n",
       "Diseño pantallas --> Expediente clinico paciente    - [X] Se observó la funcionalidad de las disti...  \n",
       "Expediente clinico paciente --> Encabezado expe...  - [ ] Solicitamos cambio para ver historial de...  \n",
       "Expediente clinico paciente --> Lateral expedie...                               Se revisó con Adrian  \n",
       "Expediente clinico paciente --> Pantalla Datos ...                               Se revisó con Adrian  \n",
       "Expediente clinico paciente --> Pantalla Contactos                               Se revisó con Adrian  \n",
       "Expediente clinico paciente --> Pantalla Profes...                               Se revisó con Adrian  \n",
       "Expediente clinico paciente --> Pantalla Relaci...                               Se revisó con Adrian  \n",
       "Expediente clinico paciente --> Agenda rapida d...                  Se revisó con Adrian; es la lupa.  \n",
       "Expediente clinico paciente --> Pantalla latera...                              Se revisó con Adrian.  \n",
       "Expediente clinico paciente --> Pantalla Cita-D...                              Se revisó con Adrian.  \n",
       "Expediente clinico paciente --> Pantalla Cita-M...  Se revisó con Adrian. Hay que ver si se cambia...  \n",
       "Expediente clinico paciente --> Pantalla Cita-T...  Se revisó con Adrian. Hay que ver si se cambia...  \n",
       "Expediente clinico paciente --> Pantalla Cita-R...  Se revisó con Adrian. Hay que ver si se cambia...  \n",
       "Expediente clinico paciente --> Pantalla Cita-C...  Se revisó con Adrian. Hay que ver si se cambia...  \n",
       "Expediente clinico paciente --> Pantalla Cita-C...                              Se revisó con Adrian.  \n",
       "Expediente clinico paciente --> Pantalla de adm...  Se revisó con Adrian. Se intetó cargar una rad...  \n",
       "Expediente clinico paciente --> Pantalla de car...               Se intentó hacer un ejemplo y falló.  "
      ]
     },
     "execution_count": 6,
     "metadata": {},
     "output_type": "execute_result"
    }
   ],
   "source": [
    "print(\"Number of entries: {}\\n\".format(follow_search_res.shape[0]))\n",
    "follow_search_res"
   ]
  },
  {
   "cell_type": "markdown",
   "metadata": {},
   "source": [
    "###### Tasked marked with 0.0."
   ]
  },
  {
   "cell_type": "code",
   "execution_count": 7,
   "metadata": {
    "ExecuteTime": {
     "end_time": "2020-11-13T16:08:40.573890Z",
     "start_time": "2020-11-13T16:08:40.552634Z"
    }
   },
   "outputs": [
    {
     "name": "stdout",
     "output_type": "stream",
     "text": [
      "Number of entries: 80\n",
      "\n",
      "{\n",
      "    \"Expediente clinico paciente --> Pantalla Cita-Comunicaciones\": {\n",
      "        \"No.\": 28,\n",
      "        \"RevRob\": 0.0,\n",
      "        \"Notas_Rob\": \"Se revisó con Adrian. Hay que ver si se cambia algo.\"\n",
      "    },\n",
      "    \"Analisis --> Análisis de figuras tributarias\": {\n",
      "        \"No.\": 88,\n",
      "        \"RevRob\": 0.0,\n",
      "        \"Notas_Rob\": \"-\"\n",
      "    },\n",
      "    \"Analisis --> Análisis de Orden de servicio\": {\n",
      "        \"No.\": 118,\n",
      "        \"RevRob\": 0.0,\n",
      "        \"Notas_Rob\": \"-\"\n",
      "    },\n",
      "    \"Analisis --> Análisis de generación de venta\": {\n",
      "        \"No.\": 119,\n",
      "        \"RevRob\": 0.0,\n",
      "        \"Notas_Rob\": \"-\"\n",
      "    },\n",
      "    \"Analisis --> Análisis de facturación\": {\n",
      "        \"No.\": 120,\n",
      "        \"RevRob\": 0.0,\n",
      "        \"Notas_Rob\": \"-\"\n",
      "    },\n",
      "    \"Analisis --> Análisis de cuentas por cobrar\": {\n",
      "        \"No.\": 121,\n",
      "        \"RevRob\": 0.0,\n",
      "        \"Notas_Rob\": \"-\"\n",
      "    },\n",
      "    \"Analisis --> Análisis de Cajas\": {\n",
      "        \"No.\": 123,\n",
      "        \"RevRob\": 0.0,\n",
      "        \"Notas_Rob\": \"-\"\n",
      "    },\n",
      "    \"Analisis --> Analisis de cajeros\": {\n",
      "        \"No.\": 124,\n",
      "        \"RevRob\": 0.0,\n",
      "        \"Notas_Rob\": \"-\"\n",
      "    },\n",
      "    \"Analisis --> Analisis de cotizaciones\": {\n",
      "        \"No.\": 125,\n",
      "        \"RevRob\": 0.0,\n",
      "        \"Notas_Rob\": \"-\"\n",
      "    },\n",
      "    \"Analisis --> Análisis de reportes\": {\n",
      "        \"No.\": 127,\n",
      "        \"RevRob\": 0.0,\n",
      "        \"Notas_Rob\": \"-\"\n",
      "    },\n",
      "    \"Proyecto consultorios --> Desarrollo\": {\n",
      "        \"No.\": 129,\n",
      "        \"RevRob\": 0.0,\n",
      "        \"Notas_Rob\": \"-\"\n",
      "    },\n",
      "    \"Desarrollo --> Implementación servicio ambulatorio\": {\n",
      "        \"No.\": 166,\n",
      "        \"RevRob\": 0.0,\n",
      "        \"Notas_Rob\": \"-\"\n",
      "    },\n",
      "    \"Desarrollo --> Implementación de notas médicas\": {\n",
      "        \"No.\": 167,\n",
      "        \"RevRob\": 0.0,\n",
      "        \"Notas_Rob\": \"-\"\n",
      "    },\n",
      "    \"Implementación de notas médicas --> Comentarios de Historia Clínica (para todos)\": {\n",
      "        \"No.\": 180,\n",
      "        \"RevRob\": 0.0,\n",
      "        \"Notas_Rob\": \"-\"\n",
      "    },\n",
      "    \"Notas de evolución --> Motivo de consulta\": {\n",
      "        \"No.\": 193,\n",
      "        \"RevRob\": 0.0,\n",
      "        \"Notas_Rob\": \"-\"\n",
      "    },\n",
      "    \"Notas de evolución --> Signos vitales\": {\n",
      "        \"No.\": 194,\n",
      "        \"RevRob\": 0.0,\n",
      "        \"Notas_Rob\": \"-\"\n",
      "    },\n",
      "    \"Notas de evolución --> Exploración\": {\n",
      "        \"No.\": 195,\n",
      "        \"RevRob\": 0.0,\n",
      "        \"Notas_Rob\": \"-\"\n",
      "    },\n",
      "    \"Notas de evolución --> Notas manuscritas\": {\n",
      "        \"No.\": 196,\n",
      "        \"RevRob\": 0.0,\n",
      "        \"Notas_Rob\": \"-\"\n",
      "    },\n",
      "    \"Notas de evolución --> Laboratorio\": {\n",
      "        \"No.\": 197,\n",
      "        \"RevRob\": 0.0,\n",
      "        \"Notas_Rob\": \"-\"\n",
      "    },\n",
      "    \"Notas de evolución --> Imágenes\": {\n",
      "        \"No.\": 198,\n",
      "        \"RevRob\": 0.0,\n",
      "        \"Notas_Rob\": \"-\"\n",
      "    },\n",
      "    \"Notas de evolución --> Otras notas e intervenciones\": {\n",
      "        \"No.\": 199,\n",
      "        \"RevRob\": 0.0,\n",
      "        \"Notas_Rob\": \"-\"\n",
      "    },\n",
      "    \"Notas de evolución --> Evaluación\": {\n",
      "        \"No.\": 200,\n",
      "        \"RevRob\": 0.0,\n",
      "        \"Notas_Rob\": \"-\"\n",
      "    },\n",
      "    \"Notas de evolución --> Receta\": {\n",
      "        \"No.\": 202,\n",
      "        \"RevRob\": 0.0,\n",
      "        \"Notas_Rob\": \"-\"\n",
      "    },\n",
      "    \"Notas de evolución --> Solicitud de examen\": {\n",
      "        \"No.\": 203,\n",
      "        \"RevRob\": 0.0,\n",
      "        \"Notas_Rob\": \"-\"\n",
      "    },\n",
      "    \"Notas de evolución --> Seguimiento y plan\": {\n",
      "        \"No.\": 204,\n",
      "        \"RevRob\": 0.0,\n",
      "        \"Notas_Rob\": \"-\"\n",
      "    },\n",
      "    \"Implementación de expedientes de documentos --> Capturar el archivo que contiene el docto\": {\n",
      "        \"No.\": 212,\n",
      "        \"RevRob\": 0.0,\n",
      "        \"Notas_Rob\": \"-\"\n",
      "    },\n",
      "    \"Implementación de expedientes de documentos --> Vista y consulta en:\": {\n",
      "        \"No.\": 213,\n",
      "        \"RevRob\": 0.0,\n",
      "        \"Notas_Rob\": \"-\"\n",
      "    },\n",
      "    \"Vista y consulta en: --> Repositorio\": {\n",
      "        \"No.\": 214,\n",
      "        \"RevRob\": 0.0,\n",
      "        \"Notas_Rob\": \"-\"\n",
      "    },\n",
      "    \"Vista y consulta en: --> Historia clínica\": {\n",
      "        \"No.\": 215,\n",
      "        \"RevRob\": 0.0,\n",
      "        \"Notas_Rob\": \"-\"\n",
      "    },\n",
      "    \"Desarrollo --> Implementación de orden de servicio\": {\n",
      "        \"No.\": 217,\n",
      "        \"RevRob\": 0.0,\n",
      "        \"Notas_Rob\": \"-\"\n",
      "    },\n",
      "    \"Desarrollo --> Implementación de generación de venta\": {\n",
      "        \"No.\": 218,\n",
      "        \"RevRob\": 0.0,\n",
      "        \"Notas_Rob\": \"-\"\n",
      "    },\n",
      "    \"Desarrollo --> Implementación de facturación\": {\n",
      "        \"No.\": 219,\n",
      "        \"RevRob\": 0.0,\n",
      "        \"Notas_Rob\": \"-\"\n",
      "    },\n",
      "    \"Implementación de facturación --> Diseño de la factura\": {\n",
      "        \"No.\": 220,\n",
      "        \"RevRob\": 0.0,\n",
      "        \"Notas_Rob\": \"-\"\n",
      "    },\n",
      "    \"Implementación de facturación --> Creación de los catálogos del SAT\": {\n",
      "        \"No.\": 221,\n",
      "        \"RevRob\": 0.0,\n",
      "        \"Notas_Rob\": \"-\"\n",
      "    },\n",
      "    \"Implementación de facturación --> Prueba de comunicaciones con proveedor\": {\n",
      "        \"No.\": 222,\n",
      "        \"RevRob\": 0.0,\n",
      "        \"Notas_Rob\": \"-\"\n",
      "    },\n",
      "    \"Implementación de facturación --> Armado de la cadena a timbrar\": {\n",
      "        \"No.\": 223,\n",
      "        \"RevRob\": 0.0,\n",
      "        \"Notas_Rob\": \"-\"\n",
      "    },\n",
      "    \"Implementación de facturación --> Interpretación de la cadena recibida del timbrado\": {\n",
      "        \"No.\": 224,\n",
      "        \"RevRob\": 0.0,\n",
      "        \"Notas_Rob\": \"-\"\n",
      "    },\n",
      "    \"Implementación de facturación --> Prueba de timbrado\": {\n",
      "        \"No.\": 225,\n",
      "        \"RevRob\": 0.0,\n",
      "        \"Notas_Rob\": \"-\"\n",
      "    },\n",
      "    \"Implementación de facturación --> Creación de las estructuras del PDF y XML\": {\n",
      "        \"No.\": 226,\n",
      "        \"RevRob\": 0.0,\n",
      "        \"Notas_Rob\": \"-\"\n",
      "    },\n",
      "    \"Implementación de facturación --> Pruebas de redondeo\": {\n",
      "        \"No.\": 227,\n",
      "        \"RevRob\": 0.0,\n",
      "        \"Notas_Rob\": \"-\"\n",
      "    },\n",
      "    \"Implementación de facturación --> Pruebas de factura global\": {\n",
      "        \"No.\": 228,\n",
      "        \"RevRob\": 0.0,\n",
      "        \"Notas_Rob\": \"-\"\n",
      "    },\n",
      "    \"Pruebas de factura global --> Con descuentos\": {\n",
      "        \"No.\": 229,\n",
      "        \"RevRob\": 0.0,\n",
      "        \"Notas_Rob\": \"-\"\n",
      "    },\n",
      "    \"Pruebas de factura global --> Sin descuentos\": {\n",
      "        \"No.\": 230,\n",
      "        \"RevRob\": 0.0,\n",
      "        \"Notas_Rob\": \"-\"\n",
      "    },\n",
      "    \"Implementación de notas clinicas --> Cancelación de facturas\": {\n",
      "        \"No.\": 231,\n",
      "        \"RevRob\": 0.0,\n",
      "        \"Notas_Rob\": \"-\"\n",
      "    },\n",
      "    \"Implementación de notas clinicas --> Facturación por grupo de servicio\": {\n",
      "        \"No.\": 232,\n",
      "        \"RevRob\": 0.0,\n",
      "        \"Notas_Rob\": \"-\"\n",
      "    },\n",
      "    \"Implementación de notas clinicas --> Restitución y envío de facturas por mail\": {\n",
      "        \"No.\": 233,\n",
      "        \"RevRob\": 0.0,\n",
      "        \"Notas_Rob\": \"-\"\n",
      "    },\n",
      "    \"Desarrollo --> Implementación de cuentas por cobrar\": {\n",
      "        \"No.\": 234,\n",
      "        \"RevRob\": 0.0,\n",
      "        \"Notas_Rob\": \"-\"\n",
      "    },\n",
      "    \"Desarrollo --> Implementación de turnos\": {\n",
      "        \"No.\": 235,\n",
      "        \"RevRob\": 0.0,\n",
      "        \"Notas_Rob\": \"-\"\n",
      "    },\n",
      "    \"Desarrollo --> Implementación de cajeros\": {\n",
      "        \"No.\": 236,\n",
      "        \"RevRob\": 0.0,\n",
      "        \"Notas_Rob\": \"-\"\n",
      "    },\n",
      "    \"Desarrollo --> Implementación de Cajas\": {\n",
      "        \"No.\": 237,\n",
      "        \"RevRob\": 0.0,\n",
      "        \"Notas_Rob\": \"-\"\n",
      "    },\n",
      "    \"Implementación de Cajas --> Definición\": {\n",
      "        \"No.\": 238,\n",
      "        \"RevRob\": 0.0,\n",
      "        \"Notas_Rob\": \"-\"\n",
      "    },\n",
      "    \"Implementación de Cajas --> Apertura\": {\n",
      "        \"No.\": 239,\n",
      "        \"RevRob\": 0.0,\n",
      "        \"Notas_Rob\": \"-\"\n",
      "    },\n",
      "    \"Implementación de Cajas --> Asignación\": {\n",
      "        \"No.\": 240,\n",
      "        \"RevRob\": 0.0,\n",
      "        \"Notas_Rob\": \"-\"\n",
      "    },\n",
      "    \"Implementación de Cajas --> Movimientos de cobro\": {\n",
      "        \"No.\": 241,\n",
      "        \"RevRob\": 0.0,\n",
      "        \"Notas_Rob\": \"-\"\n",
      "    },\n",
      "    \"Implementación de Cajas --> Retiros de efectivo\": {\n",
      "        \"No.\": 242,\n",
      "        \"RevRob\": 0.0,\n",
      "        \"Notas_Rob\": \"-\"\n",
      "    },\n",
      "    \"Implementación de Cajas --> Corte de caja\": {\n",
      "        \"No.\": 243,\n",
      "        \"RevRob\": 0.0,\n",
      "        \"Notas_Rob\": \"-\"\n",
      "    },\n",
      "    \"Desarrollo --> Implementación de cotizaciones\": {\n",
      "        \"No.\": 244,\n",
      "        \"RevRob\": 0.0,\n",
      "        \"Notas_Rob\": \"-\"\n",
      "    },\n",
      "    \"Implementación de cotizaciones --> Lista de precios\": {\n",
      "        \"No.\": 245,\n",
      "        \"RevRob\": 0.0,\n",
      "        \"Notas_Rob\": \"-\"\n",
      "    },\n",
      "    \"Implementación de cotizaciones --> Cotizaciones\": {\n",
      "        \"No.\": 246,\n",
      "        \"RevRob\": 0.0,\n",
      "        \"Notas_Rob\": \"-\"\n",
      "    },\n",
      "    \"Implementación de cotizaciones --> Creación de paquetes\": {\n",
      "        \"No.\": 247,\n",
      "        \"RevRob\": 0.0,\n",
      "        \"Notas_Rob\": \"-\"\n",
      "    },\n",
      "    \"Desarrollo --> Implementación de reportes\": {\n",
      "        \"No.\": 249,\n",
      "        \"RevRob\": 0.0,\n",
      "        \"Notas_Rob\": \"-\"\n",
      "    },\n",
      "    \"Implementación de reportes --> Productividad\": {\n",
      "        \"No.\": 250,\n",
      "        \"RevRob\": 0.0,\n",
      "        \"Notas_Rob\": \"-\"\n",
      "    },\n",
      "    \"Implementación de reportes --> Pagos\": {\n",
      "        \"No.\": 251,\n",
      "        \"RevRob\": 0.0,\n",
      "        \"Notas_Rob\": \"-\"\n",
      "    },\n",
      "    \"Implementación de reportes --> Auditoria\": {\n",
      "        \"No.\": 252,\n",
      "        \"RevRob\": 0.0,\n",
      "        \"Notas_Rob\": \"-\"\n",
      "    },\n",
      "    \"Implementación de reportes --> Ingresos\": {\n",
      "        \"No.\": 253,\n",
      "        \"RevRob\": 0.0,\n",
      "        \"Notas_Rob\": \"-\"\n",
      "    },\n",
      "    \"Desarrollo --> Integración de encuentas de satisfacción\": {\n",
      "        \"No.\": 254,\n",
      "        \"RevRob\": 0.0,\n",
      "        \"Notas_Rob\": \"-\"\n",
      "    },\n",
      "    \"Desarrollo --> Integracion de modulos\": {\n",
      "        \"No.\": 255,\n",
      "        \"RevRob\": 0.0,\n",
      "        \"Notas_Rob\": \"-\"\n",
      "    },\n",
      "    \"Proyecto consultorios --> Pruebas\": {\n",
      "        \"No.\": 256,\n",
      "        \"RevRob\": 0.0,\n",
      "        \"Notas_Rob\": \"-\"\n",
      "    },\n",
      "    \"Pruebas --> Generación de casos de uso y pruebas unitarias\": {\n",
      "        \"No.\": 257,\n",
      "        \"RevRob\": 0.0,\n",
      "        \"Notas_Rob\": \"-\"\n",
      "    },\n",
      "    \"Pruebas --> Revisión interna\": {\n",
      "        \"No.\": 258,\n",
      "        \"RevRob\": 0.0,\n",
      "        \"Notas_Rob\": \"-\"\n",
      "    },\n",
      "    \"Pruebas --> Integración y despliegue\": {\n",
      "        \"No.\": 259,\n",
      "        \"RevRob\": 0.0,\n",
      "        \"Notas_Rob\": \"-\"\n",
      "    },\n",
      "    \"Pruebas --> Pruebas Integrales\": {\n",
      "        \"No.\": 260,\n",
      "        \"RevRob\": 0.0,\n",
      "        \"Notas_Rob\": \"-\"\n",
      "    },\n",
      "    \"Pruebas --> Matriz de pruebas\": {\n",
      "        \"No.\": 261,\n",
      "        \"RevRob\": 0.0,\n",
      "        \"Notas_Rob\": \"-\"\n",
      "    },\n",
      "    \"Pruebas --> Ajustes\": {\n",
      "        \"No.\": 262,\n",
      "        \"RevRob\": 0.0,\n",
      "        \"Notas_Rob\": \"-\"\n",
      "    },\n",
      "    \"Pruebas --> Hoja de Implementación\": {\n",
      "        \"No.\": 263,\n",
      "        \"RevRob\": 0.0,\n",
      "        \"Notas_Rob\": \"-\"\n",
      "    },\n",
      "    \"Proyecto consultorios --> Liberación\": {\n",
      "        \"No.\": 264,\n",
      "        \"RevRob\": 0.0,\n",
      "        \"Notas_Rob\": \"-\"\n",
      "    },\n",
      "    \"Liberación --> Generar solicitud de migración\": {\n",
      "        \"No.\": 265,\n",
      "        \"RevRob\": 0.0,\n",
      "        \"Notas_Rob\": \"-\"\n",
      "    },\n",
      "    \"Liberación --> Liberación\": {\n",
      "        \"No.\": 266,\n",
      "        \"RevRob\": 0.0,\n",
      "        \"Notas_Rob\": \"-\"\n",
      "    },\n",
      "    \"Liberación --> Validación productiva\": {\n",
      "        \"No.\": 267,\n",
      "        \"RevRob\": 0.0,\n",
      "        \"Notas_Rob\": \"-\"\n",
      "    },\n",
      "    \"Proyecto consultorios --> Fin\": {\n",
      "        \"No.\": 268,\n",
      "        \"RevRob\": 0.0,\n",
      "        \"Notas_Rob\": \"-\"\n",
      "    }\n",
      "}\n"
     ]
    }
   ],
   "source": [
    "follow_search_res = df_follow[df_follow[\"RevRob\"] == 0.0]\n",
    "print(\"Number of entries: {}\\n\".format(follow_search_res.shape[0]))\n",
    "\n",
    "json_dump_dict(follow_search_res.to_dict(orient=\"index\"))"
   ]
  },
  {
   "cell_type": "markdown",
   "metadata": {},
   "source": [
    "###### Tasked marked with 0.5."
   ]
  },
  {
   "cell_type": "code",
   "execution_count": 8,
   "metadata": {
    "ExecuteTime": {
     "end_time": "2020-11-13T16:08:41.226163Z",
     "start_time": "2020-11-13T16:08:41.205289Z"
    }
   },
   "outputs": [
    {
     "name": "stdout",
     "output_type": "stream",
     "text": [
      "Number of entries: 62\n",
      "\n",
      "{\n",
      "    \"Seed --> Proyecto consultorios\": {\n",
      "        \"No.\": 1,\n",
      "        \"RevRob\": 0.5,\n",
      "        \"Notas_Rob\": \"En proceso\"\n",
      "    },\n",
      "    \"Proyecto consultorios --> Inicio\": {\n",
      "        \"No.\": 2,\n",
      "        \"RevRob\": 0.5,\n",
      "        \"Notas_Rob\": \"En proceso\"\n",
      "    },\n",
      "    \"Proyecto consultorios --> Diseño pantallas\": {\n",
      "        \"No.\": 3,\n",
      "        \"RevRob\": 0.5,\n",
      "        \"Notas_Rob\": \"Todavía no están listas todas las secciones del diseño de pantallas.\"\n",
      "    },\n",
      "    \"Diseño pantallas --> Personalización menú superior\": {\n",
      "        \"No.\": 4,\n",
      "        \"RevRob\": 0.5,\n",
      "        \"Notas_Rob\": \"- [ ] En Configuración/Catálogos/ hay dos entradas relacionadas con proveedores que no sé si sean redundantes. - [X] El botón Pacientes parece que no hace nada         \"\n",
      "    },\n",
      "    \"Diseño pantallas --> Calendario de vista por mes con colores con acciones\": {\n",
      "        \"No.\": 6,\n",
      "        \"RevRob\": 0.5,\n",
      "        \"Notas_Rob\": \"- [ ] Según yo no hay colores en este calendario. - [X] Los botones día de este calendario funcionan bien. - [ ] No se muestran las citas y colores asocuados a la semana.         \"\n",
      "    },\n",
      "    \"Diseño pantallas --> Calendario de vista por día\": {\n",
      "        \"No.\": 7,\n",
      "        \"RevRob\": 0.5,\n",
      "        \"Notas_Rob\": \"- [X] El calendario cambia de color cuando se realizan acciones. - [ ] Ver calendarios de distintos médicos al mismo tiempo. - [X] Los espcios cancelados ya se pueden reutilizar.  - [ ] Parece que hay un bug en el que de repente se divide la pantalla de un médico 'undefined'- [ ] (Bug) Cuando están en un calendario vista por semana y cambias de médico se ve raro el calendario.        \"\n",
      "    },\n",
      "    \"Diseño pantallas --> Lista de pacientes\": {\n",
      "        \"No.\": 8,\n",
      "        \"RevRob\": 0.5,\n",
      "        \"Notas_Rob\": \"No está claro a qué se refieren con la lista de pacientes.\"\n",
      "    },\n",
      "    \"Diseño pantallas --> Lista de Médicos\": {\n",
      "        \"No.\": 9,\n",
      "        \"RevRob\": 0.5,\n",
      "        \"Notas_Rob\": \"No está claro a lo que se refieren con este concepto.\"\n",
      "    },\n",
      "    \"Diseño pantallas --> Criterios de impresión\": {\n",
      "        \"No.\": 10,\n",
      "        \"RevRob\": 0.5,\n",
      "        \"Notas_Rob\": \"No está claro a lo que se refieren con este concepto.\"\n",
      "    },\n",
      "    \"Diseño pantallas --> Alta rapida de pacientes-buscador\": {\n",
      "        \"No.\": 12,\n",
      "        \"RevRob\": 0.5,\n",
      "        \"Notas_Rob\": \"- [X] La funcionalidad sí opera correctamente- [ ] Tarda mucho en que se carguen los resultados del calendario.- [X] Ya solo se despliegan los horarios laborales en lugar de todos.- [X] Las citas canceladas ya aparecen aquí.        \"\n",
      "    },\n",
      "    \"Diseño pantallas --> Busqueda avanzada, filtros de citas\": {\n",
      "        \"No.\": 13,\n",
      "        \"RevRob\": 0.5,\n",
      "        \"Notas_Rob\": \"No está claro a lo que se refieren con este concepto.\"\n",
      "    },\n",
      "    \"Diseño pantallas --> Detalles de citas:Alta, Consulta, Actualización\": {\n",
      "        \"No.\": 14,\n",
      "        \"RevRob\": 0.5,\n",
      "        \"Notas_Rob\": \"- [X] Cuando se le da click a una cita sí se abre correctamente.- [ ] Se había solicitado que se agreguen leyendas debajo del nombre del paciente.        \"\n",
      "    },\n",
      "    \"Expediente clinico paciente --> Encabezado expediente clinico\": {\n",
      "        \"No.\": 16,\n",
      "        \"RevRob\": 0.5,\n",
      "        \"Notas_Rob\": \"- [ ] Solicitamos cambio para ver historial de citas del paciente- [ ] Solicitamos cambio para ver resumen        \"\n",
      "    },\n",
      "    \"Expediente clinico paciente --> Pantalla Cita-Mensajeria\": {\n",
      "        \"No.\": 25,\n",
      "        \"RevRob\": 0.5,\n",
      "        \"Notas_Rob\": \"Se revisó con Adrian. Hay que ver si se cambia algo.\"\n",
      "    },\n",
      "    \"Expediente clinico paciente --> Pantalla Cita-Tarea\": {\n",
      "        \"No.\": 26,\n",
      "        \"RevRob\": 0.5,\n",
      "        \"Notas_Rob\": \"Se revisó con Adrian. Hay que ver si se cambia algo.\"\n",
      "    },\n",
      "    \"Expediente clinico paciente --> Pantalla Cita-Recordatorio\": {\n",
      "        \"No.\": 27,\n",
      "        \"RevRob\": 0.5,\n",
      "        \"Notas_Rob\": \"Se revisó con Adrian. Hay que ver si se cambia algo.\"\n",
      "    },\n",
      "    \"Expediente clinico paciente --> Pantalla de administrar documentos\": {\n",
      "        \"No.\": 30,\n",
      "        \"RevRob\": 0.5,\n",
      "        \"Notas_Rob\": \"Se revisó con Adrian. Se intetó cargar una radiografía como ejemplo pero falló.\"\n",
      "    },\n",
      "    \"Expediente clinico paciente --> Pantalla de carga de documentos\": {\n",
      "        \"No.\": 31,\n",
      "        \"RevRob\": 0.5,\n",
      "        \"Notas_Rob\": \"Se intentó hacer un ejemplo y falló.\"\n",
      "    },\n",
      "    \"Diseño pantallas --> Historia clinica del paciente\": {\n",
      "        \"No.\": 32,\n",
      "        \"RevRob\": 0.5,\n",
      "        \"Notas_Rob\": \"No estoy seguro de la diferencia entre el historial y el expediente clínico.\"\n",
      "    },\n",
      "    \"Sección de Resumen medico --> Pantalla de Alergias e intolerancia\": {\n",
      "        \"No.\": 37,\n",
      "        \"RevRob\": 0.5,\n",
      "        \"Notas_Rob\": \"- [ ] Se solicitó que se activaran algunas alarmas relacionadas con intolerancias.        \"\n",
      "    },\n",
      "    \"Sección de Resumen medico --> Pantalla Alertas y necesidades especiales\": {\n",
      "        \"No.\": 39,\n",
      "        \"RevRob\": 0.5,\n",
      "        \"Notas_Rob\": \"- [ ] Se solicitó que se activaran algunas alarmas relacionadas con intolerancias.        \"\n",
      "    },\n",
      "    \"Sección de Resumen medico --> Pantalla Inmunizaciones\": {\n",
      "        \"No.\": 41,\n",
      "        \"RevRob\": 0.5,\n",
      "        \"Notas_Rob\": \"- [ ] Se había solicitado que se cambiaran 'cc' por 'ml'. No se ha podido verificar que sea así.        \"\n",
      "    },\n",
      "    \"Sección de Resumen medico --> Pantalla Medicamentos activos\": {\n",
      "        \"No.\": 42,\n",
      "        \"RevRob\": 0.5,\n",
      "        \"Notas_Rob\": \"- [ ] Se habían solicitado varios cambios que al parecer todavía no están todos.        \"\n",
      "    },\n",
      "    \"Sección de Resumen medico --> Notas de Evolución\": {\n",
      "        \"No.\": 46,\n",
      "        \"RevRob\": 0.5,\n",
      "        \"Notas_Rob\": \"Faltan algunas cosillas.\"\n",
      "    },\n",
      "    \"Evaluación --> Pantalla de Antecedentes y diagnosticos\": {\n",
      "        \"No.\": 54,\n",
      "        \"RevRob\": 0.5,\n",
      "        \"Notas_Rob\": \"- [ ] Se solicitó el cambio menor de eliminar 'Historial Gineco-Obstetricio'        \"\n",
      "    },\n",
      "    \"Plan --> Pantalla de recetas\": {\n",
      "        \"No.\": 56,\n",
      "        \"RevRob\": 0.5,\n",
      "        \"Notas_Rob\": \"- [ ] Una vez que se le da recetar al medicamento hay que agregar la posibilidad de que se pueda modificar la receta. No se podrá hacer después de picar 'Aprobar'.- [ ] Agregar opción de poder modificar las notas médicas del paciente después de 'Aprobadas'.        \"\n",
      "    },\n",
      "    \"Plan --> Pantalla de solicitud de examen\": {\n",
      "        \"No.\": 57,\n",
      "        \"RevRob\": 0.5,\n",
      "        \"Notas_Rob\": \"- [ ] Modificar etiqueta 'Razón'→ 'Estudio'.- [ ] Agregar botón para imprimir solicitudes de examen y enviar por correo.        \"\n",
      "    },\n",
      "    \"Plan --> Pantalla de solicitud de interconsulta\": {\n",
      "        \"No.\": 58,\n",
      "        \"RevRob\": 0.5,\n",
      "        \"Notas_Rob\": \"No estoy seguro qué es esto\"\n",
      "    },\n",
      "    \"Plan --> Pantalla de comunicaciones-Nuevo recordatorio\": {\n",
      "        \"No.\": 60,\n",
      "        \"RevRob\": 0.5,\n",
      "        \"Notas_Rob\": \"Se debería eliminar según doctor Said; podemos desactivarlo.\"\n",
      "    },\n",
      "    \"Plan --> Pantalla nuevo cargo\": {\n",
      "        \"No.\": 62,\n",
      "        \"RevRob\": 0.5,\n",
      "        \"Notas_Rob\": \"Se pidieron cambios.\"\n",
      "    },\n",
      "    \"Sección de Resumen medico --> Comunicaciones\": {\n",
      "        \"No.\": 63,\n",
      "        \"RevRob\": 0.5,\n",
      "        \"Notas_Rob\": \"Está pendiente por revisar con el Dr. Said.\"\n",
      "    },\n",
      "    \"Comunicaciones --> Pantalla Recordatorios\": {\n",
      "        \"No.\": 65,\n",
      "        \"RevRob\": 0.5,\n",
      "        \"Notas_Rob\": \"- [ ] El Dr. Said comentó que no deberían haber recordatorios.\"\n",
      "    },\n",
      "    \"Pantalla Recordatorios --> Pantalla de recordatorio\": {\n",
      "        \"No.\": 66,\n",
      "        \"RevRob\": 0.5,\n",
      "        \"Notas_Rob\": \"- [ ] El Dr. Said comentó que no deberían haber recordatorios.\"\n",
      "    },\n",
      "    \"Comunicaciones --> Pantalla Tareas\": {\n",
      "        \"No.\": 72,\n",
      "        \"RevRob\": 0.5,\n",
      "        \"Notas_Rob\": \"- [ ] Se deberían eliminar las tareas según Dr. Said.\"\n",
      "    },\n",
      "    \"Pantalla Tareas --> Pantalla Tareas-Enviados\": {\n",
      "        \"No.\": 73,\n",
      "        \"RevRob\": 0.5,\n",
      "        \"Notas_Rob\": \"- [ ] Se deberían eliminar las tareas según Dr. Said.\"\n",
      "    },\n",
      "    \"Pantalla Tareas --> Pantalla Tareas-Borrador\": {\n",
      "        \"No.\": 74,\n",
      "        \"RevRob\": 0.5,\n",
      "        \"Notas_Rob\": \"- [ ] Se deberían eliminar las tareas según Dr. Said.\"\n",
      "    },\n",
      "    \"Pantalla Tareas --> Pantalla Tareas-Archivo\": {\n",
      "        \"No.\": 75,\n",
      "        \"RevRob\": 0.5,\n",
      "        \"Notas_Rob\": \"- [ ] Se deberían eliminar las tareas según Dr. Said.\"\n",
      "    },\n",
      "    \"Pantalla Tareas --> Pantalla Tareas-Basura\": {\n",
      "        \"No.\": 76,\n",
      "        \"RevRob\": 0.5,\n",
      "        \"Notas_Rob\": \"- [ ] Se deberían eliminar las tareas según Dr. Said.\"\n",
      "    },\n",
      "    \"Nuevas pantallas --> Resultados\": {\n",
      "        \"No.\": 80,\n",
      "        \"RevRob\": 0.5,\n",
      "        \"Notas_Rob\": \"Revisé con Adrián pero no llegamo a conclusión.\"\n",
      "    },\n",
      "    \"Nuevas pantallas --> Portafolios\": {\n",
      "        \"No.\": 82,\n",
      "        \"RevRob\": 0.5,\n",
      "        \"Notas_Rob\": \"Se omitió según Adrian.\"\n",
      "    },\n",
      "    \"Proyecto consultorios --> Analisis\": {\n",
      "        \"No.\": 83,\n",
      "        \"RevRob\": 0.5,\n",
      "        \"Notas_Rob\": \"Según Adrián no es relevante para las estadísticas.\"\n",
      "    },\n",
      "    \"Analisis --> Análisis de usuarios\": {\n",
      "        \"No.\": 84,\n",
      "        \"RevRob\": 0.5,\n",
      "        \"Notas_Rob\": \"No estamos seguros.\"\n",
      "    },\n",
      "    \"Analisis --> Análisis de roles seguridad\": {\n",
      "        \"No.\": 85,\n",
      "        \"RevRob\": 0.5,\n",
      "        \"Notas_Rob\": \"Está pendiente de nuestro lado acabarlo.\"\n",
      "    },\n",
      "    \"Analisis --> Análisis de politicas de seguridad\": {\n",
      "        \"No.\": 86,\n",
      "        \"RevRob\": 0.5,\n",
      "        \"Notas_Rob\": \"Están creandose perfiles. Están acabando el trabajo. Revisar el viernes 13 de Nov.\"\n",
      "    },\n",
      "    \"Analisis --> Análisis de sucursales\": {\n",
      "        \"No.\": 87,\n",
      "        \"RevRob\": 0.5,\n",
      "        \"Notas_Rob\": \"Podremos revisarlos el viernes 13.\"\n",
      "    },\n",
      "    \"Analisis --> Análisis de Medicamentos e insumos\": {\n",
      "        \"No.\": 95,\n",
      "        \"RevRob\": 0.5,\n",
      "        \"Notas_Rob\": \"Revisión con Adrián; falta cargar catálogo; ¿quién lo carga?\"\n",
      "    },\n",
      "    \"Analisis --> Análisis de tipo de recurrencia\": {\n",
      "        \"No.\": 98,\n",
      "        \"RevRob\": 0.5,\n",
      "        \"Notas_Rob\": \"No estámos seguros pero parece que no es relevante.\"\n",
      "    },\n",
      "    \"Analisis --> Análisis de agendas\": {\n",
      "        \"No.\": 99,\n",
      "        \"RevRob\": 0.5,\n",
      "        \"Notas_Rob\": \"Pensamos que el tema de creación de horarios es muy complicado.\"\n",
      "    },\n",
      "    \"Analisis --> Análisis de turnos\": {\n",
      "        \"No.\": 122,\n",
      "        \"RevRob\": 0.5,\n",
      "        \"Notas_Rob\": \"Parece que no son necesarios.\"\n",
      "    },\n",
      "    \"Analisis --> Análisis de encuesta de satisfacción y reportes\": {\n",
      "        \"No.\": 128,\n",
      "        \"RevRob\": 0.5,\n",
      "        \"Notas_Rob\": \"Todavía no está lista.\"\n",
      "    },\n",
      "    \"Desarrollo --> Implementacion de figuras tributarias\": {\n",
      "        \"No.\": 131,\n",
      "        \"RevRob\": 0.5,\n",
      "        \"Notas_Rob\": \"Se revisó con Adrián pero no estamos seguros.\"\n",
      "    },\n",
      "    \"Desarrollo --> Implementación de Nemóticos\": {\n",
      "        \"No.\": 135,\n",
      "        \"RevRob\": 0.5,\n",
      "        \"Notas_Rob\": \"Se revisó con Adrían pero no estamos seguros.\"\n",
      "    },\n",
      "    \"Desarrollo --> Implementación de tipo de recurrencia\": {\n",
      "        \"No.\": 140,\n",
      "        \"RevRob\": 0.5,\n",
      "        \"Notas_Rob\": \"Se revisó con Adrián; pero no nos acordamos.\"\n",
      "    },\n",
      "    \"Desarrollo --> Implementación de pacientes\": {\n",
      "        \"No.\": 143,\n",
      "        \"RevRob\": 0.5,\n",
      "        \"Notas_Rob\": \"- [ ] Tengo dudas acerca del funcionamiento del botón de pacientes.\"\n",
      "    },\n",
      "    \"Desarrollo --> Implementación de consultorios\": {\n",
      "        \"No.\": 144,\n",
      "        \"RevRob\": 0.5,\n",
      "        \"Notas_Rob\": \"Se revisó con Adrián. Lista en detalles de la cita. Al parecer no es relevante. Se omitió al parecer.\"\n",
      "    },\n",
      "    \"Implementación de agenda --> 3 doctores por tipo de agenda\": {\n",
      "        \"No.\": 150,\n",
      "        \"RevRob\": 0.5,\n",
      "        \"Notas_Rob\": \"Lo están viendo ahorita.\"\n",
      "    },\n",
      "    \"3 doctores por tipo de agenda --> Diaria\": {\n",
      "        \"No.\": 151,\n",
      "        \"RevRob\": 0.5,\n",
      "        \"Notas_Rob\": \"En desarrollo.\"\n",
      "    },\n",
      "    \"3 doctores por tipo de agenda --> Semanal\": {\n",
      "        \"No.\": 152,\n",
      "        \"RevRob\": 0.5,\n",
      "        \"Notas_Rob\": \"En desarrollo.\"\n",
      "    },\n",
      "    \"3 doctores por tipo de agenda --> Mensual\": {\n",
      "        \"No.\": 153,\n",
      "        \"RevRob\": 0.5,\n",
      "        \"Notas_Rob\": \"En desarrollo.\"\n",
      "    },\n",
      "    \"Asignación de citas --> Actualizar la agenda y Google Calendar\": {\n",
      "        \"No.\": 163,\n",
      "        \"RevRob\": 0.5,\n",
      "        \"Notas_Rob\": \"- [ ] Revisión con Adrián pero todavía faltan notificaciones a cliente.- [X] El google calendar del doctor sí se actualizó.        \"\n",
      "    },\n",
      "    \"Implementación de agenda --> Alta de un nuevo paciente\": {\n",
      "        \"No.\": 165,\n",
      "        \"RevRob\": 0.5,\n",
      "        \"Notas_Rob\": \"- [ ] Se vio un pequeño error cuando, en detalles de cita, se crea un nuevo paciente, después se selecciona un almacenado (al que le quieres agendar), el sistema guarda el pasado.        \"\n",
      "    },\n",
      "    \"Desarrollo --> Implementacion de teleconsultas\": {\n",
      "        \"No.\": 248,\n",
      "        \"RevRob\": 0.5,\n",
      "        \"Notas_Rob\": \"Habíamos sugerido unas mejoras menores (que el médico pudiera ir anotando cosas).\"\n",
      "    }\n",
      "}\n"
     ]
    }
   ],
   "source": [
    "follow_search_res = df_follow[df_follow[\"RevRob\"] == 0.5]\n",
    "print(\"Number of entries: {}\\n\".format(follow_search_res.shape[0]))\n",
    "\n",
    "json_dump_dict(follow_search_res.to_dict(orient=\"index\"))"
   ]
  },
  {
   "cell_type": "markdown",
   "metadata": {},
   "source": [
    "###### Tasked marked with 1.0."
   ]
  },
  {
   "cell_type": "code",
   "execution_count": 9,
   "metadata": {
    "ExecuteTime": {
     "end_time": "2020-11-13T16:08:41.919940Z",
     "start_time": "2020-11-13T16:08:41.900544Z"
    }
   },
   "outputs": [
    {
     "name": "stdout",
     "output_type": "stream",
     "text": [
      "Number of entries: 126\n",
      "\n",
      "{\n",
      "    \"Diseño pantallas --> Diseño de lateral izquierdo-buscador\": {\n",
      "        \"No.\": 5,\n",
      "        \"RevRob\": 1.0,\n",
      "        \"Notas_Rob\": \"- [X] El buscador si filtra por nombres correctamente. - [X] El buscador filtra por número telefónico correctamente (parcial o completo). - [X] También se puede buscar por número de expediente.         \"\n",
      "    },\n",
      "    \"Diseño pantallas --> Calendario de vista por semana\": {\n",
      "        \"No.\": 11,\n",
      "        \"RevRob\": 1.0,\n",
      "        \"Notas_Rob\": \"- [X] La vista por semana sí muestra las distintas citas con colores y demás.        \"\n",
      "    },\n",
      "    \"Diseño pantallas --> Expediente clinico paciente\": {\n",
      "        \"No.\": 15,\n",
      "        \"RevRob\": 1.0,\n",
      "        \"Notas_Rob\": \"- [X] Se observó la funcionalidad de las distintas pantallas del expediente        \"\n",
      "    },\n",
      "    \"Expediente clinico paciente --> Lateral expediente clinico (iconos)\": {\n",
      "        \"No.\": 17,\n",
      "        \"RevRob\": 1.0,\n",
      "        \"Notas_Rob\": \"Se revisó con Adrian\"\n",
      "    },\n",
      "    \"Expediente clinico paciente --> Pantalla Datos demograficos\": {\n",
      "        \"No.\": 18,\n",
      "        \"RevRob\": 1.0,\n",
      "        \"Notas_Rob\": \"Se revisó con Adrian\"\n",
      "    },\n",
      "    \"Expediente clinico paciente --> Pantalla Contactos\": {\n",
      "        \"No.\": 19,\n",
      "        \"RevRob\": 1.0,\n",
      "        \"Notas_Rob\": \"Se revisó con Adrian\"\n",
      "    },\n",
      "    \"Expediente clinico paciente --> Pantalla Profesional a cargo\": {\n",
      "        \"No.\": 20,\n",
      "        \"RevRob\": 1.0,\n",
      "        \"Notas_Rob\": \"Se revisó con Adrian\"\n",
      "    },\n",
      "    \"Expediente clinico paciente --> Pantalla Relaciones\": {\n",
      "        \"No.\": 21,\n",
      "        \"RevRob\": 1.0,\n",
      "        \"Notas_Rob\": \"Se revisó con Adrian\"\n",
      "    },\n",
      "    \"Expediente clinico paciente --> Agenda rapida de cita del paciente\": {\n",
      "        \"No.\": 22,\n",
      "        \"RevRob\": 1.0,\n",
      "        \"Notas_Rob\": \"Se revisó con Adrian; es la lupa.\"\n",
      "    },\n",
      "    \"Expediente clinico paciente --> Pantalla lateral izquierda, Historial de citas\": {\n",
      "        \"No.\": 23,\n",
      "        \"RevRob\": 1.0,\n",
      "        \"Notas_Rob\": \"Se revisó con Adrian.\"\n",
      "    },\n",
      "    \"Expediente clinico paciente --> Pantalla Cita-Detalle de consulta\": {\n",
      "        \"No.\": 24,\n",
      "        \"RevRob\": 1.0,\n",
      "        \"Notas_Rob\": \"Se revisó con Adrian.\"\n",
      "    },\n",
      "    \"Expediente clinico paciente --> Pantalla Cita-Cargos a paciente\": {\n",
      "        \"No.\": 29,\n",
      "        \"RevRob\": 1.0,\n",
      "        \"Notas_Rob\": \"Se revisó con Adrian.\"\n",
      "    },\n",
      "    \"Historia clinica del paciente --> Encabezado de la historia clinica\": {\n",
      "        \"No.\": 33,\n",
      "        \"RevRob\": 1.0,\n",
      "        \"Notas_Rob\": \"Revisado y está bien.\"\n",
      "    },\n",
      "    \"Diseño pantallas --> Sección de Resumen medico\": {\n",
      "        \"No.\": 34,\n",
      "        \"RevRob\": 1.0,\n",
      "        \"Notas_Rob\": \"- [X] Se probaron y revisaron las funcionalidades de esta sección con el Dr. Said.        \"\n",
      "    },\n",
      "    \"Sección de Resumen medico --> Pantalla de Historial medico\": {\n",
      "        \"No.\": 35,\n",
      "        \"RevRob\": 1.0,\n",
      "        \"Notas_Rob\": \"- [X] La pantalla sí muestra los elementos del historial médico.        \"\n",
      "    },\n",
      "    \"Sección de Resumen medico --> Pantalla lateral izquierda, Antecedentes y diagnosticos\": {\n",
      "        \"No.\": 36,\n",
      "        \"RevRob\": 1.0,\n",
      "        \"Notas_Rob\": \"- [X] Se probaron y revisaron las funcionalidades de esta sección con el Dr. Said.        \"\n",
      "    },\n",
      "    \"Sección de Resumen medico --> Pantalla Habitos sociales\": {\n",
      "        \"No.\": 38,\n",
      "        \"RevRob\": 1.0,\n",
      "        \"Notas_Rob\": \"- [X] Se probaron y revisaron las funcionalidades de esta sección con el Dr. Said.        \"\n",
      "    },\n",
      "    \"Sección de Resumen medico --> Pantalla antecedentes familiares\": {\n",
      "        \"No.\": 40,\n",
      "        \"RevRob\": 1.0,\n",
      "        \"Notas_Rob\": \"- [X] Se probaron y revisaron las funcionalidades de esta sección con el Dr. Said.        \"\n",
      "    },\n",
      "    \"Sección de Resumen medico --> Pantalla signos vitales\": {\n",
      "        \"No.\": 43,\n",
      "        \"RevRob\": 1.0,\n",
      "        \"Notas_Rob\": \"- [X] Se probaron y revisaron las funcionalidades de esta sección con el Dr. Said.        \"\n",
      "    },\n",
      "    \"Sección de Resumen medico --> Control de escala de dolor\": {\n",
      "        \"No.\": 44,\n",
      "        \"RevRob\": 1.0,\n",
      "        \"Notas_Rob\": \"- [X] Se probaron y revisaron las funcionalidades de esta sección con el Dr. Said.        \"\n",
      "    },\n",
      "    \"Sección de Resumen medico --> Pantalla de aprobacion de historia clinica\": {\n",
      "        \"No.\": 45,\n",
      "        \"RevRob\": 1.0,\n",
      "        \"Notas_Rob\": \"Revisión con Adrián.\"\n",
      "    },\n",
      "    \"Notas de Evolución --> Pantalla de motivo de consulta\": {\n",
      "        \"No.\": 47,\n",
      "        \"RevRob\": 1.0,\n",
      "        \"Notas_Rob\": \"- [X] La pantalla se activa correctamente        \"\n",
      "    },\n",
      "    \"Notas de Evolución --> Pantalla de Principio, Evolución, Estado\": {\n",
      "        \"No.\": 48,\n",
      "        \"RevRob\": 1.0,\n",
      "        \"Notas_Rob\": \"- [X] La pantalla se activa correctamente        \"\n",
      "    },\n",
      "    \"Notas de Evolución --> Pantalla de Exploración\": {\n",
      "        \"No.\": 49,\n",
      "        \"RevRob\": 1.0,\n",
      "        \"Notas_Rob\": \"- [X] La pantalla se activa correctamente        \"\n",
      "    },\n",
      "    \"Notas de Evolución --> Pantalla de notas manuscritas (cámara)\": {\n",
      "        \"No.\": 50,\n",
      "        \"RevRob\": 1.0,\n",
      "        \"Notas_Rob\": \"- [X] La pantalla se activa correctamente y la camara sí se activa        \"\n",
      "    },\n",
      "    \"Notas de Evolución --> Pantalla de imágenes\": {\n",
      "        \"No.\": 51,\n",
      "        \"RevRob\": 1.0,\n",
      "        \"Notas_Rob\": \"- [X] La pantalla se activa correctamente        \"\n",
      "    },\n",
      "    \"Notas de Evolución --> Pantalla de otras notas\": {\n",
      "        \"No.\": 52,\n",
      "        \"RevRob\": 1.0,\n",
      "        \"Notas_Rob\": \"- [X] La pantalla se activa correctamente        \"\n",
      "    },\n",
      "    \"Sección de Resumen medico --> Evaluación\": {\n",
      "        \"No.\": 53,\n",
      "        \"RevRob\": 1.0,\n",
      "        \"Notas_Rob\": \"- [X] Se probaron y revisaron las funcionalidades de esta sección con el Dr. Said.        \"\n",
      "    },\n",
      "    \"Sección de Resumen medico --> Plan\": {\n",
      "        \"No.\": 55,\n",
      "        \"RevRob\": 1.0,\n",
      "        \"Notas_Rob\": \"- [X] Se probaron y revisaron las funcionalidades de esta sección con el Dr. Said.        \"\n",
      "    },\n",
      "    \"Plan --> Pantalla de seguimiento y plan\": {\n",
      "        \"No.\": 59,\n",
      "        \"RevRob\": 1.0,\n",
      "        \"Notas_Rob\": \"- [X] La pantalla se activa correctamente        \"\n",
      "    },\n",
      "    \"Plan --> Pantalla de comunicaciones-Nuevo mensaje\": {\n",
      "        \"No.\": 61,\n",
      "        \"RevRob\": 1.0,\n",
      "        \"Notas_Rob\": \"Se revisó con Dr. Said.\"\n",
      "    },\n",
      "    \"Comunicaciones --> Pantalla bandeja comunicaciones\": {\n",
      "        \"No.\": 64,\n",
      "        \"RevRob\": 1.0,\n",
      "        \"Notas_Rob\": \"Se revisó con Adrián.\"\n",
      "    },\n",
      "    \"Comunicaciones --> Pantalla de mensajes\": {\n",
      "        \"No.\": 67,\n",
      "        \"RevRob\": 1.0,\n",
      "        \"Notas_Rob\": \"- [X] Se revisó con el Dr. Said y funciona bien.\"\n",
      "    },\n",
      "    \"Pantalla de mensajes --> Pantalla Mensajes-Enviados\": {\n",
      "        \"No.\": 68,\n",
      "        \"RevRob\": 1.0,\n",
      "        \"Notas_Rob\": \"Se revisó con Adrián.\"\n",
      "    },\n",
      "    \"Pantalla de mensajes --> Pantalla Mensajes-Borrador\": {\n",
      "        \"No.\": 69,\n",
      "        \"RevRob\": 1.0,\n",
      "        \"Notas_Rob\": \"Se revisó con Adrián.\"\n",
      "    },\n",
      "    \"Pantalla de mensajes --> Pantalla Mensajes-Archivo\": {\n",
      "        \"No.\": 70,\n",
      "        \"RevRob\": 1.0,\n",
      "        \"Notas_Rob\": \"Se revisó con Adrián.\"\n",
      "    },\n",
      "    \"Pantalla de mensajes --> Pantalla Mensajes-Basura\": {\n",
      "        \"No.\": 71,\n",
      "        \"RevRob\": 1.0,\n",
      "        \"Notas_Rob\": \"Se revisó con Adrián.\"\n",
      "    },\n",
      "    \"Comunicaciones --> Nuevas pantallas\": {\n",
      "        \"No.\": 77,\n",
      "        \"RevRob\": 1.0,\n",
      "        \"Notas_Rob\": \"Se revisó con Adrián.\"\n",
      "    },\n",
      "    \"Nuevas pantallas --> Apertura de horarios\": {\n",
      "        \"No.\": 78,\n",
      "        \"RevRob\": 1.0,\n",
      "        \"Notas_Rob\": \"Se revisó con Adrián.\"\n",
      "    },\n",
      "    \"Nuevas pantallas --> Creación de horarios\": {\n",
      "        \"No.\": 79,\n",
      "        \"RevRob\": 1.0,\n",
      "        \"Notas_Rob\": \"Se revisó con Adrián.\"\n",
      "    },\n",
      "    \"Nuevas pantallas --> Pantalla de comunicaciones - nueva tarea\": {\n",
      "        \"No.\": 81,\n",
      "        \"RevRob\": 1.0,\n",
      "        \"Notas_Rob\": \"Se revisó con Adrián.\"\n",
      "    },\n",
      "    \"Analisis --> Análisis de especialidades\": {\n",
      "        \"No.\": 89,\n",
      "        \"RevRob\": 1.0,\n",
      "        \"Notas_Rob\": \"Revisión con Adrián\"\n",
      "    },\n",
      "    \"Analisis --> Análisis de pacientes\": {\n",
      "        \"No.\": 90,\n",
      "        \"RevRob\": 1.0,\n",
      "        \"Notas_Rob\": \"Revisión con Adrián\"\n",
      "    },\n",
      "    \"Analisis --> Análisis de lista de precios\": {\n",
      "        \"No.\": 91,\n",
      "        \"RevRob\": 1.0,\n",
      "        \"Notas_Rob\": \"Revisión con Adrián\"\n",
      "    },\n",
      "    \"Analisis --> Análisis de Nemóticos\": {\n",
      "        \"No.\": 92,\n",
      "        \"RevRob\": 1.0,\n",
      "        \"Notas_Rob\": \"Asociación de claves con elementos de la plataforma.\"\n",
      "    },\n",
      "    \"Analisis --> Análisis de tipos de servicios\": {\n",
      "        \"No.\": 93,\n",
      "        \"RevRob\": 1.0,\n",
      "        \"Notas_Rob\": \"Revisión con Adrián; se basó en catálogo que nosotros mandamos.\"\n",
      "    },\n",
      "    \"Analisis --> Análisis de Servicios\": {\n",
      "        \"No.\": 94,\n",
      "        \"RevRob\": 1.0,\n",
      "        \"Notas_Rob\": \"Revisión con Adrián\"\n",
      "    },\n",
      "    \"Analisis --> Análisis de proveedor\": {\n",
      "        \"No.\": 96,\n",
      "        \"RevRob\": 1.0,\n",
      "        \"Notas_Rob\": \"Revisión con Adrián; solo falta cargar nosotros los proveedores.\"\n",
      "    },\n",
      "    \"Analisis --> Análisis de consultorios\": {\n",
      "        \"No.\": 97,\n",
      "        \"RevRob\": 1.0,\n",
      "        \"Notas_Rob\": \"No fue implementada. Ahorita no se utiliza.\"\n",
      "    },\n",
      "    \"Analisis --> Análisis de Doctores\": {\n",
      "        \"No.\": 100,\n",
      "        \"RevRob\": 1.0,\n",
      "        \"Notas_Rob\": \"Revisión con Adrián la configuración de médicos y los guardados.\"\n",
      "    },\n",
      "    \"Analisis --> Análisis de instituciones de referencia\": {\n",
      "        \"No.\": 101,\n",
      "        \"RevRob\": 1.0,\n",
      "        \"Notas_Rob\": \"Revisión con Adrián\"\n",
      "    },\n",
      "    \"Analisis --> Análisis de Historia clinica\": {\n",
      "        \"No.\": 102,\n",
      "        \"RevRob\": 1.0,\n",
      "        \"Notas_Rob\": \"Revisión con Adrián\"\n",
      "    },\n",
      "    \"Analisis --> Análisis de notas clinicas\": {\n",
      "        \"No.\": 103,\n",
      "        \"RevRob\": 1.0,\n",
      "        \"Notas_Rob\": \"Revisión con Adrián\"\n",
      "    },\n",
      "    \"Análisis de notas clinicas --> Nueva nota\": {\n",
      "        \"No.\": 104,\n",
      "        \"RevRob\": 1.0,\n",
      "        \"Notas_Rob\": \"Se revisó con Adrián\"\n",
      "    },\n",
      "    \"Análisis de notas clinicas --> Problemas activos\": {\n",
      "        \"No.\": 105,\n",
      "        \"RevRob\": 1.0,\n",
      "        \"Notas_Rob\": \"Se revisó con Adrián\"\n",
      "    },\n",
      "    \"Análisis de notas clinicas --> Historial médico\": {\n",
      "        \"No.\": 106,\n",
      "        \"RevRob\": 1.0,\n",
      "        \"Notas_Rob\": \"Se revisó con Adrián\"\n",
      "    },\n",
      "    \"Análisis de notas clinicas --> Historial quirúrgico\": {\n",
      "        \"No.\": 107,\n",
      "        \"RevRob\": 1.0,\n",
      "        \"Notas_Rob\": \"Se revisó con Adrián\"\n",
      "    },\n",
      "    \"Análisis de notas clinicas --> Historial psiquiátrico\": {\n",
      "        \"No.\": 108,\n",
      "        \"RevRob\": 1.0,\n",
      "        \"Notas_Rob\": \"Se revisó con Adrián. Implícito en quirúrgico.\"\n",
      "    },\n",
      "    \"Análisis de notas clinicas --> Historial Gineco-Obstétrico\": {\n",
      "        \"No.\": 109,\n",
      "        \"RevRob\": 1.0,\n",
      "        \"Notas_Rob\": \"Se revisó con Adrián\"\n",
      "    },\n",
      "    \"Análisis de notas clinicas --> Medicamentos activos\": {\n",
      "        \"No.\": 110,\n",
      "        \"RevRob\": 1.0,\n",
      "        \"Notas_Rob\": \"Se revisó con Adrián\"\n",
      "    },\n",
      "    \"Análisis de notas clinicas --> Alergias e intolerancias\": {\n",
      "        \"No.\": 111,\n",
      "        \"RevRob\": 1.0,\n",
      "        \"Notas_Rob\": \"Se revisó con Adrián; ya se implementaron las alertas.\"\n",
      "    },\n",
      "    \"Análisis de notas clinicas --> Hábitos sociales\": {\n",
      "        \"No.\": 112,\n",
      "        \"RevRob\": 1.0,\n",
      "        \"Notas_Rob\": \"Se revisó con Adrián\"\n",
      "    },\n",
      "    \"Análisis de notas clinicas --> Alertas y necesidades especiales\": {\n",
      "        \"No.\": 113,\n",
      "        \"RevRob\": 1.0,\n",
      "        \"Notas_Rob\": \"Se revisó con Adrián\"\n",
      "    },\n",
      "    \"Análisis de notas clinicas --> Inmunizaciones\": {\n",
      "        \"No.\": 114,\n",
      "        \"RevRob\": 1.0,\n",
      "        \"Notas_Rob\": \"Se revisó con Adrián\"\n",
      "    },\n",
      "    \"Análisis de notas clinicas --> Antecedentes familiares\": {\n",
      "        \"No.\": 115,\n",
      "        \"RevRob\": 1.0,\n",
      "        \"Notas_Rob\": \"Se revisó con Adrián\"\n",
      "    },\n",
      "    \"Analisis --> Análisis de Expediente de documentos\": {\n",
      "        \"No.\": 116,\n",
      "        \"RevRob\": 1.0,\n",
      "        \"Notas_Rob\": \"Se revisó con Adrián\"\n",
      "    },\n",
      "    \"Analisis --> Análisis de politicas de descuentos\": {\n",
      "        \"No.\": 117,\n",
      "        \"RevRob\": 1.0,\n",
      "        \"Notas_Rob\": \"Se revisó con Adrián\"\n",
      "    },\n",
      "    \"Analisis --> Análisis de teleconsultas\": {\n",
      "        \"No.\": 126,\n",
      "        \"RevRob\": 1.0,\n",
      "        \"Notas_Rob\": \"Se revisó con Adrián\"\n",
      "    },\n",
      "    \"Desarrollo --> Implementación modulo de seguridad\": {\n",
      "        \"No.\": 130,\n",
      "        \"RevRob\": 1.0,\n",
      "        \"Notas_Rob\": \"Se revisó con Adrián.\"\n",
      "    },\n",
      "    \"Desarrollo --> Implementación de especialidades\": {\n",
      "        \"No.\": 132,\n",
      "        \"RevRob\": 1.0,\n",
      "        \"Notas_Rob\": \"Se revisó con Adrián.\"\n",
      "    },\n",
      "    \"Desarrollo --> Implementación catalogos varios define paciente\": {\n",
      "        \"No.\": 133,\n",
      "        \"RevRob\": 1.0,\n",
      "        \"Notas_Rob\": \"Se revisó con Adrián.\"\n",
      "    },\n",
      "    \"Desarrollo --> Implementación de lista de precios\": {\n",
      "        \"No.\": 134,\n",
      "        \"RevRob\": 1.0,\n",
      "        \"Notas_Rob\": \"Se revisó con Adrián.\"\n",
      "    },\n",
      "    \"Desarrollo --> Implementación de tipos de servicios\": {\n",
      "        \"No.\": 136,\n",
      "        \"RevRob\": 1.0,\n",
      "        \"Notas_Rob\": \"Se revisó con Adrián.\"\n",
      "    },\n",
      "    \"Desarrollo --> Implementación de servicios\": {\n",
      "        \"No.\": 137,\n",
      "        \"RevRob\": 1.0,\n",
      "        \"Notas_Rob\": \"Se revisó con Adrián.\"\n",
      "    },\n",
      "    \"Desarrollo --> Implementación de Medicamentos e insumos\": {\n",
      "        \"No.\": 138,\n",
      "        \"RevRob\": 1.0,\n",
      "        \"Notas_Rob\": \"Se revisó con Adrián; insumos están con medicamentos.\"\n",
      "    },\n",
      "    \"Desarrollo --> Implementación de proveedor\": {\n",
      "        \"No.\": 139,\n",
      "        \"RevRob\": 1.0,\n",
      "        \"Notas_Rob\": \"Se revisó con Adrián.\"\n",
      "    },\n",
      "    \"Desarrollo --> Implementación de catalogos de doctores\": {\n",
      "        \"No.\": 141,\n",
      "        \"RevRob\": 1.0,\n",
      "        \"Notas_Rob\": \"Se revisó con Adrián.\"\n",
      "    },\n",
      "    \"Desarrollo --> Implementación de instituciones de referencia\": {\n",
      "        \"No.\": 142,\n",
      "        \"RevRob\": 1.0,\n",
      "        \"Notas_Rob\": \"Se revisó con Adrián.\"\n",
      "    },\n",
      "    \"Desarrollo --> Apertura de horarios\": {\n",
      "        \"No.\": 145,\n",
      "        \"RevRob\": 1.0,\n",
      "        \"Notas_Rob\": \"Se revisó con Adrián.\"\n",
      "    },\n",
      "    \"Desarrollo --> Creación de horarios\": {\n",
      "        \"No.\": 146,\n",
      "        \"RevRob\": 1.0,\n",
      "        \"Notas_Rob\": \"Se revisó con Adrián.\"\n",
      "    },\n",
      "    \"Desarrollo --> Implementación de agenda\": {\n",
      "        \"No.\": 147,\n",
      "        \"RevRob\": 1.0,\n",
      "        \"Notas_Rob\": \"Se revisó con Adrián.\"\n",
      "    },\n",
      "    \"Implementación de agenda --> Búsqueda de pacientes\": {\n",
      "        \"No.\": 148,\n",
      "        \"RevRob\": 1.0,\n",
      "        \"Notas_Rob\": \"- [X] La búsqueda de pacientes se puede hacer correctamente.        \"\n",
      "    },\n",
      "    \"Implementación de agenda --> Detalle de pacientes\": {\n",
      "        \"No.\": 149,\n",
      "        \"RevRob\": 1.0,\n",
      "        \"Notas_Rob\": \"- [X] Los detalles del paciente se ven bien.        \"\n",
      "    },\n",
      "    \"Implementación de agenda --> Botones\": {\n",
      "        \"No.\": 154,\n",
      "        \"RevRob\": 1.0,\n",
      "        \"Notas_Rob\": \"Se revisó con Adrian.\"\n",
      "    },\n",
      "    \"Botones --> Refrescar\": {\n",
      "        \"No.\": 155,\n",
      "        \"RevRob\": 1.0,\n",
      "        \"Notas_Rob\": \"Se revisó con Adrian.\"\n",
      "    },\n",
      "    \"Botones --> Lista de pacientes por atender\": {\n",
      "        \"No.\": 156,\n",
      "        \"RevRob\": 1.0,\n",
      "        \"Notas_Rob\": \"Se revisó con Adrian.\"\n",
      "    },\n",
      "    \"Botones --> Lista de médicos registrados.\": {\n",
      "        \"No.\": 157,\n",
      "        \"RevRob\": 1.0,\n",
      "        \"Notas_Rob\": \"Se revisó con Adrián\"\n",
      "    },\n",
      "    \"Botones --> Impresión\": {\n",
      "        \"No.\": 158,\n",
      "        \"RevRob\": 1.0,\n",
      "        \"Notas_Rob\": \"Se revisó con Adrián\"\n",
      "    },\n",
      "    \"Implementación de agenda --> Asignación de citas\": {\n",
      "        \"No.\": 159,\n",
      "        \"RevRob\": 1.0,\n",
      "        \"Notas_Rob\": \"Se revisó con Adrián\"\n",
      "    },\n",
      "    \"Asignación de citas --> Selección del Dr.\": {\n",
      "        \"No.\": 160,\n",
      "        \"RevRob\": 1.0,\n",
      "        \"Notas_Rob\": \"Se revisó con Adrián\"\n",
      "    },\n",
      "    \"Asignación de citas --> Selección del día de consulta de disponibilidad\": {\n",
      "        \"No.\": 161,\n",
      "        \"RevRob\": 1.0,\n",
      "        \"Notas_Rob\": \"Se revisó con Adrián\"\n",
      "    },\n",
      "    \"Asignación de citas --> Mostrar disponibilidad y seleccionar un horario\": {\n",
      "        \"No.\": 162,\n",
      "        \"RevRob\": 1.0,\n",
      "        \"Notas_Rob\": \"Se revisó con Adrián\"\n",
      "    },\n",
      "    \"Asignación de citas --> Ingresar datos del paciente\": {\n",
      "        \"No.\": 164,\n",
      "        \"RevRob\": 1.0,\n",
      "        \"Notas_Rob\": \"Se revisó con Adrián\"\n",
      "    },\n",
      "    \"Implementación de notas médicas --> Nueva nota\": {\n",
      "        \"No.\": 168,\n",
      "        \"RevRob\": 1.0,\n",
      "        \"Notas_Rob\": \"Se revisó con Adrián\"\n",
      "    },\n",
      "    \"Implementación de notas médicas --> Problemas activos\": {\n",
      "        \"No.\": 169,\n",
      "        \"RevRob\": 1.0,\n",
      "        \"Notas_Rob\": \"Se revisó con Adrián\"\n",
      "    },\n",
      "    \"Implementación de notas médicas --> Historial médico\": {\n",
      "        \"No.\": 170,\n",
      "        \"RevRob\": 1.0,\n",
      "        \"Notas_Rob\": \"Se revisó con Adrián\"\n",
      "    },\n",
      "    \"Implementación de notas médicas --> Historial quirúrgico\": {\n",
      "        \"No.\": 171,\n",
      "        \"RevRob\": 1.0,\n",
      "        \"Notas_Rob\": \"Se revisó con Adrián\"\n",
      "    },\n",
      "    \"Implementación de notas médicas --> Historial psiquiátrico\": {\n",
      "        \"No.\": 172,\n",
      "        \"RevRob\": 1.0,\n",
      "        \"Notas_Rob\": \"Se revisó con Adrián\"\n",
      "    },\n",
      "    \"Implementación de notas médicas --> Historial Gineco-Obstétrico\": {\n",
      "        \"No.\": 173,\n",
      "        \"RevRob\": 1.0,\n",
      "        \"Notas_Rob\": \"Se revisó con Adrián\"\n",
      "    },\n",
      "    \"Implementación de notas médicas --> Medicamentos activos\": {\n",
      "        \"No.\": 174,\n",
      "        \"RevRob\": 1.0,\n",
      "        \"Notas_Rob\": \"Se revisó con Adrián\"\n",
      "    },\n",
      "    \"Implementación de notas médicas --> Alergias e intolerancias\": {\n",
      "        \"No.\": 175,\n",
      "        \"RevRob\": 1.0,\n",
      "        \"Notas_Rob\": \"Se revisó con Adrián\"\n",
      "    },\n",
      "    \"Implementación de notas médicas --> Hábitos sociales\": {\n",
      "        \"No.\": 176,\n",
      "        \"RevRob\": 1.0,\n",
      "        \"Notas_Rob\": \"Se revisó con Adrián\"\n",
      "    },\n",
      "    \"Implementación de notas médicas --> Alertas y necesidades especiales\": {\n",
      "        \"No.\": 177,\n",
      "        \"RevRob\": 1.0,\n",
      "        \"Notas_Rob\": \"Se revisó con Adrián\"\n",
      "    },\n",
      "    \"Implementación de notas médicas --> Inmunizaciones\": {\n",
      "        \"No.\": 178,\n",
      "        \"RevRob\": 1.0,\n",
      "        \"Notas_Rob\": \"Se revisó con Adrián\"\n",
      "    },\n",
      "    \"Implementación de notas médicas --> Antecedentes familiares\": {\n",
      "        \"No.\": 179,\n",
      "        \"RevRob\": 1.0,\n",
      "        \"Notas_Rob\": \"Se revisó con Adrián\"\n",
      "    },\n",
      "    \"Comentarios de Historia Clínica (para todos) --> Historial médico\": {\n",
      "        \"No.\": 181,\n",
      "        \"RevRob\": 1.0,\n",
      "        \"Notas_Rob\": \"Se revisó con Adrián\"\n",
      "    },\n",
      "    \"Comentarios de Historia Clínica (para todos) --> Historial quirúrgico\": {\n",
      "        \"No.\": 182,\n",
      "        \"RevRob\": 1.0,\n",
      "        \"Notas_Rob\": \"Se revisó con Adrián\"\n",
      "    },\n",
      "    \"Comentarios de Historia Clínica (para todos) --> Historial psiquiátrico\": {\n",
      "        \"No.\": 183,\n",
      "        \"RevRob\": 1.0,\n",
      "        \"Notas_Rob\": \"Se revisó con Adrián\"\n",
      "    },\n",
      "    \"Comentarios de Historia Clínica (para todos) --> Historial Gineco-Obstétrico\": {\n",
      "        \"No.\": 184,\n",
      "        \"RevRob\": 1.0,\n",
      "        \"Notas_Rob\": \"Se revisó con Adrián\"\n",
      "    },\n",
      "    \"Comentarios de Historia Clínica (para todos) --> Medicamentos activos\": {\n",
      "        \"No.\": 185,\n",
      "        \"RevRob\": 1.0,\n",
      "        \"Notas_Rob\": \"Se revisó con Adrián\"\n",
      "    },\n",
      "    \"Comentarios de Historia Clínica (para todos) --> Alergias e intolerancias\": {\n",
      "        \"No.\": 186,\n",
      "        \"RevRob\": 1.0,\n",
      "        \"Notas_Rob\": \"Se revisó con Adrián\"\n",
      "    },\n",
      "    \"Comentarios de Historia Clínica (para todos) --> Hábitos sociales\": {\n",
      "        \"No.\": 187,\n",
      "        \"RevRob\": 1.0,\n",
      "        \"Notas_Rob\": \"Se revisó con Adrián\"\n",
      "    },\n",
      "    \"Comentarios de Historia Clínica (para todos) --> Alertas y necesidades especiales\": {\n",
      "        \"No.\": 188,\n",
      "        \"RevRob\": 1.0,\n",
      "        \"Notas_Rob\": \"Se revisó con Adrián\"\n",
      "    },\n",
      "    \"Comentarios de Historia Clínica (para todos) --> Inmunizaciones\": {\n",
      "        \"No.\": 189,\n",
      "        \"RevRob\": 1.0,\n",
      "        \"Notas_Rob\": \"Se revisó con Adrián\"\n",
      "    },\n",
      "    \"Comentarios de Historia Clínica (para todos) --> Antecedentes familiares\": {\n",
      "        \"No.\": 190,\n",
      "        \"RevRob\": 1.0,\n",
      "        \"Notas_Rob\": \"Se revisó con Adrián\"\n",
      "    },\n",
      "    \"Desarrollo --> Implementación de notas clinicas\": {\n",
      "        \"No.\": 191,\n",
      "        \"RevRob\": 1.0,\n",
      "        \"Notas_Rob\": \"Se revisó con Adrián\"\n",
      "    },\n",
      "    \"Implementación de notas clinicas --> Notas de evolución\": {\n",
      "        \"No.\": 192,\n",
      "        \"RevRob\": 1.0,\n",
      "        \"Notas_Rob\": \"Se revisó con Adrián\"\n",
      "    },\n",
      "    \"Evaluación --> Problemas activos\": {\n",
      "        \"No.\": 201,\n",
      "        \"RevRob\": 1.0,\n",
      "        \"Notas_Rob\": \"Se revisó con Adrián\"\n",
      "    },\n",
      "    \"Notas de evolución --> Comunicaciones\": {\n",
      "        \"No.\": 205,\n",
      "        \"RevRob\": 1.0,\n",
      "        \"Notas_Rob\": \"Se revisó con Adrián\"\n",
      "    },\n",
      "    \"Comunicaciones --> Recordatorio\": {\n",
      "        \"No.\": 206,\n",
      "        \"RevRob\": 1.0,\n",
      "        \"Notas_Rob\": \"Se revisó con Adrián\"\n",
      "    },\n",
      "    \"Comunicaciones --> Mensaje\": {\n",
      "        \"No.\": 207,\n",
      "        \"RevRob\": 1.0,\n",
      "        \"Notas_Rob\": \"Se revisó con Adrián\"\n",
      "    },\n",
      "    \"Comunicaciones --> Tarea\": {\n",
      "        \"No.\": 208,\n",
      "        \"RevRob\": 1.0,\n",
      "        \"Notas_Rob\": \"Se revisó con Adrián\"\n",
      "    },\n",
      "    \"Comunicaciones --> Buzón de comunicaciones\": {\n",
      "        \"No.\": 209,\n",
      "        \"RevRob\": 1.0,\n",
      "        \"Notas_Rob\": \"Se revisó con Adrián\"\n",
      "    },\n",
      "    \"Notas de evolución --> Cargos\": {\n",
      "        \"No.\": 210,\n",
      "        \"RevRob\": 1.0,\n",
      "        \"Notas_Rob\": \"Se revisó con Adrián\"\n",
      "    },\n",
      "    \"Desarrollo --> Implementación de expedientes de documentos\": {\n",
      "        \"No.\": 211,\n",
      "        \"RevRob\": 1.0,\n",
      "        \"Notas_Rob\": \"Se revisó con Adrián\"\n",
      "    },\n",
      "    \"Desarrollo --> Implementación de politicas de descuento\": {\n",
      "        \"No.\": 216,\n",
      "        \"RevRob\": 1.0,\n",
      "        \"Notas_Rob\": \"Se revisó con Adrián\"\n",
      "    }\n",
      "}\n"
     ]
    }
   ],
   "source": [
    "follow_search_res = df_follow[df_follow[\"RevRob\"] == 1.0]\n",
    "print(\"Number of entries: {}\\n\".format(follow_search_res.shape[0]))\n",
    "\n",
    "json_dump_dict(follow_search_res.to_dict(orient=\"index\"))"
   ]
  },
  {
   "cell_type": "markdown",
   "metadata": {},
   "source": [
    "###### Review's statistics"
   ]
  },
  {
   "cell_type": "code",
   "execution_count": 10,
   "metadata": {
    "ExecuteTime": {
     "end_time": "2020-11-13T16:08:43.743580Z",
     "start_time": "2020-11-13T16:08:43.721749Z"
    }
   },
   "outputs": [
    {
     "data": {
      "text/html": [
       "<div>\n",
       "<style scoped>\n",
       "    .dataframe tbody tr th:only-of-type {\n",
       "        vertical-align: middle;\n",
       "    }\n",
       "\n",
       "    .dataframe tbody tr th {\n",
       "        vertical-align: top;\n",
       "    }\n",
       "\n",
       "    .dataframe thead th {\n",
       "        text-align: right;\n",
       "    }\n",
       "</style>\n",
       "<table border=\"1\" class=\"dataframe\">\n",
       "  <thead>\n",
       "    <tr style=\"text-align: right;\">\n",
       "      <th></th>\n",
       "      <th>RevRob</th>\n",
       "    </tr>\n",
       "  </thead>\n",
       "  <tbody>\n",
       "    <tr>\n",
       "      <th>1.0</th>\n",
       "      <td>0.470149</td>\n",
       "    </tr>\n",
       "    <tr>\n",
       "      <th>0.0</th>\n",
       "      <td>0.298507</td>\n",
       "    </tr>\n",
       "    <tr>\n",
       "      <th>0.5</th>\n",
       "      <td>0.231343</td>\n",
       "    </tr>\n",
       "  </tbody>\n",
       "</table>\n",
       "</div>"
      ],
      "text/plain": [
       "       RevRob\n",
       "1.0  0.470149\n",
       "0.0  0.298507\n",
       "0.5  0.231343"
      ]
     },
     "execution_count": 10,
     "metadata": {},
     "output_type": "execute_result"
    }
   ],
   "source": [
    "df_follow[\"RevRob\"].value_counts(normalize=True).to_frame()"
   ]
  },
  {
   "cell_type": "markdown",
   "metadata": {},
   "source": [
    "###### General notes about the process"
   ]
  },
  {
   "cell_type": "markdown",
   "metadata": {},
   "source": [
    "- Las tareas relacionadas con \"Análisis\" tienen muchos pendientes por revisar."
   ]
  },
  {
   "cell_type": "markdown",
   "metadata": {
    "heading_collapsed": true
   },
   "source": [
    "#### Searching for specific tasks in workplan."
   ]
  },
  {
   "cell_type": "code",
   "execution_count": null,
   "metadata": {
    "ExecuteTime": {
     "end_time": "2020-07-07T16:38:32.097105Z",
     "start_time": "2020-07-07T16:38:32.069479Z"
    },
    "hidden": true
   },
   "outputs": [],
   "source": [
    "task_ref = 'ngreso'"
   ]
  },
  {
   "cell_type": "code",
   "execution_count": null,
   "metadata": {
    "ExecuteTime": {
     "end_time": "2020-07-07T16:38:32.291546Z",
     "start_time": "2020-07-07T16:38:32.258414Z"
    },
    "hidden": true
   },
   "outputs": [],
   "source": [
    "m1 = data['Tarea_strip'].str.contains(task_ref)\n",
    "\n",
    "data.loc[m1, :]"
   ]
  },
  {
   "cell_type": "markdown",
   "metadata": {
    "heading_collapsed": true
   },
   "source": [
    "#### Creating Gant-charts"
   ]
  },
  {
   "cell_type": "code",
   "execution_count": null,
   "metadata": {
    "ExecuteTime": {
     "end_time": "2020-07-01T15:46:33.922453Z",
     "start_time": "2020-07-01T15:46:33.447433Z"
    },
    "hidden": true
   },
   "outputs": [],
   "source": [
    "df = pd.read_csv('https://raw.githubusercontent.com/plotly/datasets/master/gantt_example.csv')"
   ]
  },
  {
   "cell_type": "code",
   "execution_count": null,
   "metadata": {
    "ExecuteTime": {
     "end_time": "2020-07-01T15:46:33.954188Z",
     "start_time": "2020-07-01T15:46:33.924814Z"
    },
    "hidden": true
   },
   "outputs": [],
   "source": [
    "df"
   ]
  },
  {
   "cell_type": "code",
   "execution_count": null,
   "metadata": {
    "ExecuteTime": {
     "end_time": "2020-07-01T14:53:33.185306Z",
     "start_time": "2020-07-01T14:53:32.993776Z"
    },
    "hidden": true
   },
   "outputs": [],
   "source": [
    "fig = ff.create_gantt(df, colors=['#333F44', '#93e4c1'], index_col='Complete',\n",
    "                      show_colorbar=True, bar_width=0.2, showgrid_x=True, showgrid_y=True)\n",
    "fig.show()"
   ]
  },
  {
   "cell_type": "markdown",
   "metadata": {
    "hidden": true
   },
   "source": [
    "---"
   ]
  },
  {
   "cell_type": "markdown",
   "metadata": {
    "heading_collapsed": true
   },
   "source": [
    "#### Creating mother-dughter dictionaries"
   ]
  },
  {
   "cell_type": "code",
   "execution_count": null,
   "metadata": {
    "ExecuteTime": {
     "end_time": "2020-07-01T18:48:50.816524Z",
     "start_time": "2020-07-01T18:48:50.792295Z"
    },
    "hidden": true
   },
   "outputs": [],
   "source": [
    "dfx = data.loc[0:5, :]\n",
    "dfy = data.loc[149:153, :]"
   ]
  },
  {
   "cell_type": "code",
   "execution_count": null,
   "metadata": {
    "ExecuteTime": {
     "end_time": "2020-07-01T18:48:51.428320Z",
     "start_time": "2020-07-01T18:48:51.407308Z"
    },
    "hidden": true
   },
   "outputs": [],
   "source": [
    "dictt = {\n",
    "    'x': dfx,\n",
    "    'y': dfy\n",
    "}"
   ]
  },
  {
   "cell_type": "code",
   "execution_count": null,
   "metadata": {
    "ExecuteTime": {
     "end_time": "2020-07-01T18:48:57.833082Z",
     "start_time": "2020-07-01T18:48:57.798671Z"
    },
    "hidden": true
   },
   "outputs": [],
   "source": [
    "dictt['x']"
   ]
  },
  {
   "cell_type": "code",
   "execution_count": null,
   "metadata": {
    "ExecuteTime": {
     "end_time": "2020-07-01T18:52:53.115921Z",
     "start_time": "2020-07-01T18:52:53.092628Z"
    },
    "hidden": true
   },
   "outputs": [],
   "source": [
    "x = list(data.loc[:, \"Nombre de tarea\"])"
   ]
  },
  {
   "cell_type": "code",
   "execution_count": null,
   "metadata": {
    "ExecuteTime": {
     "end_time": "2020-07-01T18:52:30.246265Z",
     "start_time": "2020-07-01T18:52:30.222160Z"
    },
    "hidden": true
   },
   "outputs": [],
   "source": [
    "y = list(data.loc[149:153, \"Nombre de tarea\"])"
   ]
  },
  {
   "cell_type": "code",
   "execution_count": null,
   "metadata": {
    "ExecuteTime": {
     "end_time": "2020-07-01T18:52:30.642060Z",
     "start_time": "2020-07-01T18:52:30.619446Z"
    },
    "hidden": true
   },
   "outputs": [],
   "source": [
    "x += y"
   ]
  },
  {
   "cell_type": "code",
   "execution_count": null,
   "metadata": {
    "ExecuteTime": {
     "end_time": "2020-07-01T18:53:48.779447Z",
     "start_time": "2020-07-01T18:53:48.753264Z"
    },
    "hidden": true,
    "scrolled": true
   },
   "outputs": [],
   "source": [
    "x"
   ]
  },
  {
   "cell_type": "code",
   "execution_count": null,
   "metadata": {
    "ExecuteTime": {
     "end_time": "2020-07-01T18:53:49.794252Z",
     "start_time": "2020-07-01T18:53:49.759403Z"
    },
    "hidden": true
   },
   "outputs": [],
   "source": [
    "results = mother_daughter_list(x)\n",
    "results"
   ]
  },
  {
   "cell_type": "code",
   "execution_count": null,
   "metadata": {
    "ExecuteTime": {
     "end_time": "2020-07-01T18:52:36.155799Z",
     "start_time": "2020-07-01T18:52:36.130909Z"
    },
    "hidden": true
   },
   "outputs": [],
   "source": [
    "results = mother_daughter_dict(results)\n",
    "results"
   ]
  },
  {
   "cell_type": "code",
   "execution_count": null,
   "metadata": {
    "ExecuteTime": {
     "end_time": "2020-07-01T18:52:38.383747Z",
     "start_time": "2020-07-01T18:52:38.359590Z"
    },
    "hidden": true
   },
   "outputs": [],
   "source": [
    "pp.pprint(results)"
   ]
  },
  {
   "cell_type": "markdown",
   "metadata": {
    "hidden": true
   },
   "source": [
    "---\n",
    "---"
   ]
  }
 ],
 "metadata": {
  "kernelspec": {
   "display_name": "Python 3",
   "language": "python",
   "name": "python3"
  },
  "language_info": {
   "codemirror_mode": {
    "name": "ipython",
    "version": 3
   },
   "file_extension": ".py",
   "mimetype": "text/x-python",
   "name": "python",
   "nbconvert_exporter": "python",
   "pygments_lexer": "ipython3",
   "version": "3.8.5"
  }
 },
 "nbformat": 4,
 "nbformat_minor": 4
}
