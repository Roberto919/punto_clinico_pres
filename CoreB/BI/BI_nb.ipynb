{
 "cells": [
  {
   "cell_type": "markdown",
   "metadata": {},
   "source": [
    "# Analyzing business data"
   ]
  },
  {
   "cell_type": "markdown",
   "metadata": {},
   "source": [
    "---"
   ]
  },
  {
   "cell_type": "markdown",
   "metadata": {},
   "source": [
    "# Imports"
   ]
  },
  {
   "cell_type": "markdown",
   "metadata": {},
   "source": [
    "#### Python libraries"
   ]
  },
  {
   "cell_type": "code",
   "execution_count": 1,
   "metadata": {
    "ExecuteTime": {
     "end_time": "2020-09-29T16:02:32.866338Z",
     "start_time": "2020-09-29T16:02:31.687105Z"
    }
   },
   "outputs": [],
   "source": [
    "import pandas as pd\n",
    "pd.set_option('display.max_columns', 500)\n",
    "# pd.set_option('use_inf_as_na', True)\n",
    "\n",
    "import numpy as np\n",
    "\n",
    "import os\n",
    "\n",
    "import re\n",
    "\n",
    "import matplotlib.pyplot as plt\n",
    "\n",
    "from datetime import *\n",
    "\n",
    "import plotly.graph_objects as go\n",
    "from plotly.subplots import make_subplots\n",
    "\n",
    "import pprint as pp\n",
    "\n",
    "import math"
   ]
  },
  {
   "cell_type": "markdown",
   "metadata": {},
   "source": [
    "#### Ancillary modules"
   ]
  },
  {
   "cell_type": "code",
   "execution_count": 2,
   "metadata": {
    "ExecuteTime": {
     "end_time": "2020-09-29T16:02:32.925861Z",
     "start_time": "2020-09-29T16:02:32.867701Z"
    },
    "scrolled": false
   },
   "outputs": [],
   "source": [
    "%load_ext autoreload\n",
    "%autoreload 2\n",
    "\n",
    "from BI_params import *\n",
    "from BI_funcs import *"
   ]
  },
  {
   "cell_type": "markdown",
   "metadata": {},
   "source": [
    "---"
   ]
  },
  {
   "cell_type": "markdown",
   "metadata": {},
   "source": [
    "# Data analysis - Sales"
   ]
  },
  {
   "cell_type": "markdown",
   "metadata": {},
   "source": [
    "## Import and clean data"
   ]
  },
  {
   "cell_type": "code",
   "execution_count": 3,
   "metadata": {
    "ExecuteTime": {
     "end_time": "2020-09-25T15:35:59.181479Z",
     "start_time": "2020-09-25T15:35:58.911739Z"
    },
    "scrolled": true
   },
   "outputs": [
    {
     "name": "stderr",
     "output_type": "stream",
     "text": [
      "/Users/rp_mbp/Documents/ReposRob_RobPer/Venv_PuntoClinico/lib/python3.8/site-packages/IPython/core/interactiveshell.py:3145: DtypeWarning: Columns (4) have mixed types.Specify dtype option on import or set low_memory=False.\n",
      "  has_raised = await self.run_ast_nodes(code_ast.body, cell_name,\n"
     ]
    }
   ],
   "source": [
    "dfs = pd.read_csv(os.path.join(data_loc, sales_data))"
   ]
  },
  {
   "cell_type": "raw",
   "metadata": {
    "ExecuteTime": {
     "end_time": "2020-09-08T17:16:02.408440Z",
     "start_time": "2020-09-08T17:16:02.363585Z"
    }
   },
   "source": [
    "dfs"
   ]
  },
  {
   "cell_type": "code",
   "execution_count": 4,
   "metadata": {
    "ExecuteTime": {
     "end_time": "2020-09-25T15:36:12.523302Z",
     "start_time": "2020-09-25T15:35:59.183330Z"
    }
   },
   "outputs": [
    {
     "name": "stderr",
     "output_type": "stream",
     "text": [
      "/Users/rp_mbp/Documents/ReposRob_RobPer/Venv_PuntoClinico/lib/python3.8/site-packages/pandas/core/computation/expressions.py:68: FutureWarning: elementwise comparison failed; returning scalar instead, but in the future will perform elementwise comparison\n",
      "  return op(a, b)\n"
     ]
    }
   ],
   "source": [
    "dfs = dfs_clean(dfs)"
   ]
  },
  {
   "cell_type": "raw",
   "metadata": {
    "ExecuteTime": {
     "end_time": "2020-09-25T15:36:12.563511Z",
     "start_time": "2020-09-25T15:36:12.525777Z"
    }
   },
   "source": [
    "dfs"
   ]
  },
  {
   "cell_type": "markdown",
   "metadata": {
    "heading_collapsed": true
   },
   "source": [
    "#### Reviewing specialties results"
   ]
  },
  {
   "cell_type": "code",
   "execution_count": null,
   "metadata": {
    "ExecuteTime": {
     "end_time": "2020-09-09T16:58:28.007072Z",
     "start_time": "2020-09-09T16:58:27.983060Z"
    },
    "hidden": true
   },
   "outputs": [],
   "source": [
    "dfs[\"Especialidad_match\"].value_counts()"
   ]
  },
  {
   "cell_type": "raw",
   "metadata": {
    "ExecuteTime": {
     "end_time": "2020-09-08T01:12:40.125149Z",
     "start_time": "2020-09-08T01:12:40.060565Z"
    },
    "hidden": true
   },
   "source": [
    "rc = [\n",
    "    \"Especialidad_match\",\n",
    "    \"DescriptionES\",\n",
    "    \"Provider\",\n",
    "    \"SiteInfo\",\n",
    "    \"UnitPrice\"\n",
    "]\n",
    "# m1 = dfs[\"DescriptionES\"].str.contains(\"ULTRA\")\n",
    "m1 = dfs[\"SiteInfo\"].str.contains(\"LAB\")\n",
    "\n",
    "dfs.loc[m1, rc]"
   ]
  },
  {
   "cell_type": "raw",
   "metadata": {
    "ExecuteTime": {
     "end_time": "2020-09-08T17:33:40.454941Z",
     "start_time": "2020-09-08T17:33:40.401481Z"
    },
    "hidden": true
   },
   "source": [
    "rc = [\n",
    "    \"Especialidad_match\",\n",
    "    \"DescriptionES\",\n",
    "    \"Provider\",\n",
    "    \"SiteInfo\",\n",
    "    \"UnitPrice\"\n",
    "]\n",
    "m1 = dfs[\"Especialidad_match\"] != \"OTROS\"\n",
    "\n",
    "dfx = dfs.loc[m1, rc]\n",
    "dfx"
   ]
  },
  {
   "cell_type": "raw",
   "metadata": {
    "ExecuteTime": {
     "end_time": "2020-09-08T17:33:43.637303Z",
     "start_time": "2020-09-08T17:33:43.574056Z"
    },
    "hidden": true
   },
   "source": [
    "m1 = dfx[\"DescriptionES\"].str.contains(\"PROST\")\n",
    "dfx.loc[m1, :]"
   ]
  },
  {
   "cell_type": "raw",
   "metadata": {
    "ExecuteTime": {
     "end_time": "2020-09-09T16:51:37.617191Z",
     "start_time": "2020-09-09T16:51:37.566082Z"
    },
    "hidden": true
   },
   "source": [
    "rc = [\n",
    "    \"Especialidad_match\",\n",
    "    \"DescriptionES\",\n",
    "    \"Provider\",\n",
    "    \"SiteInfo\",\n",
    "    \"UnitPrice\"\n",
    "]\n",
    "m1 = dfs[\"Especialidad_match\"] == \"OTROS\"\n",
    "\n",
    "dfx = dfs.loc[m1, rc]\n",
    "dfx"
   ]
  },
  {
   "cell_type": "raw",
   "metadata": {
    "ExecuteTime": {
     "end_time": "2020-09-08T18:00:10.341576Z",
     "start_time": "2020-09-08T18:00:10.317043Z"
    },
    "hidden": true
   },
   "source": [
    "dfx[\"DescriptionES\"].value_counts()[:50]"
   ]
  },
  {
   "cell_type": "raw",
   "metadata": {
    "ExecuteTime": {
     "end_time": "2020-09-08T18:04:31.247549Z",
     "start_time": "2020-09-08T18:04:31.225531Z"
    },
    "hidden": true
   },
   "source": [
    "m1 = dfx[\"DescriptionES\"] == \"CONSULTA MEDICA\"\n",
    "dfx.loc[m1, :][\"Provider\"].value_counts()"
   ]
  },
  {
   "cell_type": "raw",
   "metadata": {
    "ExecuteTime": {
     "end_time": "2020-09-09T16:58:51.821554Z",
     "start_time": "2020-09-09T16:58:51.649924Z"
    },
    "hidden": true
   },
   "source": [
    "dfx[\"Provider\"].value_counts()"
   ]
  },
  {
   "cell_type": "raw",
   "metadata": {
    "ExecuteTime": {
     "end_time": "2020-09-09T16:50:28.099202Z",
     "start_time": "2020-09-09T16:50:28.059062Z"
    },
    "hidden": true
   },
   "source": [
    "m1 = dfx[\"Provider\"].str.contains(\"JOHANNA\")\n",
    "\n",
    "dfx.loc[m1, :][0:30]"
   ]
  },
  {
   "cell_type": "markdown",
   "metadata": {
    "heading_collapsed": true
   },
   "source": [
    "#### Reviewing business line results"
   ]
  },
  {
   "cell_type": "raw",
   "metadata": {
    "ExecuteTime": {
     "end_time": "2020-09-08T18:22:22.473311Z",
     "start_time": "2020-09-08T18:22:22.404807Z"
    },
    "hidden": true
   },
   "source": [
    "m1 = dfs[\"DescriptionES\"].str.contains(\"\\+\")\n",
    "\n",
    "dfs.loc[m1, [\"DescriptionES\"]]"
   ]
  },
  {
   "cell_type": "raw",
   "metadata": {
    "ExecuteTime": {
     "end_time": "2020-09-08T18:26:24.602061Z",
     "start_time": "2020-09-08T18:26:24.541399Z"
    },
    "hidden": true
   },
   "source": [
    "m1 = dfs[\"DescriptionES\"].str.contains(\"ULTRASO\")\n",
    "\n",
    "dfs.loc[m1, [\"DescriptionES\"]]"
   ]
  },
  {
   "cell_type": "code",
   "execution_count": null,
   "metadata": {
    "ExecuteTime": {
     "end_time": "2020-09-09T16:59:06.379413Z",
     "start_time": "2020-09-09T16:59:06.351948Z"
    },
    "hidden": true
   },
   "outputs": [],
   "source": [
    "dfs[\"BusLine_match\"].value_counts()"
   ]
  },
  {
   "cell_type": "raw",
   "metadata": {
    "ExecuteTime": {
     "end_time": "2020-09-09T16:59:24.241120Z",
     "start_time": "2020-09-09T16:59:24.210623Z"
    },
    "hidden": true
   },
   "source": [
    "rc = [\n",
    "    \"Provider\",\n",
    "    \"DescriptionES\",\n",
    "    \"Especialidad_match\",\n",
    "    \"BusLine_match\"\n",
    "]\n",
    "\n",
    "m1 = dfs[\"BusLine_match\"] == \"OTRA\"\n",
    "\n",
    "# dfs.loc[m1, rc][:50]\n",
    "dfs.loc[m1, rc][\"DescriptionES\"].value_counts()[:50]"
   ]
  },
  {
   "cell_type": "markdown",
   "metadata": {
    "heading_collapsed": true
   },
   "source": [
    "## Analysis 1\n",
    "- How have sales for each location behaved? (separating laboratory)"
   ]
  },
  {
   "cell_type": "markdown",
   "metadata": {
    "heading_collapsed": true,
    "hidden": true
   },
   "source": [
    "### Analysis 1.1\n",
    "- Weekly basis"
   ]
  },
  {
   "cell_type": "code",
   "execution_count": null,
   "metadata": {
    "ExecuteTime": {
     "end_time": "2020-09-22T17:24:12.680597Z",
     "start_time": "2020-09-22T17:24:12.602256Z"
    },
    "hidden": true,
    "scrolled": true
   },
   "outputs": [],
   "source": [
    "dfsx = data_processing_sales_A1p1(dfs)"
   ]
  },
  {
   "cell_type": "code",
   "execution_count": null,
   "metadata": {
    "ExecuteTime": {
     "end_time": "2020-09-22T17:24:12.808552Z",
     "start_time": "2020-09-22T17:24:12.781542Z"
    },
    "hidden": true
   },
   "outputs": [],
   "source": [
    "dfsx"
   ]
  },
  {
   "cell_type": "code",
   "execution_count": null,
   "metadata": {
    "ExecuteTime": {
     "end_time": "2020-09-22T17:24:13.191166Z",
     "start_time": "2020-09-22T17:24:12.943753Z"
    },
    "hidden": true,
    "scrolled": false
   },
   "outputs": [],
   "source": [
    "graph_sales_A1(dfsx)"
   ]
  },
  {
   "cell_type": "markdown",
   "metadata": {
    "heading_collapsed": true,
    "hidden": true
   },
   "source": [
    "### Analysis 1.2\n",
    "- Monthly basis"
   ]
  },
  {
   "cell_type": "code",
   "execution_count": null,
   "metadata": {
    "ExecuteTime": {
     "end_time": "2020-09-08T00:40:46.413196Z",
     "start_time": "2020-09-08T00:40:46.379945Z"
    },
    "hidden": true
   },
   "outputs": [],
   "source": [
    "dfs"
   ]
  },
  {
   "cell_type": "markdown",
   "metadata": {
    "hidden": true
   },
   "source": [
    "---"
   ]
  },
  {
   "cell_type": "markdown",
   "metadata": {
    "heading_collapsed": true
   },
   "source": [
    "## Analysis 2\n",
    "- How have sales for each location behaved? (merging laboratory)"
   ]
  },
  {
   "cell_type": "markdown",
   "metadata": {
    "heading_collapsed": true,
    "hidden": true
   },
   "source": [
    "### Analysis 2.1\n",
    "- Weekly basis"
   ]
  },
  {
   "cell_type": "code",
   "execution_count": null,
   "metadata": {
    "ExecuteTime": {
     "end_time": "2020-09-22T17:24:38.600510Z",
     "start_time": "2020-09-22T17:24:38.502042Z"
    },
    "hidden": true
   },
   "outputs": [],
   "source": [
    "dfsx = data_processing_sales_A2p1(dfs)"
   ]
  },
  {
   "cell_type": "code",
   "execution_count": null,
   "metadata": {
    "ExecuteTime": {
     "end_time": "2020-09-22T17:24:38.689845Z",
     "start_time": "2020-09-22T17:24:38.665010Z"
    },
    "hidden": true
   },
   "outputs": [],
   "source": [
    "dfsx"
   ]
  },
  {
   "cell_type": "code",
   "execution_count": null,
   "metadata": {
    "ExecuteTime": {
     "end_time": "2020-09-22T17:24:38.852043Z",
     "start_time": "2020-09-22T17:24:38.816562Z"
    },
    "hidden": true,
    "scrolled": false
   },
   "outputs": [],
   "source": [
    "graph_sales_A2p1(dfsx)"
   ]
  },
  {
   "cell_type": "markdown",
   "metadata": {
    "heading_collapsed": true,
    "hidden": true
   },
   "source": [
    "### Analysis 2.2\n",
    "- Montly basis"
   ]
  },
  {
   "cell_type": "markdown",
   "metadata": {
    "heading_collapsed": true,
    "hidden": true
   },
   "source": [
    "#### Base code"
   ]
  },
  {
   "cell_type": "code",
   "execution_count": 74,
   "metadata": {
    "ExecuteTime": {
     "end_time": "2020-09-25T16:17:34.459761Z",
     "start_time": "2020-09-25T16:17:34.353537Z"
    },
    "hidden": true
   },
   "outputs": [],
   "source": [
    "dfsx = data_processing_sales_A2p2(dfs)"
   ]
  },
  {
   "cell_type": "code",
   "execution_count": 75,
   "metadata": {
    "ExecuteTime": {
     "end_time": "2020-09-25T16:17:34.718855Z",
     "start_time": "2020-09-25T16:17:34.690544Z"
    },
    "hidden": true,
    "scrolled": true
   },
   "outputs": [
    {
     "data": {
      "text/html": [
       "<div>\n",
       "<style scoped>\n",
       "    .dataframe tbody tr th:only-of-type {\n",
       "        vertical-align: middle;\n",
       "    }\n",
       "\n",
       "    .dataframe tbody tr th {\n",
       "        vertical-align: top;\n",
       "    }\n",
       "\n",
       "    .dataframe thead th {\n",
       "        text-align: right;\n",
       "    }\n",
       "</style>\n",
       "<table border=\"1\" class=\"dataframe\">\n",
       "  <thead>\n",
       "    <tr style=\"text-align: right;\">\n",
       "      <th>Loc_Hom</th>\n",
       "      <th>BASILICA</th>\n",
       "      <th>COAPA</th>\n",
       "      <th>Location_not_found</th>\n",
       "      <th>MARINA</th>\n",
       "    </tr>\n",
       "    <tr>\n",
       "      <th>Date</th>\n",
       "      <th></th>\n",
       "      <th></th>\n",
       "      <th></th>\n",
       "      <th></th>\n",
       "    </tr>\n",
       "  </thead>\n",
       "  <tbody>\n",
       "    <tr>\n",
       "      <th>2018-10</th>\n",
       "      <td>0.000000e+00</td>\n",
       "      <td>0.00</td>\n",
       "      <td>0.0</td>\n",
       "      <td>6.184679e+04</td>\n",
       "    </tr>\n",
       "    <tr>\n",
       "      <th>2018-11</th>\n",
       "      <td>0.000000e+00</td>\n",
       "      <td>0.00</td>\n",
       "      <td>0.0</td>\n",
       "      <td>2.641516e+05</td>\n",
       "    </tr>\n",
       "    <tr>\n",
       "      <th>2018-12</th>\n",
       "      <td>0.000000e+00</td>\n",
       "      <td>0.00</td>\n",
       "      <td>0.0</td>\n",
       "      <td>3.655863e+05</td>\n",
       "    </tr>\n",
       "    <tr>\n",
       "      <th>2019-1</th>\n",
       "      <td>0.000000e+00</td>\n",
       "      <td>0.00</td>\n",
       "      <td>0.0</td>\n",
       "      <td>5.055935e+05</td>\n",
       "    </tr>\n",
       "    <tr>\n",
       "      <th>2019-2</th>\n",
       "      <td>0.000000e+00</td>\n",
       "      <td>0.00</td>\n",
       "      <td>0.0</td>\n",
       "      <td>5.626424e+05</td>\n",
       "    </tr>\n",
       "    <tr>\n",
       "      <th>2019-3</th>\n",
       "      <td>0.000000e+00</td>\n",
       "      <td>0.00</td>\n",
       "      <td>0.0</td>\n",
       "      <td>6.842815e+05</td>\n",
       "    </tr>\n",
       "    <tr>\n",
       "      <th>2019-4</th>\n",
       "      <td>0.000000e+00</td>\n",
       "      <td>0.00</td>\n",
       "      <td>0.0</td>\n",
       "      <td>6.644799e+05</td>\n",
       "    </tr>\n",
       "    <tr>\n",
       "      <th>2019-5</th>\n",
       "      <td>0.000000e+00</td>\n",
       "      <td>0.00</td>\n",
       "      <td>0.0</td>\n",
       "      <td>7.499423e+05</td>\n",
       "    </tr>\n",
       "    <tr>\n",
       "      <th>2019-6</th>\n",
       "      <td>0.000000e+00</td>\n",
       "      <td>0.00</td>\n",
       "      <td>0.0</td>\n",
       "      <td>7.344469e+05</td>\n",
       "    </tr>\n",
       "    <tr>\n",
       "      <th>2019-7</th>\n",
       "      <td>4.238034e+05</td>\n",
       "      <td>0.00</td>\n",
       "      <td>0.0</td>\n",
       "      <td>7.758847e+05</td>\n",
       "    </tr>\n",
       "    <tr>\n",
       "      <th>2019-8</th>\n",
       "      <td>5.676041e+05</td>\n",
       "      <td>0.00</td>\n",
       "      <td>0.0</td>\n",
       "      <td>7.934012e+05</td>\n",
       "    </tr>\n",
       "    <tr>\n",
       "      <th>2019-9</th>\n",
       "      <td>5.519325e+05</td>\n",
       "      <td>0.00</td>\n",
       "      <td>0.0</td>\n",
       "      <td>7.598249e+05</td>\n",
       "    </tr>\n",
       "    <tr>\n",
       "      <th>2019-10</th>\n",
       "      <td>7.222716e+05</td>\n",
       "      <td>0.00</td>\n",
       "      <td>0.0</td>\n",
       "      <td>8.386164e+05</td>\n",
       "    </tr>\n",
       "    <tr>\n",
       "      <th>2019-11</th>\n",
       "      <td>6.985662e+05</td>\n",
       "      <td>0.00</td>\n",
       "      <td>0.0</td>\n",
       "      <td>8.045164e+05</td>\n",
       "    </tr>\n",
       "    <tr>\n",
       "      <th>2019-12</th>\n",
       "      <td>5.641381e+05</td>\n",
       "      <td>0.00</td>\n",
       "      <td>0.0</td>\n",
       "      <td>6.992283e+05</td>\n",
       "    </tr>\n",
       "    <tr>\n",
       "      <th>2020-1</th>\n",
       "      <td>7.226958e+05</td>\n",
       "      <td>0.00</td>\n",
       "      <td>0.0</td>\n",
       "      <td>7.977527e+05</td>\n",
       "    </tr>\n",
       "    <tr>\n",
       "      <th>2020-2</th>\n",
       "      <td>6.451268e+05</td>\n",
       "      <td>89359.60</td>\n",
       "      <td>0.0</td>\n",
       "      <td>8.025281e+05</td>\n",
       "    </tr>\n",
       "    <tr>\n",
       "      <th>2020-3</th>\n",
       "      <td>7.188750e+05</td>\n",
       "      <td>501584.00</td>\n",
       "      <td>0.0</td>\n",
       "      <td>8.700294e+05</td>\n",
       "    </tr>\n",
       "    <tr>\n",
       "      <th>2020-4</th>\n",
       "      <td>6.893573e+05</td>\n",
       "      <td>503784.05</td>\n",
       "      <td>0.0</td>\n",
       "      <td>7.267278e+05</td>\n",
       "    </tr>\n",
       "    <tr>\n",
       "      <th>2020-5</th>\n",
       "      <td>6.775497e+05</td>\n",
       "      <td>614082.00</td>\n",
       "      <td>0.0</td>\n",
       "      <td>8.411297e+05</td>\n",
       "    </tr>\n",
       "    <tr>\n",
       "      <th>2020-6</th>\n",
       "      <td>8.362951e+05</td>\n",
       "      <td>849299.95</td>\n",
       "      <td>0.0</td>\n",
       "      <td>1.050106e+06</td>\n",
       "    </tr>\n",
       "    <tr>\n",
       "      <th>2020-7</th>\n",
       "      <td>1.072987e+06</td>\n",
       "      <td>1092909.45</td>\n",
       "      <td>0.0</td>\n",
       "      <td>1.203738e+06</td>\n",
       "    </tr>\n",
       "    <tr>\n",
       "      <th>2020-8</th>\n",
       "      <td>1.025888e+06</td>\n",
       "      <td>1147993.25</td>\n",
       "      <td>0.0</td>\n",
       "      <td>1.079490e+06</td>\n",
       "    </tr>\n",
       "    <tr>\n",
       "      <th>2020-9</th>\n",
       "      <td>6.789326e+05</td>\n",
       "      <td>848735.75</td>\n",
       "      <td>8875.0</td>\n",
       "      <td>6.982982e+05</td>\n",
       "    </tr>\n",
       "  </tbody>\n",
       "</table>\n",
       "</div>"
      ],
      "text/plain": [
       "Loc_Hom      BASILICA       COAPA  Location_not_found        MARINA\n",
       "Date                                                               \n",
       "2018-10  0.000000e+00        0.00                 0.0  6.184679e+04\n",
       "2018-11  0.000000e+00        0.00                 0.0  2.641516e+05\n",
       "2018-12  0.000000e+00        0.00                 0.0  3.655863e+05\n",
       "2019-1   0.000000e+00        0.00                 0.0  5.055935e+05\n",
       "2019-2   0.000000e+00        0.00                 0.0  5.626424e+05\n",
       "2019-3   0.000000e+00        0.00                 0.0  6.842815e+05\n",
       "2019-4   0.000000e+00        0.00                 0.0  6.644799e+05\n",
       "2019-5   0.000000e+00        0.00                 0.0  7.499423e+05\n",
       "2019-6   0.000000e+00        0.00                 0.0  7.344469e+05\n",
       "2019-7   4.238034e+05        0.00                 0.0  7.758847e+05\n",
       "2019-8   5.676041e+05        0.00                 0.0  7.934012e+05\n",
       "2019-9   5.519325e+05        0.00                 0.0  7.598249e+05\n",
       "2019-10  7.222716e+05        0.00                 0.0  8.386164e+05\n",
       "2019-11  6.985662e+05        0.00                 0.0  8.045164e+05\n",
       "2019-12  5.641381e+05        0.00                 0.0  6.992283e+05\n",
       "2020-1   7.226958e+05        0.00                 0.0  7.977527e+05\n",
       "2020-2   6.451268e+05    89359.60                 0.0  8.025281e+05\n",
       "2020-3   7.188750e+05   501584.00                 0.0  8.700294e+05\n",
       "2020-4   6.893573e+05   503784.05                 0.0  7.267278e+05\n",
       "2020-5   6.775497e+05   614082.00                 0.0  8.411297e+05\n",
       "2020-6   8.362951e+05   849299.95                 0.0  1.050106e+06\n",
       "2020-7   1.072987e+06  1092909.45                 0.0  1.203738e+06\n",
       "2020-8   1.025888e+06  1147993.25                 0.0  1.079490e+06\n",
       "2020-9   6.789326e+05   848735.75              8875.0  6.982982e+05"
      ]
     },
     "execution_count": 75,
     "metadata": {},
     "output_type": "execute_result"
    }
   ],
   "source": [
    "dfsx"
   ]
  },
  {
   "cell_type": "code",
   "execution_count": 76,
   "metadata": {
    "ExecuteTime": {
     "end_time": "2020-09-25T16:17:35.218006Z",
     "start_time": "2020-09-25T16:17:35.198213Z"
    },
    "hidden": true
   },
   "outputs": [],
   "source": [
    "dfsx.drop(\"Location_not_found\", axis=1, inplace=True)"
   ]
  },
  {
   "cell_type": "code",
   "execution_count": 77,
   "metadata": {
    "ExecuteTime": {
     "end_time": "2020-09-25T16:17:35.607958Z",
     "start_time": "2020-09-25T16:17:35.571802Z"
    },
    "hidden": true,
    "scrolled": false
   },
   "outputs": [
    {
     "data": {
      "application/vnd.plotly.v1+json": {
       "config": {
        "plotlyServerURL": "https://plot.ly"
       },
       "data": [
        {
         "name": "BASILICA",
         "text": [
          "0.0",
          "0.0",
          "0.0",
          "0.0",
          "0.0",
          "0.0",
          "0.0",
          "0.0",
          "0.0",
          "423803.4442376241",
          "567604.1000000004",
          "551932.5000000002",
          "722271.5999999997",
          "698566.2",
          "564138.05",
          "722695.8000000002",
          "645126.8",
          "718875.0",
          "689357.3",
          "677549.7499999999",
          "836295.1",
          "1072986.7999999998",
          "1025888.2999999999",
          "678932.6"
         ],
         "textposition": "inside",
         "texttemplate": "$%{value:.2s}",
         "type": "bar",
         "x": [
          "2018-10",
          "2018-11",
          "2018-12",
          "2019-1",
          "2019-2",
          "2019-3",
          "2019-4",
          "2019-5",
          "2019-6",
          "2019-7",
          "2019-8",
          "2019-9",
          "2019-10",
          "2019-11",
          "2019-12",
          "2020-1",
          "2020-2",
          "2020-3",
          "2020-4",
          "2020-5",
          "2020-6",
          "2020-7",
          "2020-8",
          "2020-9"
         ],
         "y": [
          0,
          0,
          0,
          0,
          0,
          0,
          0,
          0,
          0,
          423803.4442376241,
          567604.1000000004,
          551932.5000000002,
          722271.5999999997,
          698566.2,
          564138.05,
          722695.8000000002,
          645126.8,
          718875,
          689357.3,
          677549.7499999999,
          836295.1,
          1072986.7999999998,
          1025888.2999999999,
          678932.6
         ]
        },
        {
         "name": "COAPA",
         "text": [
          "0.0",
          "0.0",
          "0.0",
          "0.0",
          "0.0",
          "0.0",
          "0.0",
          "0.0",
          "0.0",
          "0.0",
          "0.0",
          "0.0",
          "0.0",
          "0.0",
          "0.0",
          "0.0",
          "89359.59999999999",
          "501584.0",
          "503784.05",
          "614081.9999999999",
          "849299.95",
          "1092909.45",
          "1147993.25",
          "848735.75"
         ],
         "textposition": "inside",
         "texttemplate": "$%{value:.2s}",
         "type": "bar",
         "x": [
          "2018-10",
          "2018-11",
          "2018-12",
          "2019-1",
          "2019-2",
          "2019-3",
          "2019-4",
          "2019-5",
          "2019-6",
          "2019-7",
          "2019-8",
          "2019-9",
          "2019-10",
          "2019-11",
          "2019-12",
          "2020-1",
          "2020-2",
          "2020-3",
          "2020-4",
          "2020-5",
          "2020-6",
          "2020-7",
          "2020-8",
          "2020-9"
         ],
         "y": [
          0,
          0,
          0,
          0,
          0,
          0,
          0,
          0,
          0,
          0,
          0,
          0,
          0,
          0,
          0,
          0,
          89359.59999999999,
          501584,
          503784.05,
          614081.9999999999,
          849299.95,
          1092909.45,
          1147993.25,
          848735.75
         ]
        },
        {
         "name": "MARINA",
         "text": [
          "61846.79409278049",
          "264151.60942036135",
          "365586.2730850503",
          "505593.4741488676",
          "562642.3869701572",
          "684281.5109504855",
          "664479.8772645873",
          "749942.2624143746",
          "734446.8658198068",
          "775884.6604598277",
          "793401.2000000001",
          "759824.9499999996",
          "838616.3999999987",
          "804516.3999999991",
          "699228.2999999995",
          "797752.6999999996",
          "802528.0999999988",
          "870029.4499999986",
          "726727.7999999995",
          "841129.6999999993",
          "1050105.8999999997",
          "1203738.4999999998",
          "1079490.4",
          "698298.1999999998"
         ],
         "textposition": "inside",
         "texttemplate": "$%{value:.2s}",
         "type": "bar",
         "x": [
          "2018-10",
          "2018-11",
          "2018-12",
          "2019-1",
          "2019-2",
          "2019-3",
          "2019-4",
          "2019-5",
          "2019-6",
          "2019-7",
          "2019-8",
          "2019-9",
          "2019-10",
          "2019-11",
          "2019-12",
          "2020-1",
          "2020-2",
          "2020-3",
          "2020-4",
          "2020-5",
          "2020-6",
          "2020-7",
          "2020-8",
          "2020-9"
         ],
         "y": [
          61846.79409278049,
          264151.60942036135,
          365586.2730850503,
          505593.4741488676,
          562642.3869701572,
          684281.5109504855,
          664479.8772645873,
          749942.2624143746,
          734446.8658198068,
          775884.6604598277,
          793401.2000000001,
          759824.9499999996,
          838616.3999999987,
          804516.3999999991,
          699228.2999999995,
          797752.6999999996,
          802528.0999999988,
          870029.4499999986,
          726727.7999999995,
          841129.6999999993,
          1050105.8999999997,
          1203738.4999999998,
          1079490.4,
          698298.1999999998
         ]
        }
       ],
       "layout": {
        "template": {
         "data": {
          "bar": [
           {
            "error_x": {
             "color": "#2a3f5f"
            },
            "error_y": {
             "color": "#2a3f5f"
            },
            "marker": {
             "line": {
              "color": "#E5ECF6",
              "width": 0.5
             }
            },
            "type": "bar"
           }
          ],
          "barpolar": [
           {
            "marker": {
             "line": {
              "color": "#E5ECF6",
              "width": 0.5
             }
            },
            "type": "barpolar"
           }
          ],
          "carpet": [
           {
            "aaxis": {
             "endlinecolor": "#2a3f5f",
             "gridcolor": "white",
             "linecolor": "white",
             "minorgridcolor": "white",
             "startlinecolor": "#2a3f5f"
            },
            "baxis": {
             "endlinecolor": "#2a3f5f",
             "gridcolor": "white",
             "linecolor": "white",
             "minorgridcolor": "white",
             "startlinecolor": "#2a3f5f"
            },
            "type": "carpet"
           }
          ],
          "choropleth": [
           {
            "colorbar": {
             "outlinewidth": 0,
             "ticks": ""
            },
            "type": "choropleth"
           }
          ],
          "contour": [
           {
            "colorbar": {
             "outlinewidth": 0,
             "ticks": ""
            },
            "colorscale": [
             [
              0,
              "#0d0887"
             ],
             [
              0.1111111111111111,
              "#46039f"
             ],
             [
              0.2222222222222222,
              "#7201a8"
             ],
             [
              0.3333333333333333,
              "#9c179e"
             ],
             [
              0.4444444444444444,
              "#bd3786"
             ],
             [
              0.5555555555555556,
              "#d8576b"
             ],
             [
              0.6666666666666666,
              "#ed7953"
             ],
             [
              0.7777777777777778,
              "#fb9f3a"
             ],
             [
              0.8888888888888888,
              "#fdca26"
             ],
             [
              1,
              "#f0f921"
             ]
            ],
            "type": "contour"
           }
          ],
          "contourcarpet": [
           {
            "colorbar": {
             "outlinewidth": 0,
             "ticks": ""
            },
            "type": "contourcarpet"
           }
          ],
          "heatmap": [
           {
            "colorbar": {
             "outlinewidth": 0,
             "ticks": ""
            },
            "colorscale": [
             [
              0,
              "#0d0887"
             ],
             [
              0.1111111111111111,
              "#46039f"
             ],
             [
              0.2222222222222222,
              "#7201a8"
             ],
             [
              0.3333333333333333,
              "#9c179e"
             ],
             [
              0.4444444444444444,
              "#bd3786"
             ],
             [
              0.5555555555555556,
              "#d8576b"
             ],
             [
              0.6666666666666666,
              "#ed7953"
             ],
             [
              0.7777777777777778,
              "#fb9f3a"
             ],
             [
              0.8888888888888888,
              "#fdca26"
             ],
             [
              1,
              "#f0f921"
             ]
            ],
            "type": "heatmap"
           }
          ],
          "heatmapgl": [
           {
            "colorbar": {
             "outlinewidth": 0,
             "ticks": ""
            },
            "colorscale": [
             [
              0,
              "#0d0887"
             ],
             [
              0.1111111111111111,
              "#46039f"
             ],
             [
              0.2222222222222222,
              "#7201a8"
             ],
             [
              0.3333333333333333,
              "#9c179e"
             ],
             [
              0.4444444444444444,
              "#bd3786"
             ],
             [
              0.5555555555555556,
              "#d8576b"
             ],
             [
              0.6666666666666666,
              "#ed7953"
             ],
             [
              0.7777777777777778,
              "#fb9f3a"
             ],
             [
              0.8888888888888888,
              "#fdca26"
             ],
             [
              1,
              "#f0f921"
             ]
            ],
            "type": "heatmapgl"
           }
          ],
          "histogram": [
           {
            "marker": {
             "colorbar": {
              "outlinewidth": 0,
              "ticks": ""
             }
            },
            "type": "histogram"
           }
          ],
          "histogram2d": [
           {
            "colorbar": {
             "outlinewidth": 0,
             "ticks": ""
            },
            "colorscale": [
             [
              0,
              "#0d0887"
             ],
             [
              0.1111111111111111,
              "#46039f"
             ],
             [
              0.2222222222222222,
              "#7201a8"
             ],
             [
              0.3333333333333333,
              "#9c179e"
             ],
             [
              0.4444444444444444,
              "#bd3786"
             ],
             [
              0.5555555555555556,
              "#d8576b"
             ],
             [
              0.6666666666666666,
              "#ed7953"
             ],
             [
              0.7777777777777778,
              "#fb9f3a"
             ],
             [
              0.8888888888888888,
              "#fdca26"
             ],
             [
              1,
              "#f0f921"
             ]
            ],
            "type": "histogram2d"
           }
          ],
          "histogram2dcontour": [
           {
            "colorbar": {
             "outlinewidth": 0,
             "ticks": ""
            },
            "colorscale": [
             [
              0,
              "#0d0887"
             ],
             [
              0.1111111111111111,
              "#46039f"
             ],
             [
              0.2222222222222222,
              "#7201a8"
             ],
             [
              0.3333333333333333,
              "#9c179e"
             ],
             [
              0.4444444444444444,
              "#bd3786"
             ],
             [
              0.5555555555555556,
              "#d8576b"
             ],
             [
              0.6666666666666666,
              "#ed7953"
             ],
             [
              0.7777777777777778,
              "#fb9f3a"
             ],
             [
              0.8888888888888888,
              "#fdca26"
             ],
             [
              1,
              "#f0f921"
             ]
            ],
            "type": "histogram2dcontour"
           }
          ],
          "mesh3d": [
           {
            "colorbar": {
             "outlinewidth": 0,
             "ticks": ""
            },
            "type": "mesh3d"
           }
          ],
          "parcoords": [
           {
            "line": {
             "colorbar": {
              "outlinewidth": 0,
              "ticks": ""
             }
            },
            "type": "parcoords"
           }
          ],
          "pie": [
           {
            "automargin": true,
            "type": "pie"
           }
          ],
          "scatter": [
           {
            "marker": {
             "colorbar": {
              "outlinewidth": 0,
              "ticks": ""
             }
            },
            "type": "scatter"
           }
          ],
          "scatter3d": [
           {
            "line": {
             "colorbar": {
              "outlinewidth": 0,
              "ticks": ""
             }
            },
            "marker": {
             "colorbar": {
              "outlinewidth": 0,
              "ticks": ""
             }
            },
            "type": "scatter3d"
           }
          ],
          "scattercarpet": [
           {
            "marker": {
             "colorbar": {
              "outlinewidth": 0,
              "ticks": ""
             }
            },
            "type": "scattercarpet"
           }
          ],
          "scattergeo": [
           {
            "marker": {
             "colorbar": {
              "outlinewidth": 0,
              "ticks": ""
             }
            },
            "type": "scattergeo"
           }
          ],
          "scattergl": [
           {
            "marker": {
             "colorbar": {
              "outlinewidth": 0,
              "ticks": ""
             }
            },
            "type": "scattergl"
           }
          ],
          "scattermapbox": [
           {
            "marker": {
             "colorbar": {
              "outlinewidth": 0,
              "ticks": ""
             }
            },
            "type": "scattermapbox"
           }
          ],
          "scatterpolar": [
           {
            "marker": {
             "colorbar": {
              "outlinewidth": 0,
              "ticks": ""
             }
            },
            "type": "scatterpolar"
           }
          ],
          "scatterpolargl": [
           {
            "marker": {
             "colorbar": {
              "outlinewidth": 0,
              "ticks": ""
             }
            },
            "type": "scatterpolargl"
           }
          ],
          "scatterternary": [
           {
            "marker": {
             "colorbar": {
              "outlinewidth": 0,
              "ticks": ""
             }
            },
            "type": "scatterternary"
           }
          ],
          "surface": [
           {
            "colorbar": {
             "outlinewidth": 0,
             "ticks": ""
            },
            "colorscale": [
             [
              0,
              "#0d0887"
             ],
             [
              0.1111111111111111,
              "#46039f"
             ],
             [
              0.2222222222222222,
              "#7201a8"
             ],
             [
              0.3333333333333333,
              "#9c179e"
             ],
             [
              0.4444444444444444,
              "#bd3786"
             ],
             [
              0.5555555555555556,
              "#d8576b"
             ],
             [
              0.6666666666666666,
              "#ed7953"
             ],
             [
              0.7777777777777778,
              "#fb9f3a"
             ],
             [
              0.8888888888888888,
              "#fdca26"
             ],
             [
              1,
              "#f0f921"
             ]
            ],
            "type": "surface"
           }
          ],
          "table": [
           {
            "cells": {
             "fill": {
              "color": "#EBF0F8"
             },
             "line": {
              "color": "white"
             }
            },
            "header": {
             "fill": {
              "color": "#C8D4E3"
             },
             "line": {
              "color": "white"
             }
            },
            "type": "table"
           }
          ]
         },
         "layout": {
          "annotationdefaults": {
           "arrowcolor": "#2a3f5f",
           "arrowhead": 0,
           "arrowwidth": 1
          },
          "coloraxis": {
           "colorbar": {
            "outlinewidth": 0,
            "ticks": ""
           }
          },
          "colorscale": {
           "diverging": [
            [
             0,
             "#8e0152"
            ],
            [
             0.1,
             "#c51b7d"
            ],
            [
             0.2,
             "#de77ae"
            ],
            [
             0.3,
             "#f1b6da"
            ],
            [
             0.4,
             "#fde0ef"
            ],
            [
             0.5,
             "#f7f7f7"
            ],
            [
             0.6,
             "#e6f5d0"
            ],
            [
             0.7,
             "#b8e186"
            ],
            [
             0.8,
             "#7fbc41"
            ],
            [
             0.9,
             "#4d9221"
            ],
            [
             1,
             "#276419"
            ]
           ],
           "sequential": [
            [
             0,
             "#0d0887"
            ],
            [
             0.1111111111111111,
             "#46039f"
            ],
            [
             0.2222222222222222,
             "#7201a8"
            ],
            [
             0.3333333333333333,
             "#9c179e"
            ],
            [
             0.4444444444444444,
             "#bd3786"
            ],
            [
             0.5555555555555556,
             "#d8576b"
            ],
            [
             0.6666666666666666,
             "#ed7953"
            ],
            [
             0.7777777777777778,
             "#fb9f3a"
            ],
            [
             0.8888888888888888,
             "#fdca26"
            ],
            [
             1,
             "#f0f921"
            ]
           ],
           "sequentialminus": [
            [
             0,
             "#0d0887"
            ],
            [
             0.1111111111111111,
             "#46039f"
            ],
            [
             0.2222222222222222,
             "#7201a8"
            ],
            [
             0.3333333333333333,
             "#9c179e"
            ],
            [
             0.4444444444444444,
             "#bd3786"
            ],
            [
             0.5555555555555556,
             "#d8576b"
            ],
            [
             0.6666666666666666,
             "#ed7953"
            ],
            [
             0.7777777777777778,
             "#fb9f3a"
            ],
            [
             0.8888888888888888,
             "#fdca26"
            ],
            [
             1,
             "#f0f921"
            ]
           ]
          },
          "colorway": [
           "#636efa",
           "#EF553B",
           "#00cc96",
           "#ab63fa",
           "#FFA15A",
           "#19d3f3",
           "#FF6692",
           "#B6E880",
           "#FF97FF",
           "#FECB52"
          ],
          "font": {
           "color": "#2a3f5f"
          },
          "geo": {
           "bgcolor": "white",
           "lakecolor": "white",
           "landcolor": "#E5ECF6",
           "showlakes": true,
           "showland": true,
           "subunitcolor": "white"
          },
          "hoverlabel": {
           "align": "left"
          },
          "hovermode": "closest",
          "mapbox": {
           "style": "light"
          },
          "paper_bgcolor": "white",
          "plot_bgcolor": "#E5ECF6",
          "polar": {
           "angularaxis": {
            "gridcolor": "white",
            "linecolor": "white",
            "ticks": ""
           },
           "bgcolor": "#E5ECF6",
           "radialaxis": {
            "gridcolor": "white",
            "linecolor": "white",
            "ticks": ""
           }
          },
          "scene": {
           "xaxis": {
            "backgroundcolor": "#E5ECF6",
            "gridcolor": "white",
            "gridwidth": 2,
            "linecolor": "white",
            "showbackground": true,
            "ticks": "",
            "zerolinecolor": "white"
           },
           "yaxis": {
            "backgroundcolor": "#E5ECF6",
            "gridcolor": "white",
            "gridwidth": 2,
            "linecolor": "white",
            "showbackground": true,
            "ticks": "",
            "zerolinecolor": "white"
           },
           "zaxis": {
            "backgroundcolor": "#E5ECF6",
            "gridcolor": "white",
            "gridwidth": 2,
            "linecolor": "white",
            "showbackground": true,
            "ticks": "",
            "zerolinecolor": "white"
           }
          },
          "shapedefaults": {
           "line": {
            "color": "#2a3f5f"
           }
          },
          "ternary": {
           "aaxis": {
            "gridcolor": "white",
            "linecolor": "white",
            "ticks": ""
           },
           "baxis": {
            "gridcolor": "white",
            "linecolor": "white",
            "ticks": ""
           },
           "bgcolor": "#E5ECF6",
           "caxis": {
            "gridcolor": "white",
            "linecolor": "white",
            "ticks": ""
           }
          },
          "title": {
           "x": 0.05
          },
          "xaxis": {
           "automargin": true,
           "gridcolor": "white",
           "linecolor": "white",
           "ticks": "",
           "title": {
            "standoff": 15
           },
           "zerolinecolor": "white",
           "zerolinewidth": 2
          },
          "yaxis": {
           "automargin": true,
           "gridcolor": "white",
           "linecolor": "white",
           "ticks": "",
           "title": {
            "standoff": 15
           },
           "zerolinecolor": "white",
           "zerolinewidth": 2
          }
         }
        },
        "title": {
         "text": "Ingresos mensuales por sucursal (juntando laboratorio)"
        },
        "xaxis": {
         "dtick": "M1",
         "title": {
          "text": "Mes"
         }
        },
        "yaxis": {
         "tickprefix": "$",
         "title": {
          "text": "Ingresos [$MXN]"
         }
        }
       }
      },
      "text/html": [
       "<div>                            <div id=\"7cc11e82-9fa5-4ad9-a344-746edef884d4\" class=\"plotly-graph-div\" style=\"height:525px; width:100%;\"></div>            <script type=\"text/javascript\">                require([\"plotly\"], function(Plotly) {                    window.PLOTLYENV=window.PLOTLYENV || {};                                    if (document.getElementById(\"7cc11e82-9fa5-4ad9-a344-746edef884d4\")) {                    Plotly.newPlot(                        \"7cc11e82-9fa5-4ad9-a344-746edef884d4\",                        [{\"name\": \"BASILICA\", \"text\": [\"0.0\", \"0.0\", \"0.0\", \"0.0\", \"0.0\", \"0.0\", \"0.0\", \"0.0\", \"0.0\", \"423803.4442376241\", \"567604.1000000004\", \"551932.5000000002\", \"722271.5999999997\", \"698566.2\", \"564138.05\", \"722695.8000000002\", \"645126.8\", \"718875.0\", \"689357.3\", \"677549.7499999999\", \"836295.1\", \"1072986.7999999998\", \"1025888.2999999999\", \"678932.6\"], \"textposition\": \"inside\", \"texttemplate\": \"$%{value:.2s}\", \"type\": \"bar\", \"x\": [\"2018-10\", \"2018-11\", \"2018-12\", \"2019-1\", \"2019-2\", \"2019-3\", \"2019-4\", \"2019-5\", \"2019-6\", \"2019-7\", \"2019-8\", \"2019-9\", \"2019-10\", \"2019-11\", \"2019-12\", \"2020-1\", \"2020-2\", \"2020-3\", \"2020-4\", \"2020-5\", \"2020-6\", \"2020-7\", \"2020-8\", \"2020-9\"], \"y\": [0.0, 0.0, 0.0, 0.0, 0.0, 0.0, 0.0, 0.0, 0.0, 423803.4442376241, 567604.1000000004, 551932.5000000002, 722271.5999999997, 698566.2, 564138.05, 722695.8000000002, 645126.8, 718875.0, 689357.3, 677549.7499999999, 836295.1, 1072986.7999999998, 1025888.2999999999, 678932.6]}, {\"name\": \"COAPA\", \"text\": [\"0.0\", \"0.0\", \"0.0\", \"0.0\", \"0.0\", \"0.0\", \"0.0\", \"0.0\", \"0.0\", \"0.0\", \"0.0\", \"0.0\", \"0.0\", \"0.0\", \"0.0\", \"0.0\", \"89359.59999999999\", \"501584.0\", \"503784.05\", \"614081.9999999999\", \"849299.95\", \"1092909.45\", \"1147993.25\", \"848735.75\"], \"textposition\": \"inside\", \"texttemplate\": \"$%{value:.2s}\", \"type\": \"bar\", \"x\": [\"2018-10\", \"2018-11\", \"2018-12\", \"2019-1\", \"2019-2\", \"2019-3\", \"2019-4\", \"2019-5\", \"2019-6\", \"2019-7\", \"2019-8\", \"2019-9\", \"2019-10\", \"2019-11\", \"2019-12\", \"2020-1\", \"2020-2\", \"2020-3\", \"2020-4\", \"2020-5\", \"2020-6\", \"2020-7\", \"2020-8\", \"2020-9\"], \"y\": [0.0, 0.0, 0.0, 0.0, 0.0, 0.0, 0.0, 0.0, 0.0, 0.0, 0.0, 0.0, 0.0, 0.0, 0.0, 0.0, 89359.59999999999, 501584.0, 503784.05, 614081.9999999999, 849299.95, 1092909.45, 1147993.25, 848735.75]}, {\"name\": \"MARINA\", \"text\": [\"61846.79409278049\", \"264151.60942036135\", \"365586.2730850503\", \"505593.4741488676\", \"562642.3869701572\", \"684281.5109504855\", \"664479.8772645873\", \"749942.2624143746\", \"734446.8658198068\", \"775884.6604598277\", \"793401.2000000001\", \"759824.9499999996\", \"838616.3999999987\", \"804516.3999999991\", \"699228.2999999995\", \"797752.6999999996\", \"802528.0999999988\", \"870029.4499999986\", \"726727.7999999995\", \"841129.6999999993\", \"1050105.8999999997\", \"1203738.4999999998\", \"1079490.4\", \"698298.1999999998\"], \"textposition\": \"inside\", \"texttemplate\": \"$%{value:.2s}\", \"type\": \"bar\", \"x\": [\"2018-10\", \"2018-11\", \"2018-12\", \"2019-1\", \"2019-2\", \"2019-3\", \"2019-4\", \"2019-5\", \"2019-6\", \"2019-7\", \"2019-8\", \"2019-9\", \"2019-10\", \"2019-11\", \"2019-12\", \"2020-1\", \"2020-2\", \"2020-3\", \"2020-4\", \"2020-5\", \"2020-6\", \"2020-7\", \"2020-8\", \"2020-9\"], \"y\": [61846.79409278049, 264151.60942036135, 365586.2730850503, 505593.4741488676, 562642.3869701572, 684281.5109504855, 664479.8772645873, 749942.2624143746, 734446.8658198068, 775884.6604598277, 793401.2000000001, 759824.9499999996, 838616.3999999987, 804516.3999999991, 699228.2999999995, 797752.6999999996, 802528.0999999988, 870029.4499999986, 726727.7999999995, 841129.6999999993, 1050105.8999999997, 1203738.4999999998, 1079490.4, 698298.1999999998]}],                        {\"template\": {\"data\": {\"bar\": [{\"error_x\": {\"color\": \"#2a3f5f\"}, \"error_y\": {\"color\": \"#2a3f5f\"}, \"marker\": {\"line\": {\"color\": \"#E5ECF6\", \"width\": 0.5}}, \"type\": \"bar\"}], \"barpolar\": [{\"marker\": {\"line\": {\"color\": \"#E5ECF6\", \"width\": 0.5}}, \"type\": \"barpolar\"}], \"carpet\": [{\"aaxis\": {\"endlinecolor\": \"#2a3f5f\", \"gridcolor\": \"white\", \"linecolor\": \"white\", \"minorgridcolor\": \"white\", \"startlinecolor\": \"#2a3f5f\"}, \"baxis\": {\"endlinecolor\": \"#2a3f5f\", \"gridcolor\": \"white\", \"linecolor\": \"white\", \"minorgridcolor\": \"white\", \"startlinecolor\": \"#2a3f5f\"}, \"type\": \"carpet\"}], \"choropleth\": [{\"colorbar\": {\"outlinewidth\": 0, \"ticks\": \"\"}, \"type\": \"choropleth\"}], \"contour\": [{\"colorbar\": {\"outlinewidth\": 0, \"ticks\": \"\"}, \"colorscale\": [[0.0, \"#0d0887\"], [0.1111111111111111, \"#46039f\"], [0.2222222222222222, \"#7201a8\"], [0.3333333333333333, \"#9c179e\"], [0.4444444444444444, \"#bd3786\"], [0.5555555555555556, \"#d8576b\"], [0.6666666666666666, \"#ed7953\"], [0.7777777777777778, \"#fb9f3a\"], [0.8888888888888888, \"#fdca26\"], [1.0, \"#f0f921\"]], \"type\": \"contour\"}], \"contourcarpet\": [{\"colorbar\": {\"outlinewidth\": 0, \"ticks\": \"\"}, \"type\": \"contourcarpet\"}], \"heatmap\": [{\"colorbar\": {\"outlinewidth\": 0, \"ticks\": \"\"}, \"colorscale\": [[0.0, \"#0d0887\"], [0.1111111111111111, \"#46039f\"], [0.2222222222222222, \"#7201a8\"], [0.3333333333333333, \"#9c179e\"], [0.4444444444444444, \"#bd3786\"], [0.5555555555555556, \"#d8576b\"], [0.6666666666666666, \"#ed7953\"], [0.7777777777777778, \"#fb9f3a\"], [0.8888888888888888, \"#fdca26\"], [1.0, \"#f0f921\"]], \"type\": \"heatmap\"}], \"heatmapgl\": [{\"colorbar\": {\"outlinewidth\": 0, \"ticks\": \"\"}, \"colorscale\": [[0.0, \"#0d0887\"], [0.1111111111111111, \"#46039f\"], [0.2222222222222222, \"#7201a8\"], [0.3333333333333333, \"#9c179e\"], [0.4444444444444444, \"#bd3786\"], [0.5555555555555556, \"#d8576b\"], [0.6666666666666666, \"#ed7953\"], [0.7777777777777778, \"#fb9f3a\"], [0.8888888888888888, \"#fdca26\"], [1.0, \"#f0f921\"]], \"type\": \"heatmapgl\"}], \"histogram\": [{\"marker\": {\"colorbar\": {\"outlinewidth\": 0, \"ticks\": \"\"}}, \"type\": \"histogram\"}], \"histogram2d\": [{\"colorbar\": {\"outlinewidth\": 0, \"ticks\": \"\"}, \"colorscale\": [[0.0, \"#0d0887\"], [0.1111111111111111, \"#46039f\"], [0.2222222222222222, \"#7201a8\"], [0.3333333333333333, \"#9c179e\"], [0.4444444444444444, \"#bd3786\"], [0.5555555555555556, \"#d8576b\"], [0.6666666666666666, \"#ed7953\"], [0.7777777777777778, \"#fb9f3a\"], [0.8888888888888888, \"#fdca26\"], [1.0, \"#f0f921\"]], \"type\": \"histogram2d\"}], \"histogram2dcontour\": [{\"colorbar\": {\"outlinewidth\": 0, \"ticks\": \"\"}, \"colorscale\": [[0.0, \"#0d0887\"], [0.1111111111111111, \"#46039f\"], [0.2222222222222222, \"#7201a8\"], [0.3333333333333333, \"#9c179e\"], [0.4444444444444444, \"#bd3786\"], [0.5555555555555556, \"#d8576b\"], [0.6666666666666666, \"#ed7953\"], [0.7777777777777778, \"#fb9f3a\"], [0.8888888888888888, \"#fdca26\"], [1.0, \"#f0f921\"]], \"type\": \"histogram2dcontour\"}], \"mesh3d\": [{\"colorbar\": {\"outlinewidth\": 0, \"ticks\": \"\"}, \"type\": \"mesh3d\"}], \"parcoords\": [{\"line\": {\"colorbar\": {\"outlinewidth\": 0, \"ticks\": \"\"}}, \"type\": \"parcoords\"}], \"pie\": [{\"automargin\": true, \"type\": \"pie\"}], \"scatter\": [{\"marker\": {\"colorbar\": {\"outlinewidth\": 0, \"ticks\": \"\"}}, \"type\": \"scatter\"}], \"scatter3d\": [{\"line\": {\"colorbar\": {\"outlinewidth\": 0, \"ticks\": \"\"}}, \"marker\": {\"colorbar\": {\"outlinewidth\": 0, \"ticks\": \"\"}}, \"type\": \"scatter3d\"}], \"scattercarpet\": [{\"marker\": {\"colorbar\": {\"outlinewidth\": 0, \"ticks\": \"\"}}, \"type\": \"scattercarpet\"}], \"scattergeo\": [{\"marker\": {\"colorbar\": {\"outlinewidth\": 0, \"ticks\": \"\"}}, \"type\": \"scattergeo\"}], \"scattergl\": [{\"marker\": {\"colorbar\": {\"outlinewidth\": 0, \"ticks\": \"\"}}, \"type\": \"scattergl\"}], \"scattermapbox\": [{\"marker\": {\"colorbar\": {\"outlinewidth\": 0, \"ticks\": \"\"}}, \"type\": \"scattermapbox\"}], \"scatterpolar\": [{\"marker\": {\"colorbar\": {\"outlinewidth\": 0, \"ticks\": \"\"}}, \"type\": \"scatterpolar\"}], \"scatterpolargl\": [{\"marker\": {\"colorbar\": {\"outlinewidth\": 0, \"ticks\": \"\"}}, \"type\": \"scatterpolargl\"}], \"scatterternary\": [{\"marker\": {\"colorbar\": {\"outlinewidth\": 0, \"ticks\": \"\"}}, \"type\": \"scatterternary\"}], \"surface\": [{\"colorbar\": {\"outlinewidth\": 0, \"ticks\": \"\"}, \"colorscale\": [[0.0, \"#0d0887\"], [0.1111111111111111, \"#46039f\"], [0.2222222222222222, \"#7201a8\"], [0.3333333333333333, \"#9c179e\"], [0.4444444444444444, \"#bd3786\"], [0.5555555555555556, \"#d8576b\"], [0.6666666666666666, \"#ed7953\"], [0.7777777777777778, \"#fb9f3a\"], [0.8888888888888888, \"#fdca26\"], [1.0, \"#f0f921\"]], \"type\": \"surface\"}], \"table\": [{\"cells\": {\"fill\": {\"color\": \"#EBF0F8\"}, \"line\": {\"color\": \"white\"}}, \"header\": {\"fill\": {\"color\": \"#C8D4E3\"}, \"line\": {\"color\": \"white\"}}, \"type\": \"table\"}]}, \"layout\": {\"annotationdefaults\": {\"arrowcolor\": \"#2a3f5f\", \"arrowhead\": 0, \"arrowwidth\": 1}, \"coloraxis\": {\"colorbar\": {\"outlinewidth\": 0, \"ticks\": \"\"}}, \"colorscale\": {\"diverging\": [[0, \"#8e0152\"], [0.1, \"#c51b7d\"], [0.2, \"#de77ae\"], [0.3, \"#f1b6da\"], [0.4, \"#fde0ef\"], [0.5, \"#f7f7f7\"], [0.6, \"#e6f5d0\"], [0.7, \"#b8e186\"], [0.8, \"#7fbc41\"], [0.9, \"#4d9221\"], [1, \"#276419\"]], \"sequential\": [[0.0, \"#0d0887\"], [0.1111111111111111, \"#46039f\"], [0.2222222222222222, \"#7201a8\"], [0.3333333333333333, \"#9c179e\"], [0.4444444444444444, \"#bd3786\"], [0.5555555555555556, \"#d8576b\"], [0.6666666666666666, \"#ed7953\"], [0.7777777777777778, \"#fb9f3a\"], [0.8888888888888888, \"#fdca26\"], [1.0, \"#f0f921\"]], \"sequentialminus\": [[0.0, \"#0d0887\"], [0.1111111111111111, \"#46039f\"], [0.2222222222222222, \"#7201a8\"], [0.3333333333333333, \"#9c179e\"], [0.4444444444444444, \"#bd3786\"], [0.5555555555555556, \"#d8576b\"], [0.6666666666666666, \"#ed7953\"], [0.7777777777777778, \"#fb9f3a\"], [0.8888888888888888, \"#fdca26\"], [1.0, \"#f0f921\"]]}, \"colorway\": [\"#636efa\", \"#EF553B\", \"#00cc96\", \"#ab63fa\", \"#FFA15A\", \"#19d3f3\", \"#FF6692\", \"#B6E880\", \"#FF97FF\", \"#FECB52\"], \"font\": {\"color\": \"#2a3f5f\"}, \"geo\": {\"bgcolor\": \"white\", \"lakecolor\": \"white\", \"landcolor\": \"#E5ECF6\", \"showlakes\": true, \"showland\": true, \"subunitcolor\": \"white\"}, \"hoverlabel\": {\"align\": \"left\"}, \"hovermode\": \"closest\", \"mapbox\": {\"style\": \"light\"}, \"paper_bgcolor\": \"white\", \"plot_bgcolor\": \"#E5ECF6\", \"polar\": {\"angularaxis\": {\"gridcolor\": \"white\", \"linecolor\": \"white\", \"ticks\": \"\"}, \"bgcolor\": \"#E5ECF6\", \"radialaxis\": {\"gridcolor\": \"white\", \"linecolor\": \"white\", \"ticks\": \"\"}}, \"scene\": {\"xaxis\": {\"backgroundcolor\": \"#E5ECF6\", \"gridcolor\": \"white\", \"gridwidth\": 2, \"linecolor\": \"white\", \"showbackground\": true, \"ticks\": \"\", \"zerolinecolor\": \"white\"}, \"yaxis\": {\"backgroundcolor\": \"#E5ECF6\", \"gridcolor\": \"white\", \"gridwidth\": 2, \"linecolor\": \"white\", \"showbackground\": true, \"ticks\": \"\", \"zerolinecolor\": \"white\"}, \"zaxis\": {\"backgroundcolor\": \"#E5ECF6\", \"gridcolor\": \"white\", \"gridwidth\": 2, \"linecolor\": \"white\", \"showbackground\": true, \"ticks\": \"\", \"zerolinecolor\": \"white\"}}, \"shapedefaults\": {\"line\": {\"color\": \"#2a3f5f\"}}, \"ternary\": {\"aaxis\": {\"gridcolor\": \"white\", \"linecolor\": \"white\", \"ticks\": \"\"}, \"baxis\": {\"gridcolor\": \"white\", \"linecolor\": \"white\", \"ticks\": \"\"}, \"bgcolor\": \"#E5ECF6\", \"caxis\": {\"gridcolor\": \"white\", \"linecolor\": \"white\", \"ticks\": \"\"}}, \"title\": {\"x\": 0.05}, \"xaxis\": {\"automargin\": true, \"gridcolor\": \"white\", \"linecolor\": \"white\", \"ticks\": \"\", \"title\": {\"standoff\": 15}, \"zerolinecolor\": \"white\", \"zerolinewidth\": 2}, \"yaxis\": {\"automargin\": true, \"gridcolor\": \"white\", \"linecolor\": \"white\", \"ticks\": \"\", \"title\": {\"standoff\": 15}, \"zerolinecolor\": \"white\", \"zerolinewidth\": 2}}}, \"title\": {\"text\": \"Ingresos mensuales por sucursal (juntando laboratorio)\"}, \"xaxis\": {\"dtick\": \"M1\", \"title\": {\"text\": \"Mes\"}}, \"yaxis\": {\"tickprefix\": \"$\", \"title\": {\"text\": \"Ingresos [$MXN]\"}}},                        {\"responsive\": true}                    ).then(function(){\n",
       "                            \n",
       "var gd = document.getElementById('7cc11e82-9fa5-4ad9-a344-746edef884d4');\n",
       "var x = new MutationObserver(function (mutations, observer) {{\n",
       "        var display = window.getComputedStyle(gd).display;\n",
       "        if (!display || display === 'none') {{\n",
       "            console.log([gd, 'removed!']);\n",
       "            Plotly.purge(gd);\n",
       "            observer.disconnect();\n",
       "        }}\n",
       "}});\n",
       "\n",
       "// Listen for the removal of the full notebook cells\n",
       "var notebookContainer = gd.closest('#notebook-container');\n",
       "if (notebookContainer) {{\n",
       "    x.observe(notebookContainer, {childList: true});\n",
       "}}\n",
       "\n",
       "// Listen for the clearing of the current output cell\n",
       "var outputEl = gd.closest('.output');\n",
       "if (outputEl) {{\n",
       "    x.observe(outputEl, {childList: true});\n",
       "}}\n",
       "\n",
       "                        })                };                });            </script>        </div>"
      ]
     },
     "metadata": {},
     "output_type": "display_data"
    }
   ],
   "source": [
    "graph_sales_A2p2(dfsx)"
   ]
  },
  {
   "cell_type": "markdown",
   "metadata": {
    "heading_collapsed": true,
    "hidden": true
   },
   "source": [
    "#### Further analysis"
   ]
  },
  {
   "cell_type": "code",
   "execution_count": null,
   "metadata": {
    "ExecuteTime": {
     "end_time": "2020-09-21T14:02:41.819600Z",
     "start_time": "2020-09-21T14:02:41.799744Z"
    },
    "hidden": true
   },
   "outputs": [],
   "source": [
    "dfx = dfsx.copy()"
   ]
  },
  {
   "cell_type": "code",
   "execution_count": null,
   "metadata": {
    "ExecuteTime": {
     "end_time": "2020-09-21T14:02:41.971895Z",
     "start_time": "2020-09-21T14:02:41.936922Z"
    },
    "hidden": true,
    "scrolled": true
   },
   "outputs": [],
   "source": [
    "## Filtering for relevant time period\n",
    "m1 = dfx.index[list(dfx.index).index(\"2020-4\"):list(dfx.index).index(\"2020-9\")]\n",
    "dfx = dfx.loc[m1, :]\n",
    "\n",
    "## Calculating percent change\n",
    "for col in dfx.columns:\n",
    "    dfx.loc[:, col +'_pc'] = dfx[col].diff()/dfx[col].shift()*100\n",
    "    dfx.loc[:, col +'_pc'] = dfx[col +'_pc'].fillna(0)\n",
    "    dfx.loc[:, col +'_pc'] = dfx[col +'_pc'].replace([np.inf, -np.inf], 0)\n",
    "    \n",
    "dfx"
   ]
  },
  {
   "cell_type": "markdown",
   "metadata": {
    "hidden": true
   },
   "source": [
    "---"
   ]
  },
  {
   "cell_type": "markdown",
   "metadata": {
    "heading_collapsed": true
   },
   "source": [
    "## Analysis 3\n",
    "- How have sales for each location separately behaved weekly? (merging laboratory)"
   ]
  },
  {
   "cell_type": "code",
   "execution_count": null,
   "metadata": {
    "ExecuteTime": {
     "end_time": "2020-09-21T14:03:21.412797Z",
     "start_time": "2020-09-21T14:03:21.307853Z"
    },
    "hidden": true
   },
   "outputs": [],
   "source": [
    "dfsx = data_processing_sales_A3(dfs)"
   ]
  },
  {
   "cell_type": "code",
   "execution_count": null,
   "metadata": {
    "ExecuteTime": {
     "end_time": "2020-09-21T14:03:22.018089Z",
     "start_time": "2020-09-21T14:03:21.987367Z"
    },
    "hidden": true
   },
   "outputs": [],
   "source": [
    "dfsx"
   ]
  },
  {
   "cell_type": "code",
   "execution_count": null,
   "metadata": {
    "ExecuteTime": {
     "end_time": "2020-09-21T14:03:25.872834Z",
     "start_time": "2020-09-21T14:03:25.788032Z"
    },
    "hidden": true,
    "scrolled": true
   },
   "outputs": [],
   "source": [
    "graph_sales_A3(dfsx)"
   ]
  },
  {
   "cell_type": "markdown",
   "metadata": {
    "hidden": true
   },
   "source": [
    "---"
   ]
  },
  {
   "cell_type": "markdown",
   "metadata": {
    "heading_collapsed": true
   },
   "source": [
    "## Analysis 4\n",
    "- How have sales behaved per location per business line?"
   ]
  },
  {
   "cell_type": "markdown",
   "metadata": {
    "hidden": true
   },
   "source": [
    "#### Base code"
   ]
  },
  {
   "cell_type": "code",
   "execution_count": 14,
   "metadata": {
    "ExecuteTime": {
     "end_time": "2020-09-25T15:38:55.639819Z",
     "start_time": "2020-09-25T15:38:55.530810Z"
    },
    "hidden": true
   },
   "outputs": [],
   "source": [
    "dfsx = data_processing_sales_A4(dfs)"
   ]
  },
  {
   "cell_type": "code",
   "execution_count": 15,
   "metadata": {
    "ExecuteTime": {
     "end_time": "2020-09-25T15:38:55.710235Z",
     "start_time": "2020-09-25T15:38:55.657733Z"
    },
    "hidden": true,
    "scrolled": true
   },
   "outputs": [
    {
     "data": {
      "text/html": [
       "<div>\n",
       "<style scoped>\n",
       "    .dataframe tbody tr th:only-of-type {\n",
       "        vertical-align: middle;\n",
       "    }\n",
       "\n",
       "    .dataframe tbody tr th {\n",
       "        vertical-align: top;\n",
       "    }\n",
       "\n",
       "    .dataframe thead tr th {\n",
       "        text-align: left;\n",
       "    }\n",
       "\n",
       "    .dataframe thead tr:last-of-type th {\n",
       "        text-align: right;\n",
       "    }\n",
       "</style>\n",
       "<table border=\"1\" class=\"dataframe\">\n",
       "  <thead>\n",
       "    <tr>\n",
       "      <th></th>\n",
       "      <th>Loc_Hom</th>\n",
       "      <th colspan=\"5\" halign=\"left\">BASILICA</th>\n",
       "      <th colspan=\"5\" halign=\"left\">COAPA</th>\n",
       "      <th colspan=\"5\" halign=\"left\">Location_not_found</th>\n",
       "      <th colspan=\"5\" halign=\"left\">MARINA</th>\n",
       "    </tr>\n",
       "    <tr>\n",
       "      <th></th>\n",
       "      <th>BusLine_match</th>\n",
       "      <th>CONSULTA</th>\n",
       "      <th>LABORATORIO</th>\n",
       "      <th>OTRA_LN</th>\n",
       "      <th>PROCEDIMIENTOS</th>\n",
       "      <th>ULTRASONIDO</th>\n",
       "      <th>CONSULTA</th>\n",
       "      <th>LABORATORIO</th>\n",
       "      <th>OTRA_LN</th>\n",
       "      <th>PROCEDIMIENTOS</th>\n",
       "      <th>ULTRASONIDO</th>\n",
       "      <th>CONSULTA</th>\n",
       "      <th>LABORATORIO</th>\n",
       "      <th>OTRA_LN</th>\n",
       "      <th>PROCEDIMIENTOS</th>\n",
       "      <th>ULTRASONIDO</th>\n",
       "      <th>CONSULTA</th>\n",
       "      <th>LABORATORIO</th>\n",
       "      <th>OTRA_LN</th>\n",
       "      <th>PROCEDIMIENTOS</th>\n",
       "      <th>ULTRASONIDO</th>\n",
       "    </tr>\n",
       "    <tr>\n",
       "      <th>BillDate</th>\n",
       "      <th>BillDate</th>\n",
       "      <th></th>\n",
       "      <th></th>\n",
       "      <th></th>\n",
       "      <th></th>\n",
       "      <th></th>\n",
       "      <th></th>\n",
       "      <th></th>\n",
       "      <th></th>\n",
       "      <th></th>\n",
       "      <th></th>\n",
       "      <th></th>\n",
       "      <th></th>\n",
       "      <th></th>\n",
       "      <th></th>\n",
       "      <th></th>\n",
       "      <th></th>\n",
       "      <th></th>\n",
       "      <th></th>\n",
       "      <th></th>\n",
       "      <th></th>\n",
       "    </tr>\n",
       "  </thead>\n",
       "  <tbody>\n",
       "    <tr>\n",
       "      <th rowspan=\"3\" valign=\"top\">2018</th>\n",
       "      <th>10</th>\n",
       "      <td>0.00</td>\n",
       "      <td>0.000000</td>\n",
       "      <td>0.00</td>\n",
       "      <td>0.0</td>\n",
       "      <td>0.0</td>\n",
       "      <td>0.00</td>\n",
       "      <td>0.0</td>\n",
       "      <td>0.00</td>\n",
       "      <td>0.0</td>\n",
       "      <td>0.0</td>\n",
       "      <td>0.0</td>\n",
       "      <td>0.0</td>\n",
       "      <td>0.0</td>\n",
       "      <td>0.0</td>\n",
       "      <td>0.0</td>\n",
       "      <td>50448.42</td>\n",
       "      <td>0.000000</td>\n",
       "      <td>2999.000000</td>\n",
       "      <td>8048.849968</td>\n",
       "      <td>350.524125</td>\n",
       "    </tr>\n",
       "    <tr>\n",
       "      <th>11</th>\n",
       "      <td>0.00</td>\n",
       "      <td>0.000000</td>\n",
       "      <td>0.00</td>\n",
       "      <td>0.0</td>\n",
       "      <td>0.0</td>\n",
       "      <td>0.00</td>\n",
       "      <td>0.0</td>\n",
       "      <td>0.00</td>\n",
       "      <td>0.0</td>\n",
       "      <td>0.0</td>\n",
       "      <td>0.0</td>\n",
       "      <td>0.0</td>\n",
       "      <td>0.0</td>\n",
       "      <td>0.0</td>\n",
       "      <td>0.0</td>\n",
       "      <td>162018.00</td>\n",
       "      <td>14438.926284</td>\n",
       "      <td>23342.451861</td>\n",
       "      <td>63401.707150</td>\n",
       "      <td>950.524125</td>\n",
       "    </tr>\n",
       "    <tr>\n",
       "      <th>12</th>\n",
       "      <td>0.00</td>\n",
       "      <td>0.000000</td>\n",
       "      <td>0.00</td>\n",
       "      <td>0.0</td>\n",
       "      <td>0.0</td>\n",
       "      <td>0.00</td>\n",
       "      <td>0.0</td>\n",
       "      <td>0.00</td>\n",
       "      <td>0.0</td>\n",
       "      <td>0.0</td>\n",
       "      <td>0.0</td>\n",
       "      <td>0.0</td>\n",
       "      <td>0.0</td>\n",
       "      <td>0.0</td>\n",
       "      <td>0.0</td>\n",
       "      <td>209122.50</td>\n",
       "      <td>26149.714923</td>\n",
       "      <td>29015.241250</td>\n",
       "      <td>91819.707150</td>\n",
       "      <td>9479.109762</td>\n",
       "    </tr>\n",
       "    <tr>\n",
       "      <th rowspan=\"12\" valign=\"top\">2019</th>\n",
       "      <th>1</th>\n",
       "      <td>0.00</td>\n",
       "      <td>0.000000</td>\n",
       "      <td>0.00</td>\n",
       "      <td>0.0</td>\n",
       "      <td>0.0</td>\n",
       "      <td>0.00</td>\n",
       "      <td>0.0</td>\n",
       "      <td>0.00</td>\n",
       "      <td>0.0</td>\n",
       "      <td>0.0</td>\n",
       "      <td>0.0</td>\n",
       "      <td>0.0</td>\n",
       "      <td>0.0</td>\n",
       "      <td>0.0</td>\n",
       "      <td>0.0</td>\n",
       "      <td>299390.50</td>\n",
       "      <td>36846.796285</td>\n",
       "      <td>36123.740593</td>\n",
       "      <td>123558.437270</td>\n",
       "      <td>9674.000000</td>\n",
       "    </tr>\n",
       "    <tr>\n",
       "      <th>2</th>\n",
       "      <td>0.00</td>\n",
       "      <td>0.000000</td>\n",
       "      <td>0.00</td>\n",
       "      <td>0.0</td>\n",
       "      <td>0.0</td>\n",
       "      <td>0.00</td>\n",
       "      <td>0.0</td>\n",
       "      <td>0.00</td>\n",
       "      <td>0.0</td>\n",
       "      <td>0.0</td>\n",
       "      <td>0.0</td>\n",
       "      <td>0.0</td>\n",
       "      <td>0.0</td>\n",
       "      <td>0.0</td>\n",
       "      <td>0.0</td>\n",
       "      <td>317697.05</td>\n",
       "      <td>50448.342371</td>\n",
       "      <td>31088.397096</td>\n",
       "      <td>141132.597502</td>\n",
       "      <td>22276.000000</td>\n",
       "    </tr>\n",
       "    <tr>\n",
       "      <th>3</th>\n",
       "      <td>0.00</td>\n",
       "      <td>0.000000</td>\n",
       "      <td>0.00</td>\n",
       "      <td>0.0</td>\n",
       "      <td>0.0</td>\n",
       "      <td>0.00</td>\n",
       "      <td>0.0</td>\n",
       "      <td>0.00</td>\n",
       "      <td>0.0</td>\n",
       "      <td>0.0</td>\n",
       "      <td>0.0</td>\n",
       "      <td>0.0</td>\n",
       "      <td>0.0</td>\n",
       "      <td>0.0</td>\n",
       "      <td>0.0</td>\n",
       "      <td>401662.30</td>\n",
       "      <td>49644.405320</td>\n",
       "      <td>38455.208128</td>\n",
       "      <td>184249.597502</td>\n",
       "      <td>10270.000000</td>\n",
       "    </tr>\n",
       "    <tr>\n",
       "      <th>4</th>\n",
       "      <td>0.00</td>\n",
       "      <td>0.000000</td>\n",
       "      <td>0.00</td>\n",
       "      <td>0.0</td>\n",
       "      <td>0.0</td>\n",
       "      <td>0.00</td>\n",
       "      <td>0.0</td>\n",
       "      <td>0.00</td>\n",
       "      <td>0.0</td>\n",
       "      <td>0.0</td>\n",
       "      <td>0.0</td>\n",
       "      <td>0.0</td>\n",
       "      <td>0.0</td>\n",
       "      <td>0.0</td>\n",
       "      <td>0.0</td>\n",
       "      <td>393169.70</td>\n",
       "      <td>40566.696232</td>\n",
       "      <td>20146.523000</td>\n",
       "      <td>200594.458032</td>\n",
       "      <td>10002.500000</td>\n",
       "    </tr>\n",
       "    <tr>\n",
       "      <th>5</th>\n",
       "      <td>0.00</td>\n",
       "      <td>0.000000</td>\n",
       "      <td>0.00</td>\n",
       "      <td>0.0</td>\n",
       "      <td>0.0</td>\n",
       "      <td>0.00</td>\n",
       "      <td>0.0</td>\n",
       "      <td>0.00</td>\n",
       "      <td>0.0</td>\n",
       "      <td>0.0</td>\n",
       "      <td>0.0</td>\n",
       "      <td>0.0</td>\n",
       "      <td>0.0</td>\n",
       "      <td>0.0</td>\n",
       "      <td>0.0</td>\n",
       "      <td>423148.15</td>\n",
       "      <td>46921.089888</td>\n",
       "      <td>39632.585256</td>\n",
       "      <td>232220.437270</td>\n",
       "      <td>8020.000000</td>\n",
       "    </tr>\n",
       "    <tr>\n",
       "      <th>6</th>\n",
       "      <td>0.00</td>\n",
       "      <td>0.000000</td>\n",
       "      <td>0.00</td>\n",
       "      <td>0.0</td>\n",
       "      <td>0.0</td>\n",
       "      <td>0.00</td>\n",
       "      <td>0.0</td>\n",
       "      <td>0.00</td>\n",
       "      <td>0.0</td>\n",
       "      <td>0.0</td>\n",
       "      <td>0.0</td>\n",
       "      <td>0.0</td>\n",
       "      <td>0.0</td>\n",
       "      <td>0.0</td>\n",
       "      <td>0.0</td>\n",
       "      <td>431737.60</td>\n",
       "      <td>49276.469253</td>\n",
       "      <td>38511.296566</td>\n",
       "      <td>197101.500000</td>\n",
       "      <td>17820.000000</td>\n",
       "    </tr>\n",
       "    <tr>\n",
       "      <th>7</th>\n",
       "      <td>271028.00</td>\n",
       "      <td>48117.704238</td>\n",
       "      <td>4594.24</td>\n",
       "      <td>74027.5</td>\n",
       "      <td>26036.0</td>\n",
       "      <td>0.00</td>\n",
       "      <td>0.0</td>\n",
       "      <td>0.00</td>\n",
       "      <td>0.0</td>\n",
       "      <td>0.0</td>\n",
       "      <td>0.0</td>\n",
       "      <td>0.0</td>\n",
       "      <td>0.0</td>\n",
       "      <td>0.0</td>\n",
       "      <td>0.0</td>\n",
       "      <td>437364.70</td>\n",
       "      <td>74159.154436</td>\n",
       "      <td>51120.806024</td>\n",
       "      <td>195306.000000</td>\n",
       "      <td>17934.000000</td>\n",
       "    </tr>\n",
       "    <tr>\n",
       "      <th>8</th>\n",
       "      <td>358052.40</td>\n",
       "      <td>71704.500000</td>\n",
       "      <td>7155.20</td>\n",
       "      <td>100402.0</td>\n",
       "      <td>30290.0</td>\n",
       "      <td>0.00</td>\n",
       "      <td>0.0</td>\n",
       "      <td>0.00</td>\n",
       "      <td>0.0</td>\n",
       "      <td>0.0</td>\n",
       "      <td>0.0</td>\n",
       "      <td>0.0</td>\n",
       "      <td>0.0</td>\n",
       "      <td>0.0</td>\n",
       "      <td>0.0</td>\n",
       "      <td>416642.60</td>\n",
       "      <td>66921.350000</td>\n",
       "      <td>72712.250000</td>\n",
       "      <td>212191.000000</td>\n",
       "      <td>24934.000000</td>\n",
       "    </tr>\n",
       "    <tr>\n",
       "      <th>9</th>\n",
       "      <td>365219.10</td>\n",
       "      <td>59119.600000</td>\n",
       "      <td>8374.00</td>\n",
       "      <td>93810.8</td>\n",
       "      <td>25409.0</td>\n",
       "      <td>0.00</td>\n",
       "      <td>0.0</td>\n",
       "      <td>0.00</td>\n",
       "      <td>0.0</td>\n",
       "      <td>0.0</td>\n",
       "      <td>0.0</td>\n",
       "      <td>0.0</td>\n",
       "      <td>0.0</td>\n",
       "      <td>0.0</td>\n",
       "      <td>0.0</td>\n",
       "      <td>418225.70</td>\n",
       "      <td>82508.850000</td>\n",
       "      <td>48476.400000</td>\n",
       "      <td>174070.000000</td>\n",
       "      <td>36544.000000</td>\n",
       "    </tr>\n",
       "    <tr>\n",
       "      <th>10</th>\n",
       "      <td>424633.10</td>\n",
       "      <td>78549.000000</td>\n",
       "      <td>20987.50</td>\n",
       "      <td>145752.0</td>\n",
       "      <td>52350.0</td>\n",
       "      <td>0.00</td>\n",
       "      <td>0.0</td>\n",
       "      <td>0.00</td>\n",
       "      <td>0.0</td>\n",
       "      <td>0.0</td>\n",
       "      <td>0.0</td>\n",
       "      <td>0.0</td>\n",
       "      <td>0.0</td>\n",
       "      <td>0.0</td>\n",
       "      <td>0.0</td>\n",
       "      <td>452431.80</td>\n",
       "      <td>76246.200000</td>\n",
       "      <td>38609.200000</td>\n",
       "      <td>224902.000000</td>\n",
       "      <td>46427.200000</td>\n",
       "    </tr>\n",
       "    <tr>\n",
       "      <th>11</th>\n",
       "      <td>399040.10</td>\n",
       "      <td>89056.100000</td>\n",
       "      <td>27293.00</td>\n",
       "      <td>137937.0</td>\n",
       "      <td>45240.0</td>\n",
       "      <td>0.00</td>\n",
       "      <td>0.0</td>\n",
       "      <td>0.00</td>\n",
       "      <td>0.0</td>\n",
       "      <td>0.0</td>\n",
       "      <td>0.0</td>\n",
       "      <td>0.0</td>\n",
       "      <td>0.0</td>\n",
       "      <td>0.0</td>\n",
       "      <td>0.0</td>\n",
       "      <td>420726.80</td>\n",
       "      <td>77660.000000</td>\n",
       "      <td>44054.600000</td>\n",
       "      <td>229907.000000</td>\n",
       "      <td>32168.000000</td>\n",
       "    </tr>\n",
       "    <tr>\n",
       "      <th>12</th>\n",
       "      <td>308639.30</td>\n",
       "      <td>77610.750000</td>\n",
       "      <td>20302.00</td>\n",
       "      <td>130046.0</td>\n",
       "      <td>27540.0</td>\n",
       "      <td>0.00</td>\n",
       "      <td>0.0</td>\n",
       "      <td>0.00</td>\n",
       "      <td>0.0</td>\n",
       "      <td>0.0</td>\n",
       "      <td>0.0</td>\n",
       "      <td>0.0</td>\n",
       "      <td>0.0</td>\n",
       "      <td>0.0</td>\n",
       "      <td>0.0</td>\n",
       "      <td>360259.50</td>\n",
       "      <td>53269.000000</td>\n",
       "      <td>23470.300000</td>\n",
       "      <td>230360.900000</td>\n",
       "      <td>31868.600000</td>\n",
       "    </tr>\n",
       "    <tr>\n",
       "      <th rowspan=\"9\" valign=\"top\">2020</th>\n",
       "      <th>1</th>\n",
       "      <td>408475.50</td>\n",
       "      <td>97059.500000</td>\n",
       "      <td>24024.80</td>\n",
       "      <td>149716.0</td>\n",
       "      <td>43420.0</td>\n",
       "      <td>0.00</td>\n",
       "      <td>0.0</td>\n",
       "      <td>0.00</td>\n",
       "      <td>0.0</td>\n",
       "      <td>0.0</td>\n",
       "      <td>0.0</td>\n",
       "      <td>0.0</td>\n",
       "      <td>0.0</td>\n",
       "      <td>0.0</td>\n",
       "      <td>0.0</td>\n",
       "      <td>412932.80</td>\n",
       "      <td>64416.600000</td>\n",
       "      <td>31795.800000</td>\n",
       "      <td>238024.500000</td>\n",
       "      <td>50583.000000</td>\n",
       "    </tr>\n",
       "    <tr>\n",
       "      <th>2</th>\n",
       "      <td>346435.50</td>\n",
       "      <td>80037.500000</td>\n",
       "      <td>19974.80</td>\n",
       "      <td>156129.0</td>\n",
       "      <td>42550.0</td>\n",
       "      <td>62954.50</td>\n",
       "      <td>10675.1</td>\n",
       "      <td>4264.00</td>\n",
       "      <td>11466.0</td>\n",
       "      <td>0.0</td>\n",
       "      <td>0.0</td>\n",
       "      <td>0.0</td>\n",
       "      <td>0.0</td>\n",
       "      <td>0.0</td>\n",
       "      <td>0.0</td>\n",
       "      <td>379336.00</td>\n",
       "      <td>65435.200000</td>\n",
       "      <td>27275.400000</td>\n",
       "      <td>288288.500000</td>\n",
       "      <td>42193.000000</td>\n",
       "    </tr>\n",
       "    <tr>\n",
       "      <th>3</th>\n",
       "      <td>389100.00</td>\n",
       "      <td>83406.000000</td>\n",
       "      <td>7914.00</td>\n",
       "      <td>186158.0</td>\n",
       "      <td>52297.0</td>\n",
       "      <td>331128.50</td>\n",
       "      <td>43916.4</td>\n",
       "      <td>12391.60</td>\n",
       "      <td>113847.5</td>\n",
       "      <td>300.0</td>\n",
       "      <td>0.0</td>\n",
       "      <td>0.0</td>\n",
       "      <td>0.0</td>\n",
       "      <td>0.0</td>\n",
       "      <td>0.0</td>\n",
       "      <td>407738.45</td>\n",
       "      <td>110421.000000</td>\n",
       "      <td>30977.900000</td>\n",
       "      <td>270556.000000</td>\n",
       "      <td>50336.100000</td>\n",
       "    </tr>\n",
       "    <tr>\n",
       "      <th>4</th>\n",
       "      <td>343473.00</td>\n",
       "      <td>92343.300000</td>\n",
       "      <td>8726.00</td>\n",
       "      <td>198545.0</td>\n",
       "      <td>46270.0</td>\n",
       "      <td>333474.70</td>\n",
       "      <td>38253.6</td>\n",
       "      <td>8789.25</td>\n",
       "      <td>114576.5</td>\n",
       "      <td>8690.0</td>\n",
       "      <td>0.0</td>\n",
       "      <td>0.0</td>\n",
       "      <td>0.0</td>\n",
       "      <td>0.0</td>\n",
       "      <td>0.0</td>\n",
       "      <td>319688.60</td>\n",
       "      <td>101881.200000</td>\n",
       "      <td>25595.000000</td>\n",
       "      <td>244008.000000</td>\n",
       "      <td>35555.000000</td>\n",
       "    </tr>\n",
       "    <tr>\n",
       "      <th>5</th>\n",
       "      <td>370085.75</td>\n",
       "      <td>98982.500000</td>\n",
       "      <td>9300.00</td>\n",
       "      <td>157499.0</td>\n",
       "      <td>41682.5</td>\n",
       "      <td>392202.00</td>\n",
       "      <td>57591.0</td>\n",
       "      <td>7037.00</td>\n",
       "      <td>140872.0</td>\n",
       "      <td>16380.0</td>\n",
       "      <td>0.0</td>\n",
       "      <td>0.0</td>\n",
       "      <td>0.0</td>\n",
       "      <td>0.0</td>\n",
       "      <td>0.0</td>\n",
       "      <td>367915.10</td>\n",
       "      <td>91063.600000</td>\n",
       "      <td>10417.000000</td>\n",
       "      <td>318819.000000</td>\n",
       "      <td>52915.000000</td>\n",
       "    </tr>\n",
       "    <tr>\n",
       "      <th>6</th>\n",
       "      <td>418681.60</td>\n",
       "      <td>140393.000000</td>\n",
       "      <td>25644.50</td>\n",
       "      <td>208492.0</td>\n",
       "      <td>43084.0</td>\n",
       "      <td>514831.95</td>\n",
       "      <td>114765.5</td>\n",
       "      <td>21344.00</td>\n",
       "      <td>177293.5</td>\n",
       "      <td>21065.0</td>\n",
       "      <td>0.0</td>\n",
       "      <td>0.0</td>\n",
       "      <td>0.0</td>\n",
       "      <td>0.0</td>\n",
       "      <td>0.0</td>\n",
       "      <td>446457.30</td>\n",
       "      <td>179354.600000</td>\n",
       "      <td>23092.000000</td>\n",
       "      <td>350051.000000</td>\n",
       "      <td>51151.000000</td>\n",
       "    </tr>\n",
       "    <tr>\n",
       "      <th>7</th>\n",
       "      <td>525151.80</td>\n",
       "      <td>206084.500000</td>\n",
       "      <td>18471.50</td>\n",
       "      <td>274991.0</td>\n",
       "      <td>48288.0</td>\n",
       "      <td>674896.45</td>\n",
       "      <td>146176.5</td>\n",
       "      <td>11645.50</td>\n",
       "      <td>229181.0</td>\n",
       "      <td>31010.0</td>\n",
       "      <td>0.0</td>\n",
       "      <td>0.0</td>\n",
       "      <td>0.0</td>\n",
       "      <td>0.0</td>\n",
       "      <td>0.0</td>\n",
       "      <td>516012.60</td>\n",
       "      <td>237457.700000</td>\n",
       "      <td>15729.100000</td>\n",
       "      <td>372059.000000</td>\n",
       "      <td>62480.100000</td>\n",
       "    </tr>\n",
       "    <tr>\n",
       "      <th>8</th>\n",
       "      <td>547798.30</td>\n",
       "      <td>212666.500000</td>\n",
       "      <td>13649.50</td>\n",
       "      <td>201954.0</td>\n",
       "      <td>49820.0</td>\n",
       "      <td>727719.25</td>\n",
       "      <td>165107.0</td>\n",
       "      <td>24363.00</td>\n",
       "      <td>198708.0</td>\n",
       "      <td>32096.0</td>\n",
       "      <td>0.0</td>\n",
       "      <td>0.0</td>\n",
       "      <td>0.0</td>\n",
       "      <td>0.0</td>\n",
       "      <td>0.0</td>\n",
       "      <td>540464.90</td>\n",
       "      <td>218271.500000</td>\n",
       "      <td>12585.000000</td>\n",
       "      <td>246014.000000</td>\n",
       "      <td>62155.000000</td>\n",
       "    </tr>\n",
       "    <tr>\n",
       "      <th>9</th>\n",
       "      <td>342836.60</td>\n",
       "      <td>138912.000000</td>\n",
       "      <td>10964.00</td>\n",
       "      <td>146250.0</td>\n",
       "      <td>39970.0</td>\n",
       "      <td>538814.25</td>\n",
       "      <td>121662.5</td>\n",
       "      <td>20947.00</td>\n",
       "      <td>134671.0</td>\n",
       "      <td>32641.0</td>\n",
       "      <td>7581.0</td>\n",
       "      <td>1144.0</td>\n",
       "      <td>0.0</td>\n",
       "      <td>150.0</td>\n",
       "      <td>0.0</td>\n",
       "      <td>349814.60</td>\n",
       "      <td>127466.600000</td>\n",
       "      <td>8458.000000</td>\n",
       "      <td>180108.000000</td>\n",
       "      <td>32451.000000</td>\n",
       "    </tr>\n",
       "  </tbody>\n",
       "</table>\n",
       "</div>"
      ],
      "text/plain": [
       "Loc_Hom             BASILICA                                          \\\n",
       "BusLine_match       CONSULTA    LABORATORIO   OTRA_LN PROCEDIMIENTOS   \n",
       "BillDate BillDate                                                      \n",
       "2018     10             0.00       0.000000      0.00            0.0   \n",
       "         11             0.00       0.000000      0.00            0.0   \n",
       "         12             0.00       0.000000      0.00            0.0   \n",
       "2019     1              0.00       0.000000      0.00            0.0   \n",
       "         2              0.00       0.000000      0.00            0.0   \n",
       "         3              0.00       0.000000      0.00            0.0   \n",
       "         4              0.00       0.000000      0.00            0.0   \n",
       "         5              0.00       0.000000      0.00            0.0   \n",
       "         6              0.00       0.000000      0.00            0.0   \n",
       "         7         271028.00   48117.704238   4594.24        74027.5   \n",
       "         8         358052.40   71704.500000   7155.20       100402.0   \n",
       "         9         365219.10   59119.600000   8374.00        93810.8   \n",
       "         10        424633.10   78549.000000  20987.50       145752.0   \n",
       "         11        399040.10   89056.100000  27293.00       137937.0   \n",
       "         12        308639.30   77610.750000  20302.00       130046.0   \n",
       "2020     1         408475.50   97059.500000  24024.80       149716.0   \n",
       "         2         346435.50   80037.500000  19974.80       156129.0   \n",
       "         3         389100.00   83406.000000   7914.00       186158.0   \n",
       "         4         343473.00   92343.300000   8726.00       198545.0   \n",
       "         5         370085.75   98982.500000   9300.00       157499.0   \n",
       "         6         418681.60  140393.000000  25644.50       208492.0   \n",
       "         7         525151.80  206084.500000  18471.50       274991.0   \n",
       "         8         547798.30  212666.500000  13649.50       201954.0   \n",
       "         9         342836.60  138912.000000  10964.00       146250.0   \n",
       "\n",
       "Loc_Hom                            COAPA                                       \\\n",
       "BusLine_match     ULTRASONIDO   CONSULTA LABORATORIO   OTRA_LN PROCEDIMIENTOS   \n",
       "BillDate BillDate                                                               \n",
       "2018     10               0.0       0.00         0.0      0.00            0.0   \n",
       "         11               0.0       0.00         0.0      0.00            0.0   \n",
       "         12               0.0       0.00         0.0      0.00            0.0   \n",
       "2019     1                0.0       0.00         0.0      0.00            0.0   \n",
       "         2                0.0       0.00         0.0      0.00            0.0   \n",
       "         3                0.0       0.00         0.0      0.00            0.0   \n",
       "         4                0.0       0.00         0.0      0.00            0.0   \n",
       "         5                0.0       0.00         0.0      0.00            0.0   \n",
       "         6                0.0       0.00         0.0      0.00            0.0   \n",
       "         7            26036.0       0.00         0.0      0.00            0.0   \n",
       "         8            30290.0       0.00         0.0      0.00            0.0   \n",
       "         9            25409.0       0.00         0.0      0.00            0.0   \n",
       "         10           52350.0       0.00         0.0      0.00            0.0   \n",
       "         11           45240.0       0.00         0.0      0.00            0.0   \n",
       "         12           27540.0       0.00         0.0      0.00            0.0   \n",
       "2020     1            43420.0       0.00         0.0      0.00            0.0   \n",
       "         2            42550.0   62954.50     10675.1   4264.00        11466.0   \n",
       "         3            52297.0  331128.50     43916.4  12391.60       113847.5   \n",
       "         4            46270.0  333474.70     38253.6   8789.25       114576.5   \n",
       "         5            41682.5  392202.00     57591.0   7037.00       140872.0   \n",
       "         6            43084.0  514831.95    114765.5  21344.00       177293.5   \n",
       "         7            48288.0  674896.45    146176.5  11645.50       229181.0   \n",
       "         8            49820.0  727719.25    165107.0  24363.00       198708.0   \n",
       "         9            39970.0  538814.25    121662.5  20947.00       134671.0   \n",
       "\n",
       "Loc_Hom                       Location_not_found                      \\\n",
       "BusLine_match     ULTRASONIDO           CONSULTA LABORATORIO OTRA_LN   \n",
       "BillDate BillDate                                                      \n",
       "2018     10               0.0                0.0         0.0     0.0   \n",
       "         11               0.0                0.0         0.0     0.0   \n",
       "         12               0.0                0.0         0.0     0.0   \n",
       "2019     1                0.0                0.0         0.0     0.0   \n",
       "         2                0.0                0.0         0.0     0.0   \n",
       "         3                0.0                0.0         0.0     0.0   \n",
       "         4                0.0                0.0         0.0     0.0   \n",
       "         5                0.0                0.0         0.0     0.0   \n",
       "         6                0.0                0.0         0.0     0.0   \n",
       "         7                0.0                0.0         0.0     0.0   \n",
       "         8                0.0                0.0         0.0     0.0   \n",
       "         9                0.0                0.0         0.0     0.0   \n",
       "         10               0.0                0.0         0.0     0.0   \n",
       "         11               0.0                0.0         0.0     0.0   \n",
       "         12               0.0                0.0         0.0     0.0   \n",
       "2020     1                0.0                0.0         0.0     0.0   \n",
       "         2                0.0                0.0         0.0     0.0   \n",
       "         3              300.0                0.0         0.0     0.0   \n",
       "         4             8690.0                0.0         0.0     0.0   \n",
       "         5            16380.0                0.0         0.0     0.0   \n",
       "         6            21065.0                0.0         0.0     0.0   \n",
       "         7            31010.0                0.0         0.0     0.0   \n",
       "         8            32096.0                0.0         0.0     0.0   \n",
       "         9            32641.0             7581.0      1144.0     0.0   \n",
       "\n",
       "Loc_Hom                                          MARINA                 \\\n",
       "BusLine_match     PROCEDIMIENTOS ULTRASONIDO   CONSULTA    LABORATORIO   \n",
       "BillDate BillDate                                                        \n",
       "2018     10                  0.0         0.0   50448.42       0.000000   \n",
       "         11                  0.0         0.0  162018.00   14438.926284   \n",
       "         12                  0.0         0.0  209122.50   26149.714923   \n",
       "2019     1                   0.0         0.0  299390.50   36846.796285   \n",
       "         2                   0.0         0.0  317697.05   50448.342371   \n",
       "         3                   0.0         0.0  401662.30   49644.405320   \n",
       "         4                   0.0         0.0  393169.70   40566.696232   \n",
       "         5                   0.0         0.0  423148.15   46921.089888   \n",
       "         6                   0.0         0.0  431737.60   49276.469253   \n",
       "         7                   0.0         0.0  437364.70   74159.154436   \n",
       "         8                   0.0         0.0  416642.60   66921.350000   \n",
       "         9                   0.0         0.0  418225.70   82508.850000   \n",
       "         10                  0.0         0.0  452431.80   76246.200000   \n",
       "         11                  0.0         0.0  420726.80   77660.000000   \n",
       "         12                  0.0         0.0  360259.50   53269.000000   \n",
       "2020     1                   0.0         0.0  412932.80   64416.600000   \n",
       "         2                   0.0         0.0  379336.00   65435.200000   \n",
       "         3                   0.0         0.0  407738.45  110421.000000   \n",
       "         4                   0.0         0.0  319688.60  101881.200000   \n",
       "         5                   0.0         0.0  367915.10   91063.600000   \n",
       "         6                   0.0         0.0  446457.30  179354.600000   \n",
       "         7                   0.0         0.0  516012.60  237457.700000   \n",
       "         8                   0.0         0.0  540464.90  218271.500000   \n",
       "         9                 150.0         0.0  349814.60  127466.600000   \n",
       "\n",
       "Loc_Hom                                                       \n",
       "BusLine_match           OTRA_LN PROCEDIMIENTOS   ULTRASONIDO  \n",
       "BillDate BillDate                                             \n",
       "2018     10         2999.000000    8048.849968    350.524125  \n",
       "         11        23342.451861   63401.707150    950.524125  \n",
       "         12        29015.241250   91819.707150   9479.109762  \n",
       "2019     1         36123.740593  123558.437270   9674.000000  \n",
       "         2         31088.397096  141132.597502  22276.000000  \n",
       "         3         38455.208128  184249.597502  10270.000000  \n",
       "         4         20146.523000  200594.458032  10002.500000  \n",
       "         5         39632.585256  232220.437270   8020.000000  \n",
       "         6         38511.296566  197101.500000  17820.000000  \n",
       "         7         51120.806024  195306.000000  17934.000000  \n",
       "         8         72712.250000  212191.000000  24934.000000  \n",
       "         9         48476.400000  174070.000000  36544.000000  \n",
       "         10        38609.200000  224902.000000  46427.200000  \n",
       "         11        44054.600000  229907.000000  32168.000000  \n",
       "         12        23470.300000  230360.900000  31868.600000  \n",
       "2020     1         31795.800000  238024.500000  50583.000000  \n",
       "         2         27275.400000  288288.500000  42193.000000  \n",
       "         3         30977.900000  270556.000000  50336.100000  \n",
       "         4         25595.000000  244008.000000  35555.000000  \n",
       "         5         10417.000000  318819.000000  52915.000000  \n",
       "         6         23092.000000  350051.000000  51151.000000  \n",
       "         7         15729.100000  372059.000000  62480.100000  \n",
       "         8         12585.000000  246014.000000  62155.000000  \n",
       "         9          8458.000000  180108.000000  32451.000000  "
      ]
     },
     "execution_count": 15,
     "metadata": {},
     "output_type": "execute_result"
    }
   ],
   "source": [
    "dfsx"
   ]
  },
  {
   "cell_type": "markdown",
   "metadata": {
    "hidden": true
   },
   "source": [
    "#### Further analysis"
   ]
  },
  {
   "cell_type": "code",
   "execution_count": 58,
   "metadata": {
    "ExecuteTime": {
     "end_time": "2020-09-25T16:10:58.555495Z",
     "start_time": "2020-09-25T16:10:58.534692Z"
    },
    "hidden": true
   },
   "outputs": [],
   "source": [
    "dfx = dfsx.copy()"
   ]
  },
  {
   "cell_type": "code",
   "execution_count": 59,
   "metadata": {
    "ExecuteTime": {
     "end_time": "2020-09-25T16:10:58.575552Z",
     "start_time": "2020-09-25T16:10:58.557712Z"
    },
    "hidden": true
   },
   "outputs": [],
   "source": [
    "set_loc = \"MARINA\""
   ]
  },
  {
   "cell_type": "raw",
   "metadata": {
    "ExecuteTime": {
     "end_time": "2020-09-25T15:38:59.047299Z",
     "start_time": "2020-09-25T15:38:58.994519Z"
    },
    "hidden": true,
    "scrolled": false
   },
   "source": [
    "dfx"
   ]
  },
  {
   "cell_type": "code",
   "execution_count": 60,
   "metadata": {
    "ExecuteTime": {
     "end_time": "2020-09-25T16:10:58.619425Z",
     "start_time": "2020-09-25T16:10:58.577612Z"
    },
    "hidden": true
   },
   "outputs": [],
   "source": [
    "## Selecting row and columns related with the location and period of interest\n",
    "mr1 = dfx.index.get_level_values(0) == 2020\n",
    "mr2 = (dfx.index.get_level_values(1) >= 4) & (dfx.index.get_level_values(1) <= 8)\n",
    "mc1 = dfx.columns.get_level_values(0) == set_loc\n",
    "\n",
    "dfx = dfx.loc[(mr1 & mr2), mc1]\n",
    "\n",
    "\n",
    "## Some quick cleanup\n",
    "#### Removing multi columns names\n",
    "dfx.columns = dfx.columns.droplevel()\n",
    "#### Calculating the participation of each business line in total income\n",
    "dfx[\"Month_total\"] = dfx.sum(axis=1)\n",
    "for col in [col for col in dfx.columns if \"total\" not in col]:\n",
    "    dfx.loc[:, col + \"_part\"] = dfx[col]/dfx[\"Month_total\"]*100\n",
    "dfx.drop([\"Month_total\"], axis=1, inplace=True)\n",
    "\n",
    "#### Converting multi-index to single-index\n",
    "dfx[\"Date\"] = dfx.index.get_level_values(0).astype(\"str\") + \"-\" + dfx.index.get_level_values(1).astype(\"str\")\n",
    "dfx.set_index(\"Date\", inplace=True, drop=True)\n",
    "\n",
    "\n",
    "## Adding metrics related with the percent change per business line\n",
    "for col in [col for col in dfx.columns if \"_part\" not in col]:\n",
    "    dfx.loc[:, col + \"_pc\"] = dfx[col].diff()/dfx[col].shift()\n",
    "    dfx.loc[:, col +'_pc'] = dfx[col +'_pc'].fillna(0)\n",
    "    dfx.loc[:, col +'_pc'] = dfx[col +'_pc'].replace([np.inf, -np.inf], 0)"
   ]
  },
  {
   "cell_type": "raw",
   "metadata": {
    "ExecuteTime": {
     "end_time": "2020-09-25T15:39:01.089290Z",
     "start_time": "2020-09-25T15:39:01.054338Z"
    },
    "hidden": true
   },
   "source": [
    "dfx"
   ]
  },
  {
   "cell_type": "code",
   "execution_count": 61,
   "metadata": {
    "ExecuteTime": {
     "end_time": "2020-09-25T16:10:58.637991Z",
     "start_time": "2020-09-25T16:10:58.621322Z"
    },
    "hidden": true
   },
   "outputs": [],
   "source": [
    "## Filtering results for display\n",
    "col_filter = \"_pc\""
   ]
  },
  {
   "cell_type": "code",
   "execution_count": 62,
   "metadata": {
    "ExecuteTime": {
     "end_time": "2020-09-25T16:10:58.664014Z",
     "start_time": "2020-09-25T16:10:58.640040Z"
    },
    "hidden": true
   },
   "outputs": [
    {
     "data": {
      "text/html": [
       "<div>\n",
       "<style scoped>\n",
       "    .dataframe tbody tr th:only-of-type {\n",
       "        vertical-align: middle;\n",
       "    }\n",
       "\n",
       "    .dataframe tbody tr th {\n",
       "        vertical-align: top;\n",
       "    }\n",
       "\n",
       "    .dataframe thead th {\n",
       "        text-align: right;\n",
       "    }\n",
       "</style>\n",
       "<table border=\"1\" class=\"dataframe\">\n",
       "  <thead>\n",
       "    <tr style=\"text-align: right;\">\n",
       "      <th>BusLine_match</th>\n",
       "      <th>CONSULTA_pc</th>\n",
       "      <th>LABORATORIO_pc</th>\n",
       "      <th>OTRA_LN_pc</th>\n",
       "      <th>PROCEDIMIENTOS_pc</th>\n",
       "      <th>ULTRASONIDO_pc</th>\n",
       "    </tr>\n",
       "    <tr>\n",
       "      <th>Date</th>\n",
       "      <th></th>\n",
       "      <th></th>\n",
       "      <th></th>\n",
       "      <th></th>\n",
       "      <th></th>\n",
       "    </tr>\n",
       "  </thead>\n",
       "  <tbody>\n",
       "    <tr>\n",
       "      <th>2020-4</th>\n",
       "      <td>0.000000</td>\n",
       "      <td>0.000000</td>\n",
       "      <td>0.000000</td>\n",
       "      <td>0.000000</td>\n",
       "      <td>0.000000</td>\n",
       "    </tr>\n",
       "    <tr>\n",
       "      <th>2020-5</th>\n",
       "      <td>0.150855</td>\n",
       "      <td>-0.106179</td>\n",
       "      <td>-0.593006</td>\n",
       "      <td>0.306592</td>\n",
       "      <td>0.488258</td>\n",
       "    </tr>\n",
       "    <tr>\n",
       "      <th>2020-6</th>\n",
       "      <td>0.213479</td>\n",
       "      <td>0.969553</td>\n",
       "      <td>1.216761</td>\n",
       "      <td>0.097962</td>\n",
       "      <td>-0.033336</td>\n",
       "    </tr>\n",
       "    <tr>\n",
       "      <th>2020-7</th>\n",
       "      <td>0.155794</td>\n",
       "      <td>0.323957</td>\n",
       "      <td>-0.318851</td>\n",
       "      <td>0.062871</td>\n",
       "      <td>0.221483</td>\n",
       "    </tr>\n",
       "    <tr>\n",
       "      <th>2020-8</th>\n",
       "      <td>0.047387</td>\n",
       "      <td>-0.080798</td>\n",
       "      <td>-0.199891</td>\n",
       "      <td>-0.338777</td>\n",
       "      <td>-0.005203</td>\n",
       "    </tr>\n",
       "  </tbody>\n",
       "</table>\n",
       "</div>"
      ],
      "text/plain": [
       "BusLine_match  CONSULTA_pc  LABORATORIO_pc  OTRA_LN_pc  PROCEDIMIENTOS_pc  \\\n",
       "Date                                                                        \n",
       "2020-4            0.000000        0.000000    0.000000           0.000000   \n",
       "2020-5            0.150855       -0.106179   -0.593006           0.306592   \n",
       "2020-6            0.213479        0.969553    1.216761           0.097962   \n",
       "2020-7            0.155794        0.323957   -0.318851           0.062871   \n",
       "2020-8            0.047387       -0.080798   -0.199891          -0.338777   \n",
       "\n",
       "BusLine_match  ULTRASONIDO_pc  \n",
       "Date                           \n",
       "2020-4               0.000000  \n",
       "2020-5               0.488258  \n",
       "2020-6              -0.033336  \n",
       "2020-7               0.221483  \n",
       "2020-8              -0.005203  "
      ]
     },
     "execution_count": 62,
     "metadata": {},
     "output_type": "execute_result"
    }
   ],
   "source": [
    "dfx.loc[:, [col for col in dfx.columns if col_filter in col]]"
   ]
  },
  {
   "cell_type": "code",
   "execution_count": 63,
   "metadata": {
    "ExecuteTime": {
     "end_time": "2020-09-25T16:10:58.699899Z",
     "start_time": "2020-09-25T16:10:58.665837Z"
    },
    "hidden": true,
    "scrolled": true
   },
   "outputs": [
    {
     "data": {
      "application/vnd.plotly.v1+json": {
       "config": {
        "plotlyServerURL": "https://plot.ly"
       },
       "data": [
        {
         "name": "CONSULTA",
         "text": [
          319688.5999999999,
          367915.09999999986,
          446457.29999999993,
          516012.5999999999,
          540464.9
         ],
         "textposition": "inside",
         "texttemplate": "$%{value:.2s}",
         "type": "bar",
         "x": [
          "2020-4",
          "2020-5",
          "2020-6",
          "2020-7",
          "2020-8"
         ],
         "y": [
          319688.5999999999,
          367915.09999999986,
          446457.29999999993,
          516012.5999999999,
          540464.9
         ]
        },
        {
         "name": "LABORATORIO",
         "text": [
          101881.20000000001,
          91063.59999999999,
          179354.6,
          237457.7,
          218271.5
         ],
         "textposition": "inside",
         "texttemplate": "$%{value:.2s}",
         "type": "bar",
         "x": [
          "2020-4",
          "2020-5",
          "2020-6",
          "2020-7",
          "2020-8"
         ],
         "y": [
          101881.20000000001,
          91063.59999999999,
          179354.6,
          237457.7,
          218271.5
         ]
        },
        {
         "name": "OTRA_LN",
         "text": [
          25595,
          10417,
          23092,
          15729.1,
          12585
         ],
         "textposition": "inside",
         "texttemplate": "$%{value:.2s}",
         "type": "bar",
         "x": [
          "2020-4",
          "2020-5",
          "2020-6",
          "2020-7",
          "2020-8"
         ],
         "y": [
          25595,
          10417,
          23092,
          15729.1,
          12585
         ]
        },
        {
         "name": "PROCEDIMIENTOS",
         "text": [
          244008,
          318819,
          350051,
          372059,
          246014
         ],
         "textposition": "inside",
         "texttemplate": "$%{value:.2s}",
         "type": "bar",
         "x": [
          "2020-4",
          "2020-5",
          "2020-6",
          "2020-7",
          "2020-8"
         ],
         "y": [
          244008,
          318819,
          350051,
          372059,
          246014
         ]
        },
        {
         "name": "ULTRASONIDO",
         "text": [
          35555,
          52915,
          51151,
          62480.1,
          62155
         ],
         "textposition": "inside",
         "texttemplate": "$%{value:.2s}",
         "type": "bar",
         "x": [
          "2020-4",
          "2020-5",
          "2020-6",
          "2020-7",
          "2020-8"
         ],
         "y": [
          35555,
          52915,
          51151,
          62480.1,
          62155
         ]
        }
       ],
       "layout": {
        "autosize": false,
        "height": 750,
        "template": {
         "data": {
          "bar": [
           {
            "error_x": {
             "color": "#2a3f5f"
            },
            "error_y": {
             "color": "#2a3f5f"
            },
            "marker": {
             "line": {
              "color": "#E5ECF6",
              "width": 0.5
             }
            },
            "type": "bar"
           }
          ],
          "barpolar": [
           {
            "marker": {
             "line": {
              "color": "#E5ECF6",
              "width": 0.5
             }
            },
            "type": "barpolar"
           }
          ],
          "carpet": [
           {
            "aaxis": {
             "endlinecolor": "#2a3f5f",
             "gridcolor": "white",
             "linecolor": "white",
             "minorgridcolor": "white",
             "startlinecolor": "#2a3f5f"
            },
            "baxis": {
             "endlinecolor": "#2a3f5f",
             "gridcolor": "white",
             "linecolor": "white",
             "minorgridcolor": "white",
             "startlinecolor": "#2a3f5f"
            },
            "type": "carpet"
           }
          ],
          "choropleth": [
           {
            "colorbar": {
             "outlinewidth": 0,
             "ticks": ""
            },
            "type": "choropleth"
           }
          ],
          "contour": [
           {
            "colorbar": {
             "outlinewidth": 0,
             "ticks": ""
            },
            "colorscale": [
             [
              0,
              "#0d0887"
             ],
             [
              0.1111111111111111,
              "#46039f"
             ],
             [
              0.2222222222222222,
              "#7201a8"
             ],
             [
              0.3333333333333333,
              "#9c179e"
             ],
             [
              0.4444444444444444,
              "#bd3786"
             ],
             [
              0.5555555555555556,
              "#d8576b"
             ],
             [
              0.6666666666666666,
              "#ed7953"
             ],
             [
              0.7777777777777778,
              "#fb9f3a"
             ],
             [
              0.8888888888888888,
              "#fdca26"
             ],
             [
              1,
              "#f0f921"
             ]
            ],
            "type": "contour"
           }
          ],
          "contourcarpet": [
           {
            "colorbar": {
             "outlinewidth": 0,
             "ticks": ""
            },
            "type": "contourcarpet"
           }
          ],
          "heatmap": [
           {
            "colorbar": {
             "outlinewidth": 0,
             "ticks": ""
            },
            "colorscale": [
             [
              0,
              "#0d0887"
             ],
             [
              0.1111111111111111,
              "#46039f"
             ],
             [
              0.2222222222222222,
              "#7201a8"
             ],
             [
              0.3333333333333333,
              "#9c179e"
             ],
             [
              0.4444444444444444,
              "#bd3786"
             ],
             [
              0.5555555555555556,
              "#d8576b"
             ],
             [
              0.6666666666666666,
              "#ed7953"
             ],
             [
              0.7777777777777778,
              "#fb9f3a"
             ],
             [
              0.8888888888888888,
              "#fdca26"
             ],
             [
              1,
              "#f0f921"
             ]
            ],
            "type": "heatmap"
           }
          ],
          "heatmapgl": [
           {
            "colorbar": {
             "outlinewidth": 0,
             "ticks": ""
            },
            "colorscale": [
             [
              0,
              "#0d0887"
             ],
             [
              0.1111111111111111,
              "#46039f"
             ],
             [
              0.2222222222222222,
              "#7201a8"
             ],
             [
              0.3333333333333333,
              "#9c179e"
             ],
             [
              0.4444444444444444,
              "#bd3786"
             ],
             [
              0.5555555555555556,
              "#d8576b"
             ],
             [
              0.6666666666666666,
              "#ed7953"
             ],
             [
              0.7777777777777778,
              "#fb9f3a"
             ],
             [
              0.8888888888888888,
              "#fdca26"
             ],
             [
              1,
              "#f0f921"
             ]
            ],
            "type": "heatmapgl"
           }
          ],
          "histogram": [
           {
            "marker": {
             "colorbar": {
              "outlinewidth": 0,
              "ticks": ""
             }
            },
            "type": "histogram"
           }
          ],
          "histogram2d": [
           {
            "colorbar": {
             "outlinewidth": 0,
             "ticks": ""
            },
            "colorscale": [
             [
              0,
              "#0d0887"
             ],
             [
              0.1111111111111111,
              "#46039f"
             ],
             [
              0.2222222222222222,
              "#7201a8"
             ],
             [
              0.3333333333333333,
              "#9c179e"
             ],
             [
              0.4444444444444444,
              "#bd3786"
             ],
             [
              0.5555555555555556,
              "#d8576b"
             ],
             [
              0.6666666666666666,
              "#ed7953"
             ],
             [
              0.7777777777777778,
              "#fb9f3a"
             ],
             [
              0.8888888888888888,
              "#fdca26"
             ],
             [
              1,
              "#f0f921"
             ]
            ],
            "type": "histogram2d"
           }
          ],
          "histogram2dcontour": [
           {
            "colorbar": {
             "outlinewidth": 0,
             "ticks": ""
            },
            "colorscale": [
             [
              0,
              "#0d0887"
             ],
             [
              0.1111111111111111,
              "#46039f"
             ],
             [
              0.2222222222222222,
              "#7201a8"
             ],
             [
              0.3333333333333333,
              "#9c179e"
             ],
             [
              0.4444444444444444,
              "#bd3786"
             ],
             [
              0.5555555555555556,
              "#d8576b"
             ],
             [
              0.6666666666666666,
              "#ed7953"
             ],
             [
              0.7777777777777778,
              "#fb9f3a"
             ],
             [
              0.8888888888888888,
              "#fdca26"
             ],
             [
              1,
              "#f0f921"
             ]
            ],
            "type": "histogram2dcontour"
           }
          ],
          "mesh3d": [
           {
            "colorbar": {
             "outlinewidth": 0,
             "ticks": ""
            },
            "type": "mesh3d"
           }
          ],
          "parcoords": [
           {
            "line": {
             "colorbar": {
              "outlinewidth": 0,
              "ticks": ""
             }
            },
            "type": "parcoords"
           }
          ],
          "pie": [
           {
            "automargin": true,
            "type": "pie"
           }
          ],
          "scatter": [
           {
            "marker": {
             "colorbar": {
              "outlinewidth": 0,
              "ticks": ""
             }
            },
            "type": "scatter"
           }
          ],
          "scatter3d": [
           {
            "line": {
             "colorbar": {
              "outlinewidth": 0,
              "ticks": ""
             }
            },
            "marker": {
             "colorbar": {
              "outlinewidth": 0,
              "ticks": ""
             }
            },
            "type": "scatter3d"
           }
          ],
          "scattercarpet": [
           {
            "marker": {
             "colorbar": {
              "outlinewidth": 0,
              "ticks": ""
             }
            },
            "type": "scattercarpet"
           }
          ],
          "scattergeo": [
           {
            "marker": {
             "colorbar": {
              "outlinewidth": 0,
              "ticks": ""
             }
            },
            "type": "scattergeo"
           }
          ],
          "scattergl": [
           {
            "marker": {
             "colorbar": {
              "outlinewidth": 0,
              "ticks": ""
             }
            },
            "type": "scattergl"
           }
          ],
          "scattermapbox": [
           {
            "marker": {
             "colorbar": {
              "outlinewidth": 0,
              "ticks": ""
             }
            },
            "type": "scattermapbox"
           }
          ],
          "scatterpolar": [
           {
            "marker": {
             "colorbar": {
              "outlinewidth": 0,
              "ticks": ""
             }
            },
            "type": "scatterpolar"
           }
          ],
          "scatterpolargl": [
           {
            "marker": {
             "colorbar": {
              "outlinewidth": 0,
              "ticks": ""
             }
            },
            "type": "scatterpolargl"
           }
          ],
          "scatterternary": [
           {
            "marker": {
             "colorbar": {
              "outlinewidth": 0,
              "ticks": ""
             }
            },
            "type": "scatterternary"
           }
          ],
          "surface": [
           {
            "colorbar": {
             "outlinewidth": 0,
             "ticks": ""
            },
            "colorscale": [
             [
              0,
              "#0d0887"
             ],
             [
              0.1111111111111111,
              "#46039f"
             ],
             [
              0.2222222222222222,
              "#7201a8"
             ],
             [
              0.3333333333333333,
              "#9c179e"
             ],
             [
              0.4444444444444444,
              "#bd3786"
             ],
             [
              0.5555555555555556,
              "#d8576b"
             ],
             [
              0.6666666666666666,
              "#ed7953"
             ],
             [
              0.7777777777777778,
              "#fb9f3a"
             ],
             [
              0.8888888888888888,
              "#fdca26"
             ],
             [
              1,
              "#f0f921"
             ]
            ],
            "type": "surface"
           }
          ],
          "table": [
           {
            "cells": {
             "fill": {
              "color": "#EBF0F8"
             },
             "line": {
              "color": "white"
             }
            },
            "header": {
             "fill": {
              "color": "#C8D4E3"
             },
             "line": {
              "color": "white"
             }
            },
            "type": "table"
           }
          ]
         },
         "layout": {
          "annotationdefaults": {
           "arrowcolor": "#2a3f5f",
           "arrowhead": 0,
           "arrowwidth": 1
          },
          "coloraxis": {
           "colorbar": {
            "outlinewidth": 0,
            "ticks": ""
           }
          },
          "colorscale": {
           "diverging": [
            [
             0,
             "#8e0152"
            ],
            [
             0.1,
             "#c51b7d"
            ],
            [
             0.2,
             "#de77ae"
            ],
            [
             0.3,
             "#f1b6da"
            ],
            [
             0.4,
             "#fde0ef"
            ],
            [
             0.5,
             "#f7f7f7"
            ],
            [
             0.6,
             "#e6f5d0"
            ],
            [
             0.7,
             "#b8e186"
            ],
            [
             0.8,
             "#7fbc41"
            ],
            [
             0.9,
             "#4d9221"
            ],
            [
             1,
             "#276419"
            ]
           ],
           "sequential": [
            [
             0,
             "#0d0887"
            ],
            [
             0.1111111111111111,
             "#46039f"
            ],
            [
             0.2222222222222222,
             "#7201a8"
            ],
            [
             0.3333333333333333,
             "#9c179e"
            ],
            [
             0.4444444444444444,
             "#bd3786"
            ],
            [
             0.5555555555555556,
             "#d8576b"
            ],
            [
             0.6666666666666666,
             "#ed7953"
            ],
            [
             0.7777777777777778,
             "#fb9f3a"
            ],
            [
             0.8888888888888888,
             "#fdca26"
            ],
            [
             1,
             "#f0f921"
            ]
           ],
           "sequentialminus": [
            [
             0,
             "#0d0887"
            ],
            [
             0.1111111111111111,
             "#46039f"
            ],
            [
             0.2222222222222222,
             "#7201a8"
            ],
            [
             0.3333333333333333,
             "#9c179e"
            ],
            [
             0.4444444444444444,
             "#bd3786"
            ],
            [
             0.5555555555555556,
             "#d8576b"
            ],
            [
             0.6666666666666666,
             "#ed7953"
            ],
            [
             0.7777777777777778,
             "#fb9f3a"
            ],
            [
             0.8888888888888888,
             "#fdca26"
            ],
            [
             1,
             "#f0f921"
            ]
           ]
          },
          "colorway": [
           "#636efa",
           "#EF553B",
           "#00cc96",
           "#ab63fa",
           "#FFA15A",
           "#19d3f3",
           "#FF6692",
           "#B6E880",
           "#FF97FF",
           "#FECB52"
          ],
          "font": {
           "color": "#2a3f5f"
          },
          "geo": {
           "bgcolor": "white",
           "lakecolor": "white",
           "landcolor": "#E5ECF6",
           "showlakes": true,
           "showland": true,
           "subunitcolor": "white"
          },
          "hoverlabel": {
           "align": "left"
          },
          "hovermode": "closest",
          "mapbox": {
           "style": "light"
          },
          "paper_bgcolor": "white",
          "plot_bgcolor": "#E5ECF6",
          "polar": {
           "angularaxis": {
            "gridcolor": "white",
            "linecolor": "white",
            "ticks": ""
           },
           "bgcolor": "#E5ECF6",
           "radialaxis": {
            "gridcolor": "white",
            "linecolor": "white",
            "ticks": ""
           }
          },
          "scene": {
           "xaxis": {
            "backgroundcolor": "#E5ECF6",
            "gridcolor": "white",
            "gridwidth": 2,
            "linecolor": "white",
            "showbackground": true,
            "ticks": "",
            "zerolinecolor": "white"
           },
           "yaxis": {
            "backgroundcolor": "#E5ECF6",
            "gridcolor": "white",
            "gridwidth": 2,
            "linecolor": "white",
            "showbackground": true,
            "ticks": "",
            "zerolinecolor": "white"
           },
           "zaxis": {
            "backgroundcolor": "#E5ECF6",
            "gridcolor": "white",
            "gridwidth": 2,
            "linecolor": "white",
            "showbackground": true,
            "ticks": "",
            "zerolinecolor": "white"
           }
          },
          "shapedefaults": {
           "line": {
            "color": "#2a3f5f"
           }
          },
          "ternary": {
           "aaxis": {
            "gridcolor": "white",
            "linecolor": "white",
            "ticks": ""
           },
           "baxis": {
            "gridcolor": "white",
            "linecolor": "white",
            "ticks": ""
           },
           "bgcolor": "#E5ECF6",
           "caxis": {
            "gridcolor": "white",
            "linecolor": "white",
            "ticks": ""
           }
          },
          "title": {
           "x": 0.05
          },
          "xaxis": {
           "automargin": true,
           "gridcolor": "white",
           "linecolor": "white",
           "ticks": "",
           "title": {
            "standoff": 15
           },
           "zerolinecolor": "white",
           "zerolinewidth": 2
          },
          "yaxis": {
           "automargin": true,
           "gridcolor": "white",
           "linecolor": "white",
           "ticks": "",
           "title": {
            "standoff": 15
           },
           "zerolinecolor": "white",
           "zerolinewidth": 2
          }
         }
        },
        "title": {
         "text": "Marina - Ventas por línea de negocio"
        },
        "width": 1500,
        "xaxis": {
         "dtick": "M1",
         "title": {
          "text": "Mes"
         }
        },
        "yaxis": {
         "tickprefix": "$",
         "title": {
          "text": "Ingresos [$MXN]"
         }
        }
       }
      },
      "text/html": [
       "<div>                            <div id=\"0b20eaa6-ec82-48a4-aa30-a542c488c6bb\" class=\"plotly-graph-div\" style=\"height:750px; width:1500px;\"></div>            <script type=\"text/javascript\">                require([\"plotly\"], function(Plotly) {                    window.PLOTLYENV=window.PLOTLYENV || {};                                    if (document.getElementById(\"0b20eaa6-ec82-48a4-aa30-a542c488c6bb\")) {                    Plotly.newPlot(                        \"0b20eaa6-ec82-48a4-aa30-a542c488c6bb\",                        [{\"name\": \"CONSULTA\", \"text\": [319688.5999999999, 367915.09999999986, 446457.29999999993, 516012.5999999999, 540464.9], \"textposition\": \"inside\", \"texttemplate\": \"$%{value:.2s}\", \"type\": \"bar\", \"x\": [\"2020-4\", \"2020-5\", \"2020-6\", \"2020-7\", \"2020-8\"], \"y\": [319688.5999999999, 367915.09999999986, 446457.29999999993, 516012.5999999999, 540464.9]}, {\"name\": \"LABORATORIO\", \"text\": [101881.20000000001, 91063.59999999999, 179354.6, 237457.7, 218271.5], \"textposition\": \"inside\", \"texttemplate\": \"$%{value:.2s}\", \"type\": \"bar\", \"x\": [\"2020-4\", \"2020-5\", \"2020-6\", \"2020-7\", \"2020-8\"], \"y\": [101881.20000000001, 91063.59999999999, 179354.6, 237457.7, 218271.5]}, {\"name\": \"OTRA_LN\", \"text\": [25595.0, 10417.0, 23092.0, 15729.1, 12585.0], \"textposition\": \"inside\", \"texttemplate\": \"$%{value:.2s}\", \"type\": \"bar\", \"x\": [\"2020-4\", \"2020-5\", \"2020-6\", \"2020-7\", \"2020-8\"], \"y\": [25595.0, 10417.0, 23092.0, 15729.1, 12585.0]}, {\"name\": \"PROCEDIMIENTOS\", \"text\": [244008.0, 318819.0, 350051.0, 372059.0, 246014.0], \"textposition\": \"inside\", \"texttemplate\": \"$%{value:.2s}\", \"type\": \"bar\", \"x\": [\"2020-4\", \"2020-5\", \"2020-6\", \"2020-7\", \"2020-8\"], \"y\": [244008.0, 318819.0, 350051.0, 372059.0, 246014.0]}, {\"name\": \"ULTRASONIDO\", \"text\": [35555.0, 52915.0, 51151.0, 62480.1, 62155.0], \"textposition\": \"inside\", \"texttemplate\": \"$%{value:.2s}\", \"type\": \"bar\", \"x\": [\"2020-4\", \"2020-5\", \"2020-6\", \"2020-7\", \"2020-8\"], \"y\": [35555.0, 52915.0, 51151.0, 62480.1, 62155.0]}],                        {\"autosize\": false, \"height\": 750, \"template\": {\"data\": {\"bar\": [{\"error_x\": {\"color\": \"#2a3f5f\"}, \"error_y\": {\"color\": \"#2a3f5f\"}, \"marker\": {\"line\": {\"color\": \"#E5ECF6\", \"width\": 0.5}}, \"type\": \"bar\"}], \"barpolar\": [{\"marker\": {\"line\": {\"color\": \"#E5ECF6\", \"width\": 0.5}}, \"type\": \"barpolar\"}], \"carpet\": [{\"aaxis\": {\"endlinecolor\": \"#2a3f5f\", \"gridcolor\": \"white\", \"linecolor\": \"white\", \"minorgridcolor\": \"white\", \"startlinecolor\": \"#2a3f5f\"}, \"baxis\": {\"endlinecolor\": \"#2a3f5f\", \"gridcolor\": \"white\", \"linecolor\": \"white\", \"minorgridcolor\": \"white\", \"startlinecolor\": \"#2a3f5f\"}, \"type\": \"carpet\"}], \"choropleth\": [{\"colorbar\": {\"outlinewidth\": 0, \"ticks\": \"\"}, \"type\": \"choropleth\"}], \"contour\": [{\"colorbar\": {\"outlinewidth\": 0, \"ticks\": \"\"}, \"colorscale\": [[0.0, \"#0d0887\"], [0.1111111111111111, \"#46039f\"], [0.2222222222222222, \"#7201a8\"], [0.3333333333333333, \"#9c179e\"], [0.4444444444444444, \"#bd3786\"], [0.5555555555555556, \"#d8576b\"], [0.6666666666666666, \"#ed7953\"], [0.7777777777777778, \"#fb9f3a\"], [0.8888888888888888, \"#fdca26\"], [1.0, \"#f0f921\"]], \"type\": \"contour\"}], \"contourcarpet\": [{\"colorbar\": {\"outlinewidth\": 0, \"ticks\": \"\"}, \"type\": \"contourcarpet\"}], \"heatmap\": [{\"colorbar\": {\"outlinewidth\": 0, \"ticks\": \"\"}, \"colorscale\": [[0.0, \"#0d0887\"], [0.1111111111111111, \"#46039f\"], [0.2222222222222222, \"#7201a8\"], [0.3333333333333333, \"#9c179e\"], [0.4444444444444444, \"#bd3786\"], [0.5555555555555556, \"#d8576b\"], [0.6666666666666666, \"#ed7953\"], [0.7777777777777778, \"#fb9f3a\"], [0.8888888888888888, \"#fdca26\"], [1.0, \"#f0f921\"]], \"type\": \"heatmap\"}], \"heatmapgl\": [{\"colorbar\": {\"outlinewidth\": 0, \"ticks\": \"\"}, \"colorscale\": [[0.0, \"#0d0887\"], [0.1111111111111111, \"#46039f\"], [0.2222222222222222, \"#7201a8\"], [0.3333333333333333, \"#9c179e\"], [0.4444444444444444, \"#bd3786\"], [0.5555555555555556, \"#d8576b\"], [0.6666666666666666, \"#ed7953\"], [0.7777777777777778, \"#fb9f3a\"], [0.8888888888888888, \"#fdca26\"], [1.0, \"#f0f921\"]], \"type\": \"heatmapgl\"}], \"histogram\": [{\"marker\": {\"colorbar\": {\"outlinewidth\": 0, \"ticks\": \"\"}}, \"type\": \"histogram\"}], \"histogram2d\": [{\"colorbar\": {\"outlinewidth\": 0, \"ticks\": \"\"}, \"colorscale\": [[0.0, \"#0d0887\"], [0.1111111111111111, \"#46039f\"], [0.2222222222222222, \"#7201a8\"], [0.3333333333333333, \"#9c179e\"], [0.4444444444444444, \"#bd3786\"], [0.5555555555555556, \"#d8576b\"], [0.6666666666666666, \"#ed7953\"], [0.7777777777777778, \"#fb9f3a\"], [0.8888888888888888, \"#fdca26\"], [1.0, \"#f0f921\"]], \"type\": \"histogram2d\"}], \"histogram2dcontour\": [{\"colorbar\": {\"outlinewidth\": 0, \"ticks\": \"\"}, \"colorscale\": [[0.0, \"#0d0887\"], [0.1111111111111111, \"#46039f\"], [0.2222222222222222, \"#7201a8\"], [0.3333333333333333, \"#9c179e\"], [0.4444444444444444, \"#bd3786\"], [0.5555555555555556, \"#d8576b\"], [0.6666666666666666, \"#ed7953\"], [0.7777777777777778, \"#fb9f3a\"], [0.8888888888888888, \"#fdca26\"], [1.0, \"#f0f921\"]], \"type\": \"histogram2dcontour\"}], \"mesh3d\": [{\"colorbar\": {\"outlinewidth\": 0, \"ticks\": \"\"}, \"type\": \"mesh3d\"}], \"parcoords\": [{\"line\": {\"colorbar\": {\"outlinewidth\": 0, \"ticks\": \"\"}}, \"type\": \"parcoords\"}], \"pie\": [{\"automargin\": true, \"type\": \"pie\"}], \"scatter\": [{\"marker\": {\"colorbar\": {\"outlinewidth\": 0, \"ticks\": \"\"}}, \"type\": \"scatter\"}], \"scatter3d\": [{\"line\": {\"colorbar\": {\"outlinewidth\": 0, \"ticks\": \"\"}}, \"marker\": {\"colorbar\": {\"outlinewidth\": 0, \"ticks\": \"\"}}, \"type\": \"scatter3d\"}], \"scattercarpet\": [{\"marker\": {\"colorbar\": {\"outlinewidth\": 0, \"ticks\": \"\"}}, \"type\": \"scattercarpet\"}], \"scattergeo\": [{\"marker\": {\"colorbar\": {\"outlinewidth\": 0, \"ticks\": \"\"}}, \"type\": \"scattergeo\"}], \"scattergl\": [{\"marker\": {\"colorbar\": {\"outlinewidth\": 0, \"ticks\": \"\"}}, \"type\": \"scattergl\"}], \"scattermapbox\": [{\"marker\": {\"colorbar\": {\"outlinewidth\": 0, \"ticks\": \"\"}}, \"type\": \"scattermapbox\"}], \"scatterpolar\": [{\"marker\": {\"colorbar\": {\"outlinewidth\": 0, \"ticks\": \"\"}}, \"type\": \"scatterpolar\"}], \"scatterpolargl\": [{\"marker\": {\"colorbar\": {\"outlinewidth\": 0, \"ticks\": \"\"}}, \"type\": \"scatterpolargl\"}], \"scatterternary\": [{\"marker\": {\"colorbar\": {\"outlinewidth\": 0, \"ticks\": \"\"}}, \"type\": \"scatterternary\"}], \"surface\": [{\"colorbar\": {\"outlinewidth\": 0, \"ticks\": \"\"}, \"colorscale\": [[0.0, \"#0d0887\"], [0.1111111111111111, \"#46039f\"], [0.2222222222222222, \"#7201a8\"], [0.3333333333333333, \"#9c179e\"], [0.4444444444444444, \"#bd3786\"], [0.5555555555555556, \"#d8576b\"], [0.6666666666666666, \"#ed7953\"], [0.7777777777777778, \"#fb9f3a\"], [0.8888888888888888, \"#fdca26\"], [1.0, \"#f0f921\"]], \"type\": \"surface\"}], \"table\": [{\"cells\": {\"fill\": {\"color\": \"#EBF0F8\"}, \"line\": {\"color\": \"white\"}}, \"header\": {\"fill\": {\"color\": \"#C8D4E3\"}, \"line\": {\"color\": \"white\"}}, \"type\": \"table\"}]}, \"layout\": {\"annotationdefaults\": {\"arrowcolor\": \"#2a3f5f\", \"arrowhead\": 0, \"arrowwidth\": 1}, \"coloraxis\": {\"colorbar\": {\"outlinewidth\": 0, \"ticks\": \"\"}}, \"colorscale\": {\"diverging\": [[0, \"#8e0152\"], [0.1, \"#c51b7d\"], [0.2, \"#de77ae\"], [0.3, \"#f1b6da\"], [0.4, \"#fde0ef\"], [0.5, \"#f7f7f7\"], [0.6, \"#e6f5d0\"], [0.7, \"#b8e186\"], [0.8, \"#7fbc41\"], [0.9, \"#4d9221\"], [1, \"#276419\"]], \"sequential\": [[0.0, \"#0d0887\"], [0.1111111111111111, \"#46039f\"], [0.2222222222222222, \"#7201a8\"], [0.3333333333333333, \"#9c179e\"], [0.4444444444444444, \"#bd3786\"], [0.5555555555555556, \"#d8576b\"], [0.6666666666666666, \"#ed7953\"], [0.7777777777777778, \"#fb9f3a\"], [0.8888888888888888, \"#fdca26\"], [1.0, \"#f0f921\"]], \"sequentialminus\": [[0.0, \"#0d0887\"], [0.1111111111111111, \"#46039f\"], [0.2222222222222222, \"#7201a8\"], [0.3333333333333333, \"#9c179e\"], [0.4444444444444444, \"#bd3786\"], [0.5555555555555556, \"#d8576b\"], [0.6666666666666666, \"#ed7953\"], [0.7777777777777778, \"#fb9f3a\"], [0.8888888888888888, \"#fdca26\"], [1.0, \"#f0f921\"]]}, \"colorway\": [\"#636efa\", \"#EF553B\", \"#00cc96\", \"#ab63fa\", \"#FFA15A\", \"#19d3f3\", \"#FF6692\", \"#B6E880\", \"#FF97FF\", \"#FECB52\"], \"font\": {\"color\": \"#2a3f5f\"}, \"geo\": {\"bgcolor\": \"white\", \"lakecolor\": \"white\", \"landcolor\": \"#E5ECF6\", \"showlakes\": true, \"showland\": true, \"subunitcolor\": \"white\"}, \"hoverlabel\": {\"align\": \"left\"}, \"hovermode\": \"closest\", \"mapbox\": {\"style\": \"light\"}, \"paper_bgcolor\": \"white\", \"plot_bgcolor\": \"#E5ECF6\", \"polar\": {\"angularaxis\": {\"gridcolor\": \"white\", \"linecolor\": \"white\", \"ticks\": \"\"}, \"bgcolor\": \"#E5ECF6\", \"radialaxis\": {\"gridcolor\": \"white\", \"linecolor\": \"white\", \"ticks\": \"\"}}, \"scene\": {\"xaxis\": {\"backgroundcolor\": \"#E5ECF6\", \"gridcolor\": \"white\", \"gridwidth\": 2, \"linecolor\": \"white\", \"showbackground\": true, \"ticks\": \"\", \"zerolinecolor\": \"white\"}, \"yaxis\": {\"backgroundcolor\": \"#E5ECF6\", \"gridcolor\": \"white\", \"gridwidth\": 2, \"linecolor\": \"white\", \"showbackground\": true, \"ticks\": \"\", \"zerolinecolor\": \"white\"}, \"zaxis\": {\"backgroundcolor\": \"#E5ECF6\", \"gridcolor\": \"white\", \"gridwidth\": 2, \"linecolor\": \"white\", \"showbackground\": true, \"ticks\": \"\", \"zerolinecolor\": \"white\"}}, \"shapedefaults\": {\"line\": {\"color\": \"#2a3f5f\"}}, \"ternary\": {\"aaxis\": {\"gridcolor\": \"white\", \"linecolor\": \"white\", \"ticks\": \"\"}, \"baxis\": {\"gridcolor\": \"white\", \"linecolor\": \"white\", \"ticks\": \"\"}, \"bgcolor\": \"#E5ECF6\", \"caxis\": {\"gridcolor\": \"white\", \"linecolor\": \"white\", \"ticks\": \"\"}}, \"title\": {\"x\": 0.05}, \"xaxis\": {\"automargin\": true, \"gridcolor\": \"white\", \"linecolor\": \"white\", \"ticks\": \"\", \"title\": {\"standoff\": 15}, \"zerolinecolor\": \"white\", \"zerolinewidth\": 2}, \"yaxis\": {\"automargin\": true, \"gridcolor\": \"white\", \"linecolor\": \"white\", \"ticks\": \"\", \"title\": {\"standoff\": 15}, \"zerolinecolor\": \"white\", \"zerolinewidth\": 2}}}, \"title\": {\"text\": \"Marina - Ventas por l\\u00ednea de negocio\"}, \"width\": 1500, \"xaxis\": {\"dtick\": \"M1\", \"title\": {\"text\": \"Mes\"}}, \"yaxis\": {\"tickprefix\": \"$\", \"title\": {\"text\": \"Ingresos [$MXN]\"}}},                        {\"responsive\": true}                    ).then(function(){\n",
       "                            \n",
       "var gd = document.getElementById('0b20eaa6-ec82-48a4-aa30-a542c488c6bb');\n",
       "var x = new MutationObserver(function (mutations, observer) {{\n",
       "        var display = window.getComputedStyle(gd).display;\n",
       "        if (!display || display === 'none') {{\n",
       "            console.log([gd, 'removed!']);\n",
       "            Plotly.purge(gd);\n",
       "            observer.disconnect();\n",
       "        }}\n",
       "}});\n",
       "\n",
       "// Listen for the removal of the full notebook cells\n",
       "var notebookContainer = gd.closest('#notebook-container');\n",
       "if (notebookContainer) {{\n",
       "    x.observe(notebookContainer, {childList: true});\n",
       "}}\n",
       "\n",
       "// Listen for the clearing of the current output cell\n",
       "var outputEl = gd.closest('.output');\n",
       "if (outputEl) {{\n",
       "    x.observe(outputEl, {childList: true});\n",
       "}}\n",
       "\n",
       "                        })                };                });            </script>        </div>"
      ]
     },
     "metadata": {},
     "output_type": "display_data"
    }
   ],
   "source": [
    "fig = go.Figure()\n",
    "\n",
    "\n",
    "## Graphing bars\n",
    "for col in [col for col in dfx.columns if \"_pc\" not in col and \"_part\" not in col]:\n",
    "    fig.add_trace(\n",
    "        go.Bar(\n",
    "            x = dfx.index,\n",
    "            y = dfx[col],\n",
    "            name = col,\n",
    "            text = dfx[col].astype(\"float\"),\n",
    "            textposition = \"inside\",\n",
    "            texttemplate = \"$%{value:.2s}\"\n",
    "        )\n",
    "    )\n",
    "\n",
    "\n",
    "## Labels and format\n",
    "fig.update_layout(\n",
    "    #### Labels\n",
    "    title = str(set_loc).title() + \" - Ventas por línea de negocio\",\n",
    "    xaxis_title = \"Mes\",\n",
    "    yaxis_title = \"Ingresos [$MXN]\",\n",
    "#     yaxis_tickformat = \",.2f\",\n",
    "    yaxis_tickprefix = \"$\",\n",
    "#     separators = \".,\",\n",
    "    \n",
    "    #### Dimensions\n",
    "    autosize = False,\n",
    "    width = 1500,\n",
    "    height = 750\n",
    ")\n",
    "\n",
    "\n",
    "## X-axis\n",
    "fig.update_xaxes(\n",
    "    dtick=\"M1\"\n",
    ")\n",
    "\n",
    "    \n",
    "fig.show()"
   ]
  },
  {
   "cell_type": "markdown",
   "metadata": {
    "hidden": true
   },
   "source": [
    "---"
   ]
  },
  {
   "cell_type": "markdown",
   "metadata": {
    "heading_collapsed": true
   },
   "source": [
    "## Analysis 5\n",
    "- How have sales behaved per location, per speciality?"
   ]
  },
  {
   "cell_type": "markdown",
   "metadata": {
    "heading_collapsed": true,
    "hidden": true
   },
   "source": [
    "#### Base code"
   ]
  },
  {
   "cell_type": "code",
   "execution_count": 9,
   "metadata": {
    "ExecuteTime": {
     "end_time": "2020-09-25T15:38:21.924997Z",
     "start_time": "2020-09-25T15:38:21.814016Z"
    },
    "hidden": true
   },
   "outputs": [],
   "source": [
    "dfsx = data_processing_sales_A5(dfs)"
   ]
  },
  {
   "cell_type": "code",
   "execution_count": 10,
   "metadata": {
    "ExecuteTime": {
     "end_time": "2020-09-25T15:38:22.112137Z",
     "start_time": "2020-09-25T15:38:21.995211Z"
    },
    "hidden": true,
    "scrolled": true
   },
   "outputs": [
    {
     "data": {
      "text/html": [
       "<div>\n",
       "<style scoped>\n",
       "    .dataframe tbody tr th:only-of-type {\n",
       "        vertical-align: middle;\n",
       "    }\n",
       "\n",
       "    .dataframe tbody tr th {\n",
       "        vertical-align: top;\n",
       "    }\n",
       "\n",
       "    .dataframe thead tr th {\n",
       "        text-align: left;\n",
       "    }\n",
       "\n",
       "    .dataframe thead tr:last-of-type th {\n",
       "        text-align: right;\n",
       "    }\n",
       "</style>\n",
       "<table border=\"1\" class=\"dataframe\">\n",
       "  <thead>\n",
       "    <tr>\n",
       "      <th></th>\n",
       "      <th>Loc_Hom</th>\n",
       "      <th colspan=\"17\" halign=\"left\">BASILICA</th>\n",
       "      <th colspan=\"17\" halign=\"left\">COAPA</th>\n",
       "      <th colspan=\"17\" halign=\"left\">Location_not_found</th>\n",
       "      <th colspan=\"17\" halign=\"left\">MARINA</th>\n",
       "    </tr>\n",
       "    <tr>\n",
       "      <th></th>\n",
       "      <th>Especialidad_match</th>\n",
       "      <th>ALERGOLOGIA</th>\n",
       "      <th>CARDIOLOGIA</th>\n",
       "      <th>DERMATOLOGIA</th>\n",
       "      <th>ENDOCRINOLOGIA</th>\n",
       "      <th>GASTROENTEROLGIA</th>\n",
       "      <th>GASTROENTEROLOGIA</th>\n",
       "      <th>GINECOLOGIA</th>\n",
       "      <th>MEDICINA GENERAL</th>\n",
       "      <th>NEFROLOGIA</th>\n",
       "      <th>NEUMOLOGIA</th>\n",
       "      <th>NEUROLOGIA</th>\n",
       "      <th>NUTRICION</th>\n",
       "      <th>OTORRINOLARINGOLOGIA</th>\n",
       "      <th>OTRA_ESP</th>\n",
       "      <th>PEDIATRIA</th>\n",
       "      <th>PROCTOLOGIA</th>\n",
       "      <th>UROLOGIA</th>\n",
       "      <th>ALERGOLOGIA</th>\n",
       "      <th>CARDIOLOGIA</th>\n",
       "      <th>DERMATOLOGIA</th>\n",
       "      <th>ENDOCRINOLOGIA</th>\n",
       "      <th>GASTROENTEROLGIA</th>\n",
       "      <th>GASTROENTEROLOGIA</th>\n",
       "      <th>GINECOLOGIA</th>\n",
       "      <th>MEDICINA GENERAL</th>\n",
       "      <th>NEFROLOGIA</th>\n",
       "      <th>NEUMOLOGIA</th>\n",
       "      <th>NEUROLOGIA</th>\n",
       "      <th>NUTRICION</th>\n",
       "      <th>OTORRINOLARINGOLOGIA</th>\n",
       "      <th>OTRA_ESP</th>\n",
       "      <th>PEDIATRIA</th>\n",
       "      <th>PROCTOLOGIA</th>\n",
       "      <th>UROLOGIA</th>\n",
       "      <th>ALERGOLOGIA</th>\n",
       "      <th>CARDIOLOGIA</th>\n",
       "      <th>DERMATOLOGIA</th>\n",
       "      <th>ENDOCRINOLOGIA</th>\n",
       "      <th>GASTROENTEROLGIA</th>\n",
       "      <th>GASTROENTEROLOGIA</th>\n",
       "      <th>GINECOLOGIA</th>\n",
       "      <th>MEDICINA GENERAL</th>\n",
       "      <th>NEFROLOGIA</th>\n",
       "      <th>NEUMOLOGIA</th>\n",
       "      <th>NEUROLOGIA</th>\n",
       "      <th>NUTRICION</th>\n",
       "      <th>OTORRINOLARINGOLOGIA</th>\n",
       "      <th>OTRA_ESP</th>\n",
       "      <th>PEDIATRIA</th>\n",
       "      <th>PROCTOLOGIA</th>\n",
       "      <th>UROLOGIA</th>\n",
       "      <th>ALERGOLOGIA</th>\n",
       "      <th>CARDIOLOGIA</th>\n",
       "      <th>DERMATOLOGIA</th>\n",
       "      <th>ENDOCRINOLOGIA</th>\n",
       "      <th>GASTROENTEROLGIA</th>\n",
       "      <th>GASTROENTEROLOGIA</th>\n",
       "      <th>GINECOLOGIA</th>\n",
       "      <th>MEDICINA GENERAL</th>\n",
       "      <th>NEFROLOGIA</th>\n",
       "      <th>NEUMOLOGIA</th>\n",
       "      <th>NEUROLOGIA</th>\n",
       "      <th>NUTRICION</th>\n",
       "      <th>OTORRINOLARINGOLOGIA</th>\n",
       "      <th>OTRA_ESP</th>\n",
       "      <th>PEDIATRIA</th>\n",
       "      <th>PROCTOLOGIA</th>\n",
       "      <th>UROLOGIA</th>\n",
       "    </tr>\n",
       "    <tr>\n",
       "      <th>BillDate</th>\n",
       "      <th>BillDate</th>\n",
       "      <th></th>\n",
       "      <th></th>\n",
       "      <th></th>\n",
       "      <th></th>\n",
       "      <th></th>\n",
       "      <th></th>\n",
       "      <th></th>\n",
       "      <th></th>\n",
       "      <th></th>\n",
       "      <th></th>\n",
       "      <th></th>\n",
       "      <th></th>\n",
       "      <th></th>\n",
       "      <th></th>\n",
       "      <th></th>\n",
       "      <th></th>\n",
       "      <th></th>\n",
       "      <th></th>\n",
       "      <th></th>\n",
       "      <th></th>\n",
       "      <th></th>\n",
       "      <th></th>\n",
       "      <th></th>\n",
       "      <th></th>\n",
       "      <th></th>\n",
       "      <th></th>\n",
       "      <th></th>\n",
       "      <th></th>\n",
       "      <th></th>\n",
       "      <th></th>\n",
       "      <th></th>\n",
       "      <th></th>\n",
       "      <th></th>\n",
       "      <th></th>\n",
       "      <th></th>\n",
       "      <th></th>\n",
       "      <th></th>\n",
       "      <th></th>\n",
       "      <th></th>\n",
       "      <th></th>\n",
       "      <th></th>\n",
       "      <th></th>\n",
       "      <th></th>\n",
       "      <th></th>\n",
       "      <th></th>\n",
       "      <th></th>\n",
       "      <th></th>\n",
       "      <th></th>\n",
       "      <th></th>\n",
       "      <th></th>\n",
       "      <th></th>\n",
       "      <th></th>\n",
       "      <th></th>\n",
       "      <th></th>\n",
       "      <th></th>\n",
       "      <th></th>\n",
       "      <th></th>\n",
       "      <th></th>\n",
       "      <th></th>\n",
       "      <th></th>\n",
       "      <th></th>\n",
       "      <th></th>\n",
       "      <th></th>\n",
       "      <th></th>\n",
       "      <th></th>\n",
       "      <th></th>\n",
       "      <th></th>\n",
       "      <th></th>\n",
       "    </tr>\n",
       "  </thead>\n",
       "  <tbody>\n",
       "    <tr>\n",
       "      <th rowspan=\"3\" valign=\"top\">2018</th>\n",
       "      <th>10</th>\n",
       "      <td>0.0</td>\n",
       "      <td>0.0</td>\n",
       "      <td>0.0</td>\n",
       "      <td>0.00</td>\n",
       "      <td>0.0</td>\n",
       "      <td>0.0</td>\n",
       "      <td>0.000000</td>\n",
       "      <td>0.0</td>\n",
       "      <td>0.0</td>\n",
       "      <td>0.0</td>\n",
       "      <td>0.0</td>\n",
       "      <td>0.0</td>\n",
       "      <td>0.0</td>\n",
       "      <td>0.000</td>\n",
       "      <td>0.0</td>\n",
       "      <td>0.0</td>\n",
       "      <td>0.0</td>\n",
       "      <td>0.0</td>\n",
       "      <td>0.00</td>\n",
       "      <td>0.00</td>\n",
       "      <td>0.00</td>\n",
       "      <td>0.0</td>\n",
       "      <td>0.00</td>\n",
       "      <td>0.00</td>\n",
       "      <td>0.0</td>\n",
       "      <td>0.0</td>\n",
       "      <td>0.0</td>\n",
       "      <td>0.00</td>\n",
       "      <td>0.0</td>\n",
       "      <td>0.00</td>\n",
       "      <td>0.0</td>\n",
       "      <td>0.0</td>\n",
       "      <td>0.0</td>\n",
       "      <td>0.00</td>\n",
       "      <td>0.0</td>\n",
       "      <td>0.0</td>\n",
       "      <td>0.0</td>\n",
       "      <td>0.0</td>\n",
       "      <td>0.0</td>\n",
       "      <td>0.0</td>\n",
       "      <td>0.0</td>\n",
       "      <td>0.0</td>\n",
       "      <td>0.0</td>\n",
       "      <td>0.0</td>\n",
       "      <td>0.0</td>\n",
       "      <td>0.0</td>\n",
       "      <td>0.0</td>\n",
       "      <td>0.0</td>\n",
       "      <td>0.0</td>\n",
       "      <td>0.0</td>\n",
       "      <td>0.0</td>\n",
       "      <td>0.0</td>\n",
       "      <td>0.0</td>\n",
       "      <td>24055.000000</td>\n",
       "      <td>0.000000</td>\n",
       "      <td>0.0</td>\n",
       "      <td>16358.524125</td>\n",
       "      <td>14946.919968</td>\n",
       "      <td>0.000000</td>\n",
       "      <td>0.0</td>\n",
       "      <td>0.0</td>\n",
       "      <td>0.0</td>\n",
       "      <td>399.000000</td>\n",
       "      <td>0.0</td>\n",
       "      <td>2296.350000</td>\n",
       "      <td>3791.000000</td>\n",
       "      <td>0.0</td>\n",
       "      <td>0.0000</td>\n",
       "    </tr>\n",
       "    <tr>\n",
       "      <th>11</th>\n",
       "      <td>0.0</td>\n",
       "      <td>0.0</td>\n",
       "      <td>0.0</td>\n",
       "      <td>0.00</td>\n",
       "      <td>0.0</td>\n",
       "      <td>0.0</td>\n",
       "      <td>0.000000</td>\n",
       "      <td>0.0</td>\n",
       "      <td>0.0</td>\n",
       "      <td>0.0</td>\n",
       "      <td>0.0</td>\n",
       "      <td>0.0</td>\n",
       "      <td>0.0</td>\n",
       "      <td>0.000</td>\n",
       "      <td>0.0</td>\n",
       "      <td>0.0</td>\n",
       "      <td>0.0</td>\n",
       "      <td>0.0</td>\n",
       "      <td>0.00</td>\n",
       "      <td>0.00</td>\n",
       "      <td>0.00</td>\n",
       "      <td>0.0</td>\n",
       "      <td>0.00</td>\n",
       "      <td>0.00</td>\n",
       "      <td>0.0</td>\n",
       "      <td>0.0</td>\n",
       "      <td>0.0</td>\n",
       "      <td>0.00</td>\n",
       "      <td>0.0</td>\n",
       "      <td>0.00</td>\n",
       "      <td>0.0</td>\n",
       "      <td>0.0</td>\n",
       "      <td>0.0</td>\n",
       "      <td>0.00</td>\n",
       "      <td>0.0</td>\n",
       "      <td>0.0</td>\n",
       "      <td>0.0</td>\n",
       "      <td>0.0</td>\n",
       "      <td>0.0</td>\n",
       "      <td>0.0</td>\n",
       "      <td>0.0</td>\n",
       "      <td>0.0</td>\n",
       "      <td>0.0</td>\n",
       "      <td>0.0</td>\n",
       "      <td>0.0</td>\n",
       "      <td>0.0</td>\n",
       "      <td>0.0</td>\n",
       "      <td>0.0</td>\n",
       "      <td>0.0</td>\n",
       "      <td>0.0</td>\n",
       "      <td>0.0</td>\n",
       "      <td>0.0</td>\n",
       "      <td>0.0</td>\n",
       "      <td>110127.264548</td>\n",
       "      <td>589.828118</td>\n",
       "      <td>0.0</td>\n",
       "      <td>47775.597325</td>\n",
       "      <td>80611.782086</td>\n",
       "      <td>0.000000</td>\n",
       "      <td>0.0</td>\n",
       "      <td>0.0</td>\n",
       "      <td>0.0</td>\n",
       "      <td>650.000000</td>\n",
       "      <td>0.0</td>\n",
       "      <td>10671.921374</td>\n",
       "      <td>12774.916470</td>\n",
       "      <td>0.0</td>\n",
       "      <td>950.2995</td>\n",
       "    </tr>\n",
       "    <tr>\n",
       "      <th>12</th>\n",
       "      <td>0.0</td>\n",
       "      <td>0.0</td>\n",
       "      <td>0.0</td>\n",
       "      <td>0.00</td>\n",
       "      <td>0.0</td>\n",
       "      <td>0.0</td>\n",
       "      <td>0.000000</td>\n",
       "      <td>0.0</td>\n",
       "      <td>0.0</td>\n",
       "      <td>0.0</td>\n",
       "      <td>0.0</td>\n",
       "      <td>0.0</td>\n",
       "      <td>0.0</td>\n",
       "      <td>0.000</td>\n",
       "      <td>0.0</td>\n",
       "      <td>0.0</td>\n",
       "      <td>0.0</td>\n",
       "      <td>0.0</td>\n",
       "      <td>0.00</td>\n",
       "      <td>0.00</td>\n",
       "      <td>0.00</td>\n",
       "      <td>0.0</td>\n",
       "      <td>0.00</td>\n",
       "      <td>0.00</td>\n",
       "      <td>0.0</td>\n",
       "      <td>0.0</td>\n",
       "      <td>0.0</td>\n",
       "      <td>0.00</td>\n",
       "      <td>0.0</td>\n",
       "      <td>0.00</td>\n",
       "      <td>0.0</td>\n",
       "      <td>0.0</td>\n",
       "      <td>0.0</td>\n",
       "      <td>0.00</td>\n",
       "      <td>0.0</td>\n",
       "      <td>0.0</td>\n",
       "      <td>0.0</td>\n",
       "      <td>0.0</td>\n",
       "      <td>0.0</td>\n",
       "      <td>0.0</td>\n",
       "      <td>0.0</td>\n",
       "      <td>0.0</td>\n",
       "      <td>0.0</td>\n",
       "      <td>0.0</td>\n",
       "      <td>0.0</td>\n",
       "      <td>0.0</td>\n",
       "      <td>0.0</td>\n",
       "      <td>0.0</td>\n",
       "      <td>0.0</td>\n",
       "      <td>0.0</td>\n",
       "      <td>0.0</td>\n",
       "      <td>0.0</td>\n",
       "      <td>0.0</td>\n",
       "      <td>132459.679700</td>\n",
       "      <td>1649.466383</td>\n",
       "      <td>0.0</td>\n",
       "      <td>69807.432123</td>\n",
       "      <td>98880.921737</td>\n",
       "      <td>11268.572375</td>\n",
       "      <td>0.0</td>\n",
       "      <td>0.0</td>\n",
       "      <td>0.0</td>\n",
       "      <td>500.748750</td>\n",
       "      <td>0.0</td>\n",
       "      <td>30852.452017</td>\n",
       "      <td>17367.000000</td>\n",
       "      <td>0.0</td>\n",
       "      <td>2800.0000</td>\n",
       "    </tr>\n",
       "    <tr>\n",
       "      <th rowspan=\"12\" valign=\"top\">2019</th>\n",
       "      <th>1</th>\n",
       "      <td>0.0</td>\n",
       "      <td>0.0</td>\n",
       "      <td>0.0</td>\n",
       "      <td>0.00</td>\n",
       "      <td>0.0</td>\n",
       "      <td>0.0</td>\n",
       "      <td>0.000000</td>\n",
       "      <td>0.0</td>\n",
       "      <td>0.0</td>\n",
       "      <td>0.0</td>\n",
       "      <td>0.0</td>\n",
       "      <td>0.0</td>\n",
       "      <td>0.0</td>\n",
       "      <td>0.000</td>\n",
       "      <td>0.0</td>\n",
       "      <td>0.0</td>\n",
       "      <td>0.0</td>\n",
       "      <td>0.0</td>\n",
       "      <td>0.00</td>\n",
       "      <td>0.00</td>\n",
       "      <td>0.00</td>\n",
       "      <td>0.0</td>\n",
       "      <td>0.00</td>\n",
       "      <td>0.00</td>\n",
       "      <td>0.0</td>\n",
       "      <td>0.0</td>\n",
       "      <td>0.0</td>\n",
       "      <td>0.00</td>\n",
       "      <td>0.0</td>\n",
       "      <td>0.00</td>\n",
       "      <td>0.0</td>\n",
       "      <td>0.0</td>\n",
       "      <td>0.0</td>\n",
       "      <td>0.00</td>\n",
       "      <td>0.0</td>\n",
       "      <td>0.0</td>\n",
       "      <td>0.0</td>\n",
       "      <td>0.0</td>\n",
       "      <td>0.0</td>\n",
       "      <td>0.0</td>\n",
       "      <td>0.0</td>\n",
       "      <td>0.0</td>\n",
       "      <td>0.0</td>\n",
       "      <td>0.0</td>\n",
       "      <td>0.0</td>\n",
       "      <td>0.0</td>\n",
       "      <td>0.0</td>\n",
       "      <td>0.0</td>\n",
       "      <td>0.0</td>\n",
       "      <td>0.0</td>\n",
       "      <td>0.0</td>\n",
       "      <td>0.0</td>\n",
       "      <td>0.0</td>\n",
       "      <td>188120.124209</td>\n",
       "      <td>820.582549</td>\n",
       "      <td>0.0</td>\n",
       "      <td>104241.701246</td>\n",
       "      <td>132476.572375</td>\n",
       "      <td>9820.569050</td>\n",
       "      <td>0.0</td>\n",
       "      <td>0.0</td>\n",
       "      <td>0.0</td>\n",
       "      <td>1197.000000</td>\n",
       "      <td>0.0</td>\n",
       "      <td>30172.693445</td>\n",
       "      <td>35843.231275</td>\n",
       "      <td>0.0</td>\n",
       "      <td>2901.0000</td>\n",
       "    </tr>\n",
       "    <tr>\n",
       "      <th>2</th>\n",
       "      <td>0.0</td>\n",
       "      <td>0.0</td>\n",
       "      <td>0.0</td>\n",
       "      <td>0.00</td>\n",
       "      <td>0.0</td>\n",
       "      <td>0.0</td>\n",
       "      <td>0.000000</td>\n",
       "      <td>0.0</td>\n",
       "      <td>0.0</td>\n",
       "      <td>0.0</td>\n",
       "      <td>0.0</td>\n",
       "      <td>0.0</td>\n",
       "      <td>0.0</td>\n",
       "      <td>0.000</td>\n",
       "      <td>0.0</td>\n",
       "      <td>0.0</td>\n",
       "      <td>0.0</td>\n",
       "      <td>0.0</td>\n",
       "      <td>0.00</td>\n",
       "      <td>0.00</td>\n",
       "      <td>0.00</td>\n",
       "      <td>0.0</td>\n",
       "      <td>0.00</td>\n",
       "      <td>0.00</td>\n",
       "      <td>0.0</td>\n",
       "      <td>0.0</td>\n",
       "      <td>0.0</td>\n",
       "      <td>0.00</td>\n",
       "      <td>0.0</td>\n",
       "      <td>0.00</td>\n",
       "      <td>0.0</td>\n",
       "      <td>0.0</td>\n",
       "      <td>0.0</td>\n",
       "      <td>0.00</td>\n",
       "      <td>0.0</td>\n",
       "      <td>0.0</td>\n",
       "      <td>0.0</td>\n",
       "      <td>0.0</td>\n",
       "      <td>0.0</td>\n",
       "      <td>0.0</td>\n",
       "      <td>0.0</td>\n",
       "      <td>0.0</td>\n",
       "      <td>0.0</td>\n",
       "      <td>0.0</td>\n",
       "      <td>0.0</td>\n",
       "      <td>0.0</td>\n",
       "      <td>0.0</td>\n",
       "      <td>0.0</td>\n",
       "      <td>0.0</td>\n",
       "      <td>0.0</td>\n",
       "      <td>0.0</td>\n",
       "      <td>0.0</td>\n",
       "      <td>0.0</td>\n",
       "      <td>212830.952616</td>\n",
       "      <td>6864.422760</td>\n",
       "      <td>0.0</td>\n",
       "      <td>97797.124395</td>\n",
       "      <td>146218.401708</td>\n",
       "      <td>19177.135105</td>\n",
       "      <td>0.0</td>\n",
       "      <td>0.0</td>\n",
       "      <td>0.0</td>\n",
       "      <td>1846.374375</td>\n",
       "      <td>0.0</td>\n",
       "      <td>41600.077512</td>\n",
       "      <td>31507.000000</td>\n",
       "      <td>0.0</td>\n",
       "      <td>4800.8985</td>\n",
       "    </tr>\n",
       "    <tr>\n",
       "      <th>3</th>\n",
       "      <td>0.0</td>\n",
       "      <td>0.0</td>\n",
       "      <td>0.0</td>\n",
       "      <td>0.00</td>\n",
       "      <td>0.0</td>\n",
       "      <td>0.0</td>\n",
       "      <td>0.000000</td>\n",
       "      <td>0.0</td>\n",
       "      <td>0.0</td>\n",
       "      <td>0.0</td>\n",
       "      <td>0.0</td>\n",
       "      <td>0.0</td>\n",
       "      <td>0.0</td>\n",
       "      <td>0.000</td>\n",
       "      <td>0.0</td>\n",
       "      <td>0.0</td>\n",
       "      <td>0.0</td>\n",
       "      <td>0.0</td>\n",
       "      <td>0.00</td>\n",
       "      <td>0.00</td>\n",
       "      <td>0.00</td>\n",
       "      <td>0.0</td>\n",
       "      <td>0.00</td>\n",
       "      <td>0.00</td>\n",
       "      <td>0.0</td>\n",
       "      <td>0.0</td>\n",
       "      <td>0.0</td>\n",
       "      <td>0.00</td>\n",
       "      <td>0.0</td>\n",
       "      <td>0.00</td>\n",
       "      <td>0.0</td>\n",
       "      <td>0.0</td>\n",
       "      <td>0.0</td>\n",
       "      <td>0.00</td>\n",
       "      <td>0.0</td>\n",
       "      <td>0.0</td>\n",
       "      <td>0.0</td>\n",
       "      <td>0.0</td>\n",
       "      <td>0.0</td>\n",
       "      <td>0.0</td>\n",
       "      <td>0.0</td>\n",
       "      <td>0.0</td>\n",
       "      <td>0.0</td>\n",
       "      <td>0.0</td>\n",
       "      <td>0.0</td>\n",
       "      <td>0.0</td>\n",
       "      <td>0.0</td>\n",
       "      <td>0.0</td>\n",
       "      <td>0.0</td>\n",
       "      <td>0.0</td>\n",
       "      <td>0.0</td>\n",
       "      <td>0.0</td>\n",
       "      <td>0.0</td>\n",
       "      <td>239758.061834</td>\n",
       "      <td>1648.717883</td>\n",
       "      <td>0.0</td>\n",
       "      <td>121563.793483</td>\n",
       "      <td>224399.570740</td>\n",
       "      <td>13019.858425</td>\n",
       "      <td>0.0</td>\n",
       "      <td>0.0</td>\n",
       "      <td>0.0</td>\n",
       "      <td>474.000000</td>\n",
       "      <td>0.0</td>\n",
       "      <td>33042.562832</td>\n",
       "      <td>43074.945755</td>\n",
       "      <td>0.0</td>\n",
       "      <td>7300.0000</td>\n",
       "    </tr>\n",
       "    <tr>\n",
       "      <th>4</th>\n",
       "      <td>0.0</td>\n",
       "      <td>0.0</td>\n",
       "      <td>0.0</td>\n",
       "      <td>0.00</td>\n",
       "      <td>0.0</td>\n",
       "      <td>0.0</td>\n",
       "      <td>0.000000</td>\n",
       "      <td>0.0</td>\n",
       "      <td>0.0</td>\n",
       "      <td>0.0</td>\n",
       "      <td>0.0</td>\n",
       "      <td>0.0</td>\n",
       "      <td>0.0</td>\n",
       "      <td>0.000</td>\n",
       "      <td>0.0</td>\n",
       "      <td>0.0</td>\n",
       "      <td>0.0</td>\n",
       "      <td>0.0</td>\n",
       "      <td>0.00</td>\n",
       "      <td>0.00</td>\n",
       "      <td>0.00</td>\n",
       "      <td>0.0</td>\n",
       "      <td>0.00</td>\n",
       "      <td>0.00</td>\n",
       "      <td>0.0</td>\n",
       "      <td>0.0</td>\n",
       "      <td>0.0</td>\n",
       "      <td>0.00</td>\n",
       "      <td>0.0</td>\n",
       "      <td>0.00</td>\n",
       "      <td>0.0</td>\n",
       "      <td>0.0</td>\n",
       "      <td>0.0</td>\n",
       "      <td>0.00</td>\n",
       "      <td>0.0</td>\n",
       "      <td>0.0</td>\n",
       "      <td>0.0</td>\n",
       "      <td>0.0</td>\n",
       "      <td>0.0</td>\n",
       "      <td>0.0</td>\n",
       "      <td>0.0</td>\n",
       "      <td>0.0</td>\n",
       "      <td>0.0</td>\n",
       "      <td>0.0</td>\n",
       "      <td>0.0</td>\n",
       "      <td>0.0</td>\n",
       "      <td>0.0</td>\n",
       "      <td>0.0</td>\n",
       "      <td>0.0</td>\n",
       "      <td>0.0</td>\n",
       "      <td>0.0</td>\n",
       "      <td>0.0</td>\n",
       "      <td>0.0</td>\n",
       "      <td>242566.650938</td>\n",
       "      <td>2256.001366</td>\n",
       "      <td>0.0</td>\n",
       "      <td>115554.153145</td>\n",
       "      <td>216626.618252</td>\n",
       "      <td>12401.818967</td>\n",
       "      <td>0.0</td>\n",
       "      <td>0.0</td>\n",
       "      <td>0.0</td>\n",
       "      <td>0.000000</td>\n",
       "      <td>0.0</td>\n",
       "      <td>34715.034596</td>\n",
       "      <td>36159.600000</td>\n",
       "      <td>0.0</td>\n",
       "      <td>4200.0000</td>\n",
       "    </tr>\n",
       "    <tr>\n",
       "      <th>5</th>\n",
       "      <td>0.0</td>\n",
       "      <td>0.0</td>\n",
       "      <td>0.0</td>\n",
       "      <td>0.00</td>\n",
       "      <td>0.0</td>\n",
       "      <td>0.0</td>\n",
       "      <td>0.000000</td>\n",
       "      <td>0.0</td>\n",
       "      <td>0.0</td>\n",
       "      <td>0.0</td>\n",
       "      <td>0.0</td>\n",
       "      <td>0.0</td>\n",
       "      <td>0.0</td>\n",
       "      <td>0.000</td>\n",
       "      <td>0.0</td>\n",
       "      <td>0.0</td>\n",
       "      <td>0.0</td>\n",
       "      <td>0.0</td>\n",
       "      <td>0.00</td>\n",
       "      <td>0.00</td>\n",
       "      <td>0.00</td>\n",
       "      <td>0.0</td>\n",
       "      <td>0.00</td>\n",
       "      <td>0.00</td>\n",
       "      <td>0.0</td>\n",
       "      <td>0.0</td>\n",
       "      <td>0.0</td>\n",
       "      <td>0.00</td>\n",
       "      <td>0.0</td>\n",
       "      <td>0.00</td>\n",
       "      <td>0.0</td>\n",
       "      <td>0.0</td>\n",
       "      <td>0.0</td>\n",
       "      <td>0.00</td>\n",
       "      <td>0.0</td>\n",
       "      <td>0.0</td>\n",
       "      <td>0.0</td>\n",
       "      <td>0.0</td>\n",
       "      <td>0.0</td>\n",
       "      <td>0.0</td>\n",
       "      <td>0.0</td>\n",
       "      <td>0.0</td>\n",
       "      <td>0.0</td>\n",
       "      <td>0.0</td>\n",
       "      <td>0.0</td>\n",
       "      <td>0.0</td>\n",
       "      <td>0.0</td>\n",
       "      <td>0.0</td>\n",
       "      <td>0.0</td>\n",
       "      <td>0.0</td>\n",
       "      <td>0.0</td>\n",
       "      <td>0.0</td>\n",
       "      <td>0.0</td>\n",
       "      <td>287088.187477</td>\n",
       "      <td>998.995505</td>\n",
       "      <td>0.0</td>\n",
       "      <td>116693.136268</td>\n",
       "      <td>248066.105977</td>\n",
       "      <td>17309.803320</td>\n",
       "      <td>0.0</td>\n",
       "      <td>0.0</td>\n",
       "      <td>0.0</td>\n",
       "      <td>0.000000</td>\n",
       "      <td>0.0</td>\n",
       "      <td>43858.533867</td>\n",
       "      <td>31322.500000</td>\n",
       "      <td>0.0</td>\n",
       "      <td>4605.0000</td>\n",
       "    </tr>\n",
       "    <tr>\n",
       "      <th>6</th>\n",
       "      <td>0.0</td>\n",
       "      <td>0.0</td>\n",
       "      <td>0.0</td>\n",
       "      <td>0.00</td>\n",
       "      <td>0.0</td>\n",
       "      <td>0.0</td>\n",
       "      <td>0.000000</td>\n",
       "      <td>0.0</td>\n",
       "      <td>0.0</td>\n",
       "      <td>0.0</td>\n",
       "      <td>0.0</td>\n",
       "      <td>0.0</td>\n",
       "      <td>0.0</td>\n",
       "      <td>0.000</td>\n",
       "      <td>0.0</td>\n",
       "      <td>0.0</td>\n",
       "      <td>0.0</td>\n",
       "      <td>0.0</td>\n",
       "      <td>0.00</td>\n",
       "      <td>0.00</td>\n",
       "      <td>0.00</td>\n",
       "      <td>0.0</td>\n",
       "      <td>0.00</td>\n",
       "      <td>0.00</td>\n",
       "      <td>0.0</td>\n",
       "      <td>0.0</td>\n",
       "      <td>0.0</td>\n",
       "      <td>0.00</td>\n",
       "      <td>0.0</td>\n",
       "      <td>0.00</td>\n",
       "      <td>0.0</td>\n",
       "      <td>0.0</td>\n",
       "      <td>0.0</td>\n",
       "      <td>0.00</td>\n",
       "      <td>0.0</td>\n",
       "      <td>0.0</td>\n",
       "      <td>0.0</td>\n",
       "      <td>0.0</td>\n",
       "      <td>0.0</td>\n",
       "      <td>0.0</td>\n",
       "      <td>0.0</td>\n",
       "      <td>0.0</td>\n",
       "      <td>0.0</td>\n",
       "      <td>0.0</td>\n",
       "      <td>0.0</td>\n",
       "      <td>0.0</td>\n",
       "      <td>0.0</td>\n",
       "      <td>0.0</td>\n",
       "      <td>0.0</td>\n",
       "      <td>0.0</td>\n",
       "      <td>0.0</td>\n",
       "      <td>0.0</td>\n",
       "      <td>0.0</td>\n",
       "      <td>267931.579625</td>\n",
       "      <td>-111.611679</td>\n",
       "      <td>0.0</td>\n",
       "      <td>164019.867382</td>\n",
       "      <td>215674.416990</td>\n",
       "      <td>25675.940582</td>\n",
       "      <td>0.0</td>\n",
       "      <td>0.0</td>\n",
       "      <td>0.0</td>\n",
       "      <td>50.000000</td>\n",
       "      <td>0.0</td>\n",
       "      <td>47483.373419</td>\n",
       "      <td>10773.000000</td>\n",
       "      <td>0.0</td>\n",
       "      <td>2950.2995</td>\n",
       "    </tr>\n",
       "    <tr>\n",
       "      <th>7</th>\n",
       "      <td>0.0</td>\n",
       "      <td>0.0</td>\n",
       "      <td>170961.5</td>\n",
       "      <td>4092.60</td>\n",
       "      <td>0.0</td>\n",
       "      <td>90139.0</td>\n",
       "      <td>64904.596238</td>\n",
       "      <td>9509.0</td>\n",
       "      <td>0.0</td>\n",
       "      <td>0.0</td>\n",
       "      <td>0.0</td>\n",
       "      <td>0.0</td>\n",
       "      <td>0.0</td>\n",
       "      <td>68339.748</td>\n",
       "      <td>0.0</td>\n",
       "      <td>0.0</td>\n",
       "      <td>15857.0</td>\n",
       "      <td>0.0</td>\n",
       "      <td>0.00</td>\n",
       "      <td>0.00</td>\n",
       "      <td>0.00</td>\n",
       "      <td>0.0</td>\n",
       "      <td>0.00</td>\n",
       "      <td>0.00</td>\n",
       "      <td>0.0</td>\n",
       "      <td>0.0</td>\n",
       "      <td>0.0</td>\n",
       "      <td>0.00</td>\n",
       "      <td>0.0</td>\n",
       "      <td>0.00</td>\n",
       "      <td>0.0</td>\n",
       "      <td>0.0</td>\n",
       "      <td>0.0</td>\n",
       "      <td>0.00</td>\n",
       "      <td>0.0</td>\n",
       "      <td>0.0</td>\n",
       "      <td>0.0</td>\n",
       "      <td>0.0</td>\n",
       "      <td>0.0</td>\n",
       "      <td>0.0</td>\n",
       "      <td>0.0</td>\n",
       "      <td>0.0</td>\n",
       "      <td>0.0</td>\n",
       "      <td>0.0</td>\n",
       "      <td>0.0</td>\n",
       "      <td>0.0</td>\n",
       "      <td>0.0</td>\n",
       "      <td>0.0</td>\n",
       "      <td>0.0</td>\n",
       "      <td>0.0</td>\n",
       "      <td>0.0</td>\n",
       "      <td>0.0</td>\n",
       "      <td>0.0</td>\n",
       "      <td>261952.377054</td>\n",
       "      <td>25069.188063</td>\n",
       "      <td>0.0</td>\n",
       "      <td>152559.274057</td>\n",
       "      <td>217338.140267</td>\n",
       "      <td>28001.313450</td>\n",
       "      <td>0.0</td>\n",
       "      <td>0.0</td>\n",
       "      <td>0.0</td>\n",
       "      <td>549.000000</td>\n",
       "      <td>0.0</td>\n",
       "      <td>56857.267568</td>\n",
       "      <td>30963.100000</td>\n",
       "      <td>0.0</td>\n",
       "      <td>2595.0000</td>\n",
       "    </tr>\n",
       "    <tr>\n",
       "      <th>8</th>\n",
       "      <td>0.0</td>\n",
       "      <td>0.0</td>\n",
       "      <td>197682.1</td>\n",
       "      <td>5026.70</td>\n",
       "      <td>0.0</td>\n",
       "      <td>112871.8</td>\n",
       "      <td>73146.200000</td>\n",
       "      <td>15486.4</td>\n",
       "      <td>0.0</td>\n",
       "      <td>0.0</td>\n",
       "      <td>0.0</td>\n",
       "      <td>0.0</td>\n",
       "      <td>0.0</td>\n",
       "      <td>122066.000</td>\n",
       "      <td>0.0</td>\n",
       "      <td>0.0</td>\n",
       "      <td>41324.9</td>\n",
       "      <td>0.0</td>\n",
       "      <td>0.00</td>\n",
       "      <td>0.00</td>\n",
       "      <td>0.00</td>\n",
       "      <td>0.0</td>\n",
       "      <td>0.00</td>\n",
       "      <td>0.00</td>\n",
       "      <td>0.0</td>\n",
       "      <td>0.0</td>\n",
       "      <td>0.0</td>\n",
       "      <td>0.00</td>\n",
       "      <td>0.0</td>\n",
       "      <td>0.00</td>\n",
       "      <td>0.0</td>\n",
       "      <td>0.0</td>\n",
       "      <td>0.0</td>\n",
       "      <td>0.00</td>\n",
       "      <td>0.0</td>\n",
       "      <td>0.0</td>\n",
       "      <td>0.0</td>\n",
       "      <td>0.0</td>\n",
       "      <td>0.0</td>\n",
       "      <td>0.0</td>\n",
       "      <td>0.0</td>\n",
       "      <td>0.0</td>\n",
       "      <td>0.0</td>\n",
       "      <td>0.0</td>\n",
       "      <td>0.0</td>\n",
       "      <td>0.0</td>\n",
       "      <td>0.0</td>\n",
       "      <td>0.0</td>\n",
       "      <td>0.0</td>\n",
       "      <td>0.0</td>\n",
       "      <td>0.0</td>\n",
       "      <td>0.0</td>\n",
       "      <td>0.0</td>\n",
       "      <td>272317.200000</td>\n",
       "      <td>78761.500000</td>\n",
       "      <td>0.0</td>\n",
       "      <td>147840.200000</td>\n",
       "      <td>222918.700000</td>\n",
       "      <td>16067.800000</td>\n",
       "      <td>0.0</td>\n",
       "      <td>0.0</td>\n",
       "      <td>0.0</td>\n",
       "      <td>15300.000000</td>\n",
       "      <td>0.0</td>\n",
       "      <td>8943.400000</td>\n",
       "      <td>27052.400000</td>\n",
       "      <td>0.0</td>\n",
       "      <td>4200.0000</td>\n",
       "    </tr>\n",
       "    <tr>\n",
       "      <th>9</th>\n",
       "      <td>25689.0</td>\n",
       "      <td>0.0</td>\n",
       "      <td>182489.5</td>\n",
       "      <td>3547.40</td>\n",
       "      <td>0.0</td>\n",
       "      <td>93350.0</td>\n",
       "      <td>64679.100000</td>\n",
       "      <td>13194.0</td>\n",
       "      <td>0.0</td>\n",
       "      <td>0.0</td>\n",
       "      <td>0.0</td>\n",
       "      <td>125.0</td>\n",
       "      <td>0.0</td>\n",
       "      <td>108215.000</td>\n",
       "      <td>250.0</td>\n",
       "      <td>0.0</td>\n",
       "      <td>60393.5</td>\n",
       "      <td>0.0</td>\n",
       "      <td>0.00</td>\n",
       "      <td>0.00</td>\n",
       "      <td>0.00</td>\n",
       "      <td>0.0</td>\n",
       "      <td>0.00</td>\n",
       "      <td>0.00</td>\n",
       "      <td>0.0</td>\n",
       "      <td>0.0</td>\n",
       "      <td>0.0</td>\n",
       "      <td>0.00</td>\n",
       "      <td>0.0</td>\n",
       "      <td>0.00</td>\n",
       "      <td>0.0</td>\n",
       "      <td>0.0</td>\n",
       "      <td>0.0</td>\n",
       "      <td>0.00</td>\n",
       "      <td>0.0</td>\n",
       "      <td>0.0</td>\n",
       "      <td>0.0</td>\n",
       "      <td>0.0</td>\n",
       "      <td>0.0</td>\n",
       "      <td>0.0</td>\n",
       "      <td>0.0</td>\n",
       "      <td>0.0</td>\n",
       "      <td>0.0</td>\n",
       "      <td>0.0</td>\n",
       "      <td>0.0</td>\n",
       "      <td>0.0</td>\n",
       "      <td>0.0</td>\n",
       "      <td>0.0</td>\n",
       "      <td>0.0</td>\n",
       "      <td>0.0</td>\n",
       "      <td>0.0</td>\n",
       "      <td>0.0</td>\n",
       "      <td>0.0</td>\n",
       "      <td>254240.300000</td>\n",
       "      <td>64375.900000</td>\n",
       "      <td>0.0</td>\n",
       "      <td>140849.500000</td>\n",
       "      <td>226569.350000</td>\n",
       "      <td>12351.200000</td>\n",
       "      <td>0.0</td>\n",
       "      <td>0.0</td>\n",
       "      <td>0.0</td>\n",
       "      <td>8399.000000</td>\n",
       "      <td>0.0</td>\n",
       "      <td>12926.700000</td>\n",
       "      <td>35187.000000</td>\n",
       "      <td>0.0</td>\n",
       "      <td>4926.0000</td>\n",
       "    </tr>\n",
       "    <tr>\n",
       "      <th>10</th>\n",
       "      <td>38318.0</td>\n",
       "      <td>0.0</td>\n",
       "      <td>227795.7</td>\n",
       "      <td>2547.00</td>\n",
       "      <td>0.0</td>\n",
       "      <td>123151.6</td>\n",
       "      <td>130901.500000</td>\n",
       "      <td>21864.0</td>\n",
       "      <td>0.0</td>\n",
       "      <td>0.0</td>\n",
       "      <td>0.0</td>\n",
       "      <td>0.0</td>\n",
       "      <td>0.0</td>\n",
       "      <td>67177.000</td>\n",
       "      <td>1795.0</td>\n",
       "      <td>0.0</td>\n",
       "      <td>108721.8</td>\n",
       "      <td>0.0</td>\n",
       "      <td>0.00</td>\n",
       "      <td>0.00</td>\n",
       "      <td>0.00</td>\n",
       "      <td>0.0</td>\n",
       "      <td>0.00</td>\n",
       "      <td>0.00</td>\n",
       "      <td>0.0</td>\n",
       "      <td>0.0</td>\n",
       "      <td>0.0</td>\n",
       "      <td>0.00</td>\n",
       "      <td>0.0</td>\n",
       "      <td>0.00</td>\n",
       "      <td>0.0</td>\n",
       "      <td>0.0</td>\n",
       "      <td>0.0</td>\n",
       "      <td>0.00</td>\n",
       "      <td>0.0</td>\n",
       "      <td>0.0</td>\n",
       "      <td>0.0</td>\n",
       "      <td>0.0</td>\n",
       "      <td>0.0</td>\n",
       "      <td>0.0</td>\n",
       "      <td>0.0</td>\n",
       "      <td>0.0</td>\n",
       "      <td>0.0</td>\n",
       "      <td>0.0</td>\n",
       "      <td>0.0</td>\n",
       "      <td>0.0</td>\n",
       "      <td>0.0</td>\n",
       "      <td>0.0</td>\n",
       "      <td>0.0</td>\n",
       "      <td>0.0</td>\n",
       "      <td>0.0</td>\n",
       "      <td>0.0</td>\n",
       "      <td>0.0</td>\n",
       "      <td>303755.500000</td>\n",
       "      <td>81416.700000</td>\n",
       "      <td>0.0</td>\n",
       "      <td>164346.500000</td>\n",
       "      <td>222771.200000</td>\n",
       "      <td>18615.600000</td>\n",
       "      <td>0.0</td>\n",
       "      <td>0.0</td>\n",
       "      <td>0.0</td>\n",
       "      <td>490.000000</td>\n",
       "      <td>0.0</td>\n",
       "      <td>9069.600000</td>\n",
       "      <td>35012.300000</td>\n",
       "      <td>0.0</td>\n",
       "      <td>3139.0000</td>\n",
       "    </tr>\n",
       "    <tr>\n",
       "      <th>11</th>\n",
       "      <td>31598.4</td>\n",
       "      <td>0.0</td>\n",
       "      <td>242507.1</td>\n",
       "      <td>3545.90</td>\n",
       "      <td>0.0</td>\n",
       "      <td>126116.2</td>\n",
       "      <td>142346.200000</td>\n",
       "      <td>8927.0</td>\n",
       "      <td>0.0</td>\n",
       "      <td>0.0</td>\n",
       "      <td>0.0</td>\n",
       "      <td>0.0</td>\n",
       "      <td>0.0</td>\n",
       "      <td>31428.800</td>\n",
       "      <td>1944.0</td>\n",
       "      <td>0.0</td>\n",
       "      <td>110152.6</td>\n",
       "      <td>0.0</td>\n",
       "      <td>0.00</td>\n",
       "      <td>0.00</td>\n",
       "      <td>0.00</td>\n",
       "      <td>0.0</td>\n",
       "      <td>0.00</td>\n",
       "      <td>0.00</td>\n",
       "      <td>0.0</td>\n",
       "      <td>0.0</td>\n",
       "      <td>0.0</td>\n",
       "      <td>0.00</td>\n",
       "      <td>0.0</td>\n",
       "      <td>0.00</td>\n",
       "      <td>0.0</td>\n",
       "      <td>0.0</td>\n",
       "      <td>0.0</td>\n",
       "      <td>0.00</td>\n",
       "      <td>0.0</td>\n",
       "      <td>0.0</td>\n",
       "      <td>0.0</td>\n",
       "      <td>0.0</td>\n",
       "      <td>0.0</td>\n",
       "      <td>0.0</td>\n",
       "      <td>0.0</td>\n",
       "      <td>0.0</td>\n",
       "      <td>0.0</td>\n",
       "      <td>0.0</td>\n",
       "      <td>0.0</td>\n",
       "      <td>0.0</td>\n",
       "      <td>0.0</td>\n",
       "      <td>0.0</td>\n",
       "      <td>0.0</td>\n",
       "      <td>0.0</td>\n",
       "      <td>0.0</td>\n",
       "      <td>0.0</td>\n",
       "      <td>0.0</td>\n",
       "      <td>315127.700000</td>\n",
       "      <td>70672.700000</td>\n",
       "      <td>0.0</td>\n",
       "      <td>125663.600000</td>\n",
       "      <td>230506.100000</td>\n",
       "      <td>15390.000000</td>\n",
       "      <td>0.0</td>\n",
       "      <td>0.0</td>\n",
       "      <td>0.0</td>\n",
       "      <td>798.000000</td>\n",
       "      <td>0.0</td>\n",
       "      <td>8246.200000</td>\n",
       "      <td>36800.100000</td>\n",
       "      <td>0.0</td>\n",
       "      <td>1312.0000</td>\n",
       "    </tr>\n",
       "    <tr>\n",
       "      <th>12</th>\n",
       "      <td>44651.0</td>\n",
       "      <td>0.0</td>\n",
       "      <td>194043.7</td>\n",
       "      <td>4116.75</td>\n",
       "      <td>0.0</td>\n",
       "      <td>87779.5</td>\n",
       "      <td>103758.000000</td>\n",
       "      <td>10091.0</td>\n",
       "      <td>0.0</td>\n",
       "      <td>0.0</td>\n",
       "      <td>0.0</td>\n",
       "      <td>0.0</td>\n",
       "      <td>0.0</td>\n",
       "      <td>24138.100</td>\n",
       "      <td>3990.0</td>\n",
       "      <td>0.0</td>\n",
       "      <td>91570.0</td>\n",
       "      <td>0.0</td>\n",
       "      <td>0.00</td>\n",
       "      <td>0.00</td>\n",
       "      <td>0.00</td>\n",
       "      <td>0.0</td>\n",
       "      <td>0.00</td>\n",
       "      <td>0.00</td>\n",
       "      <td>0.0</td>\n",
       "      <td>0.0</td>\n",
       "      <td>0.0</td>\n",
       "      <td>0.00</td>\n",
       "      <td>0.0</td>\n",
       "      <td>0.00</td>\n",
       "      <td>0.0</td>\n",
       "      <td>0.0</td>\n",
       "      <td>0.0</td>\n",
       "      <td>0.00</td>\n",
       "      <td>0.0</td>\n",
       "      <td>0.0</td>\n",
       "      <td>0.0</td>\n",
       "      <td>0.0</td>\n",
       "      <td>0.0</td>\n",
       "      <td>0.0</td>\n",
       "      <td>0.0</td>\n",
       "      <td>0.0</td>\n",
       "      <td>0.0</td>\n",
       "      <td>0.0</td>\n",
       "      <td>0.0</td>\n",
       "      <td>0.0</td>\n",
       "      <td>0.0</td>\n",
       "      <td>0.0</td>\n",
       "      <td>0.0</td>\n",
       "      <td>0.0</td>\n",
       "      <td>0.0</td>\n",
       "      <td>0.0</td>\n",
       "      <td>0.0</td>\n",
       "      <td>268232.400000</td>\n",
       "      <td>53700.200000</td>\n",
       "      <td>0.0</td>\n",
       "      <td>112192.600000</td>\n",
       "      <td>206756.400000</td>\n",
       "      <td>17753.700000</td>\n",
       "      <td>0.0</td>\n",
       "      <td>0.0</td>\n",
       "      <td>0.0</td>\n",
       "      <td>0.000000</td>\n",
       "      <td>0.0</td>\n",
       "      <td>7441.700000</td>\n",
       "      <td>30481.300000</td>\n",
       "      <td>0.0</td>\n",
       "      <td>2670.0000</td>\n",
       "    </tr>\n",
       "    <tr>\n",
       "      <th rowspan=\"9\" valign=\"top\">2020</th>\n",
       "      <th>1</th>\n",
       "      <td>12684.0</td>\n",
       "      <td>0.0</td>\n",
       "      <td>221824.7</td>\n",
       "      <td>5040.20</td>\n",
       "      <td>0.0</td>\n",
       "      <td>115963.0</td>\n",
       "      <td>162601.000000</td>\n",
       "      <td>10875.0</td>\n",
       "      <td>0.0</td>\n",
       "      <td>0.0</td>\n",
       "      <td>0.0</td>\n",
       "      <td>0.0</td>\n",
       "      <td>0.0</td>\n",
       "      <td>40224.500</td>\n",
       "      <td>0.0</td>\n",
       "      <td>0.0</td>\n",
       "      <td>153483.4</td>\n",
       "      <td>0.0</td>\n",
       "      <td>0.00</td>\n",
       "      <td>0.00</td>\n",
       "      <td>0.00</td>\n",
       "      <td>0.0</td>\n",
       "      <td>0.00</td>\n",
       "      <td>0.00</td>\n",
       "      <td>0.0</td>\n",
       "      <td>0.0</td>\n",
       "      <td>0.0</td>\n",
       "      <td>0.00</td>\n",
       "      <td>0.0</td>\n",
       "      <td>0.00</td>\n",
       "      <td>0.0</td>\n",
       "      <td>0.0</td>\n",
       "      <td>0.0</td>\n",
       "      <td>0.00</td>\n",
       "      <td>0.0</td>\n",
       "      <td>0.0</td>\n",
       "      <td>0.0</td>\n",
       "      <td>0.0</td>\n",
       "      <td>0.0</td>\n",
       "      <td>0.0</td>\n",
       "      <td>0.0</td>\n",
       "      <td>0.0</td>\n",
       "      <td>0.0</td>\n",
       "      <td>0.0</td>\n",
       "      <td>0.0</td>\n",
       "      <td>0.0</td>\n",
       "      <td>0.0</td>\n",
       "      <td>0.0</td>\n",
       "      <td>0.0</td>\n",
       "      <td>0.0</td>\n",
       "      <td>0.0</td>\n",
       "      <td>0.0</td>\n",
       "      <td>0.0</td>\n",
       "      <td>272089.700000</td>\n",
       "      <td>77835.900000</td>\n",
       "      <td>0.0</td>\n",
       "      <td>115633.100000</td>\n",
       "      <td>262927.100000</td>\n",
       "      <td>28911.200000</td>\n",
       "      <td>0.0</td>\n",
       "      <td>0.0</td>\n",
       "      <td>0.0</td>\n",
       "      <td>0.000000</td>\n",
       "      <td>0.0</td>\n",
       "      <td>10714.300000</td>\n",
       "      <td>25586.400000</td>\n",
       "      <td>0.0</td>\n",
       "      <td>4055.0000</td>\n",
       "    </tr>\n",
       "    <tr>\n",
       "      <th>2</th>\n",
       "      <td>873.0</td>\n",
       "      <td>0.0</td>\n",
       "      <td>199989.0</td>\n",
       "      <td>7118.50</td>\n",
       "      <td>0.0</td>\n",
       "      <td>101920.7</td>\n",
       "      <td>151366.000000</td>\n",
       "      <td>10883.0</td>\n",
       "      <td>0.0</td>\n",
       "      <td>0.0</td>\n",
       "      <td>0.0</td>\n",
       "      <td>0.0</td>\n",
       "      <td>0.0</td>\n",
       "      <td>54266.800</td>\n",
       "      <td>0.0</td>\n",
       "      <td>0.0</td>\n",
       "      <td>118709.8</td>\n",
       "      <td>0.0</td>\n",
       "      <td>0.00</td>\n",
       "      <td>24053.00</td>\n",
       "      <td>23198.70</td>\n",
       "      <td>2659.5</td>\n",
       "      <td>10724.00</td>\n",
       "      <td>18107.00</td>\n",
       "      <td>0.0</td>\n",
       "      <td>0.0</td>\n",
       "      <td>0.0</td>\n",
       "      <td>0.00</td>\n",
       "      <td>0.0</td>\n",
       "      <td>0.00</td>\n",
       "      <td>2176.4</td>\n",
       "      <td>399.0</td>\n",
       "      <td>0.0</td>\n",
       "      <td>8042.00</td>\n",
       "      <td>0.0</td>\n",
       "      <td>0.0</td>\n",
       "      <td>0.0</td>\n",
       "      <td>0.0</td>\n",
       "      <td>0.0</td>\n",
       "      <td>0.0</td>\n",
       "      <td>0.0</td>\n",
       "      <td>0.0</td>\n",
       "      <td>0.0</td>\n",
       "      <td>0.0</td>\n",
       "      <td>0.0</td>\n",
       "      <td>0.0</td>\n",
       "      <td>0.0</td>\n",
       "      <td>0.0</td>\n",
       "      <td>0.0</td>\n",
       "      <td>0.0</td>\n",
       "      <td>0.0</td>\n",
       "      <td>0.0</td>\n",
       "      <td>0.0</td>\n",
       "      <td>285870.700000</td>\n",
       "      <td>72862.200000</td>\n",
       "      <td>0.0</td>\n",
       "      <td>112986.600000</td>\n",
       "      <td>276036.600000</td>\n",
       "      <td>25327.000000</td>\n",
       "      <td>0.0</td>\n",
       "      <td>0.0</td>\n",
       "      <td>0.0</td>\n",
       "      <td>0.000000</td>\n",
       "      <td>0.0</td>\n",
       "      <td>7093.200000</td>\n",
       "      <td>19441.800000</td>\n",
       "      <td>0.0</td>\n",
       "      <td>2910.0000</td>\n",
       "    </tr>\n",
       "    <tr>\n",
       "      <th>3</th>\n",
       "      <td>0.0</td>\n",
       "      <td>0.0</td>\n",
       "      <td>208732.6</td>\n",
       "      <td>10064.00</td>\n",
       "      <td>0.0</td>\n",
       "      <td>112194.1</td>\n",
       "      <td>187825.000000</td>\n",
       "      <td>11577.0</td>\n",
       "      <td>0.0</td>\n",
       "      <td>0.0</td>\n",
       "      <td>0.0</td>\n",
       "      <td>0.0</td>\n",
       "      <td>0.0</td>\n",
       "      <td>58094.800</td>\n",
       "      <td>0.0</td>\n",
       "      <td>0.0</td>\n",
       "      <td>130387.5</td>\n",
       "      <td>0.0</td>\n",
       "      <td>4588.00</td>\n",
       "      <td>142456.00</td>\n",
       "      <td>74654.20</td>\n",
       "      <td>5889.0</td>\n",
       "      <td>50512.00</td>\n",
       "      <td>70559.50</td>\n",
       "      <td>0.0</td>\n",
       "      <td>0.0</td>\n",
       "      <td>399.0</td>\n",
       "      <td>0.00</td>\n",
       "      <td>0.0</td>\n",
       "      <td>34177.50</td>\n",
       "      <td>19193.8</td>\n",
       "      <td>8932.0</td>\n",
       "      <td>0.0</td>\n",
       "      <td>90223.00</td>\n",
       "      <td>0.0</td>\n",
       "      <td>0.0</td>\n",
       "      <td>0.0</td>\n",
       "      <td>0.0</td>\n",
       "      <td>0.0</td>\n",
       "      <td>0.0</td>\n",
       "      <td>0.0</td>\n",
       "      <td>0.0</td>\n",
       "      <td>0.0</td>\n",
       "      <td>0.0</td>\n",
       "      <td>0.0</td>\n",
       "      <td>0.0</td>\n",
       "      <td>0.0</td>\n",
       "      <td>0.0</td>\n",
       "      <td>0.0</td>\n",
       "      <td>0.0</td>\n",
       "      <td>0.0</td>\n",
       "      <td>0.0</td>\n",
       "      <td>0.0</td>\n",
       "      <td>298734.900000</td>\n",
       "      <td>137041.950000</td>\n",
       "      <td>0.0</td>\n",
       "      <td>113751.000000</td>\n",
       "      <td>262716.700000</td>\n",
       "      <td>31719.800000</td>\n",
       "      <td>0.0</td>\n",
       "      <td>0.0</td>\n",
       "      <td>0.0</td>\n",
       "      <td>0.000000</td>\n",
       "      <td>0.0</td>\n",
       "      <td>21516.100000</td>\n",
       "      <td>0.000000</td>\n",
       "      <td>0.0</td>\n",
       "      <td>4549.0000</td>\n",
       "    </tr>\n",
       "    <tr>\n",
       "      <th>4</th>\n",
       "      <td>0.0</td>\n",
       "      <td>0.0</td>\n",
       "      <td>214775.5</td>\n",
       "      <td>41884.00</td>\n",
       "      <td>0.0</td>\n",
       "      <td>78971.5</td>\n",
       "      <td>140847.000000</td>\n",
       "      <td>10467.0</td>\n",
       "      <td>0.0</td>\n",
       "      <td>0.0</td>\n",
       "      <td>0.0</td>\n",
       "      <td>0.0</td>\n",
       "      <td>0.0</td>\n",
       "      <td>54006.300</td>\n",
       "      <td>0.0</td>\n",
       "      <td>0.0</td>\n",
       "      <td>148406.0</td>\n",
       "      <td>0.0</td>\n",
       "      <td>36255.50</td>\n",
       "      <td>101164.20</td>\n",
       "      <td>40510.60</td>\n",
       "      <td>0.0</td>\n",
       "      <td>41297.00</td>\n",
       "      <td>82396.50</td>\n",
       "      <td>7343.0</td>\n",
       "      <td>0.0</td>\n",
       "      <td>2193.0</td>\n",
       "      <td>0.00</td>\n",
       "      <td>0.0</td>\n",
       "      <td>57972.25</td>\n",
       "      <td>28857.0</td>\n",
       "      <td>0.0</td>\n",
       "      <td>0.0</td>\n",
       "      <td>105795.00</td>\n",
       "      <td>0.0</td>\n",
       "      <td>0.0</td>\n",
       "      <td>0.0</td>\n",
       "      <td>0.0</td>\n",
       "      <td>0.0</td>\n",
       "      <td>0.0</td>\n",
       "      <td>0.0</td>\n",
       "      <td>0.0</td>\n",
       "      <td>0.0</td>\n",
       "      <td>0.0</td>\n",
       "      <td>0.0</td>\n",
       "      <td>0.0</td>\n",
       "      <td>0.0</td>\n",
       "      <td>0.0</td>\n",
       "      <td>0.0</td>\n",
       "      <td>0.0</td>\n",
       "      <td>0.0</td>\n",
       "      <td>0.0</td>\n",
       "      <td>0.0</td>\n",
       "      <td>295299.700000</td>\n",
       "      <td>59315.000000</td>\n",
       "      <td>0.0</td>\n",
       "      <td>90205.500000</td>\n",
       "      <td>220658.600000</td>\n",
       "      <td>18899.000000</td>\n",
       "      <td>0.0</td>\n",
       "      <td>0.0</td>\n",
       "      <td>0.0</td>\n",
       "      <td>0.000000</td>\n",
       "      <td>0.0</td>\n",
       "      <td>7456.000000</td>\n",
       "      <td>0.000000</td>\n",
       "      <td>0.0</td>\n",
       "      <td>34894.0000</td>\n",
       "    </tr>\n",
       "    <tr>\n",
       "      <th>5</th>\n",
       "      <td>0.0</td>\n",
       "      <td>0.0</td>\n",
       "      <td>200212.5</td>\n",
       "      <td>48833.25</td>\n",
       "      <td>0.0</td>\n",
       "      <td>115457.0</td>\n",
       "      <td>136023.500000</td>\n",
       "      <td>9502.0</td>\n",
       "      <td>0.0</td>\n",
       "      <td>0.0</td>\n",
       "      <td>0.0</td>\n",
       "      <td>0.0</td>\n",
       "      <td>0.0</td>\n",
       "      <td>31593.500</td>\n",
       "      <td>0.0</td>\n",
       "      <td>0.0</td>\n",
       "      <td>135928.0</td>\n",
       "      <td>0.0</td>\n",
       "      <td>46285.50</td>\n",
       "      <td>122831.20</td>\n",
       "      <td>56838.00</td>\n",
       "      <td>0.0</td>\n",
       "      <td>49394.20</td>\n",
       "      <td>106099.35</td>\n",
       "      <td>13024.5</td>\n",
       "      <td>0.0</td>\n",
       "      <td>6879.0</td>\n",
       "      <td>0.00</td>\n",
       "      <td>0.0</td>\n",
       "      <td>71946.00</td>\n",
       "      <td>45839.0</td>\n",
       "      <td>0.0</td>\n",
       "      <td>0.0</td>\n",
       "      <td>94945.25</td>\n",
       "      <td>0.0</td>\n",
       "      <td>0.0</td>\n",
       "      <td>0.0</td>\n",
       "      <td>0.0</td>\n",
       "      <td>0.0</td>\n",
       "      <td>0.0</td>\n",
       "      <td>0.0</td>\n",
       "      <td>0.0</td>\n",
       "      <td>0.0</td>\n",
       "      <td>0.0</td>\n",
       "      <td>0.0</td>\n",
       "      <td>0.0</td>\n",
       "      <td>0.0</td>\n",
       "      <td>0.0</td>\n",
       "      <td>0.0</td>\n",
       "      <td>0.0</td>\n",
       "      <td>0.0</td>\n",
       "      <td>0.0</td>\n",
       "      <td>0.0</td>\n",
       "      <td>306842.600000</td>\n",
       "      <td>95952.200000</td>\n",
       "      <td>0.0</td>\n",
       "      <td>54258.300000</td>\n",
       "      <td>302636.900000</td>\n",
       "      <td>28237.000000</td>\n",
       "      <td>0.0</td>\n",
       "      <td>0.0</td>\n",
       "      <td>0.0</td>\n",
       "      <td>0.000000</td>\n",
       "      <td>0.0</td>\n",
       "      <td>7831.700000</td>\n",
       "      <td>0.000000</td>\n",
       "      <td>0.0</td>\n",
       "      <td>45371.0000</td>\n",
       "    </tr>\n",
       "    <tr>\n",
       "      <th>6</th>\n",
       "      <td>0.0</td>\n",
       "      <td>0.0</td>\n",
       "      <td>213449.1</td>\n",
       "      <td>73635.00</td>\n",
       "      <td>0.0</td>\n",
       "      <td>119734.5</td>\n",
       "      <td>193195.000000</td>\n",
       "      <td>9414.0</td>\n",
       "      <td>0.0</td>\n",
       "      <td>0.0</td>\n",
       "      <td>0.0</td>\n",
       "      <td>4630.5</td>\n",
       "      <td>0.0</td>\n",
       "      <td>26867.000</td>\n",
       "      <td>0.0</td>\n",
       "      <td>0.0</td>\n",
       "      <td>195370.0</td>\n",
       "      <td>0.0</td>\n",
       "      <td>56806.25</td>\n",
       "      <td>178094.10</td>\n",
       "      <td>99025.35</td>\n",
       "      <td>0.0</td>\n",
       "      <td>76302.25</td>\n",
       "      <td>167776.50</td>\n",
       "      <td>11476.0</td>\n",
       "      <td>0.0</td>\n",
       "      <td>9386.0</td>\n",
       "      <td>0.00</td>\n",
       "      <td>0.0</td>\n",
       "      <td>84816.50</td>\n",
       "      <td>57670.0</td>\n",
       "      <td>0.0</td>\n",
       "      <td>0.0</td>\n",
       "      <td>107947.00</td>\n",
       "      <td>0.0</td>\n",
       "      <td>0.0</td>\n",
       "      <td>0.0</td>\n",
       "      <td>0.0</td>\n",
       "      <td>0.0</td>\n",
       "      <td>0.0</td>\n",
       "      <td>0.0</td>\n",
       "      <td>0.0</td>\n",
       "      <td>0.0</td>\n",
       "      <td>0.0</td>\n",
       "      <td>0.0</td>\n",
       "      <td>0.0</td>\n",
       "      <td>0.0</td>\n",
       "      <td>0.0</td>\n",
       "      <td>0.0</td>\n",
       "      <td>0.0</td>\n",
       "      <td>0.0</td>\n",
       "      <td>0.0</td>\n",
       "      <td>0.0</td>\n",
       "      <td>343568.800000</td>\n",
       "      <td>146506.100000</td>\n",
       "      <td>0.0</td>\n",
       "      <td>135222.200000</td>\n",
       "      <td>328322.200000</td>\n",
       "      <td>22257.000000</td>\n",
       "      <td>0.0</td>\n",
       "      <td>0.0</td>\n",
       "      <td>0.0</td>\n",
       "      <td>5627.000000</td>\n",
       "      <td>0.0</td>\n",
       "      <td>13552.500000</td>\n",
       "      <td>0.000000</td>\n",
       "      <td>0.0</td>\n",
       "      <td>55050.1000</td>\n",
       "    </tr>\n",
       "    <tr>\n",
       "      <th>7</th>\n",
       "      <td>0.0</td>\n",
       "      <td>0.0</td>\n",
       "      <td>266223.5</td>\n",
       "      <td>128716.10</td>\n",
       "      <td>0.0</td>\n",
       "      <td>130554.2</td>\n",
       "      <td>267816.000000</td>\n",
       "      <td>14501.0</td>\n",
       "      <td>0.0</td>\n",
       "      <td>0.0</td>\n",
       "      <td>0.0</td>\n",
       "      <td>14116.0</td>\n",
       "      <td>0.0</td>\n",
       "      <td>46110.000</td>\n",
       "      <td>0.0</td>\n",
       "      <td>0.0</td>\n",
       "      <td>204950.0</td>\n",
       "      <td>0.0</td>\n",
       "      <td>69577.50</td>\n",
       "      <td>196105.10</td>\n",
       "      <td>157146.00</td>\n",
       "      <td>0.0</td>\n",
       "      <td>129363.00</td>\n",
       "      <td>231155.60</td>\n",
       "      <td>22943.0</td>\n",
       "      <td>0.0</td>\n",
       "      <td>3150.0</td>\n",
       "      <td>14264.25</td>\n",
       "      <td>0.0</td>\n",
       "      <td>101862.00</td>\n",
       "      <td>23592.0</td>\n",
       "      <td>0.0</td>\n",
       "      <td>0.0</td>\n",
       "      <td>143751.00</td>\n",
       "      <td>0.0</td>\n",
       "      <td>0.0</td>\n",
       "      <td>0.0</td>\n",
       "      <td>0.0</td>\n",
       "      <td>0.0</td>\n",
       "      <td>0.0</td>\n",
       "      <td>0.0</td>\n",
       "      <td>0.0</td>\n",
       "      <td>0.0</td>\n",
       "      <td>0.0</td>\n",
       "      <td>0.0</td>\n",
       "      <td>0.0</td>\n",
       "      <td>0.0</td>\n",
       "      <td>0.0</td>\n",
       "      <td>0.0</td>\n",
       "      <td>0.0</td>\n",
       "      <td>0.0</td>\n",
       "      <td>0.0</td>\n",
       "      <td>0.0</td>\n",
       "      <td>349985.000000</td>\n",
       "      <td>184657.900000</td>\n",
       "      <td>0.0</td>\n",
       "      <td>198493.000000</td>\n",
       "      <td>346318.600000</td>\n",
       "      <td>33236.000000</td>\n",
       "      <td>0.0</td>\n",
       "      <td>0.0</td>\n",
       "      <td>0.0</td>\n",
       "      <td>3889.000000</td>\n",
       "      <td>0.0</td>\n",
       "      <td>14493.000000</td>\n",
       "      <td>0.000000</td>\n",
       "      <td>0.0</td>\n",
       "      <td>72666.0000</td>\n",
       "    </tr>\n",
       "    <tr>\n",
       "      <th>8</th>\n",
       "      <td>0.0</td>\n",
       "      <td>0.0</td>\n",
       "      <td>297095.3</td>\n",
       "      <td>132070.50</td>\n",
       "      <td>0.0</td>\n",
       "      <td>129117.0</td>\n",
       "      <td>233173.500000</td>\n",
       "      <td>11841.0</td>\n",
       "      <td>0.0</td>\n",
       "      <td>0.0</td>\n",
       "      <td>0.0</td>\n",
       "      <td>17446.0</td>\n",
       "      <td>0.0</td>\n",
       "      <td>26509.000</td>\n",
       "      <td>0.0</td>\n",
       "      <td>0.0</td>\n",
       "      <td>178636.0</td>\n",
       "      <td>0.0</td>\n",
       "      <td>60311.50</td>\n",
       "      <td>188826.00</td>\n",
       "      <td>171765.00</td>\n",
       "      <td>0.0</td>\n",
       "      <td>121505.00</td>\n",
       "      <td>258414.75</td>\n",
       "      <td>19840.0</td>\n",
       "      <td>25281.0</td>\n",
       "      <td>700.0</td>\n",
       "      <td>39102.00</td>\n",
       "      <td>0.0</td>\n",
       "      <td>95398.50</td>\n",
       "      <td>37753.5</td>\n",
       "      <td>0.0</td>\n",
       "      <td>13965.0</td>\n",
       "      <td>115131.00</td>\n",
       "      <td>0.0</td>\n",
       "      <td>0.0</td>\n",
       "      <td>0.0</td>\n",
       "      <td>0.0</td>\n",
       "      <td>0.0</td>\n",
       "      <td>0.0</td>\n",
       "      <td>0.0</td>\n",
       "      <td>0.0</td>\n",
       "      <td>0.0</td>\n",
       "      <td>0.0</td>\n",
       "      <td>0.0</td>\n",
       "      <td>0.0</td>\n",
       "      <td>0.0</td>\n",
       "      <td>0.0</td>\n",
       "      <td>0.0</td>\n",
       "      <td>0.0</td>\n",
       "      <td>0.0</td>\n",
       "      <td>0.0</td>\n",
       "      <td>0.0</td>\n",
       "      <td>280534.300000</td>\n",
       "      <td>235995.000000</td>\n",
       "      <td>0.0</td>\n",
       "      <td>188950.400000</td>\n",
       "      <td>265854.500000</td>\n",
       "      <td>39036.000000</td>\n",
       "      <td>0.0</td>\n",
       "      <td>0.0</td>\n",
       "      <td>0.0</td>\n",
       "      <td>0.000000</td>\n",
       "      <td>0.0</td>\n",
       "      <td>19219.000000</td>\n",
       "      <td>0.000000</td>\n",
       "      <td>798.0</td>\n",
       "      <td>49103.2000</td>\n",
       "    </tr>\n",
       "    <tr>\n",
       "      <th>9</th>\n",
       "      <td>0.0</td>\n",
       "      <td>0.0</td>\n",
       "      <td>197478.0</td>\n",
       "      <td>105029.00</td>\n",
       "      <td>0.0</td>\n",
       "      <td>85751.1</td>\n",
       "      <td>148141.000000</td>\n",
       "      <td>5774.0</td>\n",
       "      <td>0.0</td>\n",
       "      <td>0.0</td>\n",
       "      <td>0.0</td>\n",
       "      <td>13978.5</td>\n",
       "      <td>0.0</td>\n",
       "      <td>25863.000</td>\n",
       "      <td>0.0</td>\n",
       "      <td>0.0</td>\n",
       "      <td>96918.0</td>\n",
       "      <td>0.0</td>\n",
       "      <td>40138.00</td>\n",
       "      <td>167523.25</td>\n",
       "      <td>116374.00</td>\n",
       "      <td>0.0</td>\n",
       "      <td>78657.00</td>\n",
       "      <td>164553.50</td>\n",
       "      <td>19052.0</td>\n",
       "      <td>34406.0</td>\n",
       "      <td>0.0</td>\n",
       "      <td>31122.00</td>\n",
       "      <td>0.0</td>\n",
       "      <td>62866.50</td>\n",
       "      <td>23703.0</td>\n",
       "      <td>0.0</td>\n",
       "      <td>19551.0</td>\n",
       "      <td>90789.50</td>\n",
       "      <td>0.0</td>\n",
       "      <td>0.0</td>\n",
       "      <td>2491.0</td>\n",
       "      <td>0.0</td>\n",
       "      <td>0.0</td>\n",
       "      <td>5985.0</td>\n",
       "      <td>0.0</td>\n",
       "      <td>0.0</td>\n",
       "      <td>0.0</td>\n",
       "      <td>0.0</td>\n",
       "      <td>0.0</td>\n",
       "      <td>0.0</td>\n",
       "      <td>0.0</td>\n",
       "      <td>399.0</td>\n",
       "      <td>0.0</td>\n",
       "      <td>0.0</td>\n",
       "      <td>0.0</td>\n",
       "      <td>0.0</td>\n",
       "      <td>0.0</td>\n",
       "      <td>163797.600000</td>\n",
       "      <td>169171.800000</td>\n",
       "      <td>0.0</td>\n",
       "      <td>110862.300000</td>\n",
       "      <td>193917.400000</td>\n",
       "      <td>16383.000000</td>\n",
       "      <td>0.0</td>\n",
       "      <td>0.0</td>\n",
       "      <td>0.0</td>\n",
       "      <td>0.000000</td>\n",
       "      <td>0.0</td>\n",
       "      <td>5122.000000</td>\n",
       "      <td>0.000000</td>\n",
       "      <td>1995.0</td>\n",
       "      <td>37049.1000</td>\n",
       "    </tr>\n",
       "  </tbody>\n",
       "</table>\n",
       "</div>"
      ],
      "text/plain": [
       "Loc_Hom               BASILICA                                          \\\n",
       "Especialidad_match ALERGOLOGIA CARDIOLOGIA DERMATOLOGIA ENDOCRINOLOGIA   \n",
       "BillDate BillDate                                                        \n",
       "2018     10                0.0         0.0          0.0           0.00   \n",
       "         11                0.0         0.0          0.0           0.00   \n",
       "         12                0.0         0.0          0.0           0.00   \n",
       "2019     1                 0.0         0.0          0.0           0.00   \n",
       "         2                 0.0         0.0          0.0           0.00   \n",
       "         3                 0.0         0.0          0.0           0.00   \n",
       "         4                 0.0         0.0          0.0           0.00   \n",
       "         5                 0.0         0.0          0.0           0.00   \n",
       "         6                 0.0         0.0          0.0           0.00   \n",
       "         7                 0.0         0.0     170961.5        4092.60   \n",
       "         8                 0.0         0.0     197682.1        5026.70   \n",
       "         9             25689.0         0.0     182489.5        3547.40   \n",
       "         10            38318.0         0.0     227795.7        2547.00   \n",
       "         11            31598.4         0.0     242507.1        3545.90   \n",
       "         12            44651.0         0.0     194043.7        4116.75   \n",
       "2020     1             12684.0         0.0     221824.7        5040.20   \n",
       "         2               873.0         0.0     199989.0        7118.50   \n",
       "         3                 0.0         0.0     208732.6       10064.00   \n",
       "         4                 0.0         0.0     214775.5       41884.00   \n",
       "         5                 0.0         0.0     200212.5       48833.25   \n",
       "         6                 0.0         0.0     213449.1       73635.00   \n",
       "         7                 0.0         0.0     266223.5      128716.10   \n",
       "         8                 0.0         0.0     297095.3      132070.50   \n",
       "         9                 0.0         0.0     197478.0      105029.00   \n",
       "\n",
       "Loc_Hom                                                               \\\n",
       "Especialidad_match GASTROENTEROLGIA GASTROENTEROLOGIA    GINECOLOGIA   \n",
       "BillDate BillDate                                                      \n",
       "2018     10                     0.0               0.0       0.000000   \n",
       "         11                     0.0               0.0       0.000000   \n",
       "         12                     0.0               0.0       0.000000   \n",
       "2019     1                      0.0               0.0       0.000000   \n",
       "         2                      0.0               0.0       0.000000   \n",
       "         3                      0.0               0.0       0.000000   \n",
       "         4                      0.0               0.0       0.000000   \n",
       "         5                      0.0               0.0       0.000000   \n",
       "         6                      0.0               0.0       0.000000   \n",
       "         7                      0.0           90139.0   64904.596238   \n",
       "         8                      0.0          112871.8   73146.200000   \n",
       "         9                      0.0           93350.0   64679.100000   \n",
       "         10                     0.0          123151.6  130901.500000   \n",
       "         11                     0.0          126116.2  142346.200000   \n",
       "         12                     0.0           87779.5  103758.000000   \n",
       "2020     1                      0.0          115963.0  162601.000000   \n",
       "         2                      0.0          101920.7  151366.000000   \n",
       "         3                      0.0          112194.1  187825.000000   \n",
       "         4                      0.0           78971.5  140847.000000   \n",
       "         5                      0.0          115457.0  136023.500000   \n",
       "         6                      0.0          119734.5  193195.000000   \n",
       "         7                      0.0          130554.2  267816.000000   \n",
       "         8                      0.0          129117.0  233173.500000   \n",
       "         9                      0.0           85751.1  148141.000000   \n",
       "\n",
       "Loc_Hom                                                               \\\n",
       "Especialidad_match MEDICINA GENERAL NEFROLOGIA NEUMOLOGIA NEUROLOGIA   \n",
       "BillDate BillDate                                                      \n",
       "2018     10                     0.0        0.0        0.0        0.0   \n",
       "         11                     0.0        0.0        0.0        0.0   \n",
       "         12                     0.0        0.0        0.0        0.0   \n",
       "2019     1                      0.0        0.0        0.0        0.0   \n",
       "         2                      0.0        0.0        0.0        0.0   \n",
       "         3                      0.0        0.0        0.0        0.0   \n",
       "         4                      0.0        0.0        0.0        0.0   \n",
       "         5                      0.0        0.0        0.0        0.0   \n",
       "         6                      0.0        0.0        0.0        0.0   \n",
       "         7                   9509.0        0.0        0.0        0.0   \n",
       "         8                  15486.4        0.0        0.0        0.0   \n",
       "         9                  13194.0        0.0        0.0        0.0   \n",
       "         10                 21864.0        0.0        0.0        0.0   \n",
       "         11                  8927.0        0.0        0.0        0.0   \n",
       "         12                 10091.0        0.0        0.0        0.0   \n",
       "2020     1                  10875.0        0.0        0.0        0.0   \n",
       "         2                  10883.0        0.0        0.0        0.0   \n",
       "         3                  11577.0        0.0        0.0        0.0   \n",
       "         4                  10467.0        0.0        0.0        0.0   \n",
       "         5                   9502.0        0.0        0.0        0.0   \n",
       "         6                   9414.0        0.0        0.0        0.0   \n",
       "         7                  14501.0        0.0        0.0        0.0   \n",
       "         8                  11841.0        0.0        0.0        0.0   \n",
       "         9                   5774.0        0.0        0.0        0.0   \n",
       "\n",
       "Loc_Hom                                                                  \\\n",
       "Especialidad_match NUTRICION OTORRINOLARINGOLOGIA    OTRA_ESP PEDIATRIA   \n",
       "BillDate BillDate                                                         \n",
       "2018     10              0.0                  0.0       0.000       0.0   \n",
       "         11              0.0                  0.0       0.000       0.0   \n",
       "         12              0.0                  0.0       0.000       0.0   \n",
       "2019     1               0.0                  0.0       0.000       0.0   \n",
       "         2               0.0                  0.0       0.000       0.0   \n",
       "         3               0.0                  0.0       0.000       0.0   \n",
       "         4               0.0                  0.0       0.000       0.0   \n",
       "         5               0.0                  0.0       0.000       0.0   \n",
       "         6               0.0                  0.0       0.000       0.0   \n",
       "         7               0.0                  0.0   68339.748       0.0   \n",
       "         8               0.0                  0.0  122066.000       0.0   \n",
       "         9             125.0                  0.0  108215.000     250.0   \n",
       "         10              0.0                  0.0   67177.000    1795.0   \n",
       "         11              0.0                  0.0   31428.800    1944.0   \n",
       "         12              0.0                  0.0   24138.100    3990.0   \n",
       "2020     1               0.0                  0.0   40224.500       0.0   \n",
       "         2               0.0                  0.0   54266.800       0.0   \n",
       "         3               0.0                  0.0   58094.800       0.0   \n",
       "         4               0.0                  0.0   54006.300       0.0   \n",
       "         5               0.0                  0.0   31593.500       0.0   \n",
       "         6            4630.5                  0.0   26867.000       0.0   \n",
       "         7           14116.0                  0.0   46110.000       0.0   \n",
       "         8           17446.0                  0.0   26509.000       0.0   \n",
       "         9           13978.5                  0.0   25863.000       0.0   \n",
       "\n",
       "Loc_Hom                                        COAPA                           \\\n",
       "Especialidad_match PROCTOLOGIA  UROLOGIA ALERGOLOGIA CARDIOLOGIA DERMATOLOGIA   \n",
       "BillDate BillDate                                                               \n",
       "2018     10                0.0       0.0         0.0        0.00         0.00   \n",
       "         11                0.0       0.0         0.0        0.00         0.00   \n",
       "         12                0.0       0.0         0.0        0.00         0.00   \n",
       "2019     1                 0.0       0.0         0.0        0.00         0.00   \n",
       "         2                 0.0       0.0         0.0        0.00         0.00   \n",
       "         3                 0.0       0.0         0.0        0.00         0.00   \n",
       "         4                 0.0       0.0         0.0        0.00         0.00   \n",
       "         5                 0.0       0.0         0.0        0.00         0.00   \n",
       "         6                 0.0       0.0         0.0        0.00         0.00   \n",
       "         7                 0.0   15857.0         0.0        0.00         0.00   \n",
       "         8                 0.0   41324.9         0.0        0.00         0.00   \n",
       "         9                 0.0   60393.5         0.0        0.00         0.00   \n",
       "         10                0.0  108721.8         0.0        0.00         0.00   \n",
       "         11                0.0  110152.6         0.0        0.00         0.00   \n",
       "         12                0.0   91570.0         0.0        0.00         0.00   \n",
       "2020     1                 0.0  153483.4         0.0        0.00         0.00   \n",
       "         2                 0.0  118709.8         0.0        0.00     24053.00   \n",
       "         3                 0.0  130387.5         0.0     4588.00    142456.00   \n",
       "         4                 0.0  148406.0         0.0    36255.50    101164.20   \n",
       "         5                 0.0  135928.0         0.0    46285.50    122831.20   \n",
       "         6                 0.0  195370.0         0.0    56806.25    178094.10   \n",
       "         7                 0.0  204950.0         0.0    69577.50    196105.10   \n",
       "         8                 0.0  178636.0         0.0    60311.50    188826.00   \n",
       "         9                 0.0   96918.0         0.0    40138.00    167523.25   \n",
       "\n",
       "Loc_Hom                                                               \\\n",
       "Especialidad_match ENDOCRINOLOGIA GASTROENTEROLGIA GASTROENTEROLOGIA   \n",
       "BillDate BillDate                                                      \n",
       "2018     10                  0.00              0.0              0.00   \n",
       "         11                  0.00              0.0              0.00   \n",
       "         12                  0.00              0.0              0.00   \n",
       "2019     1                   0.00              0.0              0.00   \n",
       "         2                   0.00              0.0              0.00   \n",
       "         3                   0.00              0.0              0.00   \n",
       "         4                   0.00              0.0              0.00   \n",
       "         5                   0.00              0.0              0.00   \n",
       "         6                   0.00              0.0              0.00   \n",
       "         7                   0.00              0.0              0.00   \n",
       "         8                   0.00              0.0              0.00   \n",
       "         9                   0.00              0.0              0.00   \n",
       "         10                  0.00              0.0              0.00   \n",
       "         11                  0.00              0.0              0.00   \n",
       "         12                  0.00              0.0              0.00   \n",
       "2020     1                   0.00              0.0              0.00   \n",
       "         2               23198.70           2659.5          10724.00   \n",
       "         3               74654.20           5889.0          50512.00   \n",
       "         4               40510.60              0.0          41297.00   \n",
       "         5               56838.00              0.0          49394.20   \n",
       "         6               99025.35              0.0          76302.25   \n",
       "         7              157146.00              0.0         129363.00   \n",
       "         8              171765.00              0.0         121505.00   \n",
       "         9              116374.00              0.0          78657.00   \n",
       "\n",
       "Loc_Hom                                                                \\\n",
       "Especialidad_match GINECOLOGIA MEDICINA GENERAL NEFROLOGIA NEUMOLOGIA   \n",
       "BillDate BillDate                                                       \n",
       "2018     10               0.00              0.0        0.0        0.0   \n",
       "         11               0.00              0.0        0.0        0.0   \n",
       "         12               0.00              0.0        0.0        0.0   \n",
       "2019     1                0.00              0.0        0.0        0.0   \n",
       "         2                0.00              0.0        0.0        0.0   \n",
       "         3                0.00              0.0        0.0        0.0   \n",
       "         4                0.00              0.0        0.0        0.0   \n",
       "         5                0.00              0.0        0.0        0.0   \n",
       "         6                0.00              0.0        0.0        0.0   \n",
       "         7                0.00              0.0        0.0        0.0   \n",
       "         8                0.00              0.0        0.0        0.0   \n",
       "         9                0.00              0.0        0.0        0.0   \n",
       "         10               0.00              0.0        0.0        0.0   \n",
       "         11               0.00              0.0        0.0        0.0   \n",
       "         12               0.00              0.0        0.0        0.0   \n",
       "2020     1                0.00              0.0        0.0        0.0   \n",
       "         2            18107.00              0.0        0.0        0.0   \n",
       "         3            70559.50              0.0        0.0      399.0   \n",
       "         4            82396.50           7343.0        0.0     2193.0   \n",
       "         5           106099.35          13024.5        0.0     6879.0   \n",
       "         6           167776.50          11476.0        0.0     9386.0   \n",
       "         7           231155.60          22943.0        0.0     3150.0   \n",
       "         8           258414.75          19840.0    25281.0      700.0   \n",
       "         9           164553.50          19052.0    34406.0        0.0   \n",
       "\n",
       "Loc_Hom                                                                \\\n",
       "Especialidad_match NEUROLOGIA NUTRICION OTORRINOLARINGOLOGIA OTRA_ESP   \n",
       "BillDate BillDate                                                       \n",
       "2018     10              0.00       0.0                 0.00      0.0   \n",
       "         11              0.00       0.0                 0.00      0.0   \n",
       "         12              0.00       0.0                 0.00      0.0   \n",
       "2019     1               0.00       0.0                 0.00      0.0   \n",
       "         2               0.00       0.0                 0.00      0.0   \n",
       "         3               0.00       0.0                 0.00      0.0   \n",
       "         4               0.00       0.0                 0.00      0.0   \n",
       "         5               0.00       0.0                 0.00      0.0   \n",
       "         6               0.00       0.0                 0.00      0.0   \n",
       "         7               0.00       0.0                 0.00      0.0   \n",
       "         8               0.00       0.0                 0.00      0.0   \n",
       "         9               0.00       0.0                 0.00      0.0   \n",
       "         10              0.00       0.0                 0.00      0.0   \n",
       "         11              0.00       0.0                 0.00      0.0   \n",
       "         12              0.00       0.0                 0.00      0.0   \n",
       "2020     1               0.00       0.0                 0.00      0.0   \n",
       "         2               0.00       0.0                 0.00   2176.4   \n",
       "         3               0.00       0.0             34177.50  19193.8   \n",
       "         4               0.00       0.0             57972.25  28857.0   \n",
       "         5               0.00       0.0             71946.00  45839.0   \n",
       "         6               0.00       0.0             84816.50  57670.0   \n",
       "         7           14264.25       0.0            101862.00  23592.0   \n",
       "         8           39102.00       0.0             95398.50  37753.5   \n",
       "         9           31122.00       0.0             62866.50  23703.0   \n",
       "\n",
       "Loc_Hom                                             Location_not_found  \\\n",
       "Especialidad_match PEDIATRIA PROCTOLOGIA   UROLOGIA        ALERGOLOGIA   \n",
       "BillDate BillDate                                                        \n",
       "2018     10              0.0         0.0       0.00                0.0   \n",
       "         11              0.0         0.0       0.00                0.0   \n",
       "         12              0.0         0.0       0.00                0.0   \n",
       "2019     1               0.0         0.0       0.00                0.0   \n",
       "         2               0.0         0.0       0.00                0.0   \n",
       "         3               0.0         0.0       0.00                0.0   \n",
       "         4               0.0         0.0       0.00                0.0   \n",
       "         5               0.0         0.0       0.00                0.0   \n",
       "         6               0.0         0.0       0.00                0.0   \n",
       "         7               0.0         0.0       0.00                0.0   \n",
       "         8               0.0         0.0       0.00                0.0   \n",
       "         9               0.0         0.0       0.00                0.0   \n",
       "         10              0.0         0.0       0.00                0.0   \n",
       "         11              0.0         0.0       0.00                0.0   \n",
       "         12              0.0         0.0       0.00                0.0   \n",
       "2020     1               0.0         0.0       0.00                0.0   \n",
       "         2             399.0         0.0    8042.00                0.0   \n",
       "         3            8932.0         0.0   90223.00                0.0   \n",
       "         4               0.0         0.0  105795.00                0.0   \n",
       "         5               0.0         0.0   94945.25                0.0   \n",
       "         6               0.0         0.0  107947.00                0.0   \n",
       "         7               0.0         0.0  143751.00                0.0   \n",
       "         8               0.0     13965.0  115131.00                0.0   \n",
       "         9               0.0     19551.0   90789.50                0.0   \n",
       "\n",
       "Loc_Hom                                                                      \\\n",
       "Especialidad_match CARDIOLOGIA DERMATOLOGIA ENDOCRINOLOGIA GASTROENTEROLGIA   \n",
       "BillDate BillDate                                                             \n",
       "2018     10                0.0          0.0            0.0              0.0   \n",
       "         11                0.0          0.0            0.0              0.0   \n",
       "         12                0.0          0.0            0.0              0.0   \n",
       "2019     1                 0.0          0.0            0.0              0.0   \n",
       "         2                 0.0          0.0            0.0              0.0   \n",
       "         3                 0.0          0.0            0.0              0.0   \n",
       "         4                 0.0          0.0            0.0              0.0   \n",
       "         5                 0.0          0.0            0.0              0.0   \n",
       "         6                 0.0          0.0            0.0              0.0   \n",
       "         7                 0.0          0.0            0.0              0.0   \n",
       "         8                 0.0          0.0            0.0              0.0   \n",
       "         9                 0.0          0.0            0.0              0.0   \n",
       "         10                0.0          0.0            0.0              0.0   \n",
       "         11                0.0          0.0            0.0              0.0   \n",
       "         12                0.0          0.0            0.0              0.0   \n",
       "2020     1                 0.0          0.0            0.0              0.0   \n",
       "         2                 0.0          0.0            0.0              0.0   \n",
       "         3                 0.0          0.0            0.0              0.0   \n",
       "         4                 0.0          0.0            0.0              0.0   \n",
       "         5                 0.0          0.0            0.0              0.0   \n",
       "         6                 0.0          0.0            0.0              0.0   \n",
       "         7                 0.0          0.0            0.0              0.0   \n",
       "         8                 0.0          0.0            0.0              0.0   \n",
       "         9                 0.0       2491.0            0.0              0.0   \n",
       "\n",
       "Loc_Hom                                                                       \\\n",
       "Especialidad_match GASTROENTEROLOGIA GINECOLOGIA MEDICINA GENERAL NEFROLOGIA   \n",
       "BillDate BillDate                                                              \n",
       "2018     10                      0.0         0.0              0.0        0.0   \n",
       "         11                      0.0         0.0              0.0        0.0   \n",
       "         12                      0.0         0.0              0.0        0.0   \n",
       "2019     1                       0.0         0.0              0.0        0.0   \n",
       "         2                       0.0         0.0              0.0        0.0   \n",
       "         3                       0.0         0.0              0.0        0.0   \n",
       "         4                       0.0         0.0              0.0        0.0   \n",
       "         5                       0.0         0.0              0.0        0.0   \n",
       "         6                       0.0         0.0              0.0        0.0   \n",
       "         7                       0.0         0.0              0.0        0.0   \n",
       "         8                       0.0         0.0              0.0        0.0   \n",
       "         9                       0.0         0.0              0.0        0.0   \n",
       "         10                      0.0         0.0              0.0        0.0   \n",
       "         11                      0.0         0.0              0.0        0.0   \n",
       "         12                      0.0         0.0              0.0        0.0   \n",
       "2020     1                       0.0         0.0              0.0        0.0   \n",
       "         2                       0.0         0.0              0.0        0.0   \n",
       "         3                       0.0         0.0              0.0        0.0   \n",
       "         4                       0.0         0.0              0.0        0.0   \n",
       "         5                       0.0         0.0              0.0        0.0   \n",
       "         6                       0.0         0.0              0.0        0.0   \n",
       "         7                       0.0         0.0              0.0        0.0   \n",
       "         8                       0.0         0.0              0.0        0.0   \n",
       "         9                    5985.0         0.0              0.0        0.0   \n",
       "\n",
       "Loc_Hom                                                                  \\\n",
       "Especialidad_match NEUMOLOGIA NEUROLOGIA NUTRICION OTORRINOLARINGOLOGIA   \n",
       "BillDate BillDate                                                         \n",
       "2018     10               0.0        0.0       0.0                  0.0   \n",
       "         11               0.0        0.0       0.0                  0.0   \n",
       "         12               0.0        0.0       0.0                  0.0   \n",
       "2019     1                0.0        0.0       0.0                  0.0   \n",
       "         2                0.0        0.0       0.0                  0.0   \n",
       "         3                0.0        0.0       0.0                  0.0   \n",
       "         4                0.0        0.0       0.0                  0.0   \n",
       "         5                0.0        0.0       0.0                  0.0   \n",
       "         6                0.0        0.0       0.0                  0.0   \n",
       "         7                0.0        0.0       0.0                  0.0   \n",
       "         8                0.0        0.0       0.0                  0.0   \n",
       "         9                0.0        0.0       0.0                  0.0   \n",
       "         10               0.0        0.0       0.0                  0.0   \n",
       "         11               0.0        0.0       0.0                  0.0   \n",
       "         12               0.0        0.0       0.0                  0.0   \n",
       "2020     1                0.0        0.0       0.0                  0.0   \n",
       "         2                0.0        0.0       0.0                  0.0   \n",
       "         3                0.0        0.0       0.0                  0.0   \n",
       "         4                0.0        0.0       0.0                  0.0   \n",
       "         5                0.0        0.0       0.0                  0.0   \n",
       "         6                0.0        0.0       0.0                  0.0   \n",
       "         7                0.0        0.0       0.0                  0.0   \n",
       "         8                0.0        0.0       0.0                  0.0   \n",
       "         9                0.0        0.0       0.0                  0.0   \n",
       "\n",
       "Loc_Hom                                                         MARINA  \\\n",
       "Especialidad_match OTRA_ESP PEDIATRIA PROCTOLOGIA UROLOGIA ALERGOLOGIA   \n",
       "BillDate BillDate                                                        \n",
       "2018     10             0.0       0.0         0.0      0.0         0.0   \n",
       "         11             0.0       0.0         0.0      0.0         0.0   \n",
       "         12             0.0       0.0         0.0      0.0         0.0   \n",
       "2019     1              0.0       0.0         0.0      0.0         0.0   \n",
       "         2              0.0       0.0         0.0      0.0         0.0   \n",
       "         3              0.0       0.0         0.0      0.0         0.0   \n",
       "         4              0.0       0.0         0.0      0.0         0.0   \n",
       "         5              0.0       0.0         0.0      0.0         0.0   \n",
       "         6              0.0       0.0         0.0      0.0         0.0   \n",
       "         7              0.0       0.0         0.0      0.0         0.0   \n",
       "         8              0.0       0.0         0.0      0.0         0.0   \n",
       "         9              0.0       0.0         0.0      0.0         0.0   \n",
       "         10             0.0       0.0         0.0      0.0         0.0   \n",
       "         11             0.0       0.0         0.0      0.0         0.0   \n",
       "         12             0.0       0.0         0.0      0.0         0.0   \n",
       "2020     1              0.0       0.0         0.0      0.0         0.0   \n",
       "         2              0.0       0.0         0.0      0.0         0.0   \n",
       "         3              0.0       0.0         0.0      0.0         0.0   \n",
       "         4              0.0       0.0         0.0      0.0         0.0   \n",
       "         5              0.0       0.0         0.0      0.0         0.0   \n",
       "         6              0.0       0.0         0.0      0.0         0.0   \n",
       "         7              0.0       0.0         0.0      0.0         0.0   \n",
       "         8              0.0       0.0         0.0      0.0         0.0   \n",
       "         9            399.0       0.0         0.0      0.0         0.0   \n",
       "\n",
       "Loc_Hom                                                                        \\\n",
       "Especialidad_match CARDIOLOGIA   DERMATOLOGIA ENDOCRINOLOGIA GASTROENTEROLGIA   \n",
       "BillDate BillDate                                                               \n",
       "2018     10                0.0   24055.000000       0.000000              0.0   \n",
       "         11                0.0  110127.264548     589.828118              0.0   \n",
       "         12                0.0  132459.679700    1649.466383              0.0   \n",
       "2019     1                 0.0  188120.124209     820.582549              0.0   \n",
       "         2                 0.0  212830.952616    6864.422760              0.0   \n",
       "         3                 0.0  239758.061834    1648.717883              0.0   \n",
       "         4                 0.0  242566.650938    2256.001366              0.0   \n",
       "         5                 0.0  287088.187477     998.995505              0.0   \n",
       "         6                 0.0  267931.579625    -111.611679              0.0   \n",
       "         7                 0.0  261952.377054   25069.188063              0.0   \n",
       "         8                 0.0  272317.200000   78761.500000              0.0   \n",
       "         9                 0.0  254240.300000   64375.900000              0.0   \n",
       "         10                0.0  303755.500000   81416.700000              0.0   \n",
       "         11                0.0  315127.700000   70672.700000              0.0   \n",
       "         12                0.0  268232.400000   53700.200000              0.0   \n",
       "2020     1                 0.0  272089.700000   77835.900000              0.0   \n",
       "         2                 0.0  285870.700000   72862.200000              0.0   \n",
       "         3                 0.0  298734.900000  137041.950000              0.0   \n",
       "         4                 0.0  295299.700000   59315.000000              0.0   \n",
       "         5                 0.0  306842.600000   95952.200000              0.0   \n",
       "         6                 0.0  343568.800000  146506.100000              0.0   \n",
       "         7                 0.0  349985.000000  184657.900000              0.0   \n",
       "         8                 0.0  280534.300000  235995.000000              0.0   \n",
       "         9                 0.0  163797.600000  169171.800000              0.0   \n",
       "\n",
       "Loc_Hom                                                               \\\n",
       "Especialidad_match GASTROENTEROLOGIA    GINECOLOGIA MEDICINA GENERAL   \n",
       "BillDate BillDate                                                      \n",
       "2018     10             16358.524125   14946.919968         0.000000   \n",
       "         11             47775.597325   80611.782086         0.000000   \n",
       "         12             69807.432123   98880.921737     11268.572375   \n",
       "2019     1             104241.701246  132476.572375      9820.569050   \n",
       "         2              97797.124395  146218.401708     19177.135105   \n",
       "         3             121563.793483  224399.570740     13019.858425   \n",
       "         4             115554.153145  216626.618252     12401.818967   \n",
       "         5             116693.136268  248066.105977     17309.803320   \n",
       "         6             164019.867382  215674.416990     25675.940582   \n",
       "         7             152559.274057  217338.140267     28001.313450   \n",
       "         8             147840.200000  222918.700000     16067.800000   \n",
       "         9             140849.500000  226569.350000     12351.200000   \n",
       "         10            164346.500000  222771.200000     18615.600000   \n",
       "         11            125663.600000  230506.100000     15390.000000   \n",
       "         12            112192.600000  206756.400000     17753.700000   \n",
       "2020     1             115633.100000  262927.100000     28911.200000   \n",
       "         2             112986.600000  276036.600000     25327.000000   \n",
       "         3             113751.000000  262716.700000     31719.800000   \n",
       "         4              90205.500000  220658.600000     18899.000000   \n",
       "         5              54258.300000  302636.900000     28237.000000   \n",
       "         6             135222.200000  328322.200000     22257.000000   \n",
       "         7             198493.000000  346318.600000     33236.000000   \n",
       "         8             188950.400000  265854.500000     39036.000000   \n",
       "         9             110862.300000  193917.400000     16383.000000   \n",
       "\n",
       "Loc_Hom                                                            \\\n",
       "Especialidad_match NEFROLOGIA NEUMOLOGIA NEUROLOGIA     NUTRICION   \n",
       "BillDate BillDate                                                   \n",
       "2018     10               0.0        0.0        0.0    399.000000   \n",
       "         11               0.0        0.0        0.0    650.000000   \n",
       "         12               0.0        0.0        0.0    500.748750   \n",
       "2019     1                0.0        0.0        0.0   1197.000000   \n",
       "         2                0.0        0.0        0.0   1846.374375   \n",
       "         3                0.0        0.0        0.0    474.000000   \n",
       "         4                0.0        0.0        0.0      0.000000   \n",
       "         5                0.0        0.0        0.0      0.000000   \n",
       "         6                0.0        0.0        0.0     50.000000   \n",
       "         7                0.0        0.0        0.0    549.000000   \n",
       "         8                0.0        0.0        0.0  15300.000000   \n",
       "         9                0.0        0.0        0.0   8399.000000   \n",
       "         10               0.0        0.0        0.0    490.000000   \n",
       "         11               0.0        0.0        0.0    798.000000   \n",
       "         12               0.0        0.0        0.0      0.000000   \n",
       "2020     1                0.0        0.0        0.0      0.000000   \n",
       "         2                0.0        0.0        0.0      0.000000   \n",
       "         3                0.0        0.0        0.0      0.000000   \n",
       "         4                0.0        0.0        0.0      0.000000   \n",
       "         5                0.0        0.0        0.0      0.000000   \n",
       "         6                0.0        0.0        0.0   5627.000000   \n",
       "         7                0.0        0.0        0.0   3889.000000   \n",
       "         8                0.0        0.0        0.0      0.000000   \n",
       "         9                0.0        0.0        0.0      0.000000   \n",
       "\n",
       "Loc_Hom                                                              \\\n",
       "Especialidad_match OTORRINOLARINGOLOGIA      OTRA_ESP     PEDIATRIA   \n",
       "BillDate BillDate                                                     \n",
       "2018     10                         0.0   2296.350000   3791.000000   \n",
       "         11                         0.0  10671.921374  12774.916470   \n",
       "         12                         0.0  30852.452017  17367.000000   \n",
       "2019     1                          0.0  30172.693445  35843.231275   \n",
       "         2                          0.0  41600.077512  31507.000000   \n",
       "         3                          0.0  33042.562832  43074.945755   \n",
       "         4                          0.0  34715.034596  36159.600000   \n",
       "         5                          0.0  43858.533867  31322.500000   \n",
       "         6                          0.0  47483.373419  10773.000000   \n",
       "         7                          0.0  56857.267568  30963.100000   \n",
       "         8                          0.0   8943.400000  27052.400000   \n",
       "         9                          0.0  12926.700000  35187.000000   \n",
       "         10                         0.0   9069.600000  35012.300000   \n",
       "         11                         0.0   8246.200000  36800.100000   \n",
       "         12                         0.0   7441.700000  30481.300000   \n",
       "2020     1                          0.0  10714.300000  25586.400000   \n",
       "         2                          0.0   7093.200000  19441.800000   \n",
       "         3                          0.0  21516.100000      0.000000   \n",
       "         4                          0.0   7456.000000      0.000000   \n",
       "         5                          0.0   7831.700000      0.000000   \n",
       "         6                          0.0  13552.500000      0.000000   \n",
       "         7                          0.0  14493.000000      0.000000   \n",
       "         8                          0.0  19219.000000      0.000000   \n",
       "         9                          0.0   5122.000000      0.000000   \n",
       "\n",
       "Loc_Hom                                     \n",
       "Especialidad_match PROCTOLOGIA    UROLOGIA  \n",
       "BillDate BillDate                           \n",
       "2018     10                0.0      0.0000  \n",
       "         11                0.0    950.2995  \n",
       "         12                0.0   2800.0000  \n",
       "2019     1                 0.0   2901.0000  \n",
       "         2                 0.0   4800.8985  \n",
       "         3                 0.0   7300.0000  \n",
       "         4                 0.0   4200.0000  \n",
       "         5                 0.0   4605.0000  \n",
       "         6                 0.0   2950.2995  \n",
       "         7                 0.0   2595.0000  \n",
       "         8                 0.0   4200.0000  \n",
       "         9                 0.0   4926.0000  \n",
       "         10                0.0   3139.0000  \n",
       "         11                0.0   1312.0000  \n",
       "         12                0.0   2670.0000  \n",
       "2020     1                 0.0   4055.0000  \n",
       "         2                 0.0   2910.0000  \n",
       "         3                 0.0   4549.0000  \n",
       "         4                 0.0  34894.0000  \n",
       "         5                 0.0  45371.0000  \n",
       "         6                 0.0  55050.1000  \n",
       "         7                 0.0  72666.0000  \n",
       "         8               798.0  49103.2000  \n",
       "         9              1995.0  37049.1000  "
      ]
     },
     "execution_count": 10,
     "metadata": {},
     "output_type": "execute_result"
    }
   ],
   "source": [
    "dfsx"
   ]
  },
  {
   "cell_type": "markdown",
   "metadata": {
    "heading_collapsed": true,
    "hidden": true
   },
   "source": [
    "#### Further analysis"
   ]
  },
  {
   "cell_type": "code",
   "execution_count": 11,
   "metadata": {
    "ExecuteTime": {
     "end_time": "2020-09-25T15:38:24.060911Z",
     "start_time": "2020-09-25T15:38:24.041201Z"
    },
    "hidden": true
   },
   "outputs": [],
   "source": [
    "dfx = dfsx.copy()"
   ]
  },
  {
   "cell_type": "code",
   "execution_count": 12,
   "metadata": {
    "ExecuteTime": {
     "end_time": "2020-09-25T15:38:24.371195Z",
     "start_time": "2020-09-25T15:38:24.351637Z"
    },
    "hidden": true
   },
   "outputs": [],
   "source": [
    "## Select a specific location\n",
    "sel_loc = \"BASILICA\""
   ]
  },
  {
   "cell_type": "code",
   "execution_count": 13,
   "metadata": {
    "ExecuteTime": {
     "end_time": "2020-09-25T15:38:25.025602Z",
     "start_time": "2020-09-25T15:38:24.984422Z"
    },
    "hidden": true
   },
   "outputs": [
    {
     "data": {
      "text/html": [
       "<div>\n",
       "<style scoped>\n",
       "    .dataframe tbody tr th:only-of-type {\n",
       "        vertical-align: middle;\n",
       "    }\n",
       "\n",
       "    .dataframe tbody tr th {\n",
       "        vertical-align: top;\n",
       "    }\n",
       "\n",
       "    .dataframe thead th {\n",
       "        text-align: right;\n",
       "    }\n",
       "</style>\n",
       "<table border=\"1\" class=\"dataframe\">\n",
       "  <thead>\n",
       "    <tr style=\"text-align: right;\">\n",
       "      <th>Especialidad_match</th>\n",
       "      <th>ALERGOLOGIA</th>\n",
       "      <th>CARDIOLOGIA</th>\n",
       "      <th>DERMATOLOGIA</th>\n",
       "      <th>ENDOCRINOLOGIA</th>\n",
       "      <th>GASTROENTEROLGIA</th>\n",
       "      <th>GASTROENTEROLOGIA</th>\n",
       "      <th>GINECOLOGIA</th>\n",
       "      <th>MEDICINA GENERAL</th>\n",
       "      <th>NEFROLOGIA</th>\n",
       "      <th>NEUMOLOGIA</th>\n",
       "      <th>NEUROLOGIA</th>\n",
       "      <th>NUTRICION</th>\n",
       "      <th>OTORRINOLARINGOLOGIA</th>\n",
       "      <th>OTRA_ESP</th>\n",
       "      <th>PEDIATRIA</th>\n",
       "      <th>PROCTOLOGIA</th>\n",
       "      <th>UROLOGIA</th>\n",
       "    </tr>\n",
       "    <tr>\n",
       "      <th>Date</th>\n",
       "      <th></th>\n",
       "      <th></th>\n",
       "      <th></th>\n",
       "      <th></th>\n",
       "      <th></th>\n",
       "      <th></th>\n",
       "      <th></th>\n",
       "      <th></th>\n",
       "      <th></th>\n",
       "      <th></th>\n",
       "      <th></th>\n",
       "      <th></th>\n",
       "      <th></th>\n",
       "      <th></th>\n",
       "      <th></th>\n",
       "      <th></th>\n",
       "      <th></th>\n",
       "    </tr>\n",
       "  </thead>\n",
       "  <tbody>\n",
       "    <tr>\n",
       "      <th>2020-4</th>\n",
       "      <td>0.0</td>\n",
       "      <td>0.0</td>\n",
       "      <td>214775.5</td>\n",
       "      <td>41884.00</td>\n",
       "      <td>0.0</td>\n",
       "      <td>78971.5</td>\n",
       "      <td>140847.0</td>\n",
       "      <td>10467.0</td>\n",
       "      <td>0.0</td>\n",
       "      <td>0.0</td>\n",
       "      <td>0.0</td>\n",
       "      <td>0.0</td>\n",
       "      <td>0.0</td>\n",
       "      <td>54006.3</td>\n",
       "      <td>0.0</td>\n",
       "      <td>0.0</td>\n",
       "      <td>148406.0</td>\n",
       "    </tr>\n",
       "    <tr>\n",
       "      <th>2020-5</th>\n",
       "      <td>0.0</td>\n",
       "      <td>0.0</td>\n",
       "      <td>200212.5</td>\n",
       "      <td>48833.25</td>\n",
       "      <td>0.0</td>\n",
       "      <td>115457.0</td>\n",
       "      <td>136023.5</td>\n",
       "      <td>9502.0</td>\n",
       "      <td>0.0</td>\n",
       "      <td>0.0</td>\n",
       "      <td>0.0</td>\n",
       "      <td>0.0</td>\n",
       "      <td>0.0</td>\n",
       "      <td>31593.5</td>\n",
       "      <td>0.0</td>\n",
       "      <td>0.0</td>\n",
       "      <td>135928.0</td>\n",
       "    </tr>\n",
       "    <tr>\n",
       "      <th>2020-6</th>\n",
       "      <td>0.0</td>\n",
       "      <td>0.0</td>\n",
       "      <td>213449.1</td>\n",
       "      <td>73635.00</td>\n",
       "      <td>0.0</td>\n",
       "      <td>119734.5</td>\n",
       "      <td>193195.0</td>\n",
       "      <td>9414.0</td>\n",
       "      <td>0.0</td>\n",
       "      <td>0.0</td>\n",
       "      <td>0.0</td>\n",
       "      <td>4630.5</td>\n",
       "      <td>0.0</td>\n",
       "      <td>26867.0</td>\n",
       "      <td>0.0</td>\n",
       "      <td>0.0</td>\n",
       "      <td>195370.0</td>\n",
       "    </tr>\n",
       "    <tr>\n",
       "      <th>2020-7</th>\n",
       "      <td>0.0</td>\n",
       "      <td>0.0</td>\n",
       "      <td>266223.5</td>\n",
       "      <td>128716.10</td>\n",
       "      <td>0.0</td>\n",
       "      <td>130554.2</td>\n",
       "      <td>267816.0</td>\n",
       "      <td>14501.0</td>\n",
       "      <td>0.0</td>\n",
       "      <td>0.0</td>\n",
       "      <td>0.0</td>\n",
       "      <td>14116.0</td>\n",
       "      <td>0.0</td>\n",
       "      <td>46110.0</td>\n",
       "      <td>0.0</td>\n",
       "      <td>0.0</td>\n",
       "      <td>204950.0</td>\n",
       "    </tr>\n",
       "    <tr>\n",
       "      <th>2020-8</th>\n",
       "      <td>0.0</td>\n",
       "      <td>0.0</td>\n",
       "      <td>297095.3</td>\n",
       "      <td>132070.50</td>\n",
       "      <td>0.0</td>\n",
       "      <td>129117.0</td>\n",
       "      <td>233173.5</td>\n",
       "      <td>11841.0</td>\n",
       "      <td>0.0</td>\n",
       "      <td>0.0</td>\n",
       "      <td>0.0</td>\n",
       "      <td>17446.0</td>\n",
       "      <td>0.0</td>\n",
       "      <td>26509.0</td>\n",
       "      <td>0.0</td>\n",
       "      <td>0.0</td>\n",
       "      <td>178636.0</td>\n",
       "    </tr>\n",
       "  </tbody>\n",
       "</table>\n",
       "</div>"
      ],
      "text/plain": [
       "Especialidad_match  ALERGOLOGIA  CARDIOLOGIA  DERMATOLOGIA  ENDOCRINOLOGIA  \\\n",
       "Date                                                                         \n",
       "2020-4                      0.0          0.0      214775.5        41884.00   \n",
       "2020-5                      0.0          0.0      200212.5        48833.25   \n",
       "2020-6                      0.0          0.0      213449.1        73635.00   \n",
       "2020-7                      0.0          0.0      266223.5       128716.10   \n",
       "2020-8                      0.0          0.0      297095.3       132070.50   \n",
       "\n",
       "Especialidad_match  GASTROENTEROLGIA  GASTROENTEROLOGIA  GINECOLOGIA  \\\n",
       "Date                                                                   \n",
       "2020-4                           0.0            78971.5     140847.0   \n",
       "2020-5                           0.0           115457.0     136023.5   \n",
       "2020-6                           0.0           119734.5     193195.0   \n",
       "2020-7                           0.0           130554.2     267816.0   \n",
       "2020-8                           0.0           129117.0     233173.5   \n",
       "\n",
       "Especialidad_match  MEDICINA GENERAL  NEFROLOGIA  NEUMOLOGIA  NEUROLOGIA  \\\n",
       "Date                                                                       \n",
       "2020-4                       10467.0         0.0         0.0         0.0   \n",
       "2020-5                        9502.0         0.0         0.0         0.0   \n",
       "2020-6                        9414.0         0.0         0.0         0.0   \n",
       "2020-7                       14501.0         0.0         0.0         0.0   \n",
       "2020-8                       11841.0         0.0         0.0         0.0   \n",
       "\n",
       "Especialidad_match  NUTRICION  OTORRINOLARINGOLOGIA  OTRA_ESP  PEDIATRIA  \\\n",
       "Date                                                                       \n",
       "2020-4                    0.0                   0.0   54006.3        0.0   \n",
       "2020-5                    0.0                   0.0   31593.5        0.0   \n",
       "2020-6                 4630.5                   0.0   26867.0        0.0   \n",
       "2020-7                14116.0                   0.0   46110.0        0.0   \n",
       "2020-8                17446.0                   0.0   26509.0        0.0   \n",
       "\n",
       "Especialidad_match  PROCTOLOGIA  UROLOGIA  \n",
       "Date                                       \n",
       "2020-4                      0.0  148406.0  \n",
       "2020-5                      0.0  135928.0  \n",
       "2020-6                      0.0  195370.0  \n",
       "2020-7                      0.0  204950.0  \n",
       "2020-8                      0.0  178636.0  "
      ]
     },
     "execution_count": 13,
     "metadata": {},
     "output_type": "execute_result"
    }
   ],
   "source": [
    "## Filter columns and rows according to analysis\n",
    "mc1 = dfx.columns.get_level_values(0) == sel_loc\n",
    "mr1 = (dfx.index.get_level_values(0) == 2020) & ((dfx.index.get_level_values(1) >= 4) & (dfx.index.get_level_values(1) <= 8))\n",
    "dfx = dfx.loc[mr1, mc1]\n",
    "dfx.columns = dfx.columns.droplevel()\n",
    "\n",
    "## Changing index to one column string\n",
    "dfx[\"Date\"] = dfx.index.get_level_values(0).astype(\"str\") + \"-\" + dfx.index.get_level_values(1).astype(\"str\")\n",
    "dfx.set_index(\"Date\", inplace=True, drop=True)\n",
    "\n",
    "dfx"
   ]
  },
  {
   "cell_type": "code",
   "execution_count": 62,
   "metadata": {
    "ExecuteTime": {
     "end_time": "2020-09-23T13:30:22.127233Z",
     "start_time": "2020-09-23T13:30:22.109931Z"
    },
    "hidden": true
   },
   "outputs": [],
   "source": [
    "def top_5_columns(row, no_tops=2):\n",
    "    \n",
    "    \n",
    "    ## Key attributes \n",
    "    row_total = row.sum()\n",
    "    sales_no_top = round(row_total - sum(row.nlargest(no_tops).values), 1)\n",
    "    \n",
    "    \n",
    "    ## Obtaining top specialities\n",
    "    res = {}\n",
    "    for top in range(1, no_tops + 1):\n",
    "        res[str(top) + \"_Top\"] = {\n",
    "            \"Spec\": row.nlargest(top).index[-1],\n",
    "            \"Sales\": row.nlargest(top).values[-1],\n",
    "            \"Part\": round((row.nlargest(top).values[-1]/row_total)*100, 1)\n",
    "        }\n",
    "    \n",
    "    \n",
    "    ## Adding to dict all specialities that were not included in the top\n",
    "    res[\"Remaining\"] = {\n",
    "        \"Spec\": \"Remaining\",\n",
    "        \"Sales\": sales_no_top,\n",
    "        \"Part\": round((sales_no_top/row_total)*100, 1)\n",
    "    }\n",
    "    \n",
    "    \n",
    "    return res"
   ]
  },
  {
   "cell_type": "code",
   "execution_count": 63,
   "metadata": {
    "ExecuteTime": {
     "end_time": "2020-09-23T13:30:22.162768Z",
     "start_time": "2020-09-23T13:30:22.128832Z"
    },
    "hidden": true,
    "scrolled": true
   },
   "outputs": [],
   "source": [
    "## Creating series with a selection of top 5 specialities and a grouping of remainings\n",
    "res = dfx.apply(lambda x: top_5_columns(x, 5), axis=1)"
   ]
  },
  {
   "cell_type": "code",
   "execution_count": 64,
   "metadata": {
    "ExecuteTime": {
     "end_time": "2020-09-23T13:30:22.180483Z",
     "start_time": "2020-09-23T13:30:22.164116Z"
    },
    "hidden": true,
    "scrolled": true
   },
   "outputs": [],
   "source": [
    "## Craeting nested dictionary with results to obtain dataframe\n",
    "i = 0\n",
    "resf = {}\n",
    "for x in res:\n",
    "    for y in x:\n",
    "        for z in x[y]:\n",
    "            resf[(res.index[i], z, y)] = x[y][z]\n",
    "    i += 1\n",
    "\n",
    "# resf"
   ]
  },
  {
   "cell_type": "code",
   "execution_count": 65,
   "metadata": {
    "ExecuteTime": {
     "end_time": "2020-09-23T13:30:22.202106Z",
     "start_time": "2020-09-23T13:30:22.181967Z"
    },
    "hidden": true
   },
   "outputs": [],
   "source": [
    "## Creting dataframe with results\n",
    "mux = pd.MultiIndex.from_tuples(resf.keys())\n",
    "dfx = pd.DataFrame(resf.values(), index=mux).unstack()\n",
    "dfx.columns = dfx.columns.droplevel()"
   ]
  },
  {
   "cell_type": "code",
   "execution_count": 66,
   "metadata": {
    "ExecuteTime": {
     "end_time": "2020-09-23T13:30:22.228861Z",
     "start_time": "2020-09-23T13:30:22.204830Z"
    },
    "hidden": true
   },
   "outputs": [
    {
     "data": {
      "text/html": [
       "<div>\n",
       "<style scoped>\n",
       "    .dataframe tbody tr th:only-of-type {\n",
       "        vertical-align: middle;\n",
       "    }\n",
       "\n",
       "    .dataframe tbody tr th {\n",
       "        vertical-align: top;\n",
       "    }\n",
       "\n",
       "    .dataframe thead th {\n",
       "        text-align: right;\n",
       "    }\n",
       "</style>\n",
       "<table border=\"1\" class=\"dataframe\">\n",
       "  <thead>\n",
       "    <tr style=\"text-align: right;\">\n",
       "      <th></th>\n",
       "      <th></th>\n",
       "      <th>1_Top</th>\n",
       "      <th>2_Top</th>\n",
       "      <th>3_Top</th>\n",
       "      <th>4_Top</th>\n",
       "      <th>5_Top</th>\n",
       "      <th>Remaining</th>\n",
       "    </tr>\n",
       "  </thead>\n",
       "  <tbody>\n",
       "    <tr>\n",
       "      <th rowspan=\"3\" valign=\"top\">2020-4</th>\n",
       "      <th>Part</th>\n",
       "      <td>31.2</td>\n",
       "      <td>21.5</td>\n",
       "      <td>20.4</td>\n",
       "      <td>11.5</td>\n",
       "      <td>7.8</td>\n",
       "      <td>7.6</td>\n",
       "    </tr>\n",
       "    <tr>\n",
       "      <th>Sales</th>\n",
       "      <td>214776</td>\n",
       "      <td>148406</td>\n",
       "      <td>140847</td>\n",
       "      <td>78971.5</td>\n",
       "      <td>54006.3</td>\n",
       "      <td>52351</td>\n",
       "    </tr>\n",
       "    <tr>\n",
       "      <th>Spec</th>\n",
       "      <td>DERMATOLOGIA</td>\n",
       "      <td>UROLOGIA</td>\n",
       "      <td>GINECOLOGIA</td>\n",
       "      <td>GASTROENTEROLOGIA</td>\n",
       "      <td>OTRA_ESP</td>\n",
       "      <td>Remaining</td>\n",
       "    </tr>\n",
       "    <tr>\n",
       "      <th rowspan=\"3\" valign=\"top\">2020-5</th>\n",
       "      <th>Part</th>\n",
       "      <td>29.5</td>\n",
       "      <td>20.1</td>\n",
       "      <td>20.1</td>\n",
       "      <td>17</td>\n",
       "      <td>7.2</td>\n",
       "      <td>6.1</td>\n",
       "    </tr>\n",
       "    <tr>\n",
       "      <th>Sales</th>\n",
       "      <td>200212</td>\n",
       "      <td>136024</td>\n",
       "      <td>135928</td>\n",
       "      <td>115457</td>\n",
       "      <td>48833.2</td>\n",
       "      <td>41095.5</td>\n",
       "    </tr>\n",
       "    <tr>\n",
       "      <th>Spec</th>\n",
       "      <td>DERMATOLOGIA</td>\n",
       "      <td>GINECOLOGIA</td>\n",
       "      <td>UROLOGIA</td>\n",
       "      <td>GASTROENTEROLOGIA</td>\n",
       "      <td>ENDOCRINOLOGIA</td>\n",
       "      <td>Remaining</td>\n",
       "    </tr>\n",
       "    <tr>\n",
       "      <th rowspan=\"3\" valign=\"top\">2020-6</th>\n",
       "      <th>Part</th>\n",
       "      <td>25.5</td>\n",
       "      <td>23.4</td>\n",
       "      <td>23.1</td>\n",
       "      <td>14.3</td>\n",
       "      <td>8.8</td>\n",
       "      <td>4.9</td>\n",
       "    </tr>\n",
       "    <tr>\n",
       "      <th>Sales</th>\n",
       "      <td>213449</td>\n",
       "      <td>195370</td>\n",
       "      <td>193195</td>\n",
       "      <td>119734</td>\n",
       "      <td>73635</td>\n",
       "      <td>40911.5</td>\n",
       "    </tr>\n",
       "    <tr>\n",
       "      <th>Spec</th>\n",
       "      <td>DERMATOLOGIA</td>\n",
       "      <td>UROLOGIA</td>\n",
       "      <td>GINECOLOGIA</td>\n",
       "      <td>GASTROENTEROLOGIA</td>\n",
       "      <td>ENDOCRINOLOGIA</td>\n",
       "      <td>Remaining</td>\n",
       "    </tr>\n",
       "    <tr>\n",
       "      <th rowspan=\"3\" valign=\"top\">2020-7</th>\n",
       "      <th>Part</th>\n",
       "      <td>25</td>\n",
       "      <td>24.8</td>\n",
       "      <td>19.1</td>\n",
       "      <td>12.2</td>\n",
       "      <td>12</td>\n",
       "      <td>7</td>\n",
       "    </tr>\n",
       "    <tr>\n",
       "      <th>Sales</th>\n",
       "      <td>267816</td>\n",
       "      <td>266224</td>\n",
       "      <td>204950</td>\n",
       "      <td>130554</td>\n",
       "      <td>128716</td>\n",
       "      <td>74727</td>\n",
       "    </tr>\n",
       "    <tr>\n",
       "      <th>Spec</th>\n",
       "      <td>GINECOLOGIA</td>\n",
       "      <td>DERMATOLOGIA</td>\n",
       "      <td>UROLOGIA</td>\n",
       "      <td>GASTROENTEROLOGIA</td>\n",
       "      <td>ENDOCRINOLOGIA</td>\n",
       "      <td>Remaining</td>\n",
       "    </tr>\n",
       "    <tr>\n",
       "      <th rowspan=\"3\" valign=\"top\">2020-8</th>\n",
       "      <th>Part</th>\n",
       "      <td>29</td>\n",
       "      <td>22.7</td>\n",
       "      <td>17.4</td>\n",
       "      <td>12.9</td>\n",
       "      <td>12.6</td>\n",
       "      <td>5.4</td>\n",
       "    </tr>\n",
       "    <tr>\n",
       "      <th>Sales</th>\n",
       "      <td>297095</td>\n",
       "      <td>233174</td>\n",
       "      <td>178636</td>\n",
       "      <td>132070</td>\n",
       "      <td>129117</td>\n",
       "      <td>55796</td>\n",
       "    </tr>\n",
       "    <tr>\n",
       "      <th>Spec</th>\n",
       "      <td>DERMATOLOGIA</td>\n",
       "      <td>GINECOLOGIA</td>\n",
       "      <td>UROLOGIA</td>\n",
       "      <td>ENDOCRINOLOGIA</td>\n",
       "      <td>GASTROENTEROLOGIA</td>\n",
       "      <td>Remaining</td>\n",
       "    </tr>\n",
       "  </tbody>\n",
       "</table>\n",
       "</div>"
      ],
      "text/plain": [
       "                     1_Top         2_Top        3_Top              4_Top  \\\n",
       "2020-4 Part           31.2          21.5         20.4               11.5   \n",
       "       Sales        214776        148406       140847            78971.5   \n",
       "       Spec   DERMATOLOGIA      UROLOGIA  GINECOLOGIA  GASTROENTEROLOGIA   \n",
       "2020-5 Part           29.5          20.1         20.1                 17   \n",
       "       Sales        200212        136024       135928             115457   \n",
       "       Spec   DERMATOLOGIA   GINECOLOGIA     UROLOGIA  GASTROENTEROLOGIA   \n",
       "2020-6 Part           25.5          23.4         23.1               14.3   \n",
       "       Sales        213449        195370       193195             119734   \n",
       "       Spec   DERMATOLOGIA      UROLOGIA  GINECOLOGIA  GASTROENTEROLOGIA   \n",
       "2020-7 Part             25          24.8         19.1               12.2   \n",
       "       Sales        267816        266224       204950             130554   \n",
       "       Spec    GINECOLOGIA  DERMATOLOGIA     UROLOGIA  GASTROENTEROLOGIA   \n",
       "2020-8 Part             29          22.7         17.4               12.9   \n",
       "       Sales        297095        233174       178636             132070   \n",
       "       Spec   DERMATOLOGIA   GINECOLOGIA     UROLOGIA     ENDOCRINOLOGIA   \n",
       "\n",
       "                          5_Top  Remaining  \n",
       "2020-4 Part                 7.8        7.6  \n",
       "       Sales            54006.3      52351  \n",
       "       Spec            OTRA_ESP  Remaining  \n",
       "2020-5 Part                 7.2        6.1  \n",
       "       Sales            48833.2    41095.5  \n",
       "       Spec      ENDOCRINOLOGIA  Remaining  \n",
       "2020-6 Part                 8.8        4.9  \n",
       "       Sales              73635    40911.5  \n",
       "       Spec      ENDOCRINOLOGIA  Remaining  \n",
       "2020-7 Part                  12          7  \n",
       "       Sales             128716      74727  \n",
       "       Spec      ENDOCRINOLOGIA  Remaining  \n",
       "2020-8 Part                12.6        5.4  \n",
       "       Sales             129117      55796  \n",
       "       Spec   GASTROENTEROLOGIA  Remaining  "
      ]
     },
     "execution_count": 66,
     "metadata": {},
     "output_type": "execute_result"
    }
   ],
   "source": [
    "dfx"
   ]
  },
  {
   "cell_type": "markdown",
   "metadata": {
    "heading_collapsed": true
   },
   "source": [
    "## Analysis 6\n",
    "- How have sales behaved per location, per business line, per speciality?"
   ]
  },
  {
   "cell_type": "markdown",
   "metadata": {
    "hidden": true
   },
   "source": [
    "#### Base code"
   ]
  },
  {
   "cell_type": "code",
   "execution_count": null,
   "metadata": {
    "ExecuteTime": {
     "end_time": "2020-09-22T17:41:15.563839Z",
     "start_time": "2020-09-22T17:41:15.443634Z"
    },
    "hidden": true
   },
   "outputs": [],
   "source": [
    "dfsx = data_processing_sales_A6(dfs)"
   ]
  },
  {
   "cell_type": "code",
   "execution_count": null,
   "metadata": {
    "ExecuteTime": {
     "end_time": "2020-09-22T17:41:16.397594Z",
     "start_time": "2020-09-22T17:41:15.926353Z"
    },
    "hidden": true,
    "scrolled": false
   },
   "outputs": [],
   "source": [
    "dfsx"
   ]
  },
  {
   "cell_type": "markdown",
   "metadata": {
    "hidden": true
   },
   "source": [
    "#### Further analysis"
   ]
  },
  {
   "cell_type": "markdown",
   "metadata": {
    "hidden": true
   },
   "source": [
    "---"
   ]
  },
  {
   "cell_type": "markdown",
   "metadata": {
    "heading_collapsed": true
   },
   "source": [
    "## Analysis 7\n",
    "- How have sales behaved per location, per provider, per business line?"
   ]
  },
  {
   "cell_type": "code",
   "execution_count": null,
   "metadata": {
    "ExecuteTime": {
     "end_time": "2020-09-22T17:41:50.994203Z",
     "start_time": "2020-09-22T17:41:50.866634Z"
    },
    "hidden": true
   },
   "outputs": [],
   "source": [
    "dfsx = data_processing_sales_A7(dfs)"
   ]
  },
  {
   "cell_type": "code",
   "execution_count": null,
   "metadata": {
    "ExecuteTime": {
     "end_time": "2020-09-22T17:41:51.748763Z",
     "start_time": "2020-09-22T17:41:51.056642Z"
    },
    "hidden": true,
    "scrolled": false
   },
   "outputs": [],
   "source": [
    "dfsx"
   ]
  },
  {
   "cell_type": "markdown",
   "metadata": {
    "hidden": true
   },
   "source": [
    "---"
   ]
  },
  {
   "cell_type": "markdown",
   "metadata": {},
   "source": [
    "# Data analysis - Appointments"
   ]
  },
  {
   "cell_type": "markdown",
   "metadata": {
    "heading_collapsed": true
   },
   "source": [
    "## Importing and cleaning data"
   ]
  },
  {
   "cell_type": "code",
   "execution_count": null,
   "metadata": {
    "ExecuteTime": {
     "end_time": "2020-09-22T17:23:15.642362Z",
     "start_time": "2020-09-22T17:23:15.460107Z"
    },
    "hidden": true
   },
   "outputs": [],
   "source": [
    "dfa = pd.read_csv(os.path.join(data_loc, appointment_data))"
   ]
  },
  {
   "cell_type": "code",
   "execution_count": null,
   "metadata": {
    "ExecuteTime": {
     "end_time": "2020-09-22T17:23:20.556806Z",
     "start_time": "2020-09-22T17:23:16.243622Z"
    },
    "hidden": true,
    "scrolled": false
   },
   "outputs": [],
   "source": [
    "dfa = dfa_clean(dfa)\n",
    "dfa"
   ]
  },
  {
   "cell_type": "raw",
   "metadata": {
    "ExecuteTime": {
     "end_time": "2020-09-08T17:23:21.077503Z",
     "start_time": "2020-09-08T17:23:21.029885Z"
    },
    "hidden": true
   },
   "source": [
    "doc = \"MARCANO PILLKAHN, JOHANNA CAROLINA\"\n",
    "# m1 = dfa[\"NOMBRE DEL CLÍNICO\"] == doc\n",
    "m1 = dfa[\"NOMBRE DEL CLÍNICO\"].str.contains(\"JOHA\")\n",
    "\n",
    "dfa.loc[m1, :]"
   ]
  },
  {
   "cell_type": "markdown",
   "metadata": {
    "heading_collapsed": true
   },
   "source": [
    "## Analysis 1\n",
    "- How has the number of confirmed appointments behaved weekly since 2019 for each of the most relevant specialities"
   ]
  },
  {
   "cell_type": "code",
   "execution_count": null,
   "metadata": {
    "ExecuteTime": {
     "end_time": "2020-09-01T21:49:06.183494Z",
     "start_time": "2020-09-01T21:49:06.163944Z"
    },
    "hidden": true
   },
   "outputs": [],
   "source": [
    "loc='ALL'"
   ]
  },
  {
   "cell_type": "code",
   "execution_count": null,
   "metadata": {
    "ExecuteTime": {
     "end_time": "2020-09-01T21:49:06.402096Z",
     "start_time": "2020-09-01T21:49:06.338840Z"
    },
    "hidden": true,
    "scrolled": true
   },
   "outputs": [],
   "source": [
    "dfax = data_processing_appointments_A1(dfa, loc=loc)"
   ]
  },
  {
   "cell_type": "code",
   "execution_count": null,
   "metadata": {
    "ExecuteTime": {
     "end_time": "2020-09-01T21:49:06.543569Z",
     "start_time": "2020-09-01T21:49:06.511372Z"
    },
    "hidden": true,
    "scrolled": true
   },
   "outputs": [],
   "source": [
    "dfax"
   ]
  },
  {
   "cell_type": "code",
   "execution_count": null,
   "metadata": {
    "ExecuteTime": {
     "end_time": "2020-09-01T21:49:06.809064Z",
     "start_time": "2020-09-01T21:49:06.770313Z"
    },
    "hidden": true,
    "scrolled": false
   },
   "outputs": [],
   "source": [
    "graph_appointments_A1(dfax, loc=loc)"
   ]
  },
  {
   "cell_type": "markdown",
   "metadata": {
    "heading_collapsed": true
   },
   "source": [
    "## Analysis 2\n",
    "- How has the number of confirmed appointments increased quarterly since 2019?"
   ]
  },
  {
   "cell_type": "code",
   "execution_count": null,
   "metadata": {
    "ExecuteTime": {
     "end_time": "2020-09-01T21:49:17.232347Z",
     "start_time": "2020-09-01T21:49:17.211495Z"
    },
    "hidden": true
   },
   "outputs": [],
   "source": [
    "loc='ALL'"
   ]
  },
  {
   "cell_type": "code",
   "execution_count": null,
   "metadata": {
    "ExecuteTime": {
     "end_time": "2020-09-01T21:49:17.907772Z",
     "start_time": "2020-09-01T21:49:17.816161Z"
    },
    "hidden": true
   },
   "outputs": [],
   "source": [
    "dfax = data_processing_appointments_A2(dfa, loc=loc)"
   ]
  },
  {
   "cell_type": "code",
   "execution_count": null,
   "metadata": {
    "ExecuteTime": {
     "end_time": "2020-09-01T21:49:18.199820Z",
     "start_time": "2020-09-01T21:49:18.155133Z"
    },
    "hidden": true
   },
   "outputs": [],
   "source": [
    "dfax"
   ]
  },
  {
   "cell_type": "code",
   "execution_count": null,
   "metadata": {
    "ExecuteTime": {
     "end_time": "2020-09-01T21:49:25.817020Z",
     "start_time": "2020-09-01T21:49:25.772625Z"
    },
    "hidden": true
   },
   "outputs": [],
   "source": [
    "dfax"
   ]
  },
  {
   "cell_type": "code",
   "execution_count": null,
   "metadata": {
    "ExecuteTime": {
     "end_time": "2020-09-01T21:49:26.207776Z",
     "start_time": "2020-09-01T21:49:26.109110Z"
    },
    "hidden": true,
    "scrolled": false
   },
   "outputs": [],
   "source": [
    "graph_appointments_A2(dfax, loc=loc)"
   ]
  },
  {
   "cell_type": "markdown",
   "metadata": {
    "hidden": true
   },
   "source": [
    "---"
   ]
  },
  {
   "cell_type": "markdown",
   "metadata": {},
   "source": [
    "# Data analysis - Tickets"
   ]
  },
  {
   "cell_type": "code",
   "execution_count": 26,
   "metadata": {
    "ExecuteTime": {
     "end_time": "2020-09-29T16:12:58.788150Z",
     "start_time": "2020-09-29T16:12:58.750245Z"
    }
   },
   "outputs": [],
   "source": [
    "df_sapi = pd.read_csv(\"Data/Emitidos-Punto_Clinico_SAPI-2020-08.csv\")\n",
    "df_sc = pd.read_csv(\"Data/Emitidos-Punto_Clinico_SC-2020-08.csv\")"
   ]
  },
  {
   "cell_type": "code",
   "execution_count": 21,
   "metadata": {
    "ExecuteTime": {
     "end_time": "2020-09-29T16:10:01.977153Z",
     "start_time": "2020-09-29T16:10:01.923113Z"
    },
    "scrolled": true
   },
   "outputs": [
    {
     "data": {
      "text/html": [
       "<div>\n",
       "<style scoped>\n",
       "    .dataframe tbody tr th:only-of-type {\n",
       "        vertical-align: middle;\n",
       "    }\n",
       "\n",
       "    .dataframe tbody tr th {\n",
       "        vertical-align: top;\n",
       "    }\n",
       "\n",
       "    .dataframe thead th {\n",
       "        text-align: right;\n",
       "    }\n",
       "</style>\n",
       "<table border=\"1\" class=\"dataframe\">\n",
       "  <thead>\n",
       "    <tr style=\"text-align: right;\">\n",
       "      <th></th>\n",
       "      <th>XML</th>\n",
       "      <th>Rfc Emisor</th>\n",
       "      <th>Nombre Emisor</th>\n",
       "      <th>Rfc Receptor</th>\n",
       "      <th>Nombre Receptor</th>\n",
       "      <th>Tipo</th>\n",
       "      <th>Serie</th>\n",
       "      <th>Folio</th>\n",
       "      <th>Fecha</th>\n",
       "      <th>Sub Total</th>\n",
       "      <th>Descuento</th>\n",
       "      <th>Total impuesto Trasladado</th>\n",
       "      <th>Nombre Impuesto</th>\n",
       "      <th>Total impuesto Retenido</th>\n",
       "      <th>Nombre Impuesto.1</th>\n",
       "      <th>Total</th>\n",
       "      <th>UUID</th>\n",
       "      <th>Método de Pago</th>\n",
       "      <th>Forma de Pago</th>\n",
       "      <th>Moneda</th>\n",
       "      <th>Tipo de Cambio</th>\n",
       "      <th>Versión</th>\n",
       "      <th>Uso CFDI</th>\n",
       "      <th>Régimen Fiscal</th>\n",
       "      <th>Estado</th>\n",
       "      <th>Estatus</th>\n",
       "      <th>Conceptos</th>\n",
       "      <th>Traslado IVA 16 %</th>\n",
       "    </tr>\n",
       "  </thead>\n",
       "  <tbody>\n",
       "    <tr>\n",
       "      <th>0</th>\n",
       "      <td>1F5F0551-1247-458C-AC22-BCE0B5FEBBD0.xml</td>\n",
       "      <td>PCV180730UJ1</td>\n",
       "      <td>PUNTO CLINICO VISIONARIO SAPI DE CV</td>\n",
       "      <td>ROTD9301098R2</td>\n",
       "      <td>DENNIS RODRIGUEZ TORRES</td>\n",
       "      <td>ingreso</td>\n",
       "      <td>CAFETALES</td>\n",
       "      <td>3651</td>\n",
       "      <td>2020-08-01T09:24:55</td>\n",
       "      <td>699.00</td>\n",
       "      <td>0.0</td>\n",
       "      <td>0.00</td>\n",
       "      <td>NaN</td>\n",
       "      <td>0.0</td>\n",
       "      <td>NaN</td>\n",
       "      <td>699.0</td>\n",
       "      <td>1F5F0551-1247-458C-AC22-BCE0B5FEBBD0</td>\n",
       "      <td>PUE - Pago en una sola exhibición</td>\n",
       "      <td>28 - Tarjeta de Débito</td>\n",
       "      <td>MXN</td>\n",
       "      <td>NaN</td>\n",
       "      <td>3.3</td>\n",
       "      <td>D01 - Honorarios médicos, dentales y gastos ho...</td>\n",
       "      <td>General de Ley Personas Morales</td>\n",
       "      <td>Vigente</td>\n",
       "      <td>S - Comprobante obtenido satisfactoriamente.</td>\n",
       "      <td>Cantidad : 1  valorUnitario : 699.00  Importe ...</td>\n",
       "      <td>0.00</td>\n",
       "    </tr>\n",
       "    <tr>\n",
       "      <th>1</th>\n",
       "      <td>8BFD38DE-5B16-4A34-B199-97714D68E111.xml</td>\n",
       "      <td>PCV180730UJ1</td>\n",
       "      <td>PUNTO CLINICO VISIONARIO SAPI DE CV</td>\n",
       "      <td>COOE810712LZ3</td>\n",
       "      <td>EDGAR DIONISIO COVARRUBIOS ORTIZ</td>\n",
       "      <td>ingreso</td>\n",
       "      <td>VILLA</td>\n",
       "      <td>3652</td>\n",
       "      <td>2020-08-01T12:49:41</td>\n",
       "      <td>2430.00</td>\n",
       "      <td>0.0</td>\n",
       "      <td>0.00</td>\n",
       "      <td>NaN</td>\n",
       "      <td>0.0</td>\n",
       "      <td>NaN</td>\n",
       "      <td>2430.0</td>\n",
       "      <td>8BFD38DE-5B16-4A34-B199-97714D68E111</td>\n",
       "      <td>PUE - Pago en una sola exhibición</td>\n",
       "      <td>28 - Tarjeta de Débito</td>\n",
       "      <td>MXN</td>\n",
       "      <td>NaN</td>\n",
       "      <td>3.3</td>\n",
       "      <td>D01 - Honorarios médicos, dentales y gastos ho...</td>\n",
       "      <td>General de Ley Personas Morales</td>\n",
       "      <td>Vigente</td>\n",
       "      <td>S - Comprobante obtenido satisfactoriamente.</td>\n",
       "      <td>Cantidad : 1  valorUnitario : 2430.00  Importe...</td>\n",
       "      <td>0.00</td>\n",
       "    </tr>\n",
       "    <tr>\n",
       "      <th>2</th>\n",
       "      <td>06458633-7A54-462E-AB18-D0EB18773027.xml</td>\n",
       "      <td>PCV180730UJ1</td>\n",
       "      <td>PUNTO CLINICO VISIONARIO SAPI DE CV</td>\n",
       "      <td>LMC741212JN6</td>\n",
       "      <td>GRUPO DIAGNOSTICO MEDICO PROA SA DE CV</td>\n",
       "      <td>ingreso</td>\n",
       "      <td>MARINA</td>\n",
       "      <td>3653</td>\n",
       "      <td>2020-08-03T09:06:39</td>\n",
       "      <td>325000.00</td>\n",
       "      <td>0.0</td>\n",
       "      <td>52000.00</td>\n",
       "      <td>002 - IVA</td>\n",
       "      <td>0.0</td>\n",
       "      <td>NaN</td>\n",
       "      <td>377000.0</td>\n",
       "      <td>06458633-7A54-462E-AB18-D0EB18773027</td>\n",
       "      <td>PPD - Pago en parcialidades o diferido</td>\n",
       "      <td>99 - Otros</td>\n",
       "      <td>MXN</td>\n",
       "      <td>NaN</td>\n",
       "      <td>3.3</td>\n",
       "      <td>P01 - Por definir</td>\n",
       "      <td>General de Ley Personas Morales</td>\n",
       "      <td>Vigente</td>\n",
       "      <td>S - Comprobante obtenido satisfactoriamente.</td>\n",
       "      <td>Cantidad : 50000  valorUnitario : 6.50  Import...</td>\n",
       "      <td>52000.00</td>\n",
       "    </tr>\n",
       "    <tr>\n",
       "      <th>3</th>\n",
       "      <td>BC1172F5-D755-45F8-AFA7-FCEBA8E704D9.xml</td>\n",
       "      <td>PCV180730UJ1</td>\n",
       "      <td>PUNTO CLINICO VISIONARIO SAPI DE CV</td>\n",
       "      <td>OISG760103JE9</td>\n",
       "      <td>GLORIA GUADALUPE OLIVARES SANCHEZ</td>\n",
       "      <td>ingreso</td>\n",
       "      <td>CAFETALES</td>\n",
       "      <td>3654</td>\n",
       "      <td>2020-08-03T09:14:37</td>\n",
       "      <td>399.00</td>\n",
       "      <td>0.0</td>\n",
       "      <td>0.00</td>\n",
       "      <td>NaN</td>\n",
       "      <td>0.0</td>\n",
       "      <td>NaN</td>\n",
       "      <td>399.0</td>\n",
       "      <td>BC1172F5-D755-45F8-AFA7-FCEBA8E704D9</td>\n",
       "      <td>PUE - Pago en una sola exhibición</td>\n",
       "      <td>04 - Tarjetas de crédito</td>\n",
       "      <td>MXN</td>\n",
       "      <td>NaN</td>\n",
       "      <td>3.3</td>\n",
       "      <td>D01 - Honorarios médicos, dentales y gastos ho...</td>\n",
       "      <td>General de Ley Personas Morales</td>\n",
       "      <td>Vigente</td>\n",
       "      <td>S - Comprobante obtenido satisfactoriamente.</td>\n",
       "      <td>Cantidad : 1  valorUnitario : 399.00  Importe ...</td>\n",
       "      <td>0.00</td>\n",
       "    </tr>\n",
       "    <tr>\n",
       "      <th>4</th>\n",
       "      <td>46EB9572-A7F4-48F6-9D18-7F1C2B67C4D4.xml</td>\n",
       "      <td>PCV180730UJ1</td>\n",
       "      <td>PUNTO CLINICO VISIONARIO SAPI DE CV</td>\n",
       "      <td>HEFI770326LE5</td>\n",
       "      <td>IVONNE HERNANDEZ FLORES</td>\n",
       "      <td>ingreso</td>\n",
       "      <td>VILLA</td>\n",
       "      <td>3655</td>\n",
       "      <td>2020-08-03T09:31:27</td>\n",
       "      <td>370.69</td>\n",
       "      <td>0.0</td>\n",
       "      <td>59.31</td>\n",
       "      <td>002 - IVA</td>\n",
       "      <td>0.0</td>\n",
       "      <td>NaN</td>\n",
       "      <td>430.0</td>\n",
       "      <td>46EB9572-A7F4-48F6-9D18-7F1C2B67C4D4</td>\n",
       "      <td>PUE - Pago en una sola exhibición</td>\n",
       "      <td>04 - Tarjetas de crédito</td>\n",
       "      <td>MXN</td>\n",
       "      <td>NaN</td>\n",
       "      <td>3.3</td>\n",
       "      <td>D01 - Honorarios médicos, dentales y gastos ho...</td>\n",
       "      <td>General de Ley Personas Morales</td>\n",
       "      <td>Vigente</td>\n",
       "      <td>S - Comprobante obtenido satisfactoriamente.</td>\n",
       "      <td>Cantidad : 1  valorUnitario : 370.69  Importe ...</td>\n",
       "      <td>59.31</td>\n",
       "    </tr>\n",
       "    <tr>\n",
       "      <th>...</th>\n",
       "      <td>...</td>\n",
       "      <td>...</td>\n",
       "      <td>...</td>\n",
       "      <td>...</td>\n",
       "      <td>...</td>\n",
       "      <td>...</td>\n",
       "      <td>...</td>\n",
       "      <td>...</td>\n",
       "      <td>...</td>\n",
       "      <td>...</td>\n",
       "      <td>...</td>\n",
       "      <td>...</td>\n",
       "      <td>...</td>\n",
       "      <td>...</td>\n",
       "      <td>...</td>\n",
       "      <td>...</td>\n",
       "      <td>...</td>\n",
       "      <td>...</td>\n",
       "      <td>...</td>\n",
       "      <td>...</td>\n",
       "      <td>...</td>\n",
       "      <td>...</td>\n",
       "      <td>...</td>\n",
       "      <td>...</td>\n",
       "      <td>...</td>\n",
       "      <td>...</td>\n",
       "      <td>...</td>\n",
       "      <td>...</td>\n",
       "    </tr>\n",
       "    <tr>\n",
       "      <th>195</th>\n",
       "      <td>50046596-a28d-411d-a385-373e004eda6e.xml</td>\n",
       "      <td>PCV180730UJ1</td>\n",
       "      <td>PUNTO CLINICO VISIONARIO SAPI DE CV</td>\n",
       "      <td>GAGB710226472</td>\n",
       "      <td>BLANCA LIDIA GARCIA GONZALEZ</td>\n",
       "      <td>ingreso</td>\n",
       "      <td>VILLA</td>\n",
       "      <td>3818</td>\n",
       "      <td>2020-08-31T13:33:27</td>\n",
       "      <td>1300.00</td>\n",
       "      <td>0.0</td>\n",
       "      <td>0.00</td>\n",
       "      <td>NaN</td>\n",
       "      <td>0.0</td>\n",
       "      <td>NaN</td>\n",
       "      <td>1300.0</td>\n",
       "      <td>50046596-a28d-411d-a385-373e004eda6e</td>\n",
       "      <td>PUE - Pago en una sola exhibición</td>\n",
       "      <td>28 - Tarjeta de Débito</td>\n",
       "      <td>MXN</td>\n",
       "      <td>NaN</td>\n",
       "      <td>3.3</td>\n",
       "      <td>D01 - Honorarios médicos, dentales y gastos ho...</td>\n",
       "      <td>General de Ley Personas Morales</td>\n",
       "      <td>Vigente</td>\n",
       "      <td>S - Comprobante obtenido satisfactoriamente.</td>\n",
       "      <td>Cantidad : 1  valorUnitario : 1300.00  Importe...</td>\n",
       "      <td>0.00</td>\n",
       "    </tr>\n",
       "    <tr>\n",
       "      <th>196</th>\n",
       "      <td>928b53a6-5fed-4001-a217-9bb3dbea27c7.xml</td>\n",
       "      <td>PCV180730UJ1</td>\n",
       "      <td>PUNTO CLINICO VISIONARIO SAPI DE CV</td>\n",
       "      <td>GAPA900601451</td>\n",
       "      <td>AXEL GARCIA POISOT</td>\n",
       "      <td>ingreso</td>\n",
       "      <td>VILLA</td>\n",
       "      <td>3819</td>\n",
       "      <td>2020-08-31T16:14:22</td>\n",
       "      <td>549.00</td>\n",
       "      <td>0.0</td>\n",
       "      <td>0.00</td>\n",
       "      <td>NaN</td>\n",
       "      <td>0.0</td>\n",
       "      <td>NaN</td>\n",
       "      <td>549.0</td>\n",
       "      <td>928b53a6-5fed-4001-a217-9bb3dbea27c7</td>\n",
       "      <td>PUE - Pago en una sola exhibición</td>\n",
       "      <td>28 - Tarjeta de Débito</td>\n",
       "      <td>MXN</td>\n",
       "      <td>NaN</td>\n",
       "      <td>3.3</td>\n",
       "      <td>D01 - Honorarios médicos, dentales y gastos ho...</td>\n",
       "      <td>General de Ley Personas Morales</td>\n",
       "      <td>Vigente</td>\n",
       "      <td>S - Comprobante obtenido satisfactoriamente.</td>\n",
       "      <td>Cantidad : 1  valorUnitario : 549.00  Importe ...</td>\n",
       "      <td>0.00</td>\n",
       "    </tr>\n",
       "    <tr>\n",
       "      <th>197</th>\n",
       "      <td>58ee7419-a175-4d75-9198-a931609c252e.xml</td>\n",
       "      <td>PCV180730UJ1</td>\n",
       "      <td>PUNTO CLINICO VISIONARIO SAPI DE CV</td>\n",
       "      <td>HEGR6908316W0</td>\n",
       "      <td>REINA HERNANDEZ GALLEGOS</td>\n",
       "      <td>ingreso</td>\n",
       "      <td>VILLA</td>\n",
       "      <td>3820</td>\n",
       "      <td>2020-08-31T17:16:51</td>\n",
       "      <td>399.00</td>\n",
       "      <td>0.0</td>\n",
       "      <td>0.00</td>\n",
       "      <td>NaN</td>\n",
       "      <td>0.0</td>\n",
       "      <td>NaN</td>\n",
       "      <td>399.0</td>\n",
       "      <td>58ee7419-a175-4d75-9198-a931609c252e</td>\n",
       "      <td>PUE - Pago en una sola exhibición</td>\n",
       "      <td>28 - Tarjeta de Débito</td>\n",
       "      <td>MXN</td>\n",
       "      <td>NaN</td>\n",
       "      <td>3.3</td>\n",
       "      <td>D01 - Honorarios médicos, dentales y gastos ho...</td>\n",
       "      <td>General de Ley Personas Morales</td>\n",
       "      <td>Vigente</td>\n",
       "      <td>S - Comprobante obtenido satisfactoriamente.</td>\n",
       "      <td>Cantidad : 1  valorUnitario : 399.00  Importe ...</td>\n",
       "      <td>0.00</td>\n",
       "    </tr>\n",
       "    <tr>\n",
       "      <th>198</th>\n",
       "      <td>1d236376-041d-4ad6-9095-33622e906388.xml</td>\n",
       "      <td>PCV180730UJ1</td>\n",
       "      <td>PUNTO CLINICO VISIONARIO SAPI DE CV</td>\n",
       "      <td>FAMJ7608234V8</td>\n",
       "      <td>JACOBO FRANQUIZ MUÑOZ</td>\n",
       "      <td>ingreso</td>\n",
       "      <td>VILLA</td>\n",
       "      <td>3821</td>\n",
       "      <td>2020-08-31T18:10:50</td>\n",
       "      <td>399.00</td>\n",
       "      <td>0.0</td>\n",
       "      <td>0.00</td>\n",
       "      <td>NaN</td>\n",
       "      <td>0.0</td>\n",
       "      <td>NaN</td>\n",
       "      <td>399.0</td>\n",
       "      <td>1d236376-041d-4ad6-9095-33622e906388</td>\n",
       "      <td>PUE - Pago en una sola exhibición</td>\n",
       "      <td>28 - Tarjeta de Débito</td>\n",
       "      <td>MXN</td>\n",
       "      <td>NaN</td>\n",
       "      <td>3.3</td>\n",
       "      <td>D01 - Honorarios médicos, dentales y gastos ho...</td>\n",
       "      <td>General de Ley Personas Morales</td>\n",
       "      <td>Vigente</td>\n",
       "      <td>S - Comprobante obtenido satisfactoriamente.</td>\n",
       "      <td>Cantidad : 1  valorUnitario : 399.00  Importe ...</td>\n",
       "      <td>0.00</td>\n",
       "    </tr>\n",
       "    <tr>\n",
       "      <th>199</th>\n",
       "      <td>de7dd268-9ed4-48cf-af87-54f200f8f352.xml</td>\n",
       "      <td>PCV180730UJ1</td>\n",
       "      <td>PUNTO CLINICO VISIONARIO SAPI DE CV</td>\n",
       "      <td>TEPR731105I94</td>\n",
       "      <td>RUBEN TELLEZ PEREZ</td>\n",
       "      <td>ingreso</td>\n",
       "      <td>VILLA</td>\n",
       "      <td>3822</td>\n",
       "      <td>2020-08-31T19:01:03</td>\n",
       "      <td>771.00</td>\n",
       "      <td>0.0</td>\n",
       "      <td>0.00</td>\n",
       "      <td>NaN</td>\n",
       "      <td>0.0</td>\n",
       "      <td>NaN</td>\n",
       "      <td>771.0</td>\n",
       "      <td>de7dd268-9ed4-48cf-af87-54f200f8f352</td>\n",
       "      <td>PUE - Pago en una sola exhibición</td>\n",
       "      <td>28 - Tarjeta de Débito</td>\n",
       "      <td>MXN</td>\n",
       "      <td>NaN</td>\n",
       "      <td>3.3</td>\n",
       "      <td>G03 - Gastos en general</td>\n",
       "      <td>General de Ley Personas Morales</td>\n",
       "      <td>Vigente</td>\n",
       "      <td>S - Comprobante obtenido satisfactoriamente.</td>\n",
       "      <td>Cantidad : 1  valorUnitario : 771.00  Importe ...</td>\n",
       "      <td>0.00</td>\n",
       "    </tr>\n",
       "  </tbody>\n",
       "</table>\n",
       "<p>200 rows × 28 columns</p>\n",
       "</div>"
      ],
      "text/plain": [
       "                                          XML    Rfc Emisor  \\\n",
       "0    1F5F0551-1247-458C-AC22-BCE0B5FEBBD0.xml  PCV180730UJ1   \n",
       "1    8BFD38DE-5B16-4A34-B199-97714D68E111.xml  PCV180730UJ1   \n",
       "2    06458633-7A54-462E-AB18-D0EB18773027.xml  PCV180730UJ1   \n",
       "3    BC1172F5-D755-45F8-AFA7-FCEBA8E704D9.xml  PCV180730UJ1   \n",
       "4    46EB9572-A7F4-48F6-9D18-7F1C2B67C4D4.xml  PCV180730UJ1   \n",
       "..                                        ...           ...   \n",
       "195  50046596-a28d-411d-a385-373e004eda6e.xml  PCV180730UJ1   \n",
       "196  928b53a6-5fed-4001-a217-9bb3dbea27c7.xml  PCV180730UJ1   \n",
       "197  58ee7419-a175-4d75-9198-a931609c252e.xml  PCV180730UJ1   \n",
       "198  1d236376-041d-4ad6-9095-33622e906388.xml  PCV180730UJ1   \n",
       "199  de7dd268-9ed4-48cf-af87-54f200f8f352.xml  PCV180730UJ1   \n",
       "\n",
       "                           Nombre Emisor   Rfc Receptor  \\\n",
       "0    PUNTO CLINICO VISIONARIO SAPI DE CV  ROTD9301098R2   \n",
       "1    PUNTO CLINICO VISIONARIO SAPI DE CV  COOE810712LZ3   \n",
       "2    PUNTO CLINICO VISIONARIO SAPI DE CV   LMC741212JN6   \n",
       "3    PUNTO CLINICO VISIONARIO SAPI DE CV  OISG760103JE9   \n",
       "4    PUNTO CLINICO VISIONARIO SAPI DE CV  HEFI770326LE5   \n",
       "..                                   ...            ...   \n",
       "195  PUNTO CLINICO VISIONARIO SAPI DE CV  GAGB710226472   \n",
       "196  PUNTO CLINICO VISIONARIO SAPI DE CV  GAPA900601451   \n",
       "197  PUNTO CLINICO VISIONARIO SAPI DE CV  HEGR6908316W0   \n",
       "198  PUNTO CLINICO VISIONARIO SAPI DE CV  FAMJ7608234V8   \n",
       "199  PUNTO CLINICO VISIONARIO SAPI DE CV  TEPR731105I94   \n",
       "\n",
       "                            Nombre Receptor     Tipo      Serie  Folio  \\\n",
       "0                   DENNIS RODRIGUEZ TORRES  ingreso  CAFETALES   3651   \n",
       "1          EDGAR DIONISIO COVARRUBIOS ORTIZ  ingreso      VILLA   3652   \n",
       "2    GRUPO DIAGNOSTICO MEDICO PROA SA DE CV  ingreso     MARINA   3653   \n",
       "3         GLORIA GUADALUPE OLIVARES SANCHEZ  ingreso  CAFETALES   3654   \n",
       "4                   IVONNE HERNANDEZ FLORES  ingreso      VILLA   3655   \n",
       "..                                      ...      ...        ...    ...   \n",
       "195            BLANCA LIDIA GARCIA GONZALEZ  ingreso      VILLA   3818   \n",
       "196                      AXEL GARCIA POISOT  ingreso      VILLA   3819   \n",
       "197                REINA HERNANDEZ GALLEGOS  ingreso      VILLA   3820   \n",
       "198                   JACOBO FRANQUIZ MUÑOZ  ingreso      VILLA   3821   \n",
       "199                      RUBEN TELLEZ PEREZ  ingreso      VILLA   3822   \n",
       "\n",
       "                   Fecha  Sub Total  Descuento  Total impuesto Trasladado  \\\n",
       "0    2020-08-01T09:24:55     699.00        0.0                       0.00   \n",
       "1    2020-08-01T12:49:41    2430.00        0.0                       0.00   \n",
       "2    2020-08-03T09:06:39  325000.00        0.0                   52000.00   \n",
       "3    2020-08-03T09:14:37     399.00        0.0                       0.00   \n",
       "4    2020-08-03T09:31:27     370.69        0.0                      59.31   \n",
       "..                   ...        ...        ...                        ...   \n",
       "195  2020-08-31T13:33:27    1300.00        0.0                       0.00   \n",
       "196  2020-08-31T16:14:22     549.00        0.0                       0.00   \n",
       "197  2020-08-31T17:16:51     399.00        0.0                       0.00   \n",
       "198  2020-08-31T18:10:50     399.00        0.0                       0.00   \n",
       "199  2020-08-31T19:01:03     771.00        0.0                       0.00   \n",
       "\n",
       "    Nombre Impuesto  Total impuesto Retenido Nombre Impuesto.1     Total  \\\n",
       "0               NaN                      0.0               NaN     699.0   \n",
       "1               NaN                      0.0               NaN    2430.0   \n",
       "2         002 - IVA                      0.0               NaN  377000.0   \n",
       "3               NaN                      0.0               NaN     399.0   \n",
       "4         002 - IVA                      0.0               NaN     430.0   \n",
       "..              ...                      ...               ...       ...   \n",
       "195             NaN                      0.0               NaN    1300.0   \n",
       "196             NaN                      0.0               NaN     549.0   \n",
       "197             NaN                      0.0               NaN     399.0   \n",
       "198             NaN                      0.0               NaN     399.0   \n",
       "199             NaN                      0.0               NaN     771.0   \n",
       "\n",
       "                                     UUID  \\\n",
       "0    1F5F0551-1247-458C-AC22-BCE0B5FEBBD0   \n",
       "1    8BFD38DE-5B16-4A34-B199-97714D68E111   \n",
       "2    06458633-7A54-462E-AB18-D0EB18773027   \n",
       "3    BC1172F5-D755-45F8-AFA7-FCEBA8E704D9   \n",
       "4    46EB9572-A7F4-48F6-9D18-7F1C2B67C4D4   \n",
       "..                                    ...   \n",
       "195  50046596-a28d-411d-a385-373e004eda6e   \n",
       "196  928b53a6-5fed-4001-a217-9bb3dbea27c7   \n",
       "197  58ee7419-a175-4d75-9198-a931609c252e   \n",
       "198  1d236376-041d-4ad6-9095-33622e906388   \n",
       "199  de7dd268-9ed4-48cf-af87-54f200f8f352   \n",
       "\n",
       "                             Método de Pago             Forma de Pago Moneda  \\\n",
       "0         PUE - Pago en una sola exhibición    28 - Tarjeta de Débito    MXN   \n",
       "1         PUE - Pago en una sola exhibición    28 - Tarjeta de Débito    MXN   \n",
       "2    PPD - Pago en parcialidades o diferido                99 - Otros    MXN   \n",
       "3         PUE - Pago en una sola exhibición  04 - Tarjetas de crédito    MXN   \n",
       "4         PUE - Pago en una sola exhibición  04 - Tarjetas de crédito    MXN   \n",
       "..                                      ...                       ...    ...   \n",
       "195       PUE - Pago en una sola exhibición    28 - Tarjeta de Débito    MXN   \n",
       "196       PUE - Pago en una sola exhibición    28 - Tarjeta de Débito    MXN   \n",
       "197       PUE - Pago en una sola exhibición    28 - Tarjeta de Débito    MXN   \n",
       "198       PUE - Pago en una sola exhibición    28 - Tarjeta de Débito    MXN   \n",
       "199       PUE - Pago en una sola exhibición    28 - Tarjeta de Débito    MXN   \n",
       "\n",
       "     Tipo de Cambio  Versión  \\\n",
       "0               NaN      3.3   \n",
       "1               NaN      3.3   \n",
       "2               NaN      3.3   \n",
       "3               NaN      3.3   \n",
       "4               NaN      3.3   \n",
       "..              ...      ...   \n",
       "195             NaN      3.3   \n",
       "196             NaN      3.3   \n",
       "197             NaN      3.3   \n",
       "198             NaN      3.3   \n",
       "199             NaN      3.3   \n",
       "\n",
       "                                              Uso CFDI  \\\n",
       "0    D01 - Honorarios médicos, dentales y gastos ho...   \n",
       "1    D01 - Honorarios médicos, dentales y gastos ho...   \n",
       "2                                    P01 - Por definir   \n",
       "3    D01 - Honorarios médicos, dentales y gastos ho...   \n",
       "4    D01 - Honorarios médicos, dentales y gastos ho...   \n",
       "..                                                 ...   \n",
       "195  D01 - Honorarios médicos, dentales y gastos ho...   \n",
       "196  D01 - Honorarios médicos, dentales y gastos ho...   \n",
       "197  D01 - Honorarios médicos, dentales y gastos ho...   \n",
       "198  D01 - Honorarios médicos, dentales y gastos ho...   \n",
       "199                            G03 - Gastos en general   \n",
       "\n",
       "                      Régimen Fiscal   Estado  \\\n",
       "0    General de Ley Personas Morales  Vigente   \n",
       "1    General de Ley Personas Morales  Vigente   \n",
       "2    General de Ley Personas Morales  Vigente   \n",
       "3    General de Ley Personas Morales  Vigente   \n",
       "4    General de Ley Personas Morales  Vigente   \n",
       "..                               ...      ...   \n",
       "195  General de Ley Personas Morales  Vigente   \n",
       "196  General de Ley Personas Morales  Vigente   \n",
       "197  General de Ley Personas Morales  Vigente   \n",
       "198  General de Ley Personas Morales  Vigente   \n",
       "199  General de Ley Personas Morales  Vigente   \n",
       "\n",
       "                                          Estatus  \\\n",
       "0    S - Comprobante obtenido satisfactoriamente.   \n",
       "1    S - Comprobante obtenido satisfactoriamente.   \n",
       "2    S - Comprobante obtenido satisfactoriamente.   \n",
       "3    S - Comprobante obtenido satisfactoriamente.   \n",
       "4    S - Comprobante obtenido satisfactoriamente.   \n",
       "..                                            ...   \n",
       "195  S - Comprobante obtenido satisfactoriamente.   \n",
       "196  S - Comprobante obtenido satisfactoriamente.   \n",
       "197  S - Comprobante obtenido satisfactoriamente.   \n",
       "198  S - Comprobante obtenido satisfactoriamente.   \n",
       "199  S - Comprobante obtenido satisfactoriamente.   \n",
       "\n",
       "                                             Conceptos  Traslado IVA 16 %  \n",
       "0    Cantidad : 1  valorUnitario : 699.00  Importe ...               0.00  \n",
       "1    Cantidad : 1  valorUnitario : 2430.00  Importe...               0.00  \n",
       "2    Cantidad : 50000  valorUnitario : 6.50  Import...           52000.00  \n",
       "3    Cantidad : 1  valorUnitario : 399.00  Importe ...               0.00  \n",
       "4    Cantidad : 1  valorUnitario : 370.69  Importe ...              59.31  \n",
       "..                                                 ...                ...  \n",
       "195  Cantidad : 1  valorUnitario : 1300.00  Importe...               0.00  \n",
       "196  Cantidad : 1  valorUnitario : 549.00  Importe ...               0.00  \n",
       "197  Cantidad : 1  valorUnitario : 399.00  Importe ...               0.00  \n",
       "198  Cantidad : 1  valorUnitario : 399.00  Importe ...               0.00  \n",
       "199  Cantidad : 1  valorUnitario : 771.00  Importe ...               0.00  \n",
       "\n",
       "[200 rows x 28 columns]"
      ]
     },
     "execution_count": 21,
     "metadata": {},
     "output_type": "execute_result"
    }
   ],
   "source": [
    "df_sapi"
   ]
  },
  {
   "cell_type": "code",
   "execution_count": 32,
   "metadata": {
    "ExecuteTime": {
     "end_time": "2020-09-29T16:39:00.804271Z",
     "start_time": "2020-09-29T16:39:00.780250Z"
    }
   },
   "outputs": [
    {
     "data": {
      "text/plain": [
       "array(['Vigente'], dtype=object)"
      ]
     },
     "execution_count": 32,
     "metadata": {},
     "output_type": "execute_result"
    }
   ],
   "source": [
    "df_sapi[\"Estado\"].unique()"
   ]
  },
  {
   "cell_type": "code",
   "execution_count": 27,
   "metadata": {
    "ExecuteTime": {
     "end_time": "2020-09-29T16:13:42.188061Z",
     "start_time": "2020-09-29T16:13:42.170947Z"
    },
    "scrolled": true
   },
   "outputs": [
    {
     "data": {
      "text/plain": [
       "200"
      ]
     },
     "execution_count": 27,
     "metadata": {},
     "output_type": "execute_result"
    }
   ],
   "source": [
    "df_sapi.shape[0]"
   ]
  },
  {
   "cell_type": "code",
   "execution_count": 30,
   "metadata": {
    "ExecuteTime": {
     "end_time": "2020-09-29T16:22:30.638957Z",
     "start_time": "2020-09-29T16:22:30.611918Z"
    },
    "scrolled": true
   },
   "outputs": [
    {
     "data": {
      "text/plain": [
       "0.7014925373134329"
      ]
     },
     "execution_count": 30,
     "metadata": {},
     "output_type": "execute_result"
    }
   ],
   "source": [
    "1 - (df_sapi.shape[0] / (df_sapi.shape[0] + df_sc.shape[0]))"
   ]
  },
  {
   "cell_type": "code",
   "execution_count": 29,
   "metadata": {
    "ExecuteTime": {
     "end_time": "2020-09-29T16:13:45.881897Z",
     "start_time": "2020-09-29T16:13:45.829606Z"
    },
    "scrolled": true
   },
   "outputs": [
    {
     "data": {
      "text/html": [
       "<div>\n",
       "<style scoped>\n",
       "    .dataframe tbody tr th:only-of-type {\n",
       "        vertical-align: middle;\n",
       "    }\n",
       "\n",
       "    .dataframe tbody tr th {\n",
       "        vertical-align: top;\n",
       "    }\n",
       "\n",
       "    .dataframe thead th {\n",
       "        text-align: right;\n",
       "    }\n",
       "</style>\n",
       "<table border=\"1\" class=\"dataframe\">\n",
       "  <thead>\n",
       "    <tr style=\"text-align: right;\">\n",
       "      <th></th>\n",
       "      <th>XML</th>\n",
       "      <th>Rfc Emisor</th>\n",
       "      <th>Nombre Emisor</th>\n",
       "      <th>Rfc Receptor</th>\n",
       "      <th>Nombre Receptor</th>\n",
       "      <th>Tipo</th>\n",
       "      <th>Serie</th>\n",
       "      <th>Folio</th>\n",
       "      <th>Fecha</th>\n",
       "      <th>Sub Total</th>\n",
       "      <th>Descuento</th>\n",
       "      <th>Total impuesto Trasladado</th>\n",
       "      <th>Nombre Impuesto</th>\n",
       "      <th>Total impuesto Retenido</th>\n",
       "      <th>Nombre Impuesto.1</th>\n",
       "      <th>Total</th>\n",
       "      <th>UUID</th>\n",
       "      <th>Método de Pago</th>\n",
       "      <th>Forma de Pago</th>\n",
       "      <th>Moneda</th>\n",
       "      <th>Tipo de Cambio</th>\n",
       "      <th>Versión</th>\n",
       "      <th>Uso CFDI</th>\n",
       "      <th>Régimen Fiscal</th>\n",
       "      <th>Estado</th>\n",
       "      <th>Estatus</th>\n",
       "      <th>Conceptos</th>\n",
       "    </tr>\n",
       "  </thead>\n",
       "  <tbody>\n",
       "    <tr>\n",
       "      <th>0</th>\n",
       "      <td>e1870129-d4a4-41e9-b656-1efac1010b4e.xml</td>\n",
       "      <td>SMP190128NHA</td>\n",
       "      <td>SERVICIOS MEDICOS PUNTO CLINICO SC</td>\n",
       "      <td>CASL660621SXA</td>\n",
       "      <td>LUISA CHAVARRIA SALAS</td>\n",
       "      <td>ingreso</td>\n",
       "      <td>CAFETALES</td>\n",
       "      <td>1306</td>\n",
       "      <td>2020-08-01T08:34:04</td>\n",
       "      <td>399.0</td>\n",
       "      <td>0.0</td>\n",
       "      <td>0</td>\n",
       "      <td>NaN</td>\n",
       "      <td>0.0</td>\n",
       "      <td>NaN</td>\n",
       "      <td>399.0</td>\n",
       "      <td>e1870129-d4a4-41e9-b656-1efac1010b4e</td>\n",
       "      <td>PUE - Pago en una sola exhibición</td>\n",
       "      <td>28 - Tarjeta de Débito</td>\n",
       "      <td>MXN</td>\n",
       "      <td>NaN</td>\n",
       "      <td>3.3</td>\n",
       "      <td>D01 - Honorarios médicos, dentales y gastos ho...</td>\n",
       "      <td>General de Ley Personas Morales</td>\n",
       "      <td>Vigente</td>\n",
       "      <td>S - Comprobante obtenido satisfactoriamente.</td>\n",
       "      <td>Cantidad : 1  valorUnitario : 399.00  Importe ...</td>\n",
       "    </tr>\n",
       "    <tr>\n",
       "      <th>1</th>\n",
       "      <td>d01e6b8f-8bf4-4780-b78c-2d14936f4a96.xml</td>\n",
       "      <td>SMP190128NHA</td>\n",
       "      <td>SERVICIOS MEDICOS PUNTO CLINICO SC</td>\n",
       "      <td>ROPE800823FE4</td>\n",
       "      <td>EDGAR DAVID RODRIGUEZ PEÑA</td>\n",
       "      <td>ingreso</td>\n",
       "      <td>CAFETALES</td>\n",
       "      <td>1307</td>\n",
       "      <td>2020-08-01T08:41:35</td>\n",
       "      <td>399.0</td>\n",
       "      <td>0.0</td>\n",
       "      <td>0</td>\n",
       "      <td>NaN</td>\n",
       "      <td>0.0</td>\n",
       "      <td>NaN</td>\n",
       "      <td>399.0</td>\n",
       "      <td>d01e6b8f-8bf4-4780-b78c-2d14936f4a96</td>\n",
       "      <td>PUE - Pago en una sola exhibición</td>\n",
       "      <td>01 - Efectivo</td>\n",
       "      <td>MXN</td>\n",
       "      <td>NaN</td>\n",
       "      <td>3.3</td>\n",
       "      <td>D01 - Honorarios médicos, dentales y gastos ho...</td>\n",
       "      <td>General de Ley Personas Morales</td>\n",
       "      <td>Vigente</td>\n",
       "      <td>S - Comprobante obtenido satisfactoriamente.</td>\n",
       "      <td>Cantidad : 1  valorUnitario : 399.00  Importe ...</td>\n",
       "    </tr>\n",
       "    <tr>\n",
       "      <th>2</th>\n",
       "      <td>27a6a430-2268-4aca-9c46-ea6e34a91358.xml</td>\n",
       "      <td>SMP190128NHA</td>\n",
       "      <td>SERVICIOS MEDICOS PUNTO CLINICO SC</td>\n",
       "      <td>ROMH6705141F6</td>\n",
       "      <td>HECTOR ROSAS MORA</td>\n",
       "      <td>ingreso</td>\n",
       "      <td>CAFETALES</td>\n",
       "      <td>1308</td>\n",
       "      <td>2020-08-01T09:02:47</td>\n",
       "      <td>399.0</td>\n",
       "      <td>0.0</td>\n",
       "      <td>0</td>\n",
       "      <td>NaN</td>\n",
       "      <td>0.0</td>\n",
       "      <td>NaN</td>\n",
       "      <td>399.0</td>\n",
       "      <td>27a6a430-2268-4aca-9c46-ea6e34a91358</td>\n",
       "      <td>PUE - Pago en una sola exhibición</td>\n",
       "      <td>01 - Efectivo</td>\n",
       "      <td>MXN</td>\n",
       "      <td>NaN</td>\n",
       "      <td>3.3</td>\n",
       "      <td>D01 - Honorarios médicos, dentales y gastos ho...</td>\n",
       "      <td>General de Ley Personas Morales</td>\n",
       "      <td>Vigente</td>\n",
       "      <td>S - Comprobante obtenido satisfactoriamente.</td>\n",
       "      <td>Cantidad : 1  valorUnitario : 399.00  Importe ...</td>\n",
       "    </tr>\n",
       "    <tr>\n",
       "      <th>3</th>\n",
       "      <td>e2a8a9f2-16bc-457a-9bd2-c1a48fad71a5.xml</td>\n",
       "      <td>SMP190128NHA</td>\n",
       "      <td>SERVICIOS MEDICOS PUNTO CLINICO SC</td>\n",
       "      <td>GAHA9207028B6</td>\n",
       "      <td>ANA GABRIELA GARCIA HERNANDEZ</td>\n",
       "      <td>ingreso</td>\n",
       "      <td>VILLA</td>\n",
       "      <td>1309</td>\n",
       "      <td>2020-08-01T10:12:16</td>\n",
       "      <td>899.0</td>\n",
       "      <td>0.0</td>\n",
       "      <td>0</td>\n",
       "      <td>NaN</td>\n",
       "      <td>0.0</td>\n",
       "      <td>NaN</td>\n",
       "      <td>899.0</td>\n",
       "      <td>e2a8a9f2-16bc-457a-9bd2-c1a48fad71a5</td>\n",
       "      <td>PUE - Pago en una sola exhibición</td>\n",
       "      <td>28 - Tarjeta de Débito</td>\n",
       "      <td>MXN</td>\n",
       "      <td>NaN</td>\n",
       "      <td>3.3</td>\n",
       "      <td>D01 - Honorarios médicos, dentales y gastos ho...</td>\n",
       "      <td>General de Ley Personas Morales</td>\n",
       "      <td>Vigente</td>\n",
       "      <td>S - Comprobante obtenido satisfactoriamente.</td>\n",
       "      <td>Cantidad : 1  valorUnitario : 899.00  Importe ...</td>\n",
       "    </tr>\n",
       "    <tr>\n",
       "      <th>4</th>\n",
       "      <td>e694c160-6360-4db3-aa98-3866ac2e23a2.xml</td>\n",
       "      <td>SMP190128NHA</td>\n",
       "      <td>SERVICIOS MEDICOS PUNTO CLINICO SC</td>\n",
       "      <td>SOBA760901JS6</td>\n",
       "      <td>ALMA LUCERO SOSA BLANCAS</td>\n",
       "      <td>ingreso</td>\n",
       "      <td>CAFETALES</td>\n",
       "      <td>1310</td>\n",
       "      <td>2020-08-01T10:20:34</td>\n",
       "      <td>599.0</td>\n",
       "      <td>0.0</td>\n",
       "      <td>0</td>\n",
       "      <td>NaN</td>\n",
       "      <td>0.0</td>\n",
       "      <td>NaN</td>\n",
       "      <td>599.0</td>\n",
       "      <td>e694c160-6360-4db3-aa98-3866ac2e23a2</td>\n",
       "      <td>PUE - Pago en una sola exhibición</td>\n",
       "      <td>28 - Tarjeta de Débito</td>\n",
       "      <td>MXN</td>\n",
       "      <td>NaN</td>\n",
       "      <td>3.3</td>\n",
       "      <td>D01 - Honorarios médicos, dentales y gastos ho...</td>\n",
       "      <td>General de Ley Personas Morales</td>\n",
       "      <td>Vigente</td>\n",
       "      <td>S - Comprobante obtenido satisfactoriamente.</td>\n",
       "      <td>Cantidad : 1  valorUnitario : 399.00  Importe ...</td>\n",
       "    </tr>\n",
       "    <tr>\n",
       "      <th>...</th>\n",
       "      <td>...</td>\n",
       "      <td>...</td>\n",
       "      <td>...</td>\n",
       "      <td>...</td>\n",
       "      <td>...</td>\n",
       "      <td>...</td>\n",
       "      <td>...</td>\n",
       "      <td>...</td>\n",
       "      <td>...</td>\n",
       "      <td>...</td>\n",
       "      <td>...</td>\n",
       "      <td>...</td>\n",
       "      <td>...</td>\n",
       "      <td>...</td>\n",
       "      <td>...</td>\n",
       "      <td>...</td>\n",
       "      <td>...</td>\n",
       "      <td>...</td>\n",
       "      <td>...</td>\n",
       "      <td>...</td>\n",
       "      <td>...</td>\n",
       "      <td>...</td>\n",
       "      <td>...</td>\n",
       "      <td>...</td>\n",
       "      <td>...</td>\n",
       "      <td>...</td>\n",
       "      <td>...</td>\n",
       "    </tr>\n",
       "    <tr>\n",
       "      <th>465</th>\n",
       "      <td>c0a0eb8b-502b-41d7-af7a-ea94cd546930.xml</td>\n",
       "      <td>SMP190128NHA</td>\n",
       "      <td>SERVICIOS MEDICOS PUNTO CLINICO SC</td>\n",
       "      <td>MGB051006HT8</td>\n",
       "      <td>MULTISISTEMAS GUJADI BOSS  SEGURIDAD PRIVADA S...</td>\n",
       "      <td>ingreso</td>\n",
       "      <td>MARINA</td>\n",
       "      <td>1770</td>\n",
       "      <td>2020-08-31T17:04:30</td>\n",
       "      <td>399.0</td>\n",
       "      <td>0.0</td>\n",
       "      <td>0</td>\n",
       "      <td>NaN</td>\n",
       "      <td>0.0</td>\n",
       "      <td>NaN</td>\n",
       "      <td>399.0</td>\n",
       "      <td>c0a0eb8b-502b-41d7-af7a-ea94cd546930</td>\n",
       "      <td>PUE - Pago en una sola exhibición</td>\n",
       "      <td>28 - Tarjeta de Débito</td>\n",
       "      <td>MXN</td>\n",
       "      <td>NaN</td>\n",
       "      <td>3.3</td>\n",
       "      <td>G03 - Gastos en general</td>\n",
       "      <td>General de Ley Personas Morales</td>\n",
       "      <td>Vigente</td>\n",
       "      <td>S - Comprobante obtenido satisfactoriamente.</td>\n",
       "      <td>Cantidad : 1  valorUnitario : 399.00  Importe ...</td>\n",
       "    </tr>\n",
       "    <tr>\n",
       "      <th>466</th>\n",
       "      <td>e0843bfd-e086-4cee-ae31-048d5ab0f303.xml</td>\n",
       "      <td>SMP190128NHA</td>\n",
       "      <td>SERVICIOS MEDICOS PUNTO CLINICO SC</td>\n",
       "      <td>GOAJ750428CG0</td>\n",
       "      <td>JACOB GONZALEZ ALONSO</td>\n",
       "      <td>ingreso</td>\n",
       "      <td>CAFETALES</td>\n",
       "      <td>1771</td>\n",
       "      <td>2020-08-31T18:47:44</td>\n",
       "      <td>1755.0</td>\n",
       "      <td>0.0</td>\n",
       "      <td>0</td>\n",
       "      <td>NaN</td>\n",
       "      <td>0.0</td>\n",
       "      <td>NaN</td>\n",
       "      <td>1755.0</td>\n",
       "      <td>e0843bfd-e086-4cee-ae31-048d5ab0f303</td>\n",
       "      <td>PUE - Pago en una sola exhibición</td>\n",
       "      <td>01 - Efectivo</td>\n",
       "      <td>MXN</td>\n",
       "      <td>NaN</td>\n",
       "      <td>3.3</td>\n",
       "      <td>D01 - Honorarios médicos, dentales y gastos ho...</td>\n",
       "      <td>General de Ley Personas Morales</td>\n",
       "      <td>Vigente</td>\n",
       "      <td>S - Comprobante obtenido satisfactoriamente.</td>\n",
       "      <td>Cantidad : 1  valorUnitario : 399.00  Importe ...</td>\n",
       "    </tr>\n",
       "    <tr>\n",
       "      <th>467</th>\n",
       "      <td>f204c401-25d1-402b-bd84-3358970306aa.xml</td>\n",
       "      <td>SMP190128NHA</td>\n",
       "      <td>SERVICIOS MEDICOS PUNTO CLINICO SC</td>\n",
       "      <td>TEPR731105I94</td>\n",
       "      <td>RUBEN TELLEZ PEREZ</td>\n",
       "      <td>ingreso</td>\n",
       "      <td>VILLA</td>\n",
       "      <td>1772</td>\n",
       "      <td>2020-08-31T18:59:25</td>\n",
       "      <td>399.0</td>\n",
       "      <td>0.0</td>\n",
       "      <td>0</td>\n",
       "      <td>NaN</td>\n",
       "      <td>0.0</td>\n",
       "      <td>NaN</td>\n",
       "      <td>399.0</td>\n",
       "      <td>f204c401-25d1-402b-bd84-3358970306aa</td>\n",
       "      <td>PUE - Pago en una sola exhibición</td>\n",
       "      <td>28 - Tarjeta de Débito</td>\n",
       "      <td>MXN</td>\n",
       "      <td>NaN</td>\n",
       "      <td>3.3</td>\n",
       "      <td>G03 - Gastos en general</td>\n",
       "      <td>General de Ley Personas Morales</td>\n",
       "      <td>Vigente</td>\n",
       "      <td>S - Comprobante obtenido satisfactoriamente.</td>\n",
       "      <td>Cantidad : 1  valorUnitario : 399.00  Importe ...</td>\n",
       "    </tr>\n",
       "    <tr>\n",
       "      <th>468</th>\n",
       "      <td>0eb557fb-4cd7-42d7-b38a-f282eb67c660.xml</td>\n",
       "      <td>SMP190128NHA</td>\n",
       "      <td>SERVICIOS MEDICOS PUNTO CLINICO SC</td>\n",
       "      <td>SOVL600421HU8</td>\n",
       "      <td>LIDIA SOTO VAZQUEZ</td>\n",
       "      <td>ingreso</td>\n",
       "      <td>MARINA</td>\n",
       "      <td>1773</td>\n",
       "      <td>2020-08-31T19:26:13</td>\n",
       "      <td>150.0</td>\n",
       "      <td>0.0</td>\n",
       "      <td>0</td>\n",
       "      <td>NaN</td>\n",
       "      <td>0.0</td>\n",
       "      <td>NaN</td>\n",
       "      <td>150.0</td>\n",
       "      <td>0eb557fb-4cd7-42d7-b38a-f282eb67c660</td>\n",
       "      <td>PUE - Pago en una sola exhibición</td>\n",
       "      <td>04 - Tarjetas de crédito</td>\n",
       "      <td>MXN</td>\n",
       "      <td>NaN</td>\n",
       "      <td>3.3</td>\n",
       "      <td>G03 - Gastos en general</td>\n",
       "      <td>General de Ley Personas Morales</td>\n",
       "      <td>Vigente</td>\n",
       "      <td>S - Comprobante obtenido satisfactoriamente.</td>\n",
       "      <td>Cantidad : 1  valorUnitario : 150.00  Importe ...</td>\n",
       "    </tr>\n",
       "    <tr>\n",
       "      <th>469</th>\n",
       "      <td>3acdb888-3f21-4e0a-81b4-ad475f205eff.xml</td>\n",
       "      <td>SMP190128NHA</td>\n",
       "      <td>SERVICIOS MEDICOS PUNTO CLINICO SC</td>\n",
       "      <td>SOVL600421HU8</td>\n",
       "      <td>LIDIA SOTO VAZQUEZ</td>\n",
       "      <td>ingreso</td>\n",
       "      <td>CAFETALES</td>\n",
       "      <td>1774</td>\n",
       "      <td>2020-08-31T19:33:35</td>\n",
       "      <td>158.0</td>\n",
       "      <td>0.0</td>\n",
       "      <td>0</td>\n",
       "      <td>NaN</td>\n",
       "      <td>0.0</td>\n",
       "      <td>NaN</td>\n",
       "      <td>158.0</td>\n",
       "      <td>3acdb888-3f21-4e0a-81b4-ad475f205eff</td>\n",
       "      <td>PUE - Pago en una sola exhibición</td>\n",
       "      <td>04 - Tarjetas de crédito</td>\n",
       "      <td>MXN</td>\n",
       "      <td>NaN</td>\n",
       "      <td>3.3</td>\n",
       "      <td>G03 - Gastos en general</td>\n",
       "      <td>General de Ley Personas Morales</td>\n",
       "      <td>Vigente</td>\n",
       "      <td>S - Comprobante obtenido satisfactoriamente.</td>\n",
       "      <td>Cantidad : 1  valorUnitario : 158.00  Importe ...</td>\n",
       "    </tr>\n",
       "  </tbody>\n",
       "</table>\n",
       "<p>470 rows × 27 columns</p>\n",
       "</div>"
      ],
      "text/plain": [
       "                                          XML    Rfc Emisor  \\\n",
       "0    e1870129-d4a4-41e9-b656-1efac1010b4e.xml  SMP190128NHA   \n",
       "1    d01e6b8f-8bf4-4780-b78c-2d14936f4a96.xml  SMP190128NHA   \n",
       "2    27a6a430-2268-4aca-9c46-ea6e34a91358.xml  SMP190128NHA   \n",
       "3    e2a8a9f2-16bc-457a-9bd2-c1a48fad71a5.xml  SMP190128NHA   \n",
       "4    e694c160-6360-4db3-aa98-3866ac2e23a2.xml  SMP190128NHA   \n",
       "..                                        ...           ...   \n",
       "465  c0a0eb8b-502b-41d7-af7a-ea94cd546930.xml  SMP190128NHA   \n",
       "466  e0843bfd-e086-4cee-ae31-048d5ab0f303.xml  SMP190128NHA   \n",
       "467  f204c401-25d1-402b-bd84-3358970306aa.xml  SMP190128NHA   \n",
       "468  0eb557fb-4cd7-42d7-b38a-f282eb67c660.xml  SMP190128NHA   \n",
       "469  3acdb888-3f21-4e0a-81b4-ad475f205eff.xml  SMP190128NHA   \n",
       "\n",
       "                          Nombre Emisor   Rfc Receptor  \\\n",
       "0    SERVICIOS MEDICOS PUNTO CLINICO SC  CASL660621SXA   \n",
       "1    SERVICIOS MEDICOS PUNTO CLINICO SC  ROPE800823FE4   \n",
       "2    SERVICIOS MEDICOS PUNTO CLINICO SC  ROMH6705141F6   \n",
       "3    SERVICIOS MEDICOS PUNTO CLINICO SC  GAHA9207028B6   \n",
       "4    SERVICIOS MEDICOS PUNTO CLINICO SC  SOBA760901JS6   \n",
       "..                                  ...            ...   \n",
       "465  SERVICIOS MEDICOS PUNTO CLINICO SC   MGB051006HT8   \n",
       "466  SERVICIOS MEDICOS PUNTO CLINICO SC  GOAJ750428CG0   \n",
       "467  SERVICIOS MEDICOS PUNTO CLINICO SC  TEPR731105I94   \n",
       "468  SERVICIOS MEDICOS PUNTO CLINICO SC  SOVL600421HU8   \n",
       "469  SERVICIOS MEDICOS PUNTO CLINICO SC  SOVL600421HU8   \n",
       "\n",
       "                                       Nombre Receptor     Tipo      Serie  \\\n",
       "0                                LUISA CHAVARRIA SALAS  ingreso  CAFETALES   \n",
       "1                           EDGAR DAVID RODRIGUEZ PEÑA  ingreso  CAFETALES   \n",
       "2                                    HECTOR ROSAS MORA  ingreso  CAFETALES   \n",
       "3                        ANA GABRIELA GARCIA HERNANDEZ  ingreso      VILLA   \n",
       "4                             ALMA LUCERO SOSA BLANCAS  ingreso  CAFETALES   \n",
       "..                                                 ...      ...        ...   \n",
       "465  MULTISISTEMAS GUJADI BOSS  SEGURIDAD PRIVADA S...  ingreso     MARINA   \n",
       "466                              JACOB GONZALEZ ALONSO  ingreso  CAFETALES   \n",
       "467                                 RUBEN TELLEZ PEREZ  ingreso      VILLA   \n",
       "468                                 LIDIA SOTO VAZQUEZ  ingreso     MARINA   \n",
       "469                                 LIDIA SOTO VAZQUEZ  ingreso  CAFETALES   \n",
       "\n",
       "     Folio                Fecha  Sub Total  Descuento  \\\n",
       "0     1306  2020-08-01T08:34:04      399.0        0.0   \n",
       "1     1307  2020-08-01T08:41:35      399.0        0.0   \n",
       "2     1308  2020-08-01T09:02:47      399.0        0.0   \n",
       "3     1309  2020-08-01T10:12:16      899.0        0.0   \n",
       "4     1310  2020-08-01T10:20:34      599.0        0.0   \n",
       "..     ...                  ...        ...        ...   \n",
       "465   1770  2020-08-31T17:04:30      399.0        0.0   \n",
       "466   1771  2020-08-31T18:47:44     1755.0        0.0   \n",
       "467   1772  2020-08-31T18:59:25      399.0        0.0   \n",
       "468   1773  2020-08-31T19:26:13      150.0        0.0   \n",
       "469   1774  2020-08-31T19:33:35      158.0        0.0   \n",
       "\n",
       "     Total impuesto Trasladado  Nombre Impuesto  Total impuesto Retenido  \\\n",
       "0                            0              NaN                      0.0   \n",
       "1                            0              NaN                      0.0   \n",
       "2                            0              NaN                      0.0   \n",
       "3                            0              NaN                      0.0   \n",
       "4                            0              NaN                      0.0   \n",
       "..                         ...              ...                      ...   \n",
       "465                          0              NaN                      0.0   \n",
       "466                          0              NaN                      0.0   \n",
       "467                          0              NaN                      0.0   \n",
       "468                          0              NaN                      0.0   \n",
       "469                          0              NaN                      0.0   \n",
       "\n",
       "    Nombre Impuesto.1   Total                                  UUID  \\\n",
       "0                 NaN   399.0  e1870129-d4a4-41e9-b656-1efac1010b4e   \n",
       "1                 NaN   399.0  d01e6b8f-8bf4-4780-b78c-2d14936f4a96   \n",
       "2                 NaN   399.0  27a6a430-2268-4aca-9c46-ea6e34a91358   \n",
       "3                 NaN   899.0  e2a8a9f2-16bc-457a-9bd2-c1a48fad71a5   \n",
       "4                 NaN   599.0  e694c160-6360-4db3-aa98-3866ac2e23a2   \n",
       "..                ...     ...                                   ...   \n",
       "465               NaN   399.0  c0a0eb8b-502b-41d7-af7a-ea94cd546930   \n",
       "466               NaN  1755.0  e0843bfd-e086-4cee-ae31-048d5ab0f303   \n",
       "467               NaN   399.0  f204c401-25d1-402b-bd84-3358970306aa   \n",
       "468               NaN   150.0  0eb557fb-4cd7-42d7-b38a-f282eb67c660   \n",
       "469               NaN   158.0  3acdb888-3f21-4e0a-81b4-ad475f205eff   \n",
       "\n",
       "                        Método de Pago             Forma de Pago Moneda  \\\n",
       "0    PUE - Pago en una sola exhibición    28 - Tarjeta de Débito    MXN   \n",
       "1    PUE - Pago en una sola exhibición             01 - Efectivo    MXN   \n",
       "2    PUE - Pago en una sola exhibición             01 - Efectivo    MXN   \n",
       "3    PUE - Pago en una sola exhibición    28 - Tarjeta de Débito    MXN   \n",
       "4    PUE - Pago en una sola exhibición    28 - Tarjeta de Débito    MXN   \n",
       "..                                 ...                       ...    ...   \n",
       "465  PUE - Pago en una sola exhibición    28 - Tarjeta de Débito    MXN   \n",
       "466  PUE - Pago en una sola exhibición             01 - Efectivo    MXN   \n",
       "467  PUE - Pago en una sola exhibición    28 - Tarjeta de Débito    MXN   \n",
       "468  PUE - Pago en una sola exhibición  04 - Tarjetas de crédito    MXN   \n",
       "469  PUE - Pago en una sola exhibición  04 - Tarjetas de crédito    MXN   \n",
       "\n",
       "     Tipo de Cambio  Versión  \\\n",
       "0               NaN      3.3   \n",
       "1               NaN      3.3   \n",
       "2               NaN      3.3   \n",
       "3               NaN      3.3   \n",
       "4               NaN      3.3   \n",
       "..              ...      ...   \n",
       "465             NaN      3.3   \n",
       "466             NaN      3.3   \n",
       "467             NaN      3.3   \n",
       "468             NaN      3.3   \n",
       "469             NaN      3.3   \n",
       "\n",
       "                                              Uso CFDI  \\\n",
       "0    D01 - Honorarios médicos, dentales y gastos ho...   \n",
       "1    D01 - Honorarios médicos, dentales y gastos ho...   \n",
       "2    D01 - Honorarios médicos, dentales y gastos ho...   \n",
       "3    D01 - Honorarios médicos, dentales y gastos ho...   \n",
       "4    D01 - Honorarios médicos, dentales y gastos ho...   \n",
       "..                                                 ...   \n",
       "465                            G03 - Gastos en general   \n",
       "466  D01 - Honorarios médicos, dentales y gastos ho...   \n",
       "467                            G03 - Gastos en general   \n",
       "468                            G03 - Gastos en general   \n",
       "469                            G03 - Gastos en general   \n",
       "\n",
       "                      Régimen Fiscal   Estado  \\\n",
       "0    General de Ley Personas Morales  Vigente   \n",
       "1    General de Ley Personas Morales  Vigente   \n",
       "2    General de Ley Personas Morales  Vigente   \n",
       "3    General de Ley Personas Morales  Vigente   \n",
       "4    General de Ley Personas Morales  Vigente   \n",
       "..                               ...      ...   \n",
       "465  General de Ley Personas Morales  Vigente   \n",
       "466  General de Ley Personas Morales  Vigente   \n",
       "467  General de Ley Personas Morales  Vigente   \n",
       "468  General de Ley Personas Morales  Vigente   \n",
       "469  General de Ley Personas Morales  Vigente   \n",
       "\n",
       "                                          Estatus  \\\n",
       "0    S - Comprobante obtenido satisfactoriamente.   \n",
       "1    S - Comprobante obtenido satisfactoriamente.   \n",
       "2    S - Comprobante obtenido satisfactoriamente.   \n",
       "3    S - Comprobante obtenido satisfactoriamente.   \n",
       "4    S - Comprobante obtenido satisfactoriamente.   \n",
       "..                                            ...   \n",
       "465  S - Comprobante obtenido satisfactoriamente.   \n",
       "466  S - Comprobante obtenido satisfactoriamente.   \n",
       "467  S - Comprobante obtenido satisfactoriamente.   \n",
       "468  S - Comprobante obtenido satisfactoriamente.   \n",
       "469  S - Comprobante obtenido satisfactoriamente.   \n",
       "\n",
       "                                             Conceptos  \n",
       "0    Cantidad : 1  valorUnitario : 399.00  Importe ...  \n",
       "1    Cantidad : 1  valorUnitario : 399.00  Importe ...  \n",
       "2    Cantidad : 1  valorUnitario : 399.00  Importe ...  \n",
       "3    Cantidad : 1  valorUnitario : 899.00  Importe ...  \n",
       "4    Cantidad : 1  valorUnitario : 399.00  Importe ...  \n",
       "..                                                 ...  \n",
       "465  Cantidad : 1  valorUnitario : 399.00  Importe ...  \n",
       "466  Cantidad : 1  valorUnitario : 399.00  Importe ...  \n",
       "467  Cantidad : 1  valorUnitario : 399.00  Importe ...  \n",
       "468  Cantidad : 1  valorUnitario : 150.00  Importe ...  \n",
       "469  Cantidad : 1  valorUnitario : 158.00  Importe ...  \n",
       "\n",
       "[470 rows x 27 columns]"
      ]
     },
     "execution_count": 29,
     "metadata": {},
     "output_type": "execute_result"
    }
   ],
   "source": [
    "df_sc"
   ]
  },
  {
   "cell_type": "code",
   "execution_count": 34,
   "metadata": {
    "ExecuteTime": {
     "end_time": "2020-09-29T16:39:16.494841Z",
     "start_time": "2020-09-29T16:39:16.474487Z"
    }
   },
   "outputs": [
    {
     "data": {
      "text/plain": [
       "Vigente      468\n",
       "Cancelado      2\n",
       "Name: Estado, dtype: int64"
      ]
     },
     "execution_count": 34,
     "metadata": {},
     "output_type": "execute_result"
    }
   ],
   "source": [
    "df_sc[\"Estado\"].value_countscounts()"
   ]
  },
  {
   "cell_type": "code",
   "execution_count": 25,
   "metadata": {
    "ExecuteTime": {
     "end_time": "2020-09-29T16:12:48.985226Z",
     "start_time": "2020-09-29T16:12:48.968962Z"
    },
    "scrolled": true
   },
   "outputs": [
    {
     "data": {
      "text/plain": [
       "470"
      ]
     },
     "execution_count": 25,
     "metadata": {},
     "output_type": "execute_result"
    }
   ],
   "source": [
    "df_sc.shape[0]"
   ]
  },
  {
   "cell_type": "markdown",
   "metadata": {},
   "source": [
    "#### Información acerca de las facturas\n",
    "**- Número de facturas generadas (total):** 670 (100%)\n",
    "    **- Número de facturas generadas (mes agosto) (SAPI):** 200 (29.85%)\n",
    "    **- Número de facturas generadas (mes agosto) (SC):** 470 (70.15%)\n",
    "    \n",
    "- Número de facturas canceladas (total): 2 (100%)\n",
    "    - Número de facturas canceladas (SAPI): 0 (0%)\n",
    "    - Número de facturas canceladas (SC): 2 (100%)"
   ]
  },
  {
   "cell_type": "markdown",
   "metadata": {},
   "source": [
    "# *Notes*"
   ]
  },
  {
   "cell_type": "markdown",
   "metadata": {
    "heading_collapsed": true
   },
   "source": [
    "#### Substituting characters with re"
   ]
  },
  {
   "cell_type": "code",
   "execution_count": null,
   "metadata": {
    "ExecuteTime": {
     "end_time": "2020-07-21T01:06:57.279213Z",
     "start_time": "2020-07-21T01:06:57.263473Z"
    },
    "hidden": true
   },
   "outputs": [],
   "source": [
    "x = 'Melón'"
   ]
  },
  {
   "cell_type": "code",
   "execution_count": null,
   "metadata": {
    "ExecuteTime": {
     "end_time": "2020-07-21T01:07:42.666101Z",
     "start_time": "2020-07-21T01:07:42.650781Z"
    },
    "hidden": true
   },
   "outputs": [],
   "source": [
    "x = re.sub('ó', 'o', x)"
   ]
  },
  {
   "cell_type": "code",
   "execution_count": null,
   "metadata": {
    "ExecuteTime": {
     "end_time": "2020-07-21T01:07:45.392160Z",
     "start_time": "2020-07-21T01:07:45.376986Z"
    },
    "hidden": true
   },
   "outputs": [],
   "source": [
    "x"
   ]
  },
  {
   "cell_type": "markdown",
   "metadata": {
    "heading_collapsed": true
   },
   "source": [
    "#### Creatting formatted tables related with parameters"
   ]
  },
  {
   "cell_type": "markdown",
   "metadata": {
    "hidden": true
   },
   "source": [
    "**Doctors dicctionary**"
   ]
  },
  {
   "cell_type": "code",
   "execution_count": 78,
   "metadata": {
    "ExecuteTime": {
     "end_time": "2020-09-25T16:53:41.538883Z",
     "start_time": "2020-09-25T16:53:41.475814Z"
    },
    "hidden": true
   },
   "outputs": [
    {
     "data": {
      "text/plain": [
       "{'ARROYO COUTIÑO, IBER': {'Especialidad': ['UROLOGIA'],\n",
       "  'Sitios': ['Punto Clínico- Coapa']},\n",
       " 'ASCENCIO BARRIENTOS, CARLOS NORBERTO': {'Especialidad': ['GASTROENTEROLOGIA'],\n",
       "  'Sitios': ['Punto Clinico- Marina',\n",
       "   'Punto Clínico- Basílica',\n",
       "   'LABORATORIO- Basílica']},\n",
       " 'CHAYA SALGADO, SAID': {'Especialidad': ['DERMATOLOGIA'],\n",
       "  'Sitios': ['Punto Clinico- Marina', 'LABORATORIO- Marina']},\n",
       " 'CITALAN PROJ, HARRY WILLIAM': {'Especialidad': ['GASTROENTEROLOGIA'],\n",
       "  'Sitios': ['Punto Clínico- Coapa']},\n",
       " 'ENRIQUEZ ROMAN, ARLETTE': {'Especialidad': ['ENDOCRINOLOGIA'],\n",
       "  'Sitios': ['Punto Clínico- Basílica',\n",
       "   'Punto Clinico- Marina',\n",
       "   'LABORATORIO- Marina',\n",
       "   'LABORATORIO- Basílica']},\n",
       " 'ERAZO PEREZ, LUSVI LUDGARDIZ': {'Especialidad': ['NEUMOLOGIA'],\n",
       "  'Sitios': ['Punto Clínico- Coapa', 'LABORATORIO- Coapa']},\n",
       " 'FRANCO ESTRADA, SILVIA': {'Especialidad': ['GASTROENTEROLOGIA'],\n",
       "  'Sitios': ['Punto Clinico- Marina', 'Punto Clínico- Basílica']},\n",
       " 'GARCIA CRUZ, LILIANA ESTHER': {'Especialidad': ['GINECOLOGIA'],\n",
       "  'Sitios': ['Punto Clínico- Basílica', 'LABORATORIO- Basílica']},\n",
       " 'GOMEZ GARCIA, THALIA STEPHANIE': {'Especialidad': ['GASTROENTEROLOGIA'],\n",
       "  'Sitios': ['Punto Clínico- Coapa',\n",
       "   'LABORATORIO- Coapa',\n",
       "   'Punto Clinico- Marina']},\n",
       " 'GOMEZ, ANTONY OMAR': {'Especialidad': ['MEDICINA GENERAL'],\n",
       "  'Sitios': ['Punto Clinico- Marina']},\n",
       " 'HERNANDEZ MARTINEZ, ORLANDO JOSE': {'Especialidad': ['UROLOGIA'],\n",
       "  'Sitios': ['Punto Clinico- Marina', 'Punto Clínico- Basílica']},\n",
       " 'HERNANDEZ SOTO, TAYMI': {'Especialidad': ['GINECOLOGIA'],\n",
       "  'Sitios': ['Punto Clinico- Marina',\n",
       "   'Punto Clínico- Basílica',\n",
       "   'LABORATORIO- Basílica']},\n",
       " 'HERNANDEZ, YASELIN': {'Especialidad': ['OTRA_ESP'],\n",
       "  'Sitios': ['Punto Clínico- Basílica']},\n",
       " 'IBARRA SALCE, RAUL': {'Especialidad': ['ENDOCRINOLOGIA'],\n",
       "  'Sitios': ['Punto Clinico- Marina']},\n",
       " 'JAIME LEAL, OMAR': {'Especialidad': ['GASTROENTEROLOGIA'],\n",
       "  'Sitios': ['Punto Clinico- Marina']},\n",
       " 'JUAREZ HERRERA, NORMA': {'Especialidad': ['DERMATOLOGIA'],\n",
       "  'Sitios': ['Punto Clínico- Coapa',\n",
       "   'Punto Clínico- Basílica',\n",
       "   'Punto Clinico- Marina',\n",
       "   'LABORATORIO- Coapa']},\n",
       " 'MARTINEZ CORONA, MARICELA': {'Especialidad': ['ENDOCRINOLOGIA'],\n",
       "  'Sitios': ['Punto Clinico- Marina']},\n",
       " 'MONTERO MARQUEZ , MIGUEL ANGEL': {'Especialidad': ['OTORRINOLARINGOLOGIA'],\n",
       "  'Sitios': ['Punto Clínico- Coapa']},\n",
       " 'N\\\\A': {'Especialidad': ['OTRA_ESP',\n",
       "   'UROLOGIA',\n",
       "   'GINECOLOGIA',\n",
       "   'GASTROENTEROLOGIA',\n",
       "   'ALERGOLOGIA',\n",
       "   'PEDIATRIA',\n",
       "   'DERMATOLOGIA',\n",
       "   'MEDICINA GENERAL',\n",
       "   'ENDOCRINOLOGIA'],\n",
       "  'Sitios': ['Punto Clínico- Basílica',\n",
       "   'Punto Clinico- Marina',\n",
       "   'Punto Clínico- Coapa']},\n",
       " 'PAGAZA RAMIREZ, RUBEN': {'Especialidad': ['MEDICINA GENERAL'],\n",
       "  'Sitios': ['Punto Clínico- Basílica']},\n",
       " 'PEREZ RIOS, BERTHA LUCIA': {'Especialidad': ['DERMATOLOGIA'],\n",
       "  'Sitios': ['Punto Clínico- Basílica', 'Punto Clinico- Marina']},\n",
       " 'PIEDRAS PONCE, GUADALUPE MONSERRAT': {'Especialidad': ['NUTRICION'],\n",
       "  'Sitios': ['Punto Clínico- Basílica',\n",
       "   'Punto Clinico- Marina',\n",
       "   'LABORATORIO- Basílica']},\n",
       " 'RANGEL BISTRAIN , JULIAN ALEJANDRO': {'Especialidad': ['UROLOGIA'],\n",
       "  'Sitios': ['Punto Clínico- Basílica',\n",
       "   'Punto Clinico- Marina',\n",
       "   'LABORATORIO- Basílica']},\n",
       " 'RUELAS GONZALEZ, SANDRA': {'Especialidad': ['DERMATOLOGIA'],\n",
       "  'Sitios': ['Punto Clínico- Basílica',\n",
       "   'Punto Clinico- Marina',\n",
       "   'LABORATORIO- Basílica']},\n",
       " 'RUIZ RANGEL, PAOLA': {'Especialidad': ['ENDOCRINOLOGIA'],\n",
       "  'Sitios': ['Punto Clínico- Basílica', 'Punto Clínico- Coapa']},\n",
       " 'SALGADO PARRA  CED. ESP. 11502236, ERIKA GUADALUPE': {'Especialidad': ['GASTROENTEROLOGIA'],\n",
       "  'Sitios': ['Punto Clínico- Basílica',\n",
       "   'Punto Clinico- Marina',\n",
       "   'LABORATORIO- Basílica']},\n",
       " 'SILVA SERRANO, JUANITA': {'Especialidad': ['ENDOCRINOLOGIA'],\n",
       "  'Sitios': ['Punto Clínico- Coapa', 'Punto Clinico- Marina']},\n",
       " 'TREJO GONZALEZ, NORMA PATRICIA': {'Especialidad': ['GINECOLOGIA'],\n",
       "  'Sitios': ['Punto Clínico- Coapa']},\n",
       " 'TUTT GONZALEZ, GIOVANNA': {'Especialidad': ['NUTRICION'],\n",
       "  'Sitios': ['Punto Clínico- Basílica']},\n",
       " 'VAZQUEZ GALLARDO, GRISEL': {'Especialidad': ['GINECOLOGIA'],\n",
       "  'Sitios': ['Punto Clínico- Coapa']},\n",
       " 'VILLALOBOS BENITEZ, OSBERT': {'Especialidad': ['DERMATOLOGIA'],\n",
       "  'Sitios': ['Punto Clínico- Coapa', 'Punto Clínico- Basílica']},\n",
       " 'VIÑALS RODRIGUEZ, IALA LAURA': {'Especialidad': ['GINECOLOGIA'],\n",
       "  'Sitios': ['Punto Clinico- Marina', 'Punto Clínico- Coapa']},\n",
       " 'ZAMORA GARCIA, ALBERTO': {'Especialidad': ['CARDIOLOGIA'],\n",
       "  'Sitios': ['Punto Clínico- Coapa']},\n",
       " 'ARRIOLA ZAMARRIPA, MANUEL DE JESUS': {'Especialidad': ['GINECOLOGIA'],\n",
       "  'Sitios': ['Punto Clínico- Basílica']},\n",
       " 'CADENA OBANDO, DIEGO ANDRES': {'Especialidad': ['ENDOCRINOLOGIA'],\n",
       "  'Sitios': ['Punto Clínico- Basílica', 'LABORATORIO- Basílica']},\n",
       " 'CANO CONTRERAS, ANA DELFINA': {'Especialidad': ['GASTROENTEROLOGIA'],\n",
       "  'Sitios': ['Punto Clínico- Basílica',\n",
       "   'Punto Clínico- Coapa',\n",
       "   'LABORATORIO- Coapa',\n",
       "   'Punto Clinico- Marina']},\n",
       " 'ESCOBAR VALDIVIA, EMMANUEL JESUS': {'Especialidad': ['UROLOGIA'],\n",
       "  'Sitios': ['Punto Clínico- Coapa']},\n",
       " 'OCHOA, JESSICA': {'Especialidad': ['OTRA_ESP'],\n",
       "  'Sitios': ['Punto Clínico- Marina']},\n",
       " 'SUPPORT      , MEDFAR': {'Especialidad': ['OTRA_ESP',\n",
       "   'GINECOLOGIA',\n",
       "   'UROLOGIA'],\n",
       "  'Sitios': ['Punto Clinico- Marina', 'Punto Clínico- Basílica']},\n",
       " 'MARCANO PILLKAHN, JOHANNA CAROLINA': {'Especialidad': ['GASTROENTEROLOGIA'],\n",
       "  'Sitios': ['?']},\n",
       " 'BURGOS ROJO CED. ESP. 11249003, OLIVIA QUETZALLI': {'Especialidad': ['GINECOLOGIA'],\n",
       "  'Sitios': ['Punto Clínico- Basílica']},\n",
       " 'BUSTILLO DEL CUETO, EDUARDO': {'Especialidad': ['PEDIATRIA'],\n",
       "  'Sitios': ['Punto Clinico- Marina']},\n",
       " 'AVENDAÑO PEREZ, AURIA VIRIDIANA': {'Especialidad': ['GINECOLOGIA'],\n",
       "  'Sitios': ['Punto Clínico- Basílica']},\n",
       " 'GONZALEZ SANDOVAL, ALMA VERONICA': {'Especialidad': ['GINECOLOGIA'],\n",
       "  'Sitios': ['Punto Clinico- Marina']},\n",
       " 'FREIRE GUFFANTI, JUAN CARLOS': {'Especialidad': ['UROLOGIA'],\n",
       "  'Sitios': ['Punto Clínico- Basílica']},\n",
       " 'HERRERA PALMA, MARISOL': {'Especialidad': ['OTRA_ESP'],\n",
       "  'Sitios': ['Punto Clínico- Coapa']},\n",
       " 'TORRES ONTIVEROS, ALMA GABRIELA': {'Especialidad': ['PEDIATRIA'],\n",
       "  'Sitios': ['Punto Clinico- Marina']},\n",
       " 'AYALA PEREYRO, CINTHYA GUADALUPE': {'Especialidad': ['MEDICINA GENERAL'],\n",
       "  'Sitios': ['Punto Clínico- Basílica']},\n",
       " 'CORNEJO ROSALES, ERIKA': {'Especialidad': ['OTRA_ESP'],\n",
       "  'Sitios': ['Punto Clínico- Coapa']},\n",
       " 'CASTILLON BENAVIDES, NIDIA KAREN': {'Especialidad': ['ALERGOLOGIA'],\n",
       "  'Sitios': ['Punto Clínico- Basílica']},\n",
       " 'ESPINOZA CHOQUE, ROSELENNY': {'Especialidad': ['NEFROLOGIA'],\n",
       "  'Sitios': ['Punto Clínico- Coapa']},\n",
       " 'ANAYA, VERONICA': {'Especialidad': ['OTRA_ESP'],\n",
       "  'Sitios': ['Punto Clínico- Marina']},\n",
       " 'CATALAN SANTOS, SILVIA': {'Especialidad': ['GINECOLOGIA'],\n",
       "  'Sitios': ['Punto Clínico- Marina']},\n",
       " 'CEPEDA, MONICA': {'Especialidad': ['MEDICINA GENERAL'],\n",
       "  'Sitios': ['Punto Clínico- Basílica']},\n",
       " 'GALINDO VILLARREAL , DOLORES MARYSOL': {'Especialidad': ['GINECOLOGIA'],\n",
       "  'Sitios': ['Punto Clínico- Basílica']},\n",
       " 'PIÑA, LUIS ALBERTO': {'Especialidad': ['GASTROENTEROLGIA'],\n",
       "  'Sitios': ['Punto Clínico- Coapa']},\n",
       " 'JIMENEZ MENDOZA, DAYRA REBECA': {'Especialidad': ['DERMATOLOGIA'],\n",
       "  'Sitios': ['Punto Clínico- Basílica']},\n",
       " 'VARGAS, ADRIANA': {'Especialidad': ['OTRA_ESP'],\n",
       "  'Sitios': ['Punto Clínico- Basílica']},\n",
       " 'GUTIERREZ ZAMORA , JULIETA': {'Especialidad': ['GINECOLOGIA'],\n",
       "  'Sitios': ['Punto Clínico- Basílica']},\n",
       " 'DE LA TORRE TRUEBA, DULCE MARIA': {'Especialidad': ['DERMATOLOGIA'],\n",
       "  'Sitios': ['Punto Clínico- Coapa']},\n",
       " 'VARGAS RAMIREZ, GABRIELA': {'Especialidad': ['OTRA_ESP'],\n",
       "  'Sitios': ['Punto Clínico- Coapa']},\n",
       " 'GUEMES QUINTO, AGUSTIN': {'Especialidad': ['PROCTOLOGIA'],\n",
       "  'Sitios': ['Punto Clínico- Coapa']},\n",
       " 'ISLAS DE LA ROSA, GUADALUPE': {'Especialidad': ['OTRA_ESP'],\n",
       "  'Sitios': ['Punto Clínico- Coapa']},\n",
       " 'MEDEL RINCON, MARIA AZUCENA': {'Especialidad': ['OTRA_ESP'],\n",
       "  'Sitios': ['Punto Clínico- Marina']},\n",
       " 'MERCADO, SANDRA': {'Especialidad': ['OTRA_ESP'],\n",
       "  'Sitios': ['Punto Clínico- Marina']},\n",
       " 'CHIRINOS RAMOS, JOCELIN VIVIANA': {'Especialidad': ['OTRA_ESP'],\n",
       "  'Sitios': ['Punto Clínico- Coapa']},\n",
       " 'VILLA CASTRO, VIRGINIA BERENICE': {'Especialidad': ['OTRA_ESP'],\n",
       "  'Sitios': ['Punto Clínico- Coapa']},\n",
       " 'GARCIA LOZADA, MARISOL': {'Especialidad': ['OTRA_ESP'],\n",
       "  'Sitios': ['Punto Clínico- Coapa']},\n",
       " 'ALVARADO, JULIETA': {'Especialidad': ['OTRA_ESP'],\n",
       "  'Sitios': ['Punto Clínico- Marina']},\n",
       " 'GARCIA MARTINEZ, ESTELA': {'Especialidad': ['OTRA_ESP'],\n",
       "  'Sitios': ['Punto Clínico- Coapa']},\n",
       " 'LOPEZ ORTIZ, SAMANTHA': {'Especialidad': ['OTRA_ESP'],\n",
       "  'Sitios': ['Punto Clínico- Coapa']},\n",
       " 'REYNOSO ALMAZAN, ARIANA LIZBETH': {'Especialidad': ['OTRA_ESP'],\n",
       "  'Sitios': ['Punto Clínico- Marina']},\n",
       " 'JAIME, PATRICIA': {'Especialidad': ['OTRA_ESP'],\n",
       "  'Sitios': ['Punto Clínico- Marina']}}"
      ]
     },
     "execution_count": 78,
     "metadata": {},
     "output_type": "execute_result"
    }
   ],
   "source": [
    "meds_dict_ref"
   ]
  },
  {
   "cell_type": "code",
   "execution_count": 86,
   "metadata": {
    "ExecuteTime": {
     "end_time": "2020-09-25T16:57:42.665901Z",
     "start_time": "2020-09-25T16:57:42.646544Z"
    },
    "hidden": true
   },
   "outputs": [],
   "source": [
    "pd.DataFrame.from_dict(meds_dict_ref, orient=\"index\").to_csv(\"Doctors.csv\")"
   ]
  },
  {
   "cell_type": "markdown",
   "metadata": {
    "hidden": true
   },
   "source": [
    "**Specialities reference**"
   ]
  },
  {
   "cell_type": "code",
   "execution_count": 87,
   "metadata": {
    "ExecuteTime": {
     "end_time": "2020-09-25T17:00:51.821150Z",
     "start_time": "2020-09-25T17:00:51.799411Z"
    },
    "hidden": true,
    "scrolled": true
   },
   "outputs": [
    {
     "data": {
      "text/plain": [
       "{'GINECOLOGIA': ['GINECOLOGIA',\n",
       "  'ENDOVAGINAL',\n",
       "  'TRANSVAGINAL',\n",
       "  'GINECO',\n",
       "  'CERVIX',\n",
       "  'VAGIN',\n",
       "  'DIU',\n",
       "  'OBSTETRIC',\n",
       "  'EMBARAZ',\n",
       "  'PROLACTIN',\n",
       "  'COLPOSCOPIA',\n",
       "  'PAPANICOLAOU'],\n",
       " 'DERMATOLOGIA': ['DERMATOLOGIA'],\n",
       " 'UROLOGIA': ['UROLOGIA', 'PROST', 'RENAL', 'PENESCOPIA', 'ANDROSCOPIA'],\n",
       " 'PEDIATRIA': ['PEDIATRIA'],\n",
       " 'ENDOCRINOLOGIA': ['ENDOCRINOLOGIA', 'TIROIDEO', 'TIROIDES'],\n",
       " 'OTORRINOLARINGOLOGIA': ['OTORRINOLARINGOLOGIA',\n",
       "  'OTORRINOLARINGO',\n",
       "  'CERUMEN'],\n",
       " 'GASTROENTEROLOGIA': ['GASTROENTEROLOGIA', 'GASTROENTEROLGIA'],\n",
       " 'MEDICINA GENERAL': ['MEDICINA GENERAL'],\n",
       " 'NEUMOLOGIA': ['NEUMOLOGIA'],\n",
       " 'CARDIOLOGIA': ['CARDIOLOGIA'],\n",
       " 'NUTRICION': ['NUTRICION'],\n",
       " 'ALERGOLOGIA': ['ALERGOLOGIA'],\n",
       " 'NEUROLOGIA': ['NEUROLOG'],\n",
       " 'PROCTOLOGIA': ['PROCTOLOG']}"
      ]
     },
     "execution_count": 87,
     "metadata": {},
     "output_type": "execute_result"
    }
   ],
   "source": [
    "specialties_ref"
   ]
  },
  {
   "cell_type": "code",
   "execution_count": 97,
   "metadata": {
    "ExecuteTime": {
     "end_time": "2020-09-25T17:05:12.457018Z",
     "start_time": "2020-09-25T17:05:12.421574Z"
    },
    "hidden": true
   },
   "outputs": [],
   "source": [
    "pd.DataFrame(dict([(key, pd.Series(val)) for key, val in specialties_ref.items()])).fillna(\"-\").T.to_csv(\"spec_refs.csv\")"
   ]
  },
  {
   "cell_type": "markdown",
   "metadata": {
    "hidden": true
   },
   "source": [
    "**Business lines**"
   ]
  },
  {
   "cell_type": "code",
   "execution_count": 98,
   "metadata": {
    "ExecuteTime": {
     "end_time": "2020-09-25T17:09:53.015403Z",
     "start_time": "2020-09-25T17:09:52.992202Z"
    },
    "hidden": true,
    "scrolled": true
   },
   "outputs": [
    {
     "data": {
      "text/plain": [
       "{'CONSULTA': ['CONSULTA MEDICA',\n",
       "  'CONSULTA ESPECIALISTA',\n",
       "  'CONSULTA DE',\n",
       "  'CONSULTA MEDICINA GENERAL',\n",
       "  'CONSULTA GENERAL',\n",
       "  'OTORRINOLARINGOLOGIA',\n",
       "  'CARDIOLOGIA',\n",
       "  'TELECONSULTA',\n",
       "  'DIETA',\n",
       "  'REVISION'],\n",
       " 'LABORATORIO': ['CHECK UP',\n",
       "  'PERFIL TIROIDEO',\n",
       "  'BIOMETRIA HEMATICA',\n",
       "  'QUIMICA DE',\n",
       "  'HEMOGLOBINA',\n",
       "  'INSULINA',\n",
       "  'CULTIVO',\n",
       "  'EXAMEN',\n",
       "  'PRUEBA',\n",
       "  'COPROCULTIVO',\n",
       "  'AMILASA',\n",
       "  'VDRL',\n",
       "  'AMIBA',\n",
       "  'HORMONA',\n",
       "  'WINTROBE',\n",
       "  'GLUCOSA',\n",
       "  'PROLACTINA',\n",
       "  'TIEMPO DE',\n",
       "  'PERFIL',\n",
       "  'GRUPO SANGUINEO',\n",
       "  'VIRUS INMUNODEFICIENCIA',\n",
       "  'HIV',\n",
       "  'CITOLOGIA',\n",
       "  'ANTICUERPOS',\n",
       "  'ANTIGENO',\n",
       "  'PROGESTERONA',\n",
       "  'DEHIDROEPIANDROSTERONA',\n",
       "  'TRANSAMINASA'],\n",
       " 'ULTRASONIDO': ['ULTRASON'],\n",
       " 'PROCEDIMIENTOS': ['ELECTROFULGURACION',\n",
       "  'COLPOSCOPIA',\n",
       "  'PAPANICOLAOU',\n",
       "  'RASTREO',\n",
       "  'INFOGRAFIA',\n",
       "  'BIOPSIA',\n",
       "  'BIOPISA',\n",
       "  'APLICACION DE',\n",
       "  'TOMA',\n",
       "  'RETIRO',\n",
       "  'EXTRACCCION',\n",
       "  'INSERCION',\n",
       "  'ENVIADO A',\n",
       "  'CRIOTERAPIA',\n",
       "  'SCOPIA',\n",
       "  'CIRUGIA',\n",
       "  'INYECCION',\n",
       "  'ELECTROCARDIOGRAMA',\n",
       "  'EKG',\n",
       "  'ESFEROLISIS',\n",
       "  'CURACION',\n",
       "  'VERRUGA']}"
      ]
     },
     "execution_count": 98,
     "metadata": {},
     "output_type": "execute_result"
    }
   ],
   "source": [
    "business_line_ref"
   ]
  },
  {
   "cell_type": "code",
   "execution_count": 100,
   "metadata": {
    "ExecuteTime": {
     "end_time": "2020-09-25T17:10:34.052059Z",
     "start_time": "2020-09-25T17:10:34.025850Z"
    },
    "hidden": true
   },
   "outputs": [],
   "source": [
    "pd.DataFrame(dict([(key, pd.Series(val)) for key, val in business_line_ref.items()])).fillna(\"-\").T.to_csv(\"BL_refs.csv\")"
   ]
  },
  {
   "cell_type": "code",
   "execution_count": null,
   "metadata": {
    "hidden": true
   },
   "outputs": [],
   "source": []
  },
  {
   "cell_type": "markdown",
   "metadata": {
    "hidden": true
   },
   "source": [
    "---\n",
    "---"
   ]
  }
 ],
 "metadata": {
  "kernelspec": {
   "display_name": "Python 3",
   "language": "python",
   "name": "python3"
  },
  "language_info": {
   "codemirror_mode": {
    "name": "ipython",
    "version": 3
   },
   "file_extension": ".py",
   "mimetype": "text/x-python",
   "name": "python",
   "nbconvert_exporter": "python",
   "pygments_lexer": "ipython3",
   "version": "3.8.5"
  }
 },
 "nbformat": 4,
 "nbformat_minor": 4
}
