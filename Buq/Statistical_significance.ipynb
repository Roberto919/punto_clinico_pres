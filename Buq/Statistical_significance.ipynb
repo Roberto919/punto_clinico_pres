{
 "cells": [
  {
   "cell_type": "code",
   "execution_count": 9,
   "metadata": {
    "ExecuteTime": {
     "end_time": "2020-06-22T22:36:06.602416Z",
     "start_time": "2020-06-22T22:35:57.932911Z"
    }
   },
   "outputs": [],
   "source": [
    "import math\n",
    "\n",
    "import scipy.stats"
   ]
  },
  {
   "cell_type": "code",
   "execution_count": 3,
   "metadata": {
    "ExecuteTime": {
     "end_time": "2020-06-22T22:21:02.312368Z",
     "start_time": "2020-06-22T22:21:02.309833Z"
    }
   },
   "outputs": [],
   "source": [
    "avg_all_gp = 7.02 "
   ]
  },
  {
   "cell_type": "code",
   "execution_count": 4,
   "metadata": {
    "ExecuteTime": {
     "end_time": "2020-06-22T22:21:40.266695Z",
     "start_time": "2020-06-22T22:21:40.264147Z"
    }
   },
   "outputs": [],
   "source": [
    "gp_size = 202\n",
    "avg_study_gp = 6.9\n",
    "std_study_gp = 0.84"
   ]
  },
  {
   "cell_type": "code",
   "execution_count": 5,
   "metadata": {
    "ExecuteTime": {
     "end_time": "2020-06-22T22:22:04.361698Z",
     "start_time": "2020-06-22T22:22:04.359374Z"
    }
   },
   "outputs": [],
   "source": [
    "alpha = 0.05"
   ]
  },
  {
   "cell_type": "code",
   "execution_count": 8,
   "metadata": {
    "ExecuteTime": {
     "end_time": "2020-06-22T22:34:35.536253Z",
     "start_time": "2020-06-22T22:34:35.531825Z"
    }
   },
   "outputs": [
    {
     "data": {
      "text/plain": [
       "-2.0303814862216862"
      ]
     },
     "execution_count": 8,
     "metadata": {},
     "output_type": "execute_result"
    }
   ],
   "source": [
    "## Get measurement's z-score\n",
    "z_score = (avg_study_gp - avg_all_gp)/(std_study_gp/math.sqrt(gp_size))\n",
    "z_score"
   ]
  },
  {
   "cell_type": "code",
   "execution_count": 10,
   "metadata": {
    "ExecuteTime": {
     "end_time": "2020-06-22T22:36:42.290647Z",
     "start_time": "2020-06-22T22:36:42.286315Z"
    }
   },
   "outputs": [
    {
     "data": {
      "text/plain": [
       "0.021158888530490534"
      ]
     },
     "execution_count": 10,
     "metadata": {},
     "output_type": "execute_result"
    }
   ],
   "source": [
    "## Convert z-score to p-value\n",
    "p_value = scipy.stats.norm.sf(abs(z_score))\n",
    "p_value"
   ]
  },
  {
   "cell_type": "markdown",
   "metadata": {},
   "source": [
    "---"
   ]
  },
  {
   "cell_type": "markdown",
   "metadata": {},
   "source": [
    "### Test calculation 1\n",
    "- Source: (Towards data science)[https://towardsdatascience.com/statistical-significance-hypothesis-testing-the-normal-curve-and-p-values-93274fa32687]"
   ]
  },
  {
   "cell_type": "markdown",
   "metadata": {},
   "source": [
    "#### Parameters"
   ]
  },
  {
   "cell_type": "code",
   "execution_count": 103,
   "metadata": {
    "ExecuteTime": {
     "end_time": "2020-06-24T17:22:50.029521Z",
     "start_time": "2020-06-24T17:22:49.965847Z"
    }
   },
   "outputs": [
    {
     "data": {
      "text/plain": [
       "2224.0"
      ]
     },
     "execution_count": 103,
     "metadata": {},
     "output_type": "execute_result"
    }
   ],
   "source": [
    "278/0.125"
   ]
  },
  {
   "cell_type": "code",
   "execution_count": 92,
   "metadata": {
    "ExecuteTime": {
     "end_time": "2020-06-23T22:49:41.557258Z",
     "start_time": "2020-06-23T22:49:41.554714Z"
    }
   },
   "outputs": [],
   "source": [
    "alpha = 0.05"
   ]
  },
  {
   "cell_type": "markdown",
   "metadata": {},
   "source": [
    "#### Exogenous variables"
   ]
  },
  {
   "cell_type": "code",
   "execution_count": 93,
   "metadata": {
    "ExecuteTime": {
     "end_time": "2020-06-23T22:49:42.070258Z",
     "start_time": "2020-06-23T22:49:42.067747Z"
    }
   },
   "outputs": [],
   "source": [
    "u_avg = 0.5"
   ]
  },
  {
   "cell_type": "markdown",
   "metadata": {},
   "source": [
    "#### Endogenous variables"
   ]
  },
  {
   "cell_type": "code",
   "execution_count": 100,
   "metadata": {
    "ExecuteTime": {
     "end_time": "2020-06-23T22:50:02.503437Z",
     "start_time": "2020-06-23T22:50:02.500635Z"
    }
   },
   "outputs": [],
   "source": [
    "s_size = 250\n",
    "s_avg = 0.85\n",
    "s_std = 2"
   ]
  },
  {
   "cell_type": "markdown",
   "metadata": {},
   "source": [
    "#### Calculating p-value"
   ]
  },
  {
   "cell_type": "code",
   "execution_count": 101,
   "metadata": {
    "ExecuteTime": {
     "end_time": "2020-06-23T22:50:02.864851Z",
     "start_time": "2020-06-23T22:50:02.860835Z"
    }
   },
   "outputs": [
    {
     "data": {
      "text/plain": [
       "2.766992952647332"
      ]
     },
     "execution_count": 101,
     "metadata": {},
     "output_type": "execute_result"
    }
   ],
   "source": [
    "z_score = (s_avg - u_avg)/(s_std/math.sqrt(s_size))\n",
    "z_score"
   ]
  },
  {
   "cell_type": "code",
   "execution_count": 102,
   "metadata": {
    "ExecuteTime": {
     "end_time": "2020-06-23T22:50:03.058644Z",
     "start_time": "2020-06-23T22:50:03.054291Z"
    }
   },
   "outputs": [
    {
     "data": {
      "text/plain": [
       "0.00282879890753218"
      ]
     },
     "execution_count": 102,
     "metadata": {},
     "output_type": "execute_result"
    }
   ],
   "source": [
    "## Convert z-score to p-value\n",
    "p_value = scipy.stats.norm.sf(abs(z_score))\n",
    "p_value"
   ]
  },
  {
   "cell_type": "markdown",
   "metadata": {},
   "source": [
    "---"
   ]
  },
  {
   "cell_type": "markdown",
   "metadata": {},
   "source": [
    "### Test calculation 2\n",
    "- source: [SurveyMonkey](https://www.surveymonkey.com/mp/sample-size/?program=7013A000000mweBQAQ&utm_bu=CR&utm_campaign=71700000064157458&utm_adgroup=58700005704021376&utm_content=39700052007818772&utm_medium=cpc&utm_source=adwords&utm_term=p52007818772&utm_kxconfid=s4bvpi0ju&gclid=EAIaIQobChMIvrjMnf-Y6gIVAdbACh2VcAgoEAAYASAAEgKrwPD_BwE&gclsrc=aw.ds)"
   ]
  },
  {
   "cell_type": "markdown",
   "metadata": {},
   "source": [
    "#### Parameters"
   ]
  },
  {
   "cell_type": "code",
   "execution_count": 90,
   "metadata": {
    "ExecuteTime": {
     "end_time": "2020-06-23T22:49:21.256465Z",
     "start_time": "2020-06-23T22:49:21.253540Z"
    }
   },
   "outputs": [],
   "source": [
    "error_margin = 0.05\n",
    "confidence_lvl = 0.95\n",
    "\n",
    "## Values from table\n",
    "population = 10e3\n",
    "sample = 370\n",
    "\n",
    "response_rate = 0.125"
   ]
  },
  {
   "cell_type": "code",
   "execution_count": 91,
   "metadata": {
    "ExecuteTime": {
     "end_time": "2020-06-23T22:49:21.419669Z",
     "start_time": "2020-06-23T22:49:21.416216Z"
    }
   },
   "outputs": [
    {
     "data": {
      "text/plain": [
       "2960.0"
      ]
     },
     "execution_count": 91,
     "metadata": {},
     "output_type": "execute_result"
    }
   ],
   "source": [
    "messages_to_send = sample/response_rate\n",
    "messages_to_send"
   ]
  },
  {
   "cell_type": "markdown",
   "metadata": {},
   "source": [
    "---\n",
    "---"
   ]
  }
 ],
 "metadata": {
  "kernelspec": {
   "display_name": "Python 3",
   "language": "python",
   "name": "python3"
  },
  "language_info": {
   "codemirror_mode": {
    "name": "ipython",
    "version": 3
   },
   "file_extension": ".py",
   "mimetype": "text/x-python",
   "name": "python",
   "nbconvert_exporter": "python",
   "pygments_lexer": "ipython3",
   "version": "3.7.4"
  }
 },
 "nbformat": 4,
 "nbformat_minor": 4
}
