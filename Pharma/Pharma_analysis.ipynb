{
 "cells": [
  {
   "cell_type": "markdown",
   "metadata": {},
   "source": [
    "# Pharmaceuticals for patients with cronic diseases\n",
    "**Estimation of the atractivness related with the selling of pharmaceuticals for patients with chronic diseases** \n",
    "- Author: Rob (GH: Roberto919)\n",
    "- Date: 3 July 2020"
   ]
  },
  {
   "cell_type": "markdown",
   "metadata": {},
   "source": [
    "**Key questions that should be adressed**\n",
    "\n",
    "1) Data analysis - studies results\n",
    "- [x] 1) How many studies were liberated and how do the results look like?\n",
    "- [ ] 2) How is age distributed among patients with a study result labeled as 'high'?\n",
    "- [ ] 3) How is gender distributed among patients with a study result labeled as 'high'?\n",
    "- [x] 4) How does patient's recurrence looks like within data?\n",
    "- [ ] 5) How are the exact values of the test distributed?\n",
    "\n",
    "2) Data Analysis - drug selling\n",
    "- [ ] 1) If drugs were sold to patients that obtained 'high' in their study, how would revenues look like?"
   ]
  },
  {
   "cell_type": "markdown",
   "metadata": {},
   "source": [
    "---\n",
    "---"
   ]
  },
  {
   "cell_type": "markdown",
   "metadata": {},
   "source": [
    "## Imports"
   ]
  },
  {
   "cell_type": "markdown",
   "metadata": {},
   "source": [
    "#### Python libraries"
   ]
  },
  {
   "cell_type": "code",
   "execution_count": 1,
   "metadata": {
    "ExecuteTime": {
     "end_time": "2020-07-09T23:41:36.011005Z",
     "start_time": "2020-07-09T23:41:32.868950Z"
    }
   },
   "outputs": [],
   "source": [
    "import pandas as pd\n",
    "\n",
    "import pprint as pp\n",
    "\n",
    "import plotly.figure_factory as ff\n",
    "\n",
    "from datetime import *\n",
    "\n",
    "import matplotlib.pyplot as plt\n",
    "from matplotlib.ticker import FuncFormatter\n",
    "\n",
    "from statistics import median, mean\n",
    "\n",
    "import numpy as np"
   ]
  },
  {
   "cell_type": "markdown",
   "metadata": {},
   "source": [
    "#### Ancillary modules"
   ]
  },
  {
   "cell_type": "code",
   "execution_count": 2,
   "metadata": {
    "ExecuteTime": {
     "end_time": "2020-07-09T23:41:36.039088Z",
     "start_time": "2020-07-09T23:41:36.012682Z"
    }
   },
   "outputs": [],
   "source": [
    "## Reloading imports\n",
    "%load_ext autoreload\n",
    "%autoreload 2\n",
    "\n",
    "from Pharma_analysis_params import metmorfina_pricing"
   ]
  },
  {
   "cell_type": "markdown",
   "metadata": {},
   "source": [
    "---"
   ]
  },
  {
   "cell_type": "markdown",
   "metadata": {},
   "source": [
    "## Data upload"
   ]
  },
  {
   "cell_type": "markdown",
   "metadata": {},
   "source": [
    "### Hemoglobina glicosilada studies results\n",
    "- Region: Guadalajara, Mexico\n",
    "- Time period: Jan - Mar 2017\n",
    "- Laboratory: Chopo"
   ]
  },
  {
   "cell_type": "markdown",
   "metadata": {},
   "source": [
    "#### Importing and processing data"
   ]
  },
  {
   "cell_type": "code",
   "execution_count": 3,
   "metadata": {
    "ExecuteTime": {
     "end_time": "2020-07-09T23:41:36.102651Z",
     "start_time": "2020-07-09T23:41:36.041399Z"
    }
   },
   "outputs": [],
   "source": [
    "df = pd.read_csv('Sources/Resultados Hemoglobina Glicosilada GDL Chopo ENE-MAR17.csv')\n",
    "\n",
    "## Formatting\n",
    "df.loc[:, 'DLIBERACION'] = pd.to_datetime(df.loc[:, 'DLIBERACION'], format='%d/%m/%y %H:%M')\n",
    "df['Week'] = df['DLIBERACION'].apply(lambda x: x.isocalendar()[1])\n",
    "df['Month'] = df['DLIBERACION'].apply(lambda x: x.month)"
   ]
  },
  {
   "cell_type": "code",
   "execution_count": 4,
   "metadata": {
    "ExecuteTime": {
     "end_time": "2020-07-09T23:41:36.147380Z",
     "start_time": "2020-07-09T23:41:36.104548Z"
    }
   },
   "outputs": [
    {
     "data": {
      "text/html": [
       "<div>\n",
       "<style scoped>\n",
       "    .dataframe tbody tr th:only-of-type {\n",
       "        vertical-align: middle;\n",
       "    }\n",
       "\n",
       "    .dataframe tbody tr th {\n",
       "        vertical-align: top;\n",
       "    }\n",
       "\n",
       "    .dataframe thead th {\n",
       "        text-align: right;\n",
       "    }\n",
       "</style>\n",
       "<table border=\"1\" class=\"dataframe\">\n",
       "  <thead>\n",
       "    <tr style=\"text-align: right;\">\n",
       "      <th></th>\n",
       "      <th>ORDEN</th>\n",
       "      <th>KPACIENTE</th>\n",
       "      <th>EDAD</th>\n",
       "      <th>GENERO</th>\n",
       "      <th>DLIBERACION</th>\n",
       "      <th>CEXAMEN</th>\n",
       "      <th>CCODIGOLABORATORIO</th>\n",
       "      <th>STITULOIMPRESION</th>\n",
       "      <th>RESULTADO</th>\n",
       "      <th>MEDIDA</th>\n",
       "      <th>STIPORESULTADO</th>\n",
       "      <th>Week</th>\n",
       "      <th>Month</th>\n",
       "    </tr>\n",
       "  </thead>\n",
       "  <tbody>\n",
       "    <tr>\n",
       "      <th>0</th>\n",
       "      <td>BA406221</td>\n",
       "      <td>10997326</td>\n",
       "      <td>50</td>\n",
       "      <td>F</td>\n",
       "      <td>2017-01-02 11:47:00</td>\n",
       "      <td>16,025</td>\n",
       "      <td>7333</td>\n",
       "      <td>Hemoglobina glicosilada (A1c)</td>\n",
       "      <td>5.85</td>\n",
       "      <td>%</td>\n",
       "      <td>NORMAL</td>\n",
       "      <td>1</td>\n",
       "      <td>1</td>\n",
       "    </tr>\n",
       "    <tr>\n",
       "      <th>1</th>\n",
       "      <td>BA406231</td>\n",
       "      <td>13945511</td>\n",
       "      <td>30</td>\n",
       "      <td>F</td>\n",
       "      <td>2017-01-02 11:47:00</td>\n",
       "      <td>16,025</td>\n",
       "      <td>7333</td>\n",
       "      <td>Hemoglobina glicosilada (A1c)</td>\n",
       "      <td>5.93</td>\n",
       "      <td>%</td>\n",
       "      <td>NORMAL</td>\n",
       "      <td>1</td>\n",
       "      <td>1</td>\n",
       "    </tr>\n",
       "    <tr>\n",
       "      <th>2</th>\n",
       "      <td>GH65857</td>\n",
       "      <td>1675951</td>\n",
       "      <td>63</td>\n",
       "      <td>F</td>\n",
       "      <td>2017-01-02 12:07:00</td>\n",
       "      <td>16,025</td>\n",
       "      <td>7333</td>\n",
       "      <td>Hemoglobina glicosilada (A1c)</td>\n",
       "      <td>5.63</td>\n",
       "      <td>%</td>\n",
       "      <td>NORMAL</td>\n",
       "      <td>1</td>\n",
       "      <td>1</td>\n",
       "    </tr>\n",
       "    <tr>\n",
       "      <th>3</th>\n",
       "      <td>HR2682</td>\n",
       "      <td>10542199</td>\n",
       "      <td>47</td>\n",
       "      <td>M</td>\n",
       "      <td>2017-01-02 12:17:00</td>\n",
       "      <td>16,025</td>\n",
       "      <td>7333</td>\n",
       "      <td>Hemoglobina glicosilada (A1c)</td>\n",
       "      <td>5.59</td>\n",
       "      <td>%</td>\n",
       "      <td>NORMAL</td>\n",
       "      <td>1</td>\n",
       "      <td>1</td>\n",
       "    </tr>\n",
       "    <tr>\n",
       "      <th>4</th>\n",
       "      <td>HQ53060</td>\n",
       "      <td>10430488</td>\n",
       "      <td>46</td>\n",
       "      <td>F</td>\n",
       "      <td>2017-01-02 12:17:00</td>\n",
       "      <td>16,025</td>\n",
       "      <td>7333</td>\n",
       "      <td>Hemoglobina glicosilada (A1c)</td>\n",
       "      <td>5.67</td>\n",
       "      <td>%</td>\n",
       "      <td>NORMAL</td>\n",
       "      <td>1</td>\n",
       "      <td>1</td>\n",
       "    </tr>\n",
       "    <tr>\n",
       "      <th>...</th>\n",
       "      <td>...</td>\n",
       "      <td>...</td>\n",
       "      <td>...</td>\n",
       "      <td>...</td>\n",
       "      <td>...</td>\n",
       "      <td>...</td>\n",
       "      <td>...</td>\n",
       "      <td>...</td>\n",
       "      <td>...</td>\n",
       "      <td>...</td>\n",
       "      <td>...</td>\n",
       "      <td>...</td>\n",
       "      <td>...</td>\n",
       "    </tr>\n",
       "    <tr>\n",
       "      <th>3401</th>\n",
       "      <td>BA416105</td>\n",
       "      <td>14243008</td>\n",
       "      <td>25</td>\n",
       "      <td>M</td>\n",
       "      <td>2017-03-31 18:07:00</td>\n",
       "      <td>16,025</td>\n",
       "      <td>7333</td>\n",
       "      <td>Hemoglobina glicosilada (A1c)</td>\n",
       "      <td>14.10</td>\n",
       "      <td>%</td>\n",
       "      <td>ALTO</td>\n",
       "      <td>13</td>\n",
       "      <td>3</td>\n",
       "    </tr>\n",
       "    <tr>\n",
       "      <th>3402</th>\n",
       "      <td>JS2920</td>\n",
       "      <td>11549888</td>\n",
       "      <td>39</td>\n",
       "      <td>M</td>\n",
       "      <td>2017-03-31 18:37:00</td>\n",
       "      <td>16,025</td>\n",
       "      <td>7333</td>\n",
       "      <td>Hemoglobina glicosilada (A1c)</td>\n",
       "      <td>13.90</td>\n",
       "      <td>%</td>\n",
       "      <td>ALTO</td>\n",
       "      <td>13</td>\n",
       "      <td>3</td>\n",
       "    </tr>\n",
       "    <tr>\n",
       "      <th>3403</th>\n",
       "      <td>BL34420</td>\n",
       "      <td>10579210</td>\n",
       "      <td>37</td>\n",
       "      <td>M</td>\n",
       "      <td>2017-03-31 18:37:00</td>\n",
       "      <td>16,025</td>\n",
       "      <td>7333</td>\n",
       "      <td>Hemoglobina glicosilada (A1c)</td>\n",
       "      <td>7.70</td>\n",
       "      <td>%</td>\n",
       "      <td>ALTO</td>\n",
       "      <td>13</td>\n",
       "      <td>3</td>\n",
       "    </tr>\n",
       "    <tr>\n",
       "      <th>3404</th>\n",
       "      <td>JR3555</td>\n",
       "      <td>14241435</td>\n",
       "      <td>84</td>\n",
       "      <td>M</td>\n",
       "      <td>2017-03-31 18:57:00</td>\n",
       "      <td>16,025</td>\n",
       "      <td>7333</td>\n",
       "      <td>Hemoglobina glicosilada (A1c)</td>\n",
       "      <td>6.20</td>\n",
       "      <td>%</td>\n",
       "      <td>ALTO</td>\n",
       "      <td>13</td>\n",
       "      <td>3</td>\n",
       "    </tr>\n",
       "    <tr>\n",
       "      <th>3405</th>\n",
       "      <td>IY1112</td>\n",
       "      <td>14240315</td>\n",
       "      <td>61</td>\n",
       "      <td>F</td>\n",
       "      <td>2017-03-31 19:17:00</td>\n",
       "      <td>16,025</td>\n",
       "      <td>7333</td>\n",
       "      <td>Hemoglobina glicosilada (A1c)</td>\n",
       "      <td>8.80</td>\n",
       "      <td>%</td>\n",
       "      <td>ALTO</td>\n",
       "      <td>13</td>\n",
       "      <td>3</td>\n",
       "    </tr>\n",
       "  </tbody>\n",
       "</table>\n",
       "<p>3406 rows × 13 columns</p>\n",
       "</div>"
      ],
      "text/plain": [
       "         ORDEN  KPACIENTE  EDAD GENERO         DLIBERACION CEXAMEN  \\\n",
       "0     BA406221   10997326    50      F 2017-01-02 11:47:00  16,025   \n",
       "1     BA406231   13945511    30      F 2017-01-02 11:47:00  16,025   \n",
       "2      GH65857    1675951    63      F 2017-01-02 12:07:00  16,025   \n",
       "3       HR2682   10542199    47      M 2017-01-02 12:17:00  16,025   \n",
       "4      HQ53060   10430488    46      F 2017-01-02 12:17:00  16,025   \n",
       "...        ...        ...   ...    ...                 ...     ...   \n",
       "3401  BA416105   14243008    25      M 2017-03-31 18:07:00  16,025   \n",
       "3402    JS2920   11549888    39      M 2017-03-31 18:37:00  16,025   \n",
       "3403   BL34420   10579210    37      M 2017-03-31 18:37:00  16,025   \n",
       "3404    JR3555   14241435    84      M 2017-03-31 18:57:00  16,025   \n",
       "3405    IY1112   14240315    61      F 2017-03-31 19:17:00  16,025   \n",
       "\n",
       "      CCODIGOLABORATORIO               STITULOIMPRESION  RESULTADO MEDIDA  \\\n",
       "0                   7333  Hemoglobina glicosilada (A1c)       5.85      %   \n",
       "1                   7333  Hemoglobina glicosilada (A1c)       5.93      %   \n",
       "2                   7333  Hemoglobina glicosilada (A1c)       5.63      %   \n",
       "3                   7333  Hemoglobina glicosilada (A1c)       5.59      %   \n",
       "4                   7333  Hemoglobina glicosilada (A1c)       5.67      %   \n",
       "...                  ...                            ...        ...    ...   \n",
       "3401                7333  Hemoglobina glicosilada (A1c)      14.10      %   \n",
       "3402                7333  Hemoglobina glicosilada (A1c)      13.90      %   \n",
       "3403                7333  Hemoglobina glicosilada (A1c)       7.70      %   \n",
       "3404                7333  Hemoglobina glicosilada (A1c)       6.20      %   \n",
       "3405                7333  Hemoglobina glicosilada (A1c)       8.80      %   \n",
       "\n",
       "     STIPORESULTADO  Week  Month  \n",
       "0            NORMAL     1      1  \n",
       "1            NORMAL     1      1  \n",
       "2            NORMAL     1      1  \n",
       "3            NORMAL     1      1  \n",
       "4            NORMAL     1      1  \n",
       "...             ...   ...    ...  \n",
       "3401           ALTO    13      3  \n",
       "3402           ALTO    13      3  \n",
       "3403           ALTO    13      3  \n",
       "3404           ALTO    13      3  \n",
       "3405           ALTO    13      3  \n",
       "\n",
       "[3406 rows x 13 columns]"
      ]
     },
     "execution_count": 4,
     "metadata": {},
     "output_type": "execute_result"
    }
   ],
   "source": [
    "df"
   ]
  },
  {
   "cell_type": "markdown",
   "metadata": {},
   "source": [
    "#### Summary of key observations in the data"
   ]
  },
  {
   "cell_type": "markdown",
   "metadata": {},
   "source": [
    "##### Procedure"
   ]
  },
  {
   "cell_type": "code",
   "execution_count": 5,
   "metadata": {
    "ExecuteTime": {
     "end_time": "2020-07-09T23:41:36.186053Z",
     "start_time": "2020-07-09T23:41:36.149002Z"
    }
   },
   "outputs": [],
   "source": [
    "## Total patients\n",
    "t_pats = df.shape[0]\n",
    "\n",
    "## Unique patients\n",
    "u_pats = len(df['KPACIENTE'].unique())\n",
    "\n",
    "## Range of dates in data\n",
    "min_date = min(df['DLIBERACION'])\n",
    "max_date = max(df['DLIBERACION'])\n",
    "\n",
    "## Number of weeks in study\n",
    "max_week_count = max(df['Week'])"
   ]
  },
  {
   "cell_type": "code",
   "execution_count": 6,
   "metadata": {
    "ExecuteTime": {
     "end_time": "2020-07-09T23:41:37.366521Z",
     "start_time": "2020-07-09T23:41:37.341254Z"
    }
   },
   "outputs": [],
   "source": [
    "text = \"\"\"\n",
    "Summary of key observations in data: \\n\n",
    "    - Total number of patients: {}\n",
    "    - Number of unique patients: {}\n",
    "    - Range of dates covered: {} - {}\n",
    "    - Number of weeks covered: {}\n",
    "\"\"\".format(t_pats, u_pats, min_date, max_date, max_week_count)"
   ]
  },
  {
   "cell_type": "markdown",
   "metadata": {},
   "source": [
    "##### Resulting summary"
   ]
  },
  {
   "cell_type": "code",
   "execution_count": 7,
   "metadata": {
    "ExecuteTime": {
     "end_time": "2020-07-09T23:41:38.087122Z",
     "start_time": "2020-07-09T23:41:38.065098Z"
    }
   },
   "outputs": [
    {
     "name": "stdout",
     "output_type": "stream",
     "text": [
      "\n",
      "Summary of key observations in data: \n",
      "\n",
      "    - Total number of patients: 3406\n",
      "    - Number of unique patients: 3304\n",
      "    - Range of dates covered: 2017-01-02 11:47:00 - 2017-03-31 19:17:00\n",
      "    - Number of weeks covered: 13\n",
      "\n"
     ]
    }
   ],
   "source": [
    "print(text)"
   ]
  },
  {
   "cell_type": "markdown",
   "metadata": {},
   "source": [
    "---"
   ]
  },
  {
   "cell_type": "markdown",
   "metadata": {},
   "source": [
    "## Data analysis - studies results"
   ]
  },
  {
   "cell_type": "markdown",
   "metadata": {},
   "source": [
    "### 1) How many studies were liberated and how do the results look like?"
   ]
  },
  {
   "cell_type": "markdown",
   "metadata": {},
   "source": [
    "#### Procedure"
   ]
  },
  {
   "cell_type": "code",
   "execution_count": 192,
   "metadata": {
    "ExecuteTime": {
     "end_time": "2020-07-10T21:08:34.841331Z",
     "start_time": "2020-07-10T21:08:34.510883Z"
    }
   },
   "outputs": [],
   "source": [
    "dfx = df.copy()\n",
    "dfx.drop_duplicates(['KPACIENTE'], keep='first', inplace=True)"
   ]
  },
  {
   "cell_type": "code",
   "execution_count": 193,
   "metadata": {
    "ExecuteTime": {
     "end_time": "2020-07-10T21:08:34.932572Z",
     "start_time": "2020-07-10T21:08:34.844195Z"
    }
   },
   "outputs": [],
   "source": [
    "dfx = df.loc[:, ['Week', 'STIPORESULTADO', 'ORDEN']].groupby(['Week', 'STIPORESULTADO']).count().unstack()\n",
    "\n",
    "dfx = dfx.droplevel('STIPORESULTADO', axis=1)\n",
    "\n",
    "dfx.columns = ['Alto', 'Normal']"
   ]
  },
  {
   "cell_type": "code",
   "execution_count": 194,
   "metadata": {
    "ExecuteTime": {
     "end_time": "2020-07-10T21:08:34.972763Z",
     "start_time": "2020-07-10T21:08:34.935339Z"
    }
   },
   "outputs": [
    {
     "data": {
      "text/html": [
       "<div>\n",
       "<style scoped>\n",
       "    .dataframe tbody tr th:only-of-type {\n",
       "        vertical-align: middle;\n",
       "    }\n",
       "\n",
       "    .dataframe tbody tr th {\n",
       "        vertical-align: top;\n",
       "    }\n",
       "\n",
       "    .dataframe thead th {\n",
       "        text-align: right;\n",
       "    }\n",
       "</style>\n",
       "<table border=\"1\" class=\"dataframe\">\n",
       "  <thead>\n",
       "    <tr style=\"text-align: right;\">\n",
       "      <th></th>\n",
       "      <th>Alto</th>\n",
       "      <th>Normal</th>\n",
       "    </tr>\n",
       "    <tr>\n",
       "      <th>Week</th>\n",
       "      <th></th>\n",
       "      <th></th>\n",
       "    </tr>\n",
       "  </thead>\n",
       "  <tbody>\n",
       "    <tr>\n",
       "      <th>1</th>\n",
       "      <td>140</td>\n",
       "      <td>110</td>\n",
       "    </tr>\n",
       "    <tr>\n",
       "      <th>2</th>\n",
       "      <td>162</td>\n",
       "      <td>117</td>\n",
       "    </tr>\n",
       "    <tr>\n",
       "      <th>3</th>\n",
       "      <td>162</td>\n",
       "      <td>125</td>\n",
       "    </tr>\n",
       "    <tr>\n",
       "      <th>4</th>\n",
       "      <td>138</td>\n",
       "      <td>116</td>\n",
       "    </tr>\n",
       "    <tr>\n",
       "      <th>5</th>\n",
       "      <td>146</td>\n",
       "      <td>108</td>\n",
       "    </tr>\n",
       "    <tr>\n",
       "      <th>6</th>\n",
       "      <td>153</td>\n",
       "      <td>97</td>\n",
       "    </tr>\n",
       "    <tr>\n",
       "      <th>7</th>\n",
       "      <td>149</td>\n",
       "      <td>110</td>\n",
       "    </tr>\n",
       "    <tr>\n",
       "      <th>8</th>\n",
       "      <td>182</td>\n",
       "      <td>114</td>\n",
       "    </tr>\n",
       "    <tr>\n",
       "      <th>9</th>\n",
       "      <td>168</td>\n",
       "      <td>118</td>\n",
       "    </tr>\n",
       "    <tr>\n",
       "      <th>10</th>\n",
       "      <td>167</td>\n",
       "      <td>99</td>\n",
       "    </tr>\n",
       "    <tr>\n",
       "      <th>11</th>\n",
       "      <td>154</td>\n",
       "      <td>119</td>\n",
       "    </tr>\n",
       "    <tr>\n",
       "      <th>12</th>\n",
       "      <td>136</td>\n",
       "      <td>92</td>\n",
       "    </tr>\n",
       "    <tr>\n",
       "      <th>13</th>\n",
       "      <td>124</td>\n",
       "      <td>100</td>\n",
       "    </tr>\n",
       "  </tbody>\n",
       "</table>\n",
       "</div>"
      ],
      "text/plain": [
       "      Alto  Normal\n",
       "Week              \n",
       "1      140     110\n",
       "2      162     117\n",
       "3      162     125\n",
       "4      138     116\n",
       "5      146     108\n",
       "6      153      97\n",
       "7      149     110\n",
       "8      182     114\n",
       "9      168     118\n",
       "10     167      99\n",
       "11     154     119\n",
       "12     136      92\n",
       "13     124     100"
      ]
     },
     "execution_count": 194,
     "metadata": {},
     "output_type": "execute_result"
    }
   ],
   "source": [
    "dfx"
   ]
  },
  {
   "cell_type": "markdown",
   "metadata": {},
   "source": [
    "#### Result"
   ]
  },
  {
   "cell_type": "code",
   "execution_count": 195,
   "metadata": {
    "ExecuteTime": {
     "end_time": "2020-07-10T21:08:35.420620Z",
     "start_time": "2020-07-10T21:08:34.974962Z"
    },
    "scrolled": true
   },
   "outputs": [
    {
     "data": {
      "text/plain": [
       "<matplotlib.axes._subplots.AxesSubplot at 0x139c619d0>"
      ]
     },
     "execution_count": 195,
     "metadata": {},
     "output_type": "execute_result"
    },
    {
     "data": {
      "image/png": "[encoded data removed]",
      "text/plain": [
       "<Figure size 432x288 with 1 Axes>"
      ]
     },
     "metadata": {
      "needs_background": "light"
     },
     "output_type": "display_data"
    }
   ],
   "source": [
    "dfx.plot(kind='bar', \n",
    "         stacked=True, \n",
    "         title='Numero de pruebas por tipo de resultado'\n",
    "        )"
   ]
  },
  {
   "cell_type": "code",
   "execution_count": 198,
   "metadata": {
    "ExecuteTime": {
     "end_time": "2020-07-10T21:09:51.303070Z",
     "start_time": "2020-07-10T21:09:51.275158Z"
    }
   },
   "outputs": [],
   "source": [
    "dfx['Part_alto'] = dfx.apply(lambda x: x['Alto']/(x['Alto'] + x['Normal']), axis=1)"
   ]
  },
  {
   "cell_type": "code",
   "execution_count": 200,
   "metadata": {
    "ExecuteTime": {
     "end_time": "2020-07-10T21:10:12.809571Z",
     "start_time": "2020-07-10T21:10:12.780172Z"
    }
   },
   "outputs": [
    {
     "data": {
      "text/plain": [
       "0.5811359326929046"
      ]
     },
     "execution_count": 200,
     "metadata": {},
     "output_type": "execute_result"
    }
   ],
   "source": [
    "mean(list(dfx['Part_alto']))"
   ]
  },
  {
   "cell_type": "markdown",
   "metadata": {
    "heading_collapsed": true
   },
   "source": [
    "### 2) How is age distributed among patients with a study result labeled as 'high'?"
   ]
  },
  {
   "cell_type": "markdown",
   "metadata": {
    "heading_collapsed": true,
    "hidden": true
   },
   "source": [
    "#### Procedure"
   ]
  },
  {
   "cell_type": "code",
   "execution_count": 137,
   "metadata": {
    "ExecuteTime": {
     "end_time": "2020-07-10T02:22:47.821202Z",
     "start_time": "2020-07-10T02:22:47.797380Z"
    },
    "hidden": true
   },
   "outputs": [],
   "source": [
    "dfx = df.copy()\n",
    "dfx.drop_duplicates(['KPACIENTE'], keep='first', inplace=True)"
   ]
  },
  {
   "cell_type": "code",
   "execution_count": 138,
   "metadata": {
    "ExecuteTime": {
     "end_time": "2020-07-10T02:22:48.305349Z",
     "start_time": "2020-07-10T02:22:48.262118Z"
    },
    "hidden": true
   },
   "outputs": [
    {
     "data": {
      "text/html": [
       "<div>\n",
       "<style scoped>\n",
       "    .dataframe tbody tr th:only-of-type {\n",
       "        vertical-align: middle;\n",
       "    }\n",
       "\n",
       "    .dataframe tbody tr th {\n",
       "        vertical-align: top;\n",
       "    }\n",
       "\n",
       "    .dataframe thead th {\n",
       "        text-align: right;\n",
       "    }\n",
       "</style>\n",
       "<table border=\"1\" class=\"dataframe\">\n",
       "  <thead>\n",
       "    <tr style=\"text-align: right;\">\n",
       "      <th></th>\n",
       "      <th>ORDEN</th>\n",
       "      <th>KPACIENTE</th>\n",
       "      <th>EDAD</th>\n",
       "      <th>GENERO</th>\n",
       "      <th>DLIBERACION</th>\n",
       "      <th>CEXAMEN</th>\n",
       "      <th>CCODIGOLABORATORIO</th>\n",
       "      <th>STITULOIMPRESION</th>\n",
       "      <th>RESULTADO</th>\n",
       "      <th>MEDIDA</th>\n",
       "      <th>STIPORESULTADO</th>\n",
       "      <th>Week</th>\n",
       "      <th>Month</th>\n",
       "    </tr>\n",
       "  </thead>\n",
       "  <tbody>\n",
       "    <tr>\n",
       "      <th>0</th>\n",
       "      <td>BA406221</td>\n",
       "      <td>10997326</td>\n",
       "      <td>50</td>\n",
       "      <td>F</td>\n",
       "      <td>2017-01-02 11:47:00</td>\n",
       "      <td>16,025</td>\n",
       "      <td>7333</td>\n",
       "      <td>Hemoglobina glicosilada (A1c)</td>\n",
       "      <td>5.85</td>\n",
       "      <td>%</td>\n",
       "      <td>NORMAL</td>\n",
       "      <td>1</td>\n",
       "      <td>1</td>\n",
       "    </tr>\n",
       "    <tr>\n",
       "      <th>1</th>\n",
       "      <td>BA406231</td>\n",
       "      <td>13945511</td>\n",
       "      <td>30</td>\n",
       "      <td>F</td>\n",
       "      <td>2017-01-02 11:47:00</td>\n",
       "      <td>16,025</td>\n",
       "      <td>7333</td>\n",
       "      <td>Hemoglobina glicosilada (A1c)</td>\n",
       "      <td>5.93</td>\n",
       "      <td>%</td>\n",
       "      <td>NORMAL</td>\n",
       "      <td>1</td>\n",
       "      <td>1</td>\n",
       "    </tr>\n",
       "    <tr>\n",
       "      <th>2</th>\n",
       "      <td>GH65857</td>\n",
       "      <td>1675951</td>\n",
       "      <td>63</td>\n",
       "      <td>F</td>\n",
       "      <td>2017-01-02 12:07:00</td>\n",
       "      <td>16,025</td>\n",
       "      <td>7333</td>\n",
       "      <td>Hemoglobina glicosilada (A1c)</td>\n",
       "      <td>5.63</td>\n",
       "      <td>%</td>\n",
       "      <td>NORMAL</td>\n",
       "      <td>1</td>\n",
       "      <td>1</td>\n",
       "    </tr>\n",
       "    <tr>\n",
       "      <th>3</th>\n",
       "      <td>HR2682</td>\n",
       "      <td>10542199</td>\n",
       "      <td>47</td>\n",
       "      <td>M</td>\n",
       "      <td>2017-01-02 12:17:00</td>\n",
       "      <td>16,025</td>\n",
       "      <td>7333</td>\n",
       "      <td>Hemoglobina glicosilada (A1c)</td>\n",
       "      <td>5.59</td>\n",
       "      <td>%</td>\n",
       "      <td>NORMAL</td>\n",
       "      <td>1</td>\n",
       "      <td>1</td>\n",
       "    </tr>\n",
       "    <tr>\n",
       "      <th>4</th>\n",
       "      <td>HQ53060</td>\n",
       "      <td>10430488</td>\n",
       "      <td>46</td>\n",
       "      <td>F</td>\n",
       "      <td>2017-01-02 12:17:00</td>\n",
       "      <td>16,025</td>\n",
       "      <td>7333</td>\n",
       "      <td>Hemoglobina glicosilada (A1c)</td>\n",
       "      <td>5.67</td>\n",
       "      <td>%</td>\n",
       "      <td>NORMAL</td>\n",
       "      <td>1</td>\n",
       "      <td>1</td>\n",
       "    </tr>\n",
       "    <tr>\n",
       "      <th>...</th>\n",
       "      <td>...</td>\n",
       "      <td>...</td>\n",
       "      <td>...</td>\n",
       "      <td>...</td>\n",
       "      <td>...</td>\n",
       "      <td>...</td>\n",
       "      <td>...</td>\n",
       "      <td>...</td>\n",
       "      <td>...</td>\n",
       "      <td>...</td>\n",
       "      <td>...</td>\n",
       "      <td>...</td>\n",
       "      <td>...</td>\n",
       "    </tr>\n",
       "    <tr>\n",
       "      <th>3401</th>\n",
       "      <td>BA416105</td>\n",
       "      <td>14243008</td>\n",
       "      <td>25</td>\n",
       "      <td>M</td>\n",
       "      <td>2017-03-31 18:07:00</td>\n",
       "      <td>16,025</td>\n",
       "      <td>7333</td>\n",
       "      <td>Hemoglobina glicosilada (A1c)</td>\n",
       "      <td>14.10</td>\n",
       "      <td>%</td>\n",
       "      <td>ALTO</td>\n",
       "      <td>13</td>\n",
       "      <td>3</td>\n",
       "    </tr>\n",
       "    <tr>\n",
       "      <th>3402</th>\n",
       "      <td>JS2920</td>\n",
       "      <td>11549888</td>\n",
       "      <td>39</td>\n",
       "      <td>M</td>\n",
       "      <td>2017-03-31 18:37:00</td>\n",
       "      <td>16,025</td>\n",
       "      <td>7333</td>\n",
       "      <td>Hemoglobina glicosilada (A1c)</td>\n",
       "      <td>13.90</td>\n",
       "      <td>%</td>\n",
       "      <td>ALTO</td>\n",
       "      <td>13</td>\n",
       "      <td>3</td>\n",
       "    </tr>\n",
       "    <tr>\n",
       "      <th>3403</th>\n",
       "      <td>BL34420</td>\n",
       "      <td>10579210</td>\n",
       "      <td>37</td>\n",
       "      <td>M</td>\n",
       "      <td>2017-03-31 18:37:00</td>\n",
       "      <td>16,025</td>\n",
       "      <td>7333</td>\n",
       "      <td>Hemoglobina glicosilada (A1c)</td>\n",
       "      <td>7.70</td>\n",
       "      <td>%</td>\n",
       "      <td>ALTO</td>\n",
       "      <td>13</td>\n",
       "      <td>3</td>\n",
       "    </tr>\n",
       "    <tr>\n",
       "      <th>3404</th>\n",
       "      <td>JR3555</td>\n",
       "      <td>14241435</td>\n",
       "      <td>84</td>\n",
       "      <td>M</td>\n",
       "      <td>2017-03-31 18:57:00</td>\n",
       "      <td>16,025</td>\n",
       "      <td>7333</td>\n",
       "      <td>Hemoglobina glicosilada (A1c)</td>\n",
       "      <td>6.20</td>\n",
       "      <td>%</td>\n",
       "      <td>ALTO</td>\n",
       "      <td>13</td>\n",
       "      <td>3</td>\n",
       "    </tr>\n",
       "    <tr>\n",
       "      <th>3405</th>\n",
       "      <td>IY1112</td>\n",
       "      <td>14240315</td>\n",
       "      <td>61</td>\n",
       "      <td>F</td>\n",
       "      <td>2017-03-31 19:17:00</td>\n",
       "      <td>16,025</td>\n",
       "      <td>7333</td>\n",
       "      <td>Hemoglobina glicosilada (A1c)</td>\n",
       "      <td>8.80</td>\n",
       "      <td>%</td>\n",
       "      <td>ALTO</td>\n",
       "      <td>13</td>\n",
       "      <td>3</td>\n",
       "    </tr>\n",
       "  </tbody>\n",
       "</table>\n",
       "<p>3304 rows × 13 columns</p>\n",
       "</div>"
      ],
      "text/plain": [
       "         ORDEN  KPACIENTE  EDAD GENERO         DLIBERACION CEXAMEN  \\\n",
       "0     BA406221   10997326    50      F 2017-01-02 11:47:00  16,025   \n",
       "1     BA406231   13945511    30      F 2017-01-02 11:47:00  16,025   \n",
       "2      GH65857    1675951    63      F 2017-01-02 12:07:00  16,025   \n",
       "3       HR2682   10542199    47      M 2017-01-02 12:17:00  16,025   \n",
       "4      HQ53060   10430488    46      F 2017-01-02 12:17:00  16,025   \n",
       "...        ...        ...   ...    ...                 ...     ...   \n",
       "3401  BA416105   14243008    25      M 2017-03-31 18:07:00  16,025   \n",
       "3402    JS2920   11549888    39      M 2017-03-31 18:37:00  16,025   \n",
       "3403   BL34420   10579210    37      M 2017-03-31 18:37:00  16,025   \n",
       "3404    JR3555   14241435    84      M 2017-03-31 18:57:00  16,025   \n",
       "3405    IY1112   14240315    61      F 2017-03-31 19:17:00  16,025   \n",
       "\n",
       "      CCODIGOLABORATORIO               STITULOIMPRESION  RESULTADO MEDIDA  \\\n",
       "0                   7333  Hemoglobina glicosilada (A1c)       5.85      %   \n",
       "1                   7333  Hemoglobina glicosilada (A1c)       5.93      %   \n",
       "2                   7333  Hemoglobina glicosilada (A1c)       5.63      %   \n",
       "3                   7333  Hemoglobina glicosilada (A1c)       5.59      %   \n",
       "4                   7333  Hemoglobina glicosilada (A1c)       5.67      %   \n",
       "...                  ...                            ...        ...    ...   \n",
       "3401                7333  Hemoglobina glicosilada (A1c)      14.10      %   \n",
       "3402                7333  Hemoglobina glicosilada (A1c)      13.90      %   \n",
       "3403                7333  Hemoglobina glicosilada (A1c)       7.70      %   \n",
       "3404                7333  Hemoglobina glicosilada (A1c)       6.20      %   \n",
       "3405                7333  Hemoglobina glicosilada (A1c)       8.80      %   \n",
       "\n",
       "     STIPORESULTADO  Week  Month  \n",
       "0            NORMAL     1      1  \n",
       "1            NORMAL     1      1  \n",
       "2            NORMAL     1      1  \n",
       "3            NORMAL     1      1  \n",
       "4            NORMAL     1      1  \n",
       "...             ...   ...    ...  \n",
       "3401           ALTO    13      3  \n",
       "3402           ALTO    13      3  \n",
       "3403           ALTO    13      3  \n",
       "3404           ALTO    13      3  \n",
       "3405           ALTO    13      3  \n",
       "\n",
       "[3304 rows x 13 columns]"
      ]
     },
     "execution_count": 138,
     "metadata": {},
     "output_type": "execute_result"
    }
   ],
   "source": [
    "dfx"
   ]
  },
  {
   "cell_type": "markdown",
   "metadata": {
    "heading_collapsed": true,
    "hidden": true
   },
   "source": [
    "#### Simple histogram"
   ]
  },
  {
   "cell_type": "code",
   "execution_count": 139,
   "metadata": {
    "ExecuteTime": {
     "end_time": "2020-07-10T02:22:54.263583Z",
     "start_time": "2020-07-10T02:22:54.236363Z"
    },
    "hidden": true
   },
   "outputs": [],
   "source": [
    "rc = [\n",
    "    'ORDEN',\n",
    "    'EDAD'\n",
    "]\n",
    "\n",
    "dfx = dfx.loc[:, rc]"
   ]
  },
  {
   "cell_type": "code",
   "execution_count": 140,
   "metadata": {
    "ExecuteTime": {
     "end_time": "2020-07-10T02:22:54.441189Z",
     "start_time": "2020-07-10T02:22:54.409796Z"
    },
    "hidden": true
   },
   "outputs": [
    {
     "data": {
      "text/html": [
       "<div>\n",
       "<style scoped>\n",
       "    .dataframe tbody tr th:only-of-type {\n",
       "        vertical-align: middle;\n",
       "    }\n",
       "\n",
       "    .dataframe tbody tr th {\n",
       "        vertical-align: top;\n",
       "    }\n",
       "\n",
       "    .dataframe thead th {\n",
       "        text-align: right;\n",
       "    }\n",
       "</style>\n",
       "<table border=\"1\" class=\"dataframe\">\n",
       "  <thead>\n",
       "    <tr style=\"text-align: right;\">\n",
       "      <th></th>\n",
       "      <th>ORDEN</th>\n",
       "      <th>EDAD</th>\n",
       "    </tr>\n",
       "  </thead>\n",
       "  <tbody>\n",
       "    <tr>\n",
       "      <th>0</th>\n",
       "      <td>BA406221</td>\n",
       "      <td>50</td>\n",
       "    </tr>\n",
       "    <tr>\n",
       "      <th>1</th>\n",
       "      <td>BA406231</td>\n",
       "      <td>30</td>\n",
       "    </tr>\n",
       "    <tr>\n",
       "      <th>2</th>\n",
       "      <td>GH65857</td>\n",
       "      <td>63</td>\n",
       "    </tr>\n",
       "    <tr>\n",
       "      <th>3</th>\n",
       "      <td>HR2682</td>\n",
       "      <td>47</td>\n",
       "    </tr>\n",
       "    <tr>\n",
       "      <th>4</th>\n",
       "      <td>HQ53060</td>\n",
       "      <td>46</td>\n",
       "    </tr>\n",
       "    <tr>\n",
       "      <th>...</th>\n",
       "      <td>...</td>\n",
       "      <td>...</td>\n",
       "    </tr>\n",
       "    <tr>\n",
       "      <th>3401</th>\n",
       "      <td>BA416105</td>\n",
       "      <td>25</td>\n",
       "    </tr>\n",
       "    <tr>\n",
       "      <th>3402</th>\n",
       "      <td>JS2920</td>\n",
       "      <td>39</td>\n",
       "    </tr>\n",
       "    <tr>\n",
       "      <th>3403</th>\n",
       "      <td>BL34420</td>\n",
       "      <td>37</td>\n",
       "    </tr>\n",
       "    <tr>\n",
       "      <th>3404</th>\n",
       "      <td>JR3555</td>\n",
       "      <td>84</td>\n",
       "    </tr>\n",
       "    <tr>\n",
       "      <th>3405</th>\n",
       "      <td>IY1112</td>\n",
       "      <td>61</td>\n",
       "    </tr>\n",
       "  </tbody>\n",
       "</table>\n",
       "<p>3304 rows × 2 columns</p>\n",
       "</div>"
      ],
      "text/plain": [
       "         ORDEN  EDAD\n",
       "0     BA406221    50\n",
       "1     BA406231    30\n",
       "2      GH65857    63\n",
       "3       HR2682    47\n",
       "4      HQ53060    46\n",
       "...        ...   ...\n",
       "3401  BA416105    25\n",
       "3402    JS2920    39\n",
       "3403   BL34420    37\n",
       "3404    JR3555    84\n",
       "3405    IY1112    61\n",
       "\n",
       "[3304 rows x 2 columns]"
      ]
     },
     "execution_count": 140,
     "metadata": {},
     "output_type": "execute_result"
    }
   ],
   "source": [
    "dfx"
   ]
  },
  {
   "cell_type": "markdown",
   "metadata": {
    "hidden": true
   },
   "source": [
    "#### Result"
   ]
  },
  {
   "cell_type": "code",
   "execution_count": 142,
   "metadata": {
    "ExecuteTime": {
     "end_time": "2020-07-10T02:24:20.967617Z",
     "start_time": "2020-07-10T02:24:20.667632Z"
    },
    "hidden": true
   },
   "outputs": [
    {
     "data": {
      "text/plain": [
       "<matplotlib.axes._subplots.AxesSubplot at 0x137c79cd0>"
      ]
     },
     "execution_count": 142,
     "metadata": {},
     "output_type": "execute_result"
    },
    {
     "data": {
      "image/png": "[encoded data removed]",
      "text/plain": [
       "<Figure size 432x288 with 1 Axes>"
      ]
     },
     "metadata": {
      "needs_background": "light"
     },
     "output_type": "display_data"
    }
   ],
   "source": [
    "dfx['EDAD'].plot(kind='hist', \n",
    "                 stacked=True,\n",
    "                 title='Distribución de los pacientes por edad'\n",
    "                )"
   ]
  },
  {
   "cell_type": "markdown",
   "metadata": {
    "heading_collapsed": true,
    "hidden": true
   },
   "source": [
    "#### Stacked histogram"
   ]
  },
  {
   "cell_type": "code",
   "execution_count": null,
   "metadata": {
    "ExecuteTime": {
     "end_time": "2020-07-09T17:28:29.240477Z",
     "start_time": "2020-07-09T17:28:29.234818Z"
    },
    "hidden": true
   },
   "outputs": [],
   "source": [
    "rc = [\n",
    "    'ORDEN',\n",
    "    'EDAD',\n",
    "    'STIPORESULTADO'\n",
    "]\n",
    "\n",
    "dfx = dfx.loc[:, rc]"
   ]
  },
  {
   "cell_type": "code",
   "execution_count": null,
   "metadata": {
    "ExecuteTime": {
     "end_time": "2020-07-09T17:28:50.883236Z",
     "start_time": "2020-07-09T17:28:50.865967Z"
    },
    "hidden": true
   },
   "outputs": [],
   "source": [
    "dfx = dfx.groupby(['EDAD', 'STIPORESULTADO']).count().unstack()\n",
    "dfx.fillna(0, inplace=True)\n",
    "\n",
    "dfx"
   ]
  },
  {
   "cell_type": "code",
   "execution_count": null,
   "metadata": {
    "ExecuteTime": {
     "end_time": "2020-07-09T17:31:50.294356Z",
     "start_time": "2020-07-09T17:31:48.924947Z"
    },
    "hidden": true
   },
   "outputs": [],
   "source": [
    "n_bins = 10\n",
    "\n",
    "fig, axes = plt.subplots(nrows=1, ncols=1)\n",
    "\n",
    "axes.hist(dfx, n_bins, density=True, histtype='bar', stacked=True)\n",
    "axes.set_title('stacked bar')"
   ]
  },
  {
   "cell_type": "code",
   "execution_count": null,
   "metadata": {
    "ExecuteTime": {
     "end_time": "2020-07-09T17:22:18.910798Z",
     "start_time": "2020-07-09T17:22:18.693632Z"
    },
    "hidden": true
   },
   "outputs": [],
   "source": [
    "dfx.plot(kind='hist', stacked=True)"
   ]
  },
  {
   "cell_type": "code",
   "execution_count": null,
   "metadata": {
    "ExecuteTime": {
     "end_time": "2020-07-09T15:47:25.237225Z",
     "start_time": "2020-07-09T15:47:25.213536Z"
    },
    "hidden": true
   },
   "outputs": [],
   "source": [
    "dfx['EDAD'].describe()"
   ]
  },
  {
   "cell_type": "markdown",
   "metadata": {
    "heading_collapsed": true
   },
   "source": [
    "### 3) How is gender distributed among patients with a study result labeled as 'high'?"
   ]
  },
  {
   "cell_type": "markdown",
   "metadata": {
    "hidden": true
   },
   "source": [
    "Considered not crucial"
   ]
  },
  {
   "cell_type": "markdown",
   "metadata": {
    "heading_collapsed": true
   },
   "source": [
    "### 4) How does patient's recurrence looks like within data?"
   ]
  },
  {
   "cell_type": "markdown",
   "metadata": {
    "heading_collapsed": true,
    "hidden": true
   },
   "source": [
    "#### Procedure 1 - *Counting patient's recurrence (General)*"
   ]
  },
  {
   "cell_type": "code",
   "execution_count": 143,
   "metadata": {
    "ExecuteTime": {
     "end_time": "2020-07-10T02:52:30.887975Z",
     "start_time": "2020-07-10T02:52:30.675788Z"
    },
    "hidden": true
   },
   "outputs": [],
   "source": [
    "dfx = pd.DataFrame(df['KPACIENTE'].value_counts().value_counts())\n",
    "dfx.index.name = 'Recurrence'"
   ]
  },
  {
   "cell_type": "code",
   "execution_count": 144,
   "metadata": {
    "ExecuteTime": {
     "end_time": "2020-07-10T02:52:30.941316Z",
     "start_time": "2020-07-10T02:52:30.891885Z"
    },
    "hidden": true
   },
   "outputs": [],
   "source": [
    "pats = dfx['KPACIENTE'].sum()\n",
    "\n",
    "dfx['Participación'] = dfx['KPACIENTE'].apply(lambda x: x/pats)"
   ]
  },
  {
   "cell_type": "markdown",
   "metadata": {
    "hidden": true
   },
   "source": [
    "#### Result 1 - *Counting patient's recurrence (General)*"
   ]
  },
  {
   "cell_type": "code",
   "execution_count": 145,
   "metadata": {
    "ExecuteTime": {
     "end_time": "2020-07-10T02:52:32.405023Z",
     "start_time": "2020-07-10T02:52:32.348891Z"
    },
    "hidden": true
   },
   "outputs": [
    {
     "data": {
      "text/html": [
       "<div>\n",
       "<style scoped>\n",
       "    .dataframe tbody tr th:only-of-type {\n",
       "        vertical-align: middle;\n",
       "    }\n",
       "\n",
       "    .dataframe tbody tr th {\n",
       "        vertical-align: top;\n",
       "    }\n",
       "\n",
       "    .dataframe thead th {\n",
       "        text-align: right;\n",
       "    }\n",
       "</style>\n",
       "<table border=\"1\" class=\"dataframe\">\n",
       "  <thead>\n",
       "    <tr style=\"text-align: right;\">\n",
       "      <th></th>\n",
       "      <th>KPACIENTE</th>\n",
       "      <th>Participación</th>\n",
       "    </tr>\n",
       "    <tr>\n",
       "      <th>Recurrence</th>\n",
       "      <th></th>\n",
       "      <th></th>\n",
       "    </tr>\n",
       "  </thead>\n",
       "  <tbody>\n",
       "    <tr>\n",
       "      <th>1</th>\n",
       "      <td>3208</td>\n",
       "      <td>0.970944</td>\n",
       "    </tr>\n",
       "    <tr>\n",
       "      <th>2</th>\n",
       "      <td>91</td>\n",
       "      <td>0.027542</td>\n",
       "    </tr>\n",
       "    <tr>\n",
       "      <th>3</th>\n",
       "      <td>4</td>\n",
       "      <td>0.001211</td>\n",
       "    </tr>\n",
       "    <tr>\n",
       "      <th>4</th>\n",
       "      <td>1</td>\n",
       "      <td>0.000303</td>\n",
       "    </tr>\n",
       "  </tbody>\n",
       "</table>\n",
       "</div>"
      ],
      "text/plain": [
       "            KPACIENTE  Participación\n",
       "Recurrence                          \n",
       "1                3208       0.970944\n",
       "2                  91       0.027542\n",
       "3                   4       0.001211\n",
       "4                   1       0.000303"
      ]
     },
     "execution_count": 145,
     "metadata": {},
     "output_type": "execute_result"
    }
   ],
   "source": [
    "dfx"
   ]
  },
  {
   "cell_type": "markdown",
   "metadata": {
    "heading_collapsed": true,
    "hidden": true
   },
   "source": [
    "#### Procedure 2 - *Counting patient's recurrence (Segmented)*"
   ]
  },
  {
   "cell_type": "code",
   "execution_count": 146,
   "metadata": {
    "ExecuteTime": {
     "end_time": "2020-07-10T02:52:34.078896Z",
     "start_time": "2020-07-10T02:52:34.007995Z"
    },
    "hidden": true
   },
   "outputs": [
    {
     "data": {
      "text/html": [
       "<div>\n",
       "<style scoped>\n",
       "    .dataframe tbody tr th:only-of-type {\n",
       "        vertical-align: middle;\n",
       "    }\n",
       "\n",
       "    .dataframe tbody tr th {\n",
       "        vertical-align: top;\n",
       "    }\n",
       "\n",
       "    .dataframe thead th {\n",
       "        text-align: right;\n",
       "    }\n",
       "</style>\n",
       "<table border=\"1\" class=\"dataframe\">\n",
       "  <thead>\n",
       "    <tr style=\"text-align: right;\">\n",
       "      <th></th>\n",
       "      <th>ORDEN</th>\n",
       "      <th>EDAD</th>\n",
       "      <th>GENERO</th>\n",
       "      <th>DLIBERACION</th>\n",
       "      <th>CEXAMEN</th>\n",
       "      <th>CCODIGOLABORATORIO</th>\n",
       "      <th>STITULOIMPRESION</th>\n",
       "      <th>RESULTADO</th>\n",
       "      <th>MEDIDA</th>\n",
       "      <th>STIPORESULTADO</th>\n",
       "      <th>Week</th>\n",
       "      <th>Month</th>\n",
       "    </tr>\n",
       "    <tr>\n",
       "      <th>KPACIENTE</th>\n",
       "      <th></th>\n",
       "      <th></th>\n",
       "      <th></th>\n",
       "      <th></th>\n",
       "      <th></th>\n",
       "      <th></th>\n",
       "      <th></th>\n",
       "      <th></th>\n",
       "      <th></th>\n",
       "      <th></th>\n",
       "      <th></th>\n",
       "      <th></th>\n",
       "    </tr>\n",
       "  </thead>\n",
       "  <tbody>\n",
       "    <tr>\n",
       "      <th>10997326</th>\n",
       "      <td>BA406221</td>\n",
       "      <td>50</td>\n",
       "      <td>F</td>\n",
       "      <td>2017-01-02 11:47:00</td>\n",
       "      <td>16,025</td>\n",
       "      <td>7333</td>\n",
       "      <td>Hemoglobina glicosilada (A1c)</td>\n",
       "      <td>5.85</td>\n",
       "      <td>%</td>\n",
       "      <td>NORMAL</td>\n",
       "      <td>1</td>\n",
       "      <td>1</td>\n",
       "    </tr>\n",
       "    <tr>\n",
       "      <th>13945511</th>\n",
       "      <td>BA406231</td>\n",
       "      <td>30</td>\n",
       "      <td>F</td>\n",
       "      <td>2017-01-02 11:47:00</td>\n",
       "      <td>16,025</td>\n",
       "      <td>7333</td>\n",
       "      <td>Hemoglobina glicosilada (A1c)</td>\n",
       "      <td>5.93</td>\n",
       "      <td>%</td>\n",
       "      <td>NORMAL</td>\n",
       "      <td>1</td>\n",
       "      <td>1</td>\n",
       "    </tr>\n",
       "    <tr>\n",
       "      <th>1675951</th>\n",
       "      <td>GH65857</td>\n",
       "      <td>63</td>\n",
       "      <td>F</td>\n",
       "      <td>2017-01-02 12:07:00</td>\n",
       "      <td>16,025</td>\n",
       "      <td>7333</td>\n",
       "      <td>Hemoglobina glicosilada (A1c)</td>\n",
       "      <td>5.63</td>\n",
       "      <td>%</td>\n",
       "      <td>NORMAL</td>\n",
       "      <td>1</td>\n",
       "      <td>1</td>\n",
       "    </tr>\n",
       "    <tr>\n",
       "      <th>10542199</th>\n",
       "      <td>HR2682</td>\n",
       "      <td>47</td>\n",
       "      <td>M</td>\n",
       "      <td>2017-01-02 12:17:00</td>\n",
       "      <td>16,025</td>\n",
       "      <td>7333</td>\n",
       "      <td>Hemoglobina glicosilada (A1c)</td>\n",
       "      <td>5.59</td>\n",
       "      <td>%</td>\n",
       "      <td>NORMAL</td>\n",
       "      <td>1</td>\n",
       "      <td>1</td>\n",
       "    </tr>\n",
       "    <tr>\n",
       "      <th>10430488</th>\n",
       "      <td>HQ53060</td>\n",
       "      <td>46</td>\n",
       "      <td>F</td>\n",
       "      <td>2017-01-02 12:17:00</td>\n",
       "      <td>16,025</td>\n",
       "      <td>7333</td>\n",
       "      <td>Hemoglobina glicosilada (A1c)</td>\n",
       "      <td>5.67</td>\n",
       "      <td>%</td>\n",
       "      <td>NORMAL</td>\n",
       "      <td>1</td>\n",
       "      <td>1</td>\n",
       "    </tr>\n",
       "    <tr>\n",
       "      <th>...</th>\n",
       "      <td>...</td>\n",
       "      <td>...</td>\n",
       "      <td>...</td>\n",
       "      <td>...</td>\n",
       "      <td>...</td>\n",
       "      <td>...</td>\n",
       "      <td>...</td>\n",
       "      <td>...</td>\n",
       "      <td>...</td>\n",
       "      <td>...</td>\n",
       "      <td>...</td>\n",
       "      <td>...</td>\n",
       "    </tr>\n",
       "    <tr>\n",
       "      <th>14243008</th>\n",
       "      <td>BA416105</td>\n",
       "      <td>25</td>\n",
       "      <td>M</td>\n",
       "      <td>2017-03-31 18:07:00</td>\n",
       "      <td>16,025</td>\n",
       "      <td>7333</td>\n",
       "      <td>Hemoglobina glicosilada (A1c)</td>\n",
       "      <td>14.10</td>\n",
       "      <td>%</td>\n",
       "      <td>ALTO</td>\n",
       "      <td>13</td>\n",
       "      <td>3</td>\n",
       "    </tr>\n",
       "    <tr>\n",
       "      <th>11549888</th>\n",
       "      <td>JS2920</td>\n",
       "      <td>39</td>\n",
       "      <td>M</td>\n",
       "      <td>2017-03-31 18:37:00</td>\n",
       "      <td>16,025</td>\n",
       "      <td>7333</td>\n",
       "      <td>Hemoglobina glicosilada (A1c)</td>\n",
       "      <td>13.90</td>\n",
       "      <td>%</td>\n",
       "      <td>ALTO</td>\n",
       "      <td>13</td>\n",
       "      <td>3</td>\n",
       "    </tr>\n",
       "    <tr>\n",
       "      <th>10579210</th>\n",
       "      <td>BL34420</td>\n",
       "      <td>37</td>\n",
       "      <td>M</td>\n",
       "      <td>2017-03-31 18:37:00</td>\n",
       "      <td>16,025</td>\n",
       "      <td>7333</td>\n",
       "      <td>Hemoglobina glicosilada (A1c)</td>\n",
       "      <td>7.70</td>\n",
       "      <td>%</td>\n",
       "      <td>ALTO</td>\n",
       "      <td>13</td>\n",
       "      <td>3</td>\n",
       "    </tr>\n",
       "    <tr>\n",
       "      <th>14241435</th>\n",
       "      <td>JR3555</td>\n",
       "      <td>84</td>\n",
       "      <td>M</td>\n",
       "      <td>2017-03-31 18:57:00</td>\n",
       "      <td>16,025</td>\n",
       "      <td>7333</td>\n",
       "      <td>Hemoglobina glicosilada (A1c)</td>\n",
       "      <td>6.20</td>\n",
       "      <td>%</td>\n",
       "      <td>ALTO</td>\n",
       "      <td>13</td>\n",
       "      <td>3</td>\n",
       "    </tr>\n",
       "    <tr>\n",
       "      <th>14240315</th>\n",
       "      <td>IY1112</td>\n",
       "      <td>61</td>\n",
       "      <td>F</td>\n",
       "      <td>2017-03-31 19:17:00</td>\n",
       "      <td>16,025</td>\n",
       "      <td>7333</td>\n",
       "      <td>Hemoglobina glicosilada (A1c)</td>\n",
       "      <td>8.80</td>\n",
       "      <td>%</td>\n",
       "      <td>ALTO</td>\n",
       "      <td>13</td>\n",
       "      <td>3</td>\n",
       "    </tr>\n",
       "  </tbody>\n",
       "</table>\n",
       "<p>3406 rows × 12 columns</p>\n",
       "</div>"
      ],
      "text/plain": [
       "              ORDEN  EDAD GENERO         DLIBERACION CEXAMEN  \\\n",
       "KPACIENTE                                                      \n",
       "10997326   BA406221    50      F 2017-01-02 11:47:00  16,025   \n",
       "13945511   BA406231    30      F 2017-01-02 11:47:00  16,025   \n",
       "1675951     GH65857    63      F 2017-01-02 12:07:00  16,025   \n",
       "10542199     HR2682    47      M 2017-01-02 12:17:00  16,025   \n",
       "10430488    HQ53060    46      F 2017-01-02 12:17:00  16,025   \n",
       "...             ...   ...    ...                 ...     ...   \n",
       "14243008   BA416105    25      M 2017-03-31 18:07:00  16,025   \n",
       "11549888     JS2920    39      M 2017-03-31 18:37:00  16,025   \n",
       "10579210    BL34420    37      M 2017-03-31 18:37:00  16,025   \n",
       "14241435     JR3555    84      M 2017-03-31 18:57:00  16,025   \n",
       "14240315     IY1112    61      F 2017-03-31 19:17:00  16,025   \n",
       "\n",
       "           CCODIGOLABORATORIO               STITULOIMPRESION  RESULTADO  \\\n",
       "KPACIENTE                                                                 \n",
       "10997326                 7333  Hemoglobina glicosilada (A1c)       5.85   \n",
       "13945511                 7333  Hemoglobina glicosilada (A1c)       5.93   \n",
       "1675951                  7333  Hemoglobina glicosilada (A1c)       5.63   \n",
       "10542199                 7333  Hemoglobina glicosilada (A1c)       5.59   \n",
       "10430488                 7333  Hemoglobina glicosilada (A1c)       5.67   \n",
       "...                       ...                            ...        ...   \n",
       "14243008                 7333  Hemoglobina glicosilada (A1c)      14.10   \n",
       "11549888                 7333  Hemoglobina glicosilada (A1c)      13.90   \n",
       "10579210                 7333  Hemoglobina glicosilada (A1c)       7.70   \n",
       "14241435                 7333  Hemoglobina glicosilada (A1c)       6.20   \n",
       "14240315                 7333  Hemoglobina glicosilada (A1c)       8.80   \n",
       "\n",
       "          MEDIDA STIPORESULTADO  Week  Month  \n",
       "KPACIENTE                                     \n",
       "10997326       %         NORMAL     1      1  \n",
       "13945511       %         NORMAL     1      1  \n",
       "1675951        %         NORMAL     1      1  \n",
       "10542199       %         NORMAL     1      1  \n",
       "10430488       %         NORMAL     1      1  \n",
       "...          ...            ...   ...    ...  \n",
       "14243008       %           ALTO    13      3  \n",
       "11549888       %           ALTO    13      3  \n",
       "10579210       %           ALTO    13      3  \n",
       "14241435       %           ALTO    13      3  \n",
       "14240315       %           ALTO    13      3  \n",
       "\n",
       "[3406 rows x 12 columns]"
      ]
     },
     "execution_count": 146,
     "metadata": {},
     "output_type": "execute_result"
    }
   ],
   "source": [
    "dfxy = df.copy()\n",
    "dfxy.set_index('KPACIENTE', drop=True, inplace=True)\n",
    "dfxy"
   ]
  },
  {
   "cell_type": "code",
   "execution_count": 147,
   "metadata": {
    "ExecuteTime": {
     "end_time": "2020-07-10T02:52:34.303530Z",
     "start_time": "2020-07-10T02:52:34.261496Z"
    },
    "hidden": true,
    "scrolled": false
   },
   "outputs": [
    {
     "data": {
      "text/html": [
       "<div>\n",
       "<style scoped>\n",
       "    .dataframe tbody tr th:only-of-type {\n",
       "        vertical-align: middle;\n",
       "    }\n",
       "\n",
       "    .dataframe tbody tr th {\n",
       "        vertical-align: top;\n",
       "    }\n",
       "\n",
       "    .dataframe thead th {\n",
       "        text-align: right;\n",
       "    }\n",
       "</style>\n",
       "<table border=\"1\" class=\"dataframe\">\n",
       "  <thead>\n",
       "    <tr style=\"text-align: right;\">\n",
       "      <th></th>\n",
       "      <th>Recurrence_ct</th>\n",
       "    </tr>\n",
       "  </thead>\n",
       "  <tbody>\n",
       "    <tr>\n",
       "      <th>2230054</th>\n",
       "      <td>4</td>\n",
       "    </tr>\n",
       "    <tr>\n",
       "      <th>13017357</th>\n",
       "      <td>3</td>\n",
       "    </tr>\n",
       "    <tr>\n",
       "      <th>2270751</th>\n",
       "      <td>3</td>\n",
       "    </tr>\n",
       "    <tr>\n",
       "      <th>12850796</th>\n",
       "      <td>3</td>\n",
       "    </tr>\n",
       "    <tr>\n",
       "      <th>3877002</th>\n",
       "      <td>3</td>\n",
       "    </tr>\n",
       "    <tr>\n",
       "      <th>...</th>\n",
       "      <td>...</td>\n",
       "    </tr>\n",
       "    <tr>\n",
       "      <th>14161296</th>\n",
       "      <td>1</td>\n",
       "    </tr>\n",
       "    <tr>\n",
       "      <th>14073229</th>\n",
       "      <td>1</td>\n",
       "    </tr>\n",
       "    <tr>\n",
       "      <th>14230417</th>\n",
       "      <td>1</td>\n",
       "    </tr>\n",
       "    <tr>\n",
       "      <th>2770314</th>\n",
       "      <td>1</td>\n",
       "    </tr>\n",
       "    <tr>\n",
       "      <th>11190310</th>\n",
       "      <td>1</td>\n",
       "    </tr>\n",
       "  </tbody>\n",
       "</table>\n",
       "<p>3304 rows × 1 columns</p>\n",
       "</div>"
      ],
      "text/plain": [
       "          Recurrence_ct\n",
       "2230054               4\n",
       "13017357              3\n",
       "2270751               3\n",
       "12850796              3\n",
       "3877002               3\n",
       "...                 ...\n",
       "14161296              1\n",
       "14073229              1\n",
       "14230417              1\n",
       "2770314               1\n",
       "11190310              1\n",
       "\n",
       "[3304 rows x 1 columns]"
      ]
     },
     "execution_count": 147,
     "metadata": {},
     "output_type": "execute_result"
    }
   ],
   "source": [
    "recurring_pats = pd.DataFrame(df['KPACIENTE'].value_counts())\n",
    "recurring_pats.rename(columns={'KPACIENTE': 'Recurrence_ct'}, inplace=True)\n",
    "recurring_pats"
   ]
  },
  {
   "cell_type": "code",
   "execution_count": 148,
   "metadata": {
    "ExecuteTime": {
     "end_time": "2020-07-10T02:52:34.936700Z",
     "start_time": "2020-07-10T02:52:34.878487Z"
    },
    "hidden": true
   },
   "outputs": [],
   "source": [
    "dfxy = dfxy.join(recurring_pats)"
   ]
  },
  {
   "cell_type": "code",
   "execution_count": 149,
   "metadata": {
    "ExecuteTime": {
     "end_time": "2020-07-10T02:52:35.373141Z",
     "start_time": "2020-07-10T02:52:35.346177Z"
    },
    "hidden": true
   },
   "outputs": [],
   "source": [
    "dfxy['First_diagnostic'] = 'Not_assigned'"
   ]
  },
  {
   "cell_type": "code",
   "execution_count": 150,
   "metadata": {
    "ExecuteTime": {
     "end_time": "2020-07-10T02:52:35.638370Z",
     "start_time": "2020-07-10T02:52:35.606040Z"
    },
    "hidden": true,
    "scrolled": true
   },
   "outputs": [],
   "source": [
    "m1 = recurring_pats['Recurrence_ct'] > 1\n",
    "\n",
    "recurring_pats_plus_1 = list(recurring_pats.loc[m1, :].index.unique())"
   ]
  },
  {
   "cell_type": "code",
   "execution_count": 151,
   "metadata": {
    "ExecuteTime": {
     "end_time": "2020-07-10T02:52:36.024606Z",
     "start_time": "2020-07-10T02:52:35.992123Z"
    },
    "hidden": true,
    "scrolled": true
   },
   "outputs": [],
   "source": [
    "def assigning_first_diagnostic(rec_pat_p1):\n",
    "\n",
    "    rc = [\n",
    "        'DLIBERACION',\n",
    "        'Recurrence_ct',\n",
    "        'STIPORESULTADO',\n",
    "        'First_diagnostic'\n",
    "    ]\n",
    "\n",
    "\n",
    "    ## Filtering for a specific patient\n",
    "    m1 = (dfxy.index == rec_pat_p1) \n",
    "\n",
    "\n",
    "    ## Determining the first diagnosis provided to the client\n",
    "    m2 = dfxy['DLIBERACION'] == min(dfxy.loc[m1, 'DLIBERACION'])\n",
    "    first_diagnostic = list(dfxy.loc[(m1 & m2), 'STIPORESULTADO'])[0]\n",
    "    first_diagnostic\n",
    "\n",
    "\n",
    "    ## Assigning the first diagnostic value obtained to all the client's visits\n",
    "    dfxy.loc[m1, 'First_diagnostic'] = first_diagnostic"
   ]
  },
  {
   "cell_type": "code",
   "execution_count": 152,
   "metadata": {
    "ExecuteTime": {
     "end_time": "2020-07-10T02:52:36.584480Z",
     "start_time": "2020-07-10T02:52:36.425436Z"
    },
    "hidden": true
   },
   "outputs": [],
   "source": [
    "## Assigning first diagnostic for patients with more than one visit\n",
    "for rec_pat_p1 in recurring_pats_plus_1:\n",
    "    assigning_first_diagnostic(rec_pat_p1)"
   ]
  },
  {
   "cell_type": "code",
   "execution_count": 153,
   "metadata": {
    "ExecuteTime": {
     "end_time": "2020-07-10T02:52:36.905786Z",
     "start_time": "2020-07-10T02:52:36.873013Z"
    },
    "hidden": true
   },
   "outputs": [],
   "source": [
    "## Assigning diagnostic for patients with one visit\n",
    "m1 = dfxy['Recurrence_ct'] == 1\n",
    "dfxy.loc[m1, 'First_diagnostic'] = dfxy.loc[m1, 'STIPORESULTADO']"
   ]
  },
  {
   "cell_type": "code",
   "execution_count": 154,
   "metadata": {
    "ExecuteTime": {
     "end_time": "2020-07-10T02:52:37.405767Z",
     "start_time": "2020-07-10T02:52:37.355059Z"
    },
    "hidden": true
   },
   "outputs": [
    {
     "data": {
      "text/html": [
       "<div>\n",
       "<style scoped>\n",
       "    .dataframe tbody tr th:only-of-type {\n",
       "        vertical-align: middle;\n",
       "    }\n",
       "\n",
       "    .dataframe tbody tr th {\n",
       "        vertical-align: top;\n",
       "    }\n",
       "\n",
       "    .dataframe thead th {\n",
       "        text-align: right;\n",
       "    }\n",
       "</style>\n",
       "<table border=\"1\" class=\"dataframe\">\n",
       "  <thead>\n",
       "    <tr style=\"text-align: right;\">\n",
       "      <th></th>\n",
       "      <th>ORDEN</th>\n",
       "      <th>EDAD</th>\n",
       "      <th>GENERO</th>\n",
       "      <th>DLIBERACION</th>\n",
       "      <th>CEXAMEN</th>\n",
       "      <th>CCODIGOLABORATORIO</th>\n",
       "      <th>STITULOIMPRESION</th>\n",
       "      <th>RESULTADO</th>\n",
       "      <th>MEDIDA</th>\n",
       "      <th>STIPORESULTADO</th>\n",
       "      <th>Week</th>\n",
       "      <th>Month</th>\n",
       "      <th>Recurrence_ct</th>\n",
       "      <th>First_diagnostic</th>\n",
       "    </tr>\n",
       "  </thead>\n",
       "  <tbody>\n",
       "    <tr>\n",
       "      <th>47338</th>\n",
       "      <td>GH70370</td>\n",
       "      <td>65</td>\n",
       "      <td>F</td>\n",
       "      <td>2017-03-12 14:17:00</td>\n",
       "      <td>16,025</td>\n",
       "      <td>7333</td>\n",
       "      <td>Hemoglobina glicosilada (A1c)</td>\n",
       "      <td>7.90</td>\n",
       "      <td>%</td>\n",
       "      <td>ALTO</td>\n",
       "      <td>10</td>\n",
       "      <td>3</td>\n",
       "      <td>1</td>\n",
       "      <td>ALTO</td>\n",
       "    </tr>\n",
       "    <tr>\n",
       "      <th>110721</th>\n",
       "      <td>BA415904</td>\n",
       "      <td>48</td>\n",
       "      <td>M</td>\n",
       "      <td>2017-03-30 12:57:00</td>\n",
       "      <td>16,025</td>\n",
       "      <td>7333</td>\n",
       "      <td>Hemoglobina glicosilada (A1c)</td>\n",
       "      <td>5.77</td>\n",
       "      <td>%</td>\n",
       "      <td>NORMAL</td>\n",
       "      <td>13</td>\n",
       "      <td>3</td>\n",
       "      <td>1</td>\n",
       "      <td>NORMAL</td>\n",
       "    </tr>\n",
       "    <tr>\n",
       "      <th>132414</th>\n",
       "      <td>BA413855</td>\n",
       "      <td>63</td>\n",
       "      <td>M</td>\n",
       "      <td>2017-03-11 11:37:00</td>\n",
       "      <td>16,025</td>\n",
       "      <td>7333</td>\n",
       "      <td>Hemoglobina glicosilada (A1c)</td>\n",
       "      <td>5.37</td>\n",
       "      <td>%</td>\n",
       "      <td>NORMAL</td>\n",
       "      <td>10</td>\n",
       "      <td>3</td>\n",
       "      <td>1</td>\n",
       "      <td>NORMAL</td>\n",
       "    </tr>\n",
       "    <tr>\n",
       "      <th>197856</th>\n",
       "      <td>BK72722</td>\n",
       "      <td>29</td>\n",
       "      <td>F</td>\n",
       "      <td>2017-03-14 17:37:00</td>\n",
       "      <td>16,025</td>\n",
       "      <td>7333</td>\n",
       "      <td>Hemoglobina glicosilada (A1c)</td>\n",
       "      <td>5.65</td>\n",
       "      <td>%</td>\n",
       "      <td>NORMAL</td>\n",
       "      <td>11</td>\n",
       "      <td>3</td>\n",
       "      <td>1</td>\n",
       "      <td>NORMAL</td>\n",
       "    </tr>\n",
       "    <tr>\n",
       "      <th>237414</th>\n",
       "      <td>BA414336</td>\n",
       "      <td>68</td>\n",
       "      <td>M</td>\n",
       "      <td>2017-03-15 16:27:00</td>\n",
       "      <td>16,025</td>\n",
       "      <td>7333</td>\n",
       "      <td>Hemoglobina glicosilada (A1c)</td>\n",
       "      <td>6.70</td>\n",
       "      <td>%</td>\n",
       "      <td>ALTO</td>\n",
       "      <td>11</td>\n",
       "      <td>3</td>\n",
       "      <td>1</td>\n",
       "      <td>ALTO</td>\n",
       "    </tr>\n",
       "    <tr>\n",
       "      <th>...</th>\n",
       "      <td>...</td>\n",
       "      <td>...</td>\n",
       "      <td>...</td>\n",
       "      <td>...</td>\n",
       "      <td>...</td>\n",
       "      <td>...</td>\n",
       "      <td>...</td>\n",
       "      <td>...</td>\n",
       "      <td>...</td>\n",
       "      <td>...</td>\n",
       "      <td>...</td>\n",
       "      <td>...</td>\n",
       "      <td>...</td>\n",
       "      <td>...</td>\n",
       "    </tr>\n",
       "    <tr>\n",
       "      <th>14241421</th>\n",
       "      <td>BA416072</td>\n",
       "      <td>58</td>\n",
       "      <td>F</td>\n",
       "      <td>2017-03-31 14:37:00</td>\n",
       "      <td>16,025</td>\n",
       "      <td>7333</td>\n",
       "      <td>Hemoglobina glicosilada (A1c)</td>\n",
       "      <td>6.30</td>\n",
       "      <td>%</td>\n",
       "      <td>ALTO</td>\n",
       "      <td>13</td>\n",
       "      <td>3</td>\n",
       "      <td>1</td>\n",
       "      <td>ALTO</td>\n",
       "    </tr>\n",
       "    <tr>\n",
       "      <th>14241435</th>\n",
       "      <td>JR3555</td>\n",
       "      <td>84</td>\n",
       "      <td>M</td>\n",
       "      <td>2017-03-31 18:57:00</td>\n",
       "      <td>16,025</td>\n",
       "      <td>7333</td>\n",
       "      <td>Hemoglobina glicosilada (A1c)</td>\n",
       "      <td>6.20</td>\n",
       "      <td>%</td>\n",
       "      <td>ALTO</td>\n",
       "      <td>13</td>\n",
       "      <td>3</td>\n",
       "      <td>1</td>\n",
       "      <td>ALTO</td>\n",
       "    </tr>\n",
       "    <tr>\n",
       "      <th>14242155</th>\n",
       "      <td>GH71577</td>\n",
       "      <td>59</td>\n",
       "      <td>F</td>\n",
       "      <td>2017-03-31 14:37:00</td>\n",
       "      <td>16,025</td>\n",
       "      <td>7333</td>\n",
       "      <td>Hemoglobina glicosilada (A1c)</td>\n",
       "      <td>5.77</td>\n",
       "      <td>%</td>\n",
       "      <td>NORMAL</td>\n",
       "      <td>13</td>\n",
       "      <td>3</td>\n",
       "      <td>1</td>\n",
       "      <td>NORMAL</td>\n",
       "    </tr>\n",
       "    <tr>\n",
       "      <th>14242180</th>\n",
       "      <td>GH71578</td>\n",
       "      <td>57</td>\n",
       "      <td>F</td>\n",
       "      <td>2017-03-31 18:07:00</td>\n",
       "      <td>16,025</td>\n",
       "      <td>7333</td>\n",
       "      <td>Hemoglobina glicosilada (A1c)</td>\n",
       "      <td>6.30</td>\n",
       "      <td>%</td>\n",
       "      <td>ALTO</td>\n",
       "      <td>13</td>\n",
       "      <td>3</td>\n",
       "      <td>1</td>\n",
       "      <td>ALTO</td>\n",
       "    </tr>\n",
       "    <tr>\n",
       "      <th>14243008</th>\n",
       "      <td>BA416105</td>\n",
       "      <td>25</td>\n",
       "      <td>M</td>\n",
       "      <td>2017-03-31 18:07:00</td>\n",
       "      <td>16,025</td>\n",
       "      <td>7333</td>\n",
       "      <td>Hemoglobina glicosilada (A1c)</td>\n",
       "      <td>14.10</td>\n",
       "      <td>%</td>\n",
       "      <td>ALTO</td>\n",
       "      <td>13</td>\n",
       "      <td>3</td>\n",
       "      <td>1</td>\n",
       "      <td>ALTO</td>\n",
       "    </tr>\n",
       "  </tbody>\n",
       "</table>\n",
       "<p>3406 rows × 14 columns</p>\n",
       "</div>"
      ],
      "text/plain": [
       "             ORDEN  EDAD GENERO         DLIBERACION CEXAMEN  \\\n",
       "47338      GH70370    65      F 2017-03-12 14:17:00  16,025   \n",
       "110721    BA415904    48      M 2017-03-30 12:57:00  16,025   \n",
       "132414    BA413855    63      M 2017-03-11 11:37:00  16,025   \n",
       "197856     BK72722    29      F 2017-03-14 17:37:00  16,025   \n",
       "237414    BA414336    68      M 2017-03-15 16:27:00  16,025   \n",
       "...            ...   ...    ...                 ...     ...   \n",
       "14241421  BA416072    58      F 2017-03-31 14:37:00  16,025   \n",
       "14241435    JR3555    84      M 2017-03-31 18:57:00  16,025   \n",
       "14242155   GH71577    59      F 2017-03-31 14:37:00  16,025   \n",
       "14242180   GH71578    57      F 2017-03-31 18:07:00  16,025   \n",
       "14243008  BA416105    25      M 2017-03-31 18:07:00  16,025   \n",
       "\n",
       "          CCODIGOLABORATORIO               STITULOIMPRESION  RESULTADO MEDIDA  \\\n",
       "47338                   7333  Hemoglobina glicosilada (A1c)       7.90      %   \n",
       "110721                  7333  Hemoglobina glicosilada (A1c)       5.77      %   \n",
       "132414                  7333  Hemoglobina glicosilada (A1c)       5.37      %   \n",
       "197856                  7333  Hemoglobina glicosilada (A1c)       5.65      %   \n",
       "237414                  7333  Hemoglobina glicosilada (A1c)       6.70      %   \n",
       "...                      ...                            ...        ...    ...   \n",
       "14241421                7333  Hemoglobina glicosilada (A1c)       6.30      %   \n",
       "14241435                7333  Hemoglobina glicosilada (A1c)       6.20      %   \n",
       "14242155                7333  Hemoglobina glicosilada (A1c)       5.77      %   \n",
       "14242180                7333  Hemoglobina glicosilada (A1c)       6.30      %   \n",
       "14243008                7333  Hemoglobina glicosilada (A1c)      14.10      %   \n",
       "\n",
       "         STIPORESULTADO  Week  Month  Recurrence_ct First_diagnostic  \n",
       "47338              ALTO    10      3              1             ALTO  \n",
       "110721           NORMAL    13      3              1           NORMAL  \n",
       "132414           NORMAL    10      3              1           NORMAL  \n",
       "197856           NORMAL    11      3              1           NORMAL  \n",
       "237414             ALTO    11      3              1             ALTO  \n",
       "...                 ...   ...    ...            ...              ...  \n",
       "14241421           ALTO    13      3              1             ALTO  \n",
       "14241435           ALTO    13      3              1             ALTO  \n",
       "14242155         NORMAL    13      3              1           NORMAL  \n",
       "14242180           ALTO    13      3              1             ALTO  \n",
       "14243008           ALTO    13      3              1             ALTO  \n",
       "\n",
       "[3406 rows x 14 columns]"
      ]
     },
     "execution_count": 154,
     "metadata": {},
     "output_type": "execute_result"
    }
   ],
   "source": [
    "dfxy"
   ]
  },
  {
   "cell_type": "code",
   "execution_count": 158,
   "metadata": {
    "ExecuteTime": {
     "end_time": "2020-07-10T02:53:24.400504Z",
     "start_time": "2020-07-10T02:53:24.370000Z"
    },
    "hidden": true
   },
   "outputs": [],
   "source": [
    "dfxy['CodClte'] = dfxy.index"
   ]
  },
  {
   "cell_type": "code",
   "execution_count": 159,
   "metadata": {
    "ExecuteTime": {
     "end_time": "2020-07-10T02:53:26.590390Z",
     "start_time": "2020-07-10T02:53:26.547099Z"
    },
    "hidden": true,
    "scrolled": true
   },
   "outputs": [
    {
     "data": {
      "text/html": [
       "<div>\n",
       "<style scoped>\n",
       "    .dataframe tbody tr th:only-of-type {\n",
       "        vertical-align: middle;\n",
       "    }\n",
       "\n",
       "    .dataframe tbody tr th {\n",
       "        vertical-align: top;\n",
       "    }\n",
       "\n",
       "    .dataframe thead th {\n",
       "        text-align: right;\n",
       "    }\n",
       "</style>\n",
       "<table border=\"1\" class=\"dataframe\">\n",
       "  <thead>\n",
       "    <tr style=\"text-align: right;\">\n",
       "      <th></th>\n",
       "      <th>Recurrence_ct</th>\n",
       "      <th>First_diagnostic</th>\n",
       "      <th>CodClte</th>\n",
       "    </tr>\n",
       "  </thead>\n",
       "  <tbody>\n",
       "    <tr>\n",
       "      <th>47338</th>\n",
       "      <td>1</td>\n",
       "      <td>ALTO</td>\n",
       "      <td>47338</td>\n",
       "    </tr>\n",
       "    <tr>\n",
       "      <th>110721</th>\n",
       "      <td>1</td>\n",
       "      <td>NORMAL</td>\n",
       "      <td>110721</td>\n",
       "    </tr>\n",
       "    <tr>\n",
       "      <th>132414</th>\n",
       "      <td>1</td>\n",
       "      <td>NORMAL</td>\n",
       "      <td>132414</td>\n",
       "    </tr>\n",
       "    <tr>\n",
       "      <th>197856</th>\n",
       "      <td>1</td>\n",
       "      <td>NORMAL</td>\n",
       "      <td>197856</td>\n",
       "    </tr>\n",
       "    <tr>\n",
       "      <th>237414</th>\n",
       "      <td>1</td>\n",
       "      <td>ALTO</td>\n",
       "      <td>237414</td>\n",
       "    </tr>\n",
       "    <tr>\n",
       "      <th>...</th>\n",
       "      <td>...</td>\n",
       "      <td>...</td>\n",
       "      <td>...</td>\n",
       "    </tr>\n",
       "    <tr>\n",
       "      <th>14241421</th>\n",
       "      <td>1</td>\n",
       "      <td>ALTO</td>\n",
       "      <td>14241421</td>\n",
       "    </tr>\n",
       "    <tr>\n",
       "      <th>14241435</th>\n",
       "      <td>1</td>\n",
       "      <td>ALTO</td>\n",
       "      <td>14241435</td>\n",
       "    </tr>\n",
       "    <tr>\n",
       "      <th>14242155</th>\n",
       "      <td>1</td>\n",
       "      <td>NORMAL</td>\n",
       "      <td>14242155</td>\n",
       "    </tr>\n",
       "    <tr>\n",
       "      <th>14242180</th>\n",
       "      <td>1</td>\n",
       "      <td>ALTO</td>\n",
       "      <td>14242180</td>\n",
       "    </tr>\n",
       "    <tr>\n",
       "      <th>14243008</th>\n",
       "      <td>1</td>\n",
       "      <td>ALTO</td>\n",
       "      <td>14243008</td>\n",
       "    </tr>\n",
       "  </tbody>\n",
       "</table>\n",
       "<p>3406 rows × 3 columns</p>\n",
       "</div>"
      ],
      "text/plain": [
       "          Recurrence_ct First_diagnostic   CodClte\n",
       "47338                 1             ALTO     47338\n",
       "110721                1           NORMAL    110721\n",
       "132414                1           NORMAL    132414\n",
       "197856                1           NORMAL    197856\n",
       "237414                1             ALTO    237414\n",
       "...                 ...              ...       ...\n",
       "14241421              1             ALTO  14241421\n",
       "14241435              1             ALTO  14241435\n",
       "14242155              1           NORMAL  14242155\n",
       "14242180              1             ALTO  14242180\n",
       "14243008              1             ALTO  14243008\n",
       "\n",
       "[3406 rows x 3 columns]"
      ]
     },
     "execution_count": 159,
     "metadata": {},
     "output_type": "execute_result"
    }
   ],
   "source": [
    "rc = [\n",
    "    'Recurrence_ct',\n",
    "    'First_diagnostic',\n",
    "    'CodClte'\n",
    "]\n",
    "\n",
    "dfxy = dfxy.loc[:, rc]\n",
    "dfxy"
   ]
  },
  {
   "cell_type": "markdown",
   "metadata": {
    "hidden": true
   },
   "source": [
    "#### Result 2 - *Counting patient's recurrence (Segmented)*"
   ]
  },
  {
   "cell_type": "code",
   "execution_count": 160,
   "metadata": {
    "ExecuteTime": {
     "end_time": "2020-07-10T02:53:28.497725Z",
     "start_time": "2020-07-10T02:53:28.439222Z"
    },
    "hidden": true
   },
   "outputs": [
    {
     "data": {
      "text/html": [
       "<div>\n",
       "<style scoped>\n",
       "    .dataframe tbody tr th:only-of-type {\n",
       "        vertical-align: middle;\n",
       "    }\n",
       "\n",
       "    .dataframe tbody tr th {\n",
       "        vertical-align: top;\n",
       "    }\n",
       "\n",
       "    .dataframe thead th {\n",
       "        text-align: right;\n",
       "    }\n",
       "</style>\n",
       "<table border=\"1\" class=\"dataframe\">\n",
       "  <thead>\n",
       "    <tr style=\"text-align: right;\">\n",
       "      <th></th>\n",
       "      <th></th>\n",
       "      <th>CodClte</th>\n",
       "    </tr>\n",
       "    <tr>\n",
       "      <th>First_diagnostic</th>\n",
       "      <th>Recurrence_ct</th>\n",
       "      <th></th>\n",
       "    </tr>\n",
       "  </thead>\n",
       "  <tbody>\n",
       "    <tr>\n",
       "      <th rowspan=\"4\" valign=\"top\">ALTO</th>\n",
       "      <th>1</th>\n",
       "      <td>1826</td>\n",
       "    </tr>\n",
       "    <tr>\n",
       "      <th>2</th>\n",
       "      <td>72</td>\n",
       "    </tr>\n",
       "    <tr>\n",
       "      <th>3</th>\n",
       "      <td>4</td>\n",
       "    </tr>\n",
       "    <tr>\n",
       "      <th>4</th>\n",
       "      <td>1</td>\n",
       "    </tr>\n",
       "    <tr>\n",
       "      <th rowspan=\"2\" valign=\"top\">NORMAL</th>\n",
       "      <th>1</th>\n",
       "      <td>1382</td>\n",
       "    </tr>\n",
       "    <tr>\n",
       "      <th>2</th>\n",
       "      <td>19</td>\n",
       "    </tr>\n",
       "  </tbody>\n",
       "</table>\n",
       "</div>"
      ],
      "text/plain": [
       "                                CodClte\n",
       "First_diagnostic Recurrence_ct         \n",
       "ALTO             1                 1826\n",
       "                 2                   72\n",
       "                 3                    4\n",
       "                 4                    1\n",
       "NORMAL           1                 1382\n",
       "                 2                   19"
      ]
     },
     "execution_count": 160,
     "metadata": {},
     "output_type": "execute_result"
    }
   ],
   "source": [
    "pd.DataFrame(dfxy.groupby(['First_diagnostic', 'Recurrence_ct'])['CodClte'].nunique())"
   ]
  },
  {
   "cell_type": "markdown",
   "metadata": {},
   "source": [
    "## Data Analysis - drug selling"
   ]
  },
  {
   "cell_type": "markdown",
   "metadata": {},
   "source": [
    "### Drug price definition"
   ]
  },
  {
   "cell_type": "markdown",
   "metadata": {
    "heading_collapsed": true
   },
   "source": [
    "#### Procedure"
   ]
  },
  {
   "cell_type": "code",
   "execution_count": 167,
   "metadata": {
    "ExecuteTime": {
     "end_time": "2020-07-10T02:56:06.499689Z",
     "start_time": "2020-07-10T02:56:06.462226Z"
    },
    "hidden": true
   },
   "outputs": [
    {
     "data": {
      "text/plain": [
       "[50, 79.0, 52.25]"
      ]
     },
     "execution_count": 167,
     "metadata": {},
     "output_type": "execute_result"
    }
   ],
   "source": [
    "drug_prices_list = [metmorfina_pricing[brand]['p1_a'] for brand in metmorfina_pricing]\n",
    "drug_prices_list"
   ]
  },
  {
   "cell_type": "markdown",
   "metadata": {},
   "source": [
    "#### Result"
   ]
  },
  {
   "cell_type": "code",
   "execution_count": 168,
   "metadata": {
    "ExecuteTime": {
     "end_time": "2020-07-10T02:56:08.229643Z",
     "start_time": "2020-07-10T02:56:08.196774Z"
    }
   },
   "outputs": [
    {
     "data": {
      "text/plain": [
       "60.416666666666664"
      ]
     },
     "execution_count": 168,
     "metadata": {},
     "output_type": "execute_result"
    }
   ],
   "source": [
    "drug_price = mean(drug_prices_list)\n",
    "drug_price"
   ]
  },
  {
   "cell_type": "markdown",
   "metadata": {},
   "source": [
    "### Calculating revenues related to the selling of the drug - monthly basis"
   ]
  },
  {
   "cell_type": "markdown",
   "metadata": {},
   "source": [
    "#### Procedure"
   ]
  },
  {
   "cell_type": "code",
   "execution_count": 186,
   "metadata": {
    "ExecuteTime": {
     "end_time": "2020-07-10T19:38:15.082297Z",
     "start_time": "2020-07-10T19:38:15.044498Z"
    }
   },
   "outputs": [],
   "source": [
    "dfx = df.copy()\n",
    "\n",
    "dfx.drop_duplicates(['KPACIENTE'], keep='first', inplace=True)\n",
    "\n",
    "rc = [\n",
    "    'Week'\n",
    "]\n",
    "\n",
    "m1 = dfx['STIPORESULTADO'] == 'ALTO'\n",
    "\n",
    "dfx = dfx.loc[m1, rc]\n",
    "\n",
    "dfx['Drug_income'] = drug_price"
   ]
  },
  {
   "cell_type": "code",
   "execution_count": 187,
   "metadata": {
    "ExecuteTime": {
     "end_time": "2020-07-10T19:38:15.895100Z",
     "start_time": "2020-07-10T19:38:15.862569Z"
    }
   },
   "outputs": [
    {
     "data": {
      "text/html": [
       "<div>\n",
       "<style scoped>\n",
       "    .dataframe tbody tr th:only-of-type {\n",
       "        vertical-align: middle;\n",
       "    }\n",
       "\n",
       "    .dataframe tbody tr th {\n",
       "        vertical-align: top;\n",
       "    }\n",
       "\n",
       "    .dataframe thead th {\n",
       "        text-align: right;\n",
       "    }\n",
       "</style>\n",
       "<table border=\"1\" class=\"dataframe\">\n",
       "  <thead>\n",
       "    <tr style=\"text-align: right;\">\n",
       "      <th></th>\n",
       "      <th>Week</th>\n",
       "      <th>Drug_income</th>\n",
       "    </tr>\n",
       "  </thead>\n",
       "  <tbody>\n",
       "    <tr>\n",
       "      <th>10</th>\n",
       "      <td>1</td>\n",
       "      <td>60.416667</td>\n",
       "    </tr>\n",
       "    <tr>\n",
       "      <th>15</th>\n",
       "      <td>1</td>\n",
       "      <td>60.416667</td>\n",
       "    </tr>\n",
       "    <tr>\n",
       "      <th>16</th>\n",
       "      <td>1</td>\n",
       "      <td>60.416667</td>\n",
       "    </tr>\n",
       "    <tr>\n",
       "      <th>17</th>\n",
       "      <td>1</td>\n",
       "      <td>60.416667</td>\n",
       "    </tr>\n",
       "    <tr>\n",
       "      <th>18</th>\n",
       "      <td>1</td>\n",
       "      <td>60.416667</td>\n",
       "    </tr>\n",
       "    <tr>\n",
       "      <th>...</th>\n",
       "      <td>...</td>\n",
       "      <td>...</td>\n",
       "    </tr>\n",
       "    <tr>\n",
       "      <th>3401</th>\n",
       "      <td>13</td>\n",
       "      <td>60.416667</td>\n",
       "    </tr>\n",
       "    <tr>\n",
       "      <th>3402</th>\n",
       "      <td>13</td>\n",
       "      <td>60.416667</td>\n",
       "    </tr>\n",
       "    <tr>\n",
       "      <th>3403</th>\n",
       "      <td>13</td>\n",
       "      <td>60.416667</td>\n",
       "    </tr>\n",
       "    <tr>\n",
       "      <th>3404</th>\n",
       "      <td>13</td>\n",
       "      <td>60.416667</td>\n",
       "    </tr>\n",
       "    <tr>\n",
       "      <th>3405</th>\n",
       "      <td>13</td>\n",
       "      <td>60.416667</td>\n",
       "    </tr>\n",
       "  </tbody>\n",
       "</table>\n",
       "<p>1903 rows × 2 columns</p>\n",
       "</div>"
      ],
      "text/plain": [
       "      Week  Drug_income\n",
       "10       1    60.416667\n",
       "15       1    60.416667\n",
       "16       1    60.416667\n",
       "17       1    60.416667\n",
       "18       1    60.416667\n",
       "...    ...          ...\n",
       "3401    13    60.416667\n",
       "3402    13    60.416667\n",
       "3403    13    60.416667\n",
       "3404    13    60.416667\n",
       "3405    13    60.416667\n",
       "\n",
       "[1903 rows x 2 columns]"
      ]
     },
     "execution_count": 187,
     "metadata": {},
     "output_type": "execute_result"
    }
   ],
   "source": [
    "dfx"
   ]
  },
  {
   "cell_type": "code",
   "execution_count": 189,
   "metadata": {
    "ExecuteTime": {
     "end_time": "2020-07-10T19:41:51.575397Z",
     "start_time": "2020-07-10T19:41:51.539216Z"
    }
   },
   "outputs": [],
   "source": [
    "dfx = dfx.groupby(['Week']).count()"
   ]
  },
  {
   "cell_type": "code",
   "execution_count": 191,
   "metadata": {
    "ExecuteTime": {
     "end_time": "2020-07-10T19:42:10.976975Z",
     "start_time": "2020-07-10T19:42:10.941406Z"
    }
   },
   "outputs": [
    {
     "data": {
      "text/plain": [
       "146.3846153846154"
      ]
     },
     "execution_count": 191,
     "metadata": {},
     "output_type": "execute_result"
    }
   ],
   "source": [
    "mean(list(dfx['Drug_income']))"
   ]
  },
  {
   "cell_type": "code",
   "execution_count": 176,
   "metadata": {
    "ExecuteTime": {
     "end_time": "2020-07-10T19:33:04.230416Z",
     "start_time": "2020-07-10T19:33:04.167190Z"
    }
   },
   "outputs": [],
   "source": [
    "dfx = dfx.groupby(['Month']).sum()"
   ]
  },
  {
   "cell_type": "code",
   "execution_count": 177,
   "metadata": {
    "ExecuteTime": {
     "end_time": "2020-07-10T19:33:04.310064Z",
     "start_time": "2020-07-10T19:33:04.249320Z"
    }
   },
   "outputs": [
    {
     "data": {
      "text/html": [
       "<div>\n",
       "<style scoped>\n",
       "    .dataframe tbody tr th:only-of-type {\n",
       "        vertical-align: middle;\n",
       "    }\n",
       "\n",
       "    .dataframe tbody tr th {\n",
       "        vertical-align: top;\n",
       "    }\n",
       "\n",
       "    .dataframe thead th {\n",
       "        text-align: right;\n",
       "    }\n",
       "</style>\n",
       "<table border=\"1\" class=\"dataframe\">\n",
       "  <thead>\n",
       "    <tr style=\"text-align: right;\">\n",
       "      <th></th>\n",
       "      <th>Drug_income</th>\n",
       "    </tr>\n",
       "    <tr>\n",
       "      <th>Month</th>\n",
       "      <th></th>\n",
       "    </tr>\n",
       "  </thead>\n",
       "  <tbody>\n",
       "    <tr>\n",
       "      <th>1</th>\n",
       "      <td>39572.916667</td>\n",
       "    </tr>\n",
       "    <tr>\n",
       "      <th>2</th>\n",
       "      <td>36491.666667</td>\n",
       "    </tr>\n",
       "    <tr>\n",
       "      <th>3</th>\n",
       "      <td>38908.333333</td>\n",
       "    </tr>\n",
       "  </tbody>\n",
       "</table>\n",
       "</div>"
      ],
      "text/plain": [
       "        Drug_income\n",
       "Month              \n",
       "1      39572.916667\n",
       "2      36491.666667\n",
       "3      38908.333333"
      ]
     },
     "execution_count": 177,
     "metadata": {},
     "output_type": "execute_result"
    }
   ],
   "source": [
    "dfx"
   ]
  },
  {
   "cell_type": "code",
   "execution_count": 178,
   "metadata": {
    "ExecuteTime": {
     "end_time": "2020-07-10T19:33:05.381891Z",
     "start_time": "2020-07-10T19:33:05.353065Z"
    }
   },
   "outputs": [],
   "source": [
    "def money(x, pos):\n",
    "    'The two args are the value and tick position'\n",
    "    return '$%1.0fK' % (x*1e-3)"
   ]
  },
  {
   "cell_type": "markdown",
   "metadata": {},
   "source": [
    "#### Result"
   ]
  },
  {
   "cell_type": "code",
   "execution_count": 179,
   "metadata": {
    "ExecuteTime": {
     "end_time": "2020-07-10T19:33:06.520485Z",
     "start_time": "2020-07-10T19:33:06.181034Z"
    },
    "scrolled": true
   },
   "outputs": [
    {
     "data": {
      "image/png": "[encoded data removed]",
      "text/plain": [
       "<Figure size 432x288 with 1 Axes>"
      ]
     },
     "metadata": {
      "needs_background": "light"
     },
     "output_type": "display_data"
    }
   ],
   "source": [
    "## Creating figure\n",
    "fig, ax = plt.subplots()\n",
    "formatter = FuncFormatter(money)\n",
    "\n",
    "\n",
    "## Plotting data\n",
    "plt.bar(\n",
    "    dfx.index, dfx['Drug_income'],\n",
    ")\n",
    "\n",
    "\n",
    "## Formatting axis\n",
    "plt.xticks([1, 2, 3], ('Enero', 'Febrero', 'Marzo'))\n",
    "plt.xlabel('2017')\n",
    "ax.yaxis.set_major_formatter(formatter)\n",
    "plt.yticks(range(0, 70000, 10000))\n",
    "plt.ylabel('MXN')\n",
    "\n",
    "\n",
    "## Additional formatting\n",
    "plt.title('Estimado de ingresos brutos por venta de medicamentos')\n",
    "\n",
    "\n",
    "plt.show()"
   ]
  },
  {
   "cell_type": "code",
   "execution_count": 180,
   "metadata": {
    "ExecuteTime": {
     "end_time": "2020-07-10T19:33:06.752627Z",
     "start_time": "2020-07-10T19:33:06.725384Z"
    }
   },
   "outputs": [
    {
     "data": {
      "text/html": [
       "<div>\n",
       "<style scoped>\n",
       "    .dataframe tbody tr th:only-of-type {\n",
       "        vertical-align: middle;\n",
       "    }\n",
       "\n",
       "    .dataframe tbody tr th {\n",
       "        vertical-align: top;\n",
       "    }\n",
       "\n",
       "    .dataframe thead th {\n",
       "        text-align: right;\n",
       "    }\n",
       "</style>\n",
       "<table border=\"1\" class=\"dataframe\">\n",
       "  <thead>\n",
       "    <tr style=\"text-align: right;\">\n",
       "      <th></th>\n",
       "      <th>Drug_income</th>\n",
       "    </tr>\n",
       "    <tr>\n",
       "      <th>Month</th>\n",
       "      <th></th>\n",
       "    </tr>\n",
       "  </thead>\n",
       "  <tbody>\n",
       "    <tr>\n",
       "      <th>1</th>\n",
       "      <td>39572.916667</td>\n",
       "    </tr>\n",
       "    <tr>\n",
       "      <th>2</th>\n",
       "      <td>36491.666667</td>\n",
       "    </tr>\n",
       "    <tr>\n",
       "      <th>3</th>\n",
       "      <td>38908.333333</td>\n",
       "    </tr>\n",
       "  </tbody>\n",
       "</table>\n",
       "</div>"
      ],
      "text/plain": [
       "        Drug_income\n",
       "Month              \n",
       "1      39572.916667\n",
       "2      36491.666667\n",
       "3      38908.333333"
      ]
     },
     "execution_count": 180,
     "metadata": {},
     "output_type": "execute_result"
    }
   ],
   "source": [
    "dfx"
   ]
  },
  {
   "cell_type": "markdown",
   "metadata": {},
   "source": [
    "---\n",
    "---"
   ]
  }
 ],
 "metadata": {
  "kernelspec": {
   "display_name": "Python 3",
   "language": "python",
   "name": "python3"
  },
  "language_info": {
   "codemirror_mode": {
    "name": "ipython",
    "version": 3
   },
   "file_extension": ".py",
   "mimetype": "text/x-python",
   "name": "python",
   "nbconvert_exporter": "python",
   "pygments_lexer": "ipython3",
   "version": "3.7.4"
  }
 },
 "nbformat": 4,
 "nbformat_minor": 4
}
