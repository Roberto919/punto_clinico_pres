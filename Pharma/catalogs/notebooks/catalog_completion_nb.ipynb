{
 "cells": [
  {
   "cell_type": "markdown",
   "metadata": {},
   "source": [
    "# Completing information about medicines in pharmacy"
   ]
  },
  {
   "cell_type": "markdown",
   "metadata": {},
   "source": [
    "---"
   ]
  },
  {
   "cell_type": "markdown",
   "metadata": {},
   "source": [
    "## Imports"
   ]
  },
  {
   "cell_type": "markdown",
   "metadata": {},
   "source": [
    "#### Standard library imports"
   ]
  },
  {
   "cell_type": "markdown",
   "metadata": {},
   "source": [
    "#### Third party imports"
   ]
  },
  {
   "cell_type": "code",
   "execution_count": 1,
   "metadata": {
    "ExecuteTime": {
     "end_time": "2021-02-01T23:19:56.665725Z",
     "start_time": "2021-02-01T23:19:54.336894Z"
    }
   },
   "outputs": [],
   "source": [
    "import pandas as pd\n",
    "pd.set_option('display.max_columns', 500)"
   ]
  },
  {
   "cell_type": "markdown",
   "metadata": {},
   "source": [
    "#### Local application imports"
   ]
  },
  {
   "cell_type": "markdown",
   "metadata": {},
   "source": [
    "---"
   ]
  },
  {
   "cell_type": "markdown",
   "metadata": {},
   "source": [
    "## Data"
   ]
  },
  {
   "cell_type": "markdown",
   "metadata": {},
   "source": [
    "### Data to complete"
   ]
  },
  {
   "cell_type": "markdown",
   "metadata": {},
   "source": [
    "#### Reading data"
   ]
  },
  {
   "cell_type": "code",
   "execution_count": 4,
   "metadata": {
    "ExecuteTime": {
     "end_time": "2021-02-01T23:23:25.944825Z",
     "start_time": "2021-02-01T23:23:25.937909Z"
    }
   },
   "outputs": [],
   "source": [
    "df_obj = pd.read_csv(\"../data/cat_plat_pc.csv\")"
   ]
  },
  {
   "cell_type": "code",
   "execution_count": 5,
   "metadata": {
    "ExecuteTime": {
     "end_time": "2021-02-01T23:23:28.576141Z",
     "start_time": "2021-02-01T23:23:28.566561Z"
    }
   },
   "outputs": [
    {
     "data": {
      "text/html": [
       "<div>\n",
       "<style scoped>\n",
       "    .dataframe tbody tr th:only-of-type {\n",
       "        vertical-align: middle;\n",
       "    }\n",
       "\n",
       "    .dataframe tbody tr th {\n",
       "        vertical-align: top;\n",
       "    }\n",
       "\n",
       "    .dataframe thead th {\n",
       "        text-align: right;\n",
       "    }\n",
       "</style>\n",
       "<table border=\"1\" class=\"dataframe\">\n",
       "  <thead>\n",
       "    <tr style=\"text-align: right;\">\n",
       "      <th></th>\n",
       "      <th>clave</th>\n",
       "      <th>medicamento</th>\n",
       "    </tr>\n",
       "  </thead>\n",
       "  <tbody>\n",
       "    <tr>\n",
       "      <th>0</th>\n",
       "      <td>6.5024E+11</td>\n",
       "      <td>CICATRICURE 1 GEL DESVANECEDOR 30 G</td>\n",
       "    </tr>\n",
       "    <tr>\n",
       "      <th>1</th>\n",
       "      <td>6.5024E+11</td>\n",
       "      <td>SILKAMEDIC GEL 30G/ TERBINAFINA 1%</td>\n",
       "    </tr>\n",
       "    <tr>\n",
       "      <th>2</th>\n",
       "      <td>6.5024E+11</td>\n",
       "      <td>M FORCE  &amp; MULTI-O  3 PIEZAS CARTERA</td>\n",
       "    </tr>\n",
       "    <tr>\n",
       "      <th>3</th>\n",
       "      <td>6.5024E+11</td>\n",
       "      <td>SHAMPOO MEDICASP BOTE 130 ML</td>\n",
       "    </tr>\n",
       "    <tr>\n",
       "      <th>4</th>\n",
       "      <td>6.5024E+11</td>\n",
       "      <td>bio electro 24 tab250/250/65 mg  /paracetamol ,</td>\n",
       "    </tr>\n",
       "    <tr>\n",
       "      <th>...</th>\n",
       "      <td>...</td>\n",
       "      <td>...</td>\n",
       "    </tr>\n",
       "    <tr>\n",
       "      <th>2212</th>\n",
       "      <td>7.50135E+12</td>\n",
       "      <td>MOMETASONA 0.5% 18 ML</td>\n",
       "    </tr>\n",
       "    <tr>\n",
       "      <th>2213</th>\n",
       "      <td>7.5013E+12</td>\n",
       "      <td>DEXABION C/3 JERINGAS DOBLE CAMARA 3 ML</td>\n",
       "    </tr>\n",
       "    <tr>\n",
       "      <th>2214</th>\n",
       "      <td>7.50131E+12</td>\n",
       "      <td>MICCIL 1 MG C/20</td>\n",
       "    </tr>\n",
       "    <tr>\n",
       "      <th>2215</th>\n",
       "      <td>7.50135E+12</td>\n",
       "      <td>ROSUVASTATINA 20 MG C/15 TAB</td>\n",
       "    </tr>\n",
       "    <tr>\n",
       "      <th>2216</th>\n",
       "      <td>7.50139E+12</td>\n",
       "      <td>UROCLASION NF SOL 150 ML</td>\n",
       "    </tr>\n",
       "  </tbody>\n",
       "</table>\n",
       "<p>2217 rows × 2 columns</p>\n",
       "</div>"
      ],
      "text/plain": [
       "            clave                                      medicamento\n",
       "0      6.5024E+11              CICATRICURE 1 GEL DESVANECEDOR 30 G\n",
       "1      6.5024E+11               SILKAMEDIC GEL 30G/ TERBINAFINA 1%\n",
       "2      6.5024E+11             M FORCE  & MULTI-O  3 PIEZAS CARTERA\n",
       "3      6.5024E+11                     SHAMPOO MEDICASP BOTE 130 ML\n",
       "4      6.5024E+11  bio electro 24 tab250/250/65 mg  /paracetamol ,\n",
       "...           ...                                              ...\n",
       "2212  7.50135E+12                            MOMETASONA 0.5% 18 ML\n",
       "2213   7.5013E+12          DEXABION C/3 JERINGAS DOBLE CAMARA 3 ML\n",
       "2214  7.50131E+12                                 MICCIL 1 MG C/20\n",
       "2215  7.50135E+12                     ROSUVASTATINA 20 MG C/15 TAB\n",
       "2216  7.50139E+12                         UROCLASION NF SOL 150 ML\n",
       "\n",
       "[2217 rows x 2 columns]"
      ]
     },
     "execution_count": 5,
     "metadata": {},
     "output_type": "execute_result"
    }
   ],
   "source": [
    "df_obj"
   ]
  },
  {
   "cell_type": "markdown",
   "metadata": {},
   "source": [
    "#### Cleaning data"
   ]
  },
  {
   "cell_type": "code",
   "execution_count": 32,
   "metadata": {
    "ExecuteTime": {
     "end_time": "2021-02-01T23:41:10.565296Z",
     "start_time": "2021-02-01T23:41:10.559622Z"
    }
   },
   "outputs": [],
   "source": [
    "df_obj[\"medicamento\"] = df_obj[\"medicamento\"].str.upper()"
   ]
  },
  {
   "cell_type": "markdown",
   "metadata": {},
   "source": [
    "### Reference data"
   ]
  },
  {
   "cell_type": "markdown",
   "metadata": {},
   "source": [
    "#### Reading data"
   ]
  },
  {
   "cell_type": "code",
   "execution_count": 38,
   "metadata": {
    "ExecuteTime": {
     "end_time": "2021-02-01T23:43:22.251360Z",
     "start_time": "2021-02-01T23:43:22.234864Z"
    }
   },
   "outputs": [],
   "source": [
    "df_ref = pd.read_csv(\"../data/cat_fansa.csv\")"
   ]
  },
  {
   "cell_type": "code",
   "execution_count": 39,
   "metadata": {
    "ExecuteTime": {
     "end_time": "2021-02-01T23:43:22.263759Z",
     "start_time": "2021-02-01T23:43:22.253375Z"
    }
   },
   "outputs": [
    {
     "data": {
      "text/html": [
       "<div>\n",
       "<style scoped>\n",
       "    .dataframe tbody tr th:only-of-type {\n",
       "        vertical-align: middle;\n",
       "    }\n",
       "\n",
       "    .dataframe tbody tr th {\n",
       "        vertical-align: top;\n",
       "    }\n",
       "\n",
       "    .dataframe thead th {\n",
       "        text-align: right;\n",
       "    }\n",
       "</style>\n",
       "<table border=\"1\" class=\"dataframe\">\n",
       "  <thead>\n",
       "    <tr style=\"text-align: right;\">\n",
       "      <th></th>\n",
       "      <th>cod_barras</th>\n",
       "      <th>descripcion</th>\n",
       "      <th>tipo_descuento</th>\n",
       "      <th>laboratorio</th>\n",
       "    </tr>\n",
       "  </thead>\n",
       "  <tbody>\n",
       "    <tr>\n",
       "      <th>0</th>\n",
       "      <td>7.36085E+11</td>\n",
       "      <td>3 A OFTENO 1MG 5ML - GOT 5ML</td>\n",
       "      <td>BASE</td>\n",
       "      <td>SOPHIA</td>\n",
       "    </tr>\n",
       "    <tr>\n",
       "      <th>1</th>\n",
       "      <td>7.59684E+11</td>\n",
       "      <td>360 ANTISEPTICO JALOMA - SOL 150ML</td>\n",
       "      <td>NETO</td>\n",
       "      <td>LABORATORIOS JALOMA</td>\n",
       "    </tr>\n",
       "    <tr>\n",
       "      <th>2</th>\n",
       "      <td>75313036</td>\n",
       "      <td>360 ANTISEPTICO JALOMA - SOL 30ML</td>\n",
       "      <td>NETO</td>\n",
       "      <td>LABORATORIOS JALOMA</td>\n",
       "    </tr>\n",
       "    <tr>\n",
       "      <th>3</th>\n",
       "      <td>4.04696E+12</td>\n",
       "      <td>4002801 ASKINA BARRIER FILM SPRA -  28ML</td>\n",
       "      <td>NETO</td>\n",
       "      <td>B BRAUN MEDICAL</td>\n",
       "    </tr>\n",
       "    <tr>\n",
       "      <th>4</th>\n",
       "      <td>4.04696E+12</td>\n",
       "      <td>400590 PRONTOSAN WOUND - GEL 30ML</td>\n",
       "      <td>NETO</td>\n",
       "      <td>B BRAUN MEDICAL</td>\n",
       "    </tr>\n",
       "    <tr>\n",
       "      <th>...</th>\n",
       "      <td>...</td>\n",
       "      <td>...</td>\n",
       "      <td>...</td>\n",
       "      <td>...</td>\n",
       "    </tr>\n",
       "    <tr>\n",
       "      <th>8105</th>\n",
       "      <td>7.50114E+12</td>\n",
       "      <td>ZYVOXAM 600MG (A) - TAB 10</td>\n",
       "      <td>NETO</td>\n",
       "      <td>UPJOHN PHARMA MEXICO S DE RL DE CV</td>\n",
       "    </tr>\n",
       "    <tr>\n",
       "      <th>8106</th>\n",
       "      <td>7.50109E+12</td>\n",
       "      <td>ZYXEM 5MG - TAB 30</td>\n",
       "      <td>NETO</td>\n",
       "      <td>CHINOIN</td>\n",
       "    </tr>\n",
       "    <tr>\n",
       "      <th>8107</th>\n",
       "      <td>7.50109E+12</td>\n",
       "      <td>ZYXEM 5MG - TAB 10</td>\n",
       "      <td>NETO</td>\n",
       "      <td>CHINOIN</td>\n",
       "    </tr>\n",
       "    <tr>\n",
       "      <th>8108</th>\n",
       "      <td>7.50109E+12</td>\n",
       "      <td>ZYXEM 5MG/ML - SOL 20ML</td>\n",
       "      <td>NETO</td>\n",
       "      <td>CHINOIN</td>\n",
       "    </tr>\n",
       "    <tr>\n",
       "      <th>8109</th>\n",
       "      <td>7.50109E+12</td>\n",
       "      <td>ZYXEM INFANTIL 0.5MG/ML - SOL 200ML</td>\n",
       "      <td>NETO</td>\n",
       "      <td>CHINOIN</td>\n",
       "    </tr>\n",
       "  </tbody>\n",
       "</table>\n",
       "<p>8110 rows × 4 columns</p>\n",
       "</div>"
      ],
      "text/plain": [
       "       cod_barras                                descripcion tipo_descuento  \\\n",
       "0     7.36085E+11               3 A OFTENO 1MG 5ML - GOT 5ML           BASE   \n",
       "1     7.59684E+11         360 ANTISEPTICO JALOMA - SOL 150ML           NETO   \n",
       "2        75313036          360 ANTISEPTICO JALOMA - SOL 30ML           NETO   \n",
       "3     4.04696E+12   4002801 ASKINA BARRIER FILM SPRA -  28ML           NETO   \n",
       "4     4.04696E+12          400590 PRONTOSAN WOUND - GEL 30ML           NETO   \n",
       "...           ...                                        ...            ...   \n",
       "8105  7.50114E+12                 ZYVOXAM 600MG (A) - TAB 10           NETO   \n",
       "8106  7.50109E+12                         ZYXEM 5MG - TAB 30           NETO   \n",
       "8107  7.50109E+12                         ZYXEM 5MG - TAB 10           NETO   \n",
       "8108  7.50109E+12                    ZYXEM 5MG/ML - SOL 20ML           NETO   \n",
       "8109  7.50109E+12        ZYXEM INFANTIL 0.5MG/ML - SOL 200ML           NETO   \n",
       "\n",
       "                             laboratorio  \n",
       "0                                 SOPHIA  \n",
       "1                    LABORATORIOS JALOMA  \n",
       "2                    LABORATORIOS JALOMA  \n",
       "3                        B BRAUN MEDICAL  \n",
       "4                        B BRAUN MEDICAL  \n",
       "...                                  ...  \n",
       "8105  UPJOHN PHARMA MEXICO S DE RL DE CV  \n",
       "8106                             CHINOIN  \n",
       "8107                             CHINOIN  \n",
       "8108                             CHINOIN  \n",
       "8109                             CHINOIN  \n",
       "\n",
       "[8110 rows x 4 columns]"
      ]
     },
     "execution_count": 39,
     "metadata": {},
     "output_type": "execute_result"
    }
   ],
   "source": [
    "df_ref"
   ]
  },
  {
   "cell_type": "markdown",
   "metadata": {},
   "source": [
    "#### Cleaning data"
   ]
  },
  {
   "cell_type": "code",
   "execution_count": 40,
   "metadata": {
    "ExecuteTime": {
     "end_time": "2021-02-01T23:43:22.289133Z",
     "start_time": "2021-02-01T23:43:22.266253Z"
    }
   },
   "outputs": [],
   "source": [
    "col_splt = df_ref[\"descripcion\"].str.split(\" - \", 1, expand=True)\n",
    "df_ref[\"med_ref\"] = col_splt[0]\n",
    "df_ref[\"pres_red\"] = col_splt[1]\n",
    "df_ref.drop([\"descripcion\"], axis=1, inplace = True)"
   ]
  },
  {
   "cell_type": "code",
   "execution_count": 41,
   "metadata": {
    "ExecuteTime": {
     "end_time": "2021-02-01T23:43:22.302299Z",
     "start_time": "2021-02-01T23:43:22.291241Z"
    }
   },
   "outputs": [
    {
     "data": {
      "text/html": [
       "<div>\n",
       "<style scoped>\n",
       "    .dataframe tbody tr th:only-of-type {\n",
       "        vertical-align: middle;\n",
       "    }\n",
       "\n",
       "    .dataframe tbody tr th {\n",
       "        vertical-align: top;\n",
       "    }\n",
       "\n",
       "    .dataframe thead th {\n",
       "        text-align: right;\n",
       "    }\n",
       "</style>\n",
       "<table border=\"1\" class=\"dataframe\">\n",
       "  <thead>\n",
       "    <tr style=\"text-align: right;\">\n",
       "      <th></th>\n",
       "      <th>cod_barras</th>\n",
       "      <th>tipo_descuento</th>\n",
       "      <th>laboratorio</th>\n",
       "      <th>med_ref</th>\n",
       "      <th>pres_red</th>\n",
       "    </tr>\n",
       "  </thead>\n",
       "  <tbody>\n",
       "    <tr>\n",
       "      <th>0</th>\n",
       "      <td>7.36085E+11</td>\n",
       "      <td>BASE</td>\n",
       "      <td>SOPHIA</td>\n",
       "      <td>3 A OFTENO 1MG 5ML</td>\n",
       "      <td>GOT 5ML</td>\n",
       "    </tr>\n",
       "    <tr>\n",
       "      <th>1</th>\n",
       "      <td>7.59684E+11</td>\n",
       "      <td>NETO</td>\n",
       "      <td>LABORATORIOS JALOMA</td>\n",
       "      <td>360 ANTISEPTICO JALOMA</td>\n",
       "      <td>SOL 150ML</td>\n",
       "    </tr>\n",
       "    <tr>\n",
       "      <th>2</th>\n",
       "      <td>75313036</td>\n",
       "      <td>NETO</td>\n",
       "      <td>LABORATORIOS JALOMA</td>\n",
       "      <td>360 ANTISEPTICO JALOMA</td>\n",
       "      <td>SOL 30ML</td>\n",
       "    </tr>\n",
       "    <tr>\n",
       "      <th>3</th>\n",
       "      <td>4.04696E+12</td>\n",
       "      <td>NETO</td>\n",
       "      <td>B BRAUN MEDICAL</td>\n",
       "      <td>4002801 ASKINA BARRIER FILM SPRA</td>\n",
       "      <td>28ML</td>\n",
       "    </tr>\n",
       "    <tr>\n",
       "      <th>4</th>\n",
       "      <td>4.04696E+12</td>\n",
       "      <td>NETO</td>\n",
       "      <td>B BRAUN MEDICAL</td>\n",
       "      <td>400590 PRONTOSAN WOUND</td>\n",
       "      <td>GEL 30ML</td>\n",
       "    </tr>\n",
       "    <tr>\n",
       "      <th>...</th>\n",
       "      <td>...</td>\n",
       "      <td>...</td>\n",
       "      <td>...</td>\n",
       "      <td>...</td>\n",
       "      <td>...</td>\n",
       "    </tr>\n",
       "    <tr>\n",
       "      <th>8105</th>\n",
       "      <td>7.50114E+12</td>\n",
       "      <td>NETO</td>\n",
       "      <td>UPJOHN PHARMA MEXICO S DE RL DE CV</td>\n",
       "      <td>ZYVOXAM 600MG (A)</td>\n",
       "      <td>TAB 10</td>\n",
       "    </tr>\n",
       "    <tr>\n",
       "      <th>8106</th>\n",
       "      <td>7.50109E+12</td>\n",
       "      <td>NETO</td>\n",
       "      <td>CHINOIN</td>\n",
       "      <td>ZYXEM 5MG</td>\n",
       "      <td>TAB 30</td>\n",
       "    </tr>\n",
       "    <tr>\n",
       "      <th>8107</th>\n",
       "      <td>7.50109E+12</td>\n",
       "      <td>NETO</td>\n",
       "      <td>CHINOIN</td>\n",
       "      <td>ZYXEM 5MG</td>\n",
       "      <td>TAB 10</td>\n",
       "    </tr>\n",
       "    <tr>\n",
       "      <th>8108</th>\n",
       "      <td>7.50109E+12</td>\n",
       "      <td>NETO</td>\n",
       "      <td>CHINOIN</td>\n",
       "      <td>ZYXEM 5MG/ML</td>\n",
       "      <td>SOL 20ML</td>\n",
       "    </tr>\n",
       "    <tr>\n",
       "      <th>8109</th>\n",
       "      <td>7.50109E+12</td>\n",
       "      <td>NETO</td>\n",
       "      <td>CHINOIN</td>\n",
       "      <td>ZYXEM INFANTIL 0.5MG/ML</td>\n",
       "      <td>SOL 200ML</td>\n",
       "    </tr>\n",
       "  </tbody>\n",
       "</table>\n",
       "<p>8110 rows × 5 columns</p>\n",
       "</div>"
      ],
      "text/plain": [
       "       cod_barras tipo_descuento                         laboratorio  \\\n",
       "0     7.36085E+11           BASE                              SOPHIA   \n",
       "1     7.59684E+11           NETO                 LABORATORIOS JALOMA   \n",
       "2        75313036           NETO                 LABORATORIOS JALOMA   \n",
       "3     4.04696E+12           NETO                     B BRAUN MEDICAL   \n",
       "4     4.04696E+12           NETO                     B BRAUN MEDICAL   \n",
       "...           ...            ...                                 ...   \n",
       "8105  7.50114E+12           NETO  UPJOHN PHARMA MEXICO S DE RL DE CV   \n",
       "8106  7.50109E+12           NETO                             CHINOIN   \n",
       "8107  7.50109E+12           NETO                             CHINOIN   \n",
       "8108  7.50109E+12           NETO                             CHINOIN   \n",
       "8109  7.50109E+12           NETO                             CHINOIN   \n",
       "\n",
       "                                med_ref   pres_red  \n",
       "0                    3 A OFTENO 1MG 5ML    GOT 5ML  \n",
       "1                360 ANTISEPTICO JALOMA  SOL 150ML  \n",
       "2                360 ANTISEPTICO JALOMA   SOL 30ML  \n",
       "3      4002801 ASKINA BARRIER FILM SPRA       28ML  \n",
       "4                400590 PRONTOSAN WOUND   GEL 30ML  \n",
       "...                                 ...        ...  \n",
       "8105                  ZYVOXAM 600MG (A)     TAB 10  \n",
       "8106                          ZYXEM 5MG     TAB 30  \n",
       "8107                          ZYXEM 5MG     TAB 10  \n",
       "8108                       ZYXEM 5MG/ML   SOL 20ML  \n",
       "8109            ZYXEM INFANTIL 0.5MG/ML  SOL 200ML  \n",
       "\n",
       "[8110 rows x 5 columns]"
      ]
     },
     "execution_count": 41,
     "metadata": {},
     "output_type": "execute_result"
    }
   ],
   "source": [
    "df_ref"
   ]
  },
  {
   "cell_type": "markdown",
   "metadata": {},
   "source": [
    "---"
   ]
  },
  {
   "cell_type": "markdown",
   "metadata": {},
   "source": [
    "## Matching data"
   ]
  },
  {
   "cell_type": "code",
   "execution_count": 42,
   "metadata": {
    "ExecuteTime": {
     "end_time": "2021-02-01T23:43:26.500821Z",
     "start_time": "2021-02-01T23:43:26.493268Z"
    }
   },
   "outputs": [
    {
     "data": {
      "text/html": [
       "<div>\n",
       "<style scoped>\n",
       "    .dataframe tbody tr th:only-of-type {\n",
       "        vertical-align: middle;\n",
       "    }\n",
       "\n",
       "    .dataframe tbody tr th {\n",
       "        vertical-align: top;\n",
       "    }\n",
       "\n",
       "    .dataframe thead th {\n",
       "        text-align: right;\n",
       "    }\n",
       "</style>\n",
       "<table border=\"1\" class=\"dataframe\">\n",
       "  <thead>\n",
       "    <tr style=\"text-align: right;\">\n",
       "      <th></th>\n",
       "      <th>clave</th>\n",
       "      <th>medicamento</th>\n",
       "    </tr>\n",
       "  </thead>\n",
       "  <tbody>\n",
       "    <tr>\n",
       "      <th>0</th>\n",
       "      <td>6.5024E+11</td>\n",
       "      <td>CICATRICURE 1 GEL DESVANECEDOR 30 G</td>\n",
       "    </tr>\n",
       "    <tr>\n",
       "      <th>1</th>\n",
       "      <td>6.5024E+11</td>\n",
       "      <td>SILKAMEDIC GEL 30G/ TERBINAFINA 1%</td>\n",
       "    </tr>\n",
       "    <tr>\n",
       "      <th>2</th>\n",
       "      <td>6.5024E+11</td>\n",
       "      <td>M FORCE  &amp; MULTI-O  3 PIEZAS CARTERA</td>\n",
       "    </tr>\n",
       "    <tr>\n",
       "      <th>3</th>\n",
       "      <td>6.5024E+11</td>\n",
       "      <td>SHAMPOO MEDICASP BOTE 130 ML</td>\n",
       "    </tr>\n",
       "    <tr>\n",
       "      <th>4</th>\n",
       "      <td>6.5024E+11</td>\n",
       "      <td>BIO ELECTRO 24 TAB250/250/65 MG  /PARACETAMOL ,</td>\n",
       "    </tr>\n",
       "    <tr>\n",
       "      <th>...</th>\n",
       "      <td>...</td>\n",
       "      <td>...</td>\n",
       "    </tr>\n",
       "    <tr>\n",
       "      <th>2212</th>\n",
       "      <td>7.50135E+12</td>\n",
       "      <td>MOMETASONA 0.5% 18 ML</td>\n",
       "    </tr>\n",
       "    <tr>\n",
       "      <th>2213</th>\n",
       "      <td>7.5013E+12</td>\n",
       "      <td>DEXABION C/3 JERINGAS DOBLE CAMARA 3 ML</td>\n",
       "    </tr>\n",
       "    <tr>\n",
       "      <th>2214</th>\n",
       "      <td>7.50131E+12</td>\n",
       "      <td>MICCIL 1 MG C/20</td>\n",
       "    </tr>\n",
       "    <tr>\n",
       "      <th>2215</th>\n",
       "      <td>7.50135E+12</td>\n",
       "      <td>ROSUVASTATINA 20 MG C/15 TAB</td>\n",
       "    </tr>\n",
       "    <tr>\n",
       "      <th>2216</th>\n",
       "      <td>7.50139E+12</td>\n",
       "      <td>UROCLASION NF SOL 150 ML</td>\n",
       "    </tr>\n",
       "  </tbody>\n",
       "</table>\n",
       "<p>2217 rows × 2 columns</p>\n",
       "</div>"
      ],
      "text/plain": [
       "            clave                                      medicamento\n",
       "0      6.5024E+11              CICATRICURE 1 GEL DESVANECEDOR 30 G\n",
       "1      6.5024E+11               SILKAMEDIC GEL 30G/ TERBINAFINA 1%\n",
       "2      6.5024E+11             M FORCE  & MULTI-O  3 PIEZAS CARTERA\n",
       "3      6.5024E+11                     SHAMPOO MEDICASP BOTE 130 ML\n",
       "4      6.5024E+11  BIO ELECTRO 24 TAB250/250/65 MG  /PARACETAMOL ,\n",
       "...           ...                                              ...\n",
       "2212  7.50135E+12                            MOMETASONA 0.5% 18 ML\n",
       "2213   7.5013E+12          DEXABION C/3 JERINGAS DOBLE CAMARA 3 ML\n",
       "2214  7.50131E+12                                 MICCIL 1 MG C/20\n",
       "2215  7.50135E+12                     ROSUVASTATINA 20 MG C/15 TAB\n",
       "2216  7.50139E+12                         UROCLASION NF SOL 150 ML\n",
       "\n",
       "[2217 rows x 2 columns]"
      ]
     },
     "execution_count": 42,
     "metadata": {},
     "output_type": "execute_result"
    }
   ],
   "source": [
    "df_obj"
   ]
  },
  {
   "cell_type": "code",
   "execution_count": 43,
   "metadata": {
    "ExecuteTime": {
     "end_time": "2021-02-01T23:43:26.635204Z",
     "start_time": "2021-02-01T23:43:26.624802Z"
    }
   },
   "outputs": [
    {
     "data": {
      "text/html": [
       "<div>\n",
       "<style scoped>\n",
       "    .dataframe tbody tr th:only-of-type {\n",
       "        vertical-align: middle;\n",
       "    }\n",
       "\n",
       "    .dataframe tbody tr th {\n",
       "        vertical-align: top;\n",
       "    }\n",
       "\n",
       "    .dataframe thead th {\n",
       "        text-align: right;\n",
       "    }\n",
       "</style>\n",
       "<table border=\"1\" class=\"dataframe\">\n",
       "  <thead>\n",
       "    <tr style=\"text-align: right;\">\n",
       "      <th></th>\n",
       "      <th>cod_barras</th>\n",
       "      <th>tipo_descuento</th>\n",
       "      <th>laboratorio</th>\n",
       "      <th>med_ref</th>\n",
       "      <th>pres_red</th>\n",
       "    </tr>\n",
       "  </thead>\n",
       "  <tbody>\n",
       "    <tr>\n",
       "      <th>0</th>\n",
       "      <td>7.36085E+11</td>\n",
       "      <td>BASE</td>\n",
       "      <td>SOPHIA</td>\n",
       "      <td>3 A OFTENO 1MG 5ML</td>\n",
       "      <td>GOT 5ML</td>\n",
       "    </tr>\n",
       "    <tr>\n",
       "      <th>1</th>\n",
       "      <td>7.59684E+11</td>\n",
       "      <td>NETO</td>\n",
       "      <td>LABORATORIOS JALOMA</td>\n",
       "      <td>360 ANTISEPTICO JALOMA</td>\n",
       "      <td>SOL 150ML</td>\n",
       "    </tr>\n",
       "    <tr>\n",
       "      <th>2</th>\n",
       "      <td>75313036</td>\n",
       "      <td>NETO</td>\n",
       "      <td>LABORATORIOS JALOMA</td>\n",
       "      <td>360 ANTISEPTICO JALOMA</td>\n",
       "      <td>SOL 30ML</td>\n",
       "    </tr>\n",
       "    <tr>\n",
       "      <th>3</th>\n",
       "      <td>4.04696E+12</td>\n",
       "      <td>NETO</td>\n",
       "      <td>B BRAUN MEDICAL</td>\n",
       "      <td>4002801 ASKINA BARRIER FILM SPRA</td>\n",
       "      <td>28ML</td>\n",
       "    </tr>\n",
       "    <tr>\n",
       "      <th>4</th>\n",
       "      <td>4.04696E+12</td>\n",
       "      <td>NETO</td>\n",
       "      <td>B BRAUN MEDICAL</td>\n",
       "      <td>400590 PRONTOSAN WOUND</td>\n",
       "      <td>GEL 30ML</td>\n",
       "    </tr>\n",
       "    <tr>\n",
       "      <th>...</th>\n",
       "      <td>...</td>\n",
       "      <td>...</td>\n",
       "      <td>...</td>\n",
       "      <td>...</td>\n",
       "      <td>...</td>\n",
       "    </tr>\n",
       "    <tr>\n",
       "      <th>8105</th>\n",
       "      <td>7.50114E+12</td>\n",
       "      <td>NETO</td>\n",
       "      <td>UPJOHN PHARMA MEXICO S DE RL DE CV</td>\n",
       "      <td>ZYVOXAM 600MG (A)</td>\n",
       "      <td>TAB 10</td>\n",
       "    </tr>\n",
       "    <tr>\n",
       "      <th>8106</th>\n",
       "      <td>7.50109E+12</td>\n",
       "      <td>NETO</td>\n",
       "      <td>CHINOIN</td>\n",
       "      <td>ZYXEM 5MG</td>\n",
       "      <td>TAB 30</td>\n",
       "    </tr>\n",
       "    <tr>\n",
       "      <th>8107</th>\n",
       "      <td>7.50109E+12</td>\n",
       "      <td>NETO</td>\n",
       "      <td>CHINOIN</td>\n",
       "      <td>ZYXEM 5MG</td>\n",
       "      <td>TAB 10</td>\n",
       "    </tr>\n",
       "    <tr>\n",
       "      <th>8108</th>\n",
       "      <td>7.50109E+12</td>\n",
       "      <td>NETO</td>\n",
       "      <td>CHINOIN</td>\n",
       "      <td>ZYXEM 5MG/ML</td>\n",
       "      <td>SOL 20ML</td>\n",
       "    </tr>\n",
       "    <tr>\n",
       "      <th>8109</th>\n",
       "      <td>7.50109E+12</td>\n",
       "      <td>NETO</td>\n",
       "      <td>CHINOIN</td>\n",
       "      <td>ZYXEM INFANTIL 0.5MG/ML</td>\n",
       "      <td>SOL 200ML</td>\n",
       "    </tr>\n",
       "  </tbody>\n",
       "</table>\n",
       "<p>8110 rows × 5 columns</p>\n",
       "</div>"
      ],
      "text/plain": [
       "       cod_barras tipo_descuento                         laboratorio  \\\n",
       "0     7.36085E+11           BASE                              SOPHIA   \n",
       "1     7.59684E+11           NETO                 LABORATORIOS JALOMA   \n",
       "2        75313036           NETO                 LABORATORIOS JALOMA   \n",
       "3     4.04696E+12           NETO                     B BRAUN MEDICAL   \n",
       "4     4.04696E+12           NETO                     B BRAUN MEDICAL   \n",
       "...           ...            ...                                 ...   \n",
       "8105  7.50114E+12           NETO  UPJOHN PHARMA MEXICO S DE RL DE CV   \n",
       "8106  7.50109E+12           NETO                             CHINOIN   \n",
       "8107  7.50109E+12           NETO                             CHINOIN   \n",
       "8108  7.50109E+12           NETO                             CHINOIN   \n",
       "8109  7.50109E+12           NETO                             CHINOIN   \n",
       "\n",
       "                                med_ref   pres_red  \n",
       "0                    3 A OFTENO 1MG 5ML    GOT 5ML  \n",
       "1                360 ANTISEPTICO JALOMA  SOL 150ML  \n",
       "2                360 ANTISEPTICO JALOMA   SOL 30ML  \n",
       "3      4002801 ASKINA BARRIER FILM SPRA       28ML  \n",
       "4                400590 PRONTOSAN WOUND   GEL 30ML  \n",
       "...                                 ...        ...  \n",
       "8105                  ZYVOXAM 600MG (A)     TAB 10  \n",
       "8106                          ZYXEM 5MG     TAB 30  \n",
       "8107                          ZYXEM 5MG     TAB 10  \n",
       "8108                       ZYXEM 5MG/ML   SOL 20ML  \n",
       "8109            ZYXEM INFANTIL 0.5MG/ML  SOL 200ML  \n",
       "\n",
       "[8110 rows x 5 columns]"
      ]
     },
     "execution_count": 43,
     "metadata": {},
     "output_type": "execute_result"
    }
   ],
   "source": [
    "df_ref"
   ]
  },
  {
   "cell_type": "markdown",
   "metadata": {},
   "source": [
    "---\n",
    "---"
   ]
  }
 ],
 "metadata": {
  "kernelspec": {
   "display_name": "Python 3",
   "language": "python",
   "name": "python3"
  },
  "language_info": {
   "codemirror_mode": {
    "name": "ipython",
    "version": 3
   },
   "file_extension": ".py",
   "mimetype": "text/x-python",
   "name": "python",
   "nbconvert_exporter": "python",
   "pygments_lexer": "ipython3",
   "version": "3.8.5"
  }
 },
 "nbformat": 4,
 "nbformat_minor": 4
}
