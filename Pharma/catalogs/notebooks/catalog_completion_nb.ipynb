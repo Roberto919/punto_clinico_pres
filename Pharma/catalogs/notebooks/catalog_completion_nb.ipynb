{
 "cells": [
  {
   "cell_type": "markdown",
   "metadata": {},
   "source": [
    "# Completing information about medicines in pharmacy"
   ]
  },
  {
   "cell_type": "markdown",
   "metadata": {},
   "source": [
    "---"
   ]
  },
  {
   "cell_type": "markdown",
   "metadata": {},
   "source": [
    "## Imports"
   ]
  },
  {
   "cell_type": "markdown",
   "metadata": {},
   "source": [
    "#### Standard library imports"
   ]
  },
  {
   "cell_type": "code",
   "execution_count": 1,
   "metadata": {
    "ExecuteTime": {
     "end_time": "2021-02-05T17:14:11.459711Z",
     "start_time": "2021-02-05T17:14:11.455967Z"
    }
   },
   "outputs": [],
   "source": [
    "import sys"
   ]
  },
  {
   "cell_type": "markdown",
   "metadata": {},
   "source": [
    "#### Third party imports"
   ]
  },
  {
   "cell_type": "code",
   "execution_count": 2,
   "metadata": {
    "ExecuteTime": {
     "end_time": "2021-02-05T17:14:12.955253Z",
     "start_time": "2021-02-05T17:14:12.009286Z"
    }
   },
   "outputs": [],
   "source": [
    "import pandas as pd\n",
    "pd.set_option('display.max_columns', 500)\n",
    "\n",
    "import numpy as np\n",
    "\n",
    "from fuzzywuzzy import fuzz\n",
    "from fuzzywuzzy import process\n",
    "\n",
    "import difflib\n",
    "\n",
    "import matplotlib.pyplot as plt"
   ]
  },
  {
   "cell_type": "markdown",
   "metadata": {},
   "source": [
    "#### Local application imports"
   ]
  },
  {
   "cell_type": "code",
   "execution_count": 3,
   "metadata": {
    "ExecuteTime": {
     "end_time": "2021-02-05T17:14:12.959838Z",
     "start_time": "2021-02-05T17:14:12.957457Z"
    }
   },
   "outputs": [],
   "source": [
    "sys.path.append(\"../\")"
   ]
  },
  {
   "cell_type": "code",
   "execution_count": 4,
   "metadata": {
    "ExecuteTime": {
     "end_time": "2021-02-05T17:14:12.994708Z",
     "start_time": "2021-02-05T17:14:12.962844Z"
    }
   },
   "outputs": [],
   "source": [
    "%load_ext autoreload\n",
    "%autoreload 2\n",
    "\n",
    "from utils.catalog_completion_params import (\n",
    "    pres_types,\n",
    "    mistakes_id,\n",
    "    lev_low_tr,\n",
    "    lev_high_tr\n",
    ")\n",
    "\n",
    "from utils.catalog_completion_funcs import (\n",
    "    rel_leveshtein,\n",
    "    fill_meds_info,\n",
    "    fill_meds_adm\n",
    ")"
   ]
  },
  {
   "cell_type": "markdown",
   "metadata": {},
   "source": [
    "---"
   ]
  },
  {
   "cell_type": "markdown",
   "metadata": {},
   "source": [
    "## Data"
   ]
  },
  {
   "cell_type": "markdown",
   "metadata": {
    "heading_collapsed": true
   },
   "source": [
    "### Data to complete"
   ]
  },
  {
   "cell_type": "markdown",
   "metadata": {
    "hidden": true
   },
   "source": [
    "#### Reading data"
   ]
  },
  {
   "cell_type": "code",
   "execution_count": null,
   "metadata": {
    "ExecuteTime": {
     "end_time": "2021-02-04T23:25:18.540428Z",
     "start_time": "2021-02-04T23:25:18.516263Z"
    },
    "hidden": true
   },
   "outputs": [],
   "source": [
    "df_obj = pd.read_csv(\"../data/cat_plat_pc.csv\")"
   ]
  },
  {
   "cell_type": "markdown",
   "metadata": {
    "hidden": true
   },
   "source": [
    "#### Cleaning data"
   ]
  },
  {
   "cell_type": "code",
   "execution_count": null,
   "metadata": {
    "ExecuteTime": {
     "end_time": "2021-02-04T23:25:19.119732Z",
     "start_time": "2021-02-04T23:25:19.095574Z"
    },
    "hidden": true
   },
   "outputs": [],
   "source": [
    "## Converting everything to uppercase\n",
    "df_obj[\"medicamento\"] = df_obj[\"medicamento\"].str.upper()\n",
    "\n",
    "## Cleaning whitespace\n",
    "df_obj[\"medicamento\"] = df_obj[\"medicamento\"].str.strip()\n",
    "\n",
    "# ## New columns to store results\n",
    "# df_obj[\"med_ref_match\"] = \"_\"\n",
    "# df_obj[\"med_ref_score\"] = 0"
   ]
  },
  {
   "cell_type": "markdown",
   "metadata": {
    "heading_collapsed": true
   },
   "source": [
    "### Reference data (fanasa)"
   ]
  },
  {
   "cell_type": "markdown",
   "metadata": {
    "hidden": true
   },
   "source": [
    "#### Reading data"
   ]
  },
  {
   "cell_type": "code",
   "execution_count": null,
   "metadata": {
    "ExecuteTime": {
     "end_time": "2021-02-04T23:25:20.118973Z",
     "start_time": "2021-02-04T23:25:20.081874Z"
    },
    "hidden": true
   },
   "outputs": [],
   "source": [
    "df_ref = pd.read_csv(\"../data/cat_fansa.csv\")"
   ]
  },
  {
   "cell_type": "markdown",
   "metadata": {
    "hidden": true
   },
   "source": [
    "#### Cleaning data"
   ]
  },
  {
   "cell_type": "code",
   "execution_count": null,
   "metadata": {
    "ExecuteTime": {
     "end_time": "2021-02-04T23:25:20.685287Z",
     "start_time": "2021-02-04T23:25:20.661362Z"
    },
    "hidden": true
   },
   "outputs": [],
   "source": [
    "## Splitting entries based on pattern\n",
    "# col_splt = df_ref[\"descripcion\"].str.split(\" - \", 1, expand=True)\n",
    "# df_ref[\"med_ref\"] = col_splt[0]\n",
    "# df_ref[\"pres_red\"] = col_splt[1]\n",
    "# df_ref.drop([\"descripcion\"], axis=1, inplace = True)\n",
    "\n",
    "## Cleaning whitespace\n",
    "df_ref[\"descripcion\"] = df_ref[\"descripcion\"].str.strip()"
   ]
  },
  {
   "cell_type": "markdown",
   "metadata": {},
   "source": [
    "### Reference data (SAT)"
   ]
  },
  {
   "cell_type": "markdown",
   "metadata": {},
   "source": [
    "#### Reading data"
   ]
  },
  {
   "cell_type": "code",
   "execution_count": 24,
   "metadata": {
    "ExecuteTime": {
     "end_time": "2021-02-05T17:22:01.057263Z",
     "start_time": "2021-02-05T17:22:00.551931Z"
    }
   },
   "outputs": [],
   "source": [
    "df_rsat = pd.read_excel(\"../data/meds_SAT.xlsx\")"
   ]
  },
  {
   "cell_type": "raw",
   "metadata": {
    "ExecuteTime": {
     "end_time": "2021-02-05T17:14:03.456322Z",
     "start_time": "2021-02-05T17:14:03.411981Z"
    }
   },
   "source": [
    "df_rsat"
   ]
  },
  {
   "cell_type": "markdown",
   "metadata": {},
   "source": [
    "#### Cleaning data"
   ]
  },
  {
   "cell_type": "raw",
   "metadata": {
    "ExecuteTime": {
     "end_time": "2021-02-05T16:51:25.573306Z",
     "start_time": "2021-02-05T16:51:25.548695Z"
    }
   },
   "source": [
    "df_rsat.columns.str.lower()"
   ]
  },
  {
   "cell_type": "code",
   "execution_count": 25,
   "metadata": {
    "ExecuteTime": {
     "end_time": "2021-02-05T17:22:01.727120Z",
     "start_time": "2021-02-05T17:22:01.703631Z"
    }
   },
   "outputs": [],
   "source": [
    "## Selecting relevant columns\n",
    "rc = [\n",
    "    \"CLAVE O CODIGO\",\n",
    "    \"SUBCLAVE O CODIGO\",\n",
    "    \"NOMBRE GENERICO\",\n",
    "    \"NOMBRE DE GRUPO TERAPEUTICO\",\n",
    "    \"PRINCIPAL INDICACION\",\n",
    "    \"DEMAS INDICACIONES\",\n",
    "]\n",
    "df_rsat = df_rsat.loc[:, rc].copy()\n",
    "\n",
    "## Eliminate dupliacted columns\n",
    "df_rsat.drop_duplicates(subset=[\"NOMBRE GENERICO\", \"NOMBRE DE GRUPO TERAPEUTICO\"], inplace=True)\n",
    "\n",
    "## Restart index\n",
    "df_rsat.reset_index(inplace=True, drop=True)"
   ]
  },
  {
   "cell_type": "raw",
   "metadata": {
    "ExecuteTime": {
     "end_time": "2021-02-05T17:19:09.306702Z",
     "start_time": "2021-02-05T17:19:09.287220Z"
    }
   },
   "source": [
    "dfx = df_rsat[\"NOMBRE GENERICO\"].value_counts().to_frame()"
   ]
  },
  {
   "cell_type": "code",
   "execution_count": 26,
   "metadata": {
    "ExecuteTime": {
     "end_time": "2021-02-05T17:22:02.250877Z",
     "start_time": "2021-02-05T17:22:02.222230Z"
    }
   },
   "outputs": [
    {
     "data": {
      "text/html": [
       "<div>\n",
       "<style scoped>\n",
       "    .dataframe tbody tr th:only-of-type {\n",
       "        vertical-align: middle;\n",
       "    }\n",
       "\n",
       "    .dataframe tbody tr th {\n",
       "        vertical-align: top;\n",
       "    }\n",
       "\n",
       "    .dataframe thead th {\n",
       "        text-align: right;\n",
       "    }\n",
       "</style>\n",
       "<table border=\"1\" class=\"dataframe\">\n",
       "  <thead>\n",
       "    <tr style=\"text-align: right;\">\n",
       "      <th></th>\n",
       "      <th>CLAVE O CODIGO</th>\n",
       "      <th>SUBCLAVE O CODIGO</th>\n",
       "      <th>NOMBRE GENERICO</th>\n",
       "      <th>NOMBRE DE GRUPO TERAPEUTICO</th>\n",
       "      <th>PRINCIPAL INDICACION</th>\n",
       "      <th>DEMAS INDICACIONES</th>\n",
       "    </tr>\n",
       "  </thead>\n",
       "  <tbody>\n",
       "    <tr>\n",
       "      <th>0</th>\n",
       "      <td>010.000.0101.00</td>\n",
       "      <td>010.000.0101.00</td>\n",
       "      <td>ACIDO ACETILSALICILICO</td>\n",
       "      <td>ANALGESIA</td>\n",
       "      <td>1. ARTRITIS REUMATOIDE</td>\n",
       "      <td>2. OSTEOARTRITIS 3. ESPONDILITIS ANQUILOSANTE ...</td>\n",
       "    </tr>\n",
       "    <tr>\n",
       "      <th>1</th>\n",
       "      <td>010.000.5940.00</td>\n",
       "      <td>010.000.5940.00</td>\n",
       "      <td>IBUPROFENO</td>\n",
       "      <td>ANALGESIA</td>\n",
       "      <td>1. DOLOR DE LEVE A MODERADO.</td>\n",
       "      <td>2. FIEBRE.</td>\n",
       "    </tr>\n",
       "    <tr>\n",
       "      <th>2</th>\n",
       "      <td>010.000.0108.00</td>\n",
       "      <td>010.000.0108.00</td>\n",
       "      <td>METAMIZOL SODICO</td>\n",
       "      <td>ANALGESIA</td>\n",
       "      <td>1. FIEBRE</td>\n",
       "      <td>2. DOLOR AGUDO O CRONICO 3. ALGUNOS CASOS DE D...</td>\n",
       "    </tr>\n",
       "    <tr>\n",
       "      <th>3</th>\n",
       "      <td>010.000.0104.00</td>\n",
       "      <td>010.000.0104.00</td>\n",
       "      <td>PARACETAMOL</td>\n",
       "      <td>ANALGESIA</td>\n",
       "      <td>1. FIEBRE</td>\n",
       "      <td>2. DOLOR AGUDO O CRONICO</td>\n",
       "    </tr>\n",
       "    <tr>\n",
       "      <th>4</th>\n",
       "      <td>040.000.2097.00</td>\n",
       "      <td>040.000.2097.00</td>\n",
       "      <td>BUPRENORFINA</td>\n",
       "      <td>ANALGESIA</td>\n",
       "      <td>DOLOR CRONICO DE INTENSIDAD MODERADA A SEVERA ...</td>\n",
       "      <td>NaN</td>\n",
       "    </tr>\n",
       "    <tr>\n",
       "      <th>...</th>\n",
       "      <td>...</td>\n",
       "      <td>...</td>\n",
       "      <td>...</td>\n",
       "      <td>...</td>\n",
       "      <td>...</td>\n",
       "      <td>...</td>\n",
       "    </tr>\n",
       "    <tr>\n",
       "      <th>1042</th>\n",
       "      <td>FCBCISS.000010</td>\n",
       "      <td>FCBCISS.00010</td>\n",
       "      <td>GLUCOSAMINA, CONDROITINA</td>\n",
       "      <td>NO DISPONIBLE</td>\n",
       "      <td>NaN</td>\n",
       "      <td>NaN</td>\n",
       "    </tr>\n",
       "    <tr>\n",
       "      <th>1043</th>\n",
       "      <td>FCBCISS.00011</td>\n",
       "      <td>FCBCISS.00011</td>\n",
       "      <td>PINAVERIO, SIMETICONA</td>\n",
       "      <td>NO DISPONIBLE</td>\n",
       "      <td>NaN</td>\n",
       "      <td>NaN</td>\n",
       "    </tr>\n",
       "    <tr>\n",
       "      <th>1044</th>\n",
       "      <td>FCBCISS.00012</td>\n",
       "      <td>FCBCISS.00012</td>\n",
       "      <td>INMUNOGLOBULINA G NO MODIFICADA</td>\n",
       "      <td>NO DISPONIBLE</td>\n",
       "      <td>NaN</td>\n",
       "      <td>NaN</td>\n",
       "    </tr>\n",
       "    <tr>\n",
       "      <th>1045</th>\n",
       "      <td>FCBCISS.00013</td>\n",
       "      <td>FCBCISS.00013</td>\n",
       "      <td>ISOCONAZOL</td>\n",
       "      <td>NO DISPONIBLE</td>\n",
       "      <td>NaN</td>\n",
       "      <td>NaN</td>\n",
       "    </tr>\n",
       "    <tr>\n",
       "      <th>1046</th>\n",
       "      <td>FCBCISS.00014</td>\n",
       "      <td>FCBCISS.00014</td>\n",
       "      <td>CANDESARTAN</td>\n",
       "      <td>NO DISPONIBLE</td>\n",
       "      <td>NaN</td>\n",
       "      <td>NaN</td>\n",
       "    </tr>\n",
       "  </tbody>\n",
       "</table>\n",
       "<p>1047 rows × 6 columns</p>\n",
       "</div>"
      ],
      "text/plain": [
       "       CLAVE O CODIGO SUBCLAVE O CODIGO                  NOMBRE GENERICO  \\\n",
       "0     010.000.0101.00   010.000.0101.00           ACIDO ACETILSALICILICO   \n",
       "1     010.000.5940.00   010.000.5940.00                       IBUPROFENO   \n",
       "2     010.000.0108.00   010.000.0108.00                 METAMIZOL SODICO   \n",
       "3     010.000.0104.00   010.000.0104.00                      PARACETAMOL   \n",
       "4     040.000.2097.00   040.000.2097.00                     BUPRENORFINA   \n",
       "...               ...               ...                              ...   \n",
       "1042   FCBCISS.000010     FCBCISS.00010         GLUCOSAMINA, CONDROITINA   \n",
       "1043    FCBCISS.00011     FCBCISS.00011            PINAVERIO, SIMETICONA   \n",
       "1044    FCBCISS.00012     FCBCISS.00012  INMUNOGLOBULINA G NO MODIFICADA   \n",
       "1045    FCBCISS.00013     FCBCISS.00013                       ISOCONAZOL   \n",
       "1046    FCBCISS.00014     FCBCISS.00014                      CANDESARTAN   \n",
       "\n",
       "     NOMBRE DE GRUPO TERAPEUTICO  \\\n",
       "0                      ANALGESIA   \n",
       "1                      ANALGESIA   \n",
       "2                      ANALGESIA   \n",
       "3                      ANALGESIA   \n",
       "4                      ANALGESIA   \n",
       "...                          ...   \n",
       "1042               NO DISPONIBLE   \n",
       "1043               NO DISPONIBLE   \n",
       "1044               NO DISPONIBLE   \n",
       "1045               NO DISPONIBLE   \n",
       "1046               NO DISPONIBLE   \n",
       "\n",
       "                                   PRINCIPAL INDICACION  \\\n",
       "0                                1. ARTRITIS REUMATOIDE   \n",
       "1                          1. DOLOR DE LEVE A MODERADO.   \n",
       "2                                             1. FIEBRE   \n",
       "3                                             1. FIEBRE   \n",
       "4     DOLOR CRONICO DE INTENSIDAD MODERADA A SEVERA ...   \n",
       "...                                                 ...   \n",
       "1042                                                NaN   \n",
       "1043                                                NaN   \n",
       "1044                                                NaN   \n",
       "1045                                                NaN   \n",
       "1046                                                NaN   \n",
       "\n",
       "                                     DEMAS INDICACIONES  \n",
       "0     2. OSTEOARTRITIS 3. ESPONDILITIS ANQUILOSANTE ...  \n",
       "1                                            2. FIEBRE.  \n",
       "2     2. DOLOR AGUDO O CRONICO 3. ALGUNOS CASOS DE D...  \n",
       "3                              2. DOLOR AGUDO O CRONICO  \n",
       "4                                                   NaN  \n",
       "...                                                 ...  \n",
       "1042                                                NaN  \n",
       "1043                                                NaN  \n",
       "1044                                                NaN  \n",
       "1045                                                NaN  \n",
       "1046                                                NaN  \n",
       "\n",
       "[1047 rows x 6 columns]"
      ]
     },
     "execution_count": 26,
     "metadata": {},
     "output_type": "execute_result"
    }
   ],
   "source": [
    "df_rsat"
   ]
  },
  {
   "cell_type": "code",
   "execution_count": 27,
   "metadata": {
    "ExecuteTime": {
     "end_time": "2021-02-05T17:22:10.544932Z",
     "start_time": "2021-02-05T17:22:10.266696Z"
    }
   },
   "outputs": [],
   "source": [
    "## Saving final result as excel\n",
    "df_rsat.to_excel(\"../results/catalogo_sat_rob.xlsx\")"
   ]
  },
  {
   "cell_type": "markdown",
   "metadata": {},
   "source": [
    "---"
   ]
  },
  {
   "cell_type": "markdown",
   "metadata": {
    "heading_collapsed": true
   },
   "source": [
    "## Matching data"
   ]
  },
  {
   "cell_type": "code",
   "execution_count": null,
   "metadata": {
    "ExecuteTime": {
     "end_time": "2021-02-04T23:25:39.915191Z",
     "start_time": "2021-02-04T23:25:39.884336Z"
    },
    "hidden": true
   },
   "outputs": [],
   "source": [
    "df_obj"
   ]
  },
  {
   "cell_type": "code",
   "execution_count": null,
   "metadata": {
    "ExecuteTime": {
     "end_time": "2021-02-04T23:25:39.942926Z",
     "start_time": "2021-02-04T23:25:39.917348Z"
    },
    "hidden": true
   },
   "outputs": [],
   "source": [
    "df_ref"
   ]
  },
  {
   "cell_type": "markdown",
   "metadata": {
    "hidden": true
   },
   "source": [
    "### Using fuzzy matching\n",
    "- Notes: \n",
    "    1. It takes too long."
   ]
  },
  {
   "cell_type": "code",
   "execution_count": null,
   "metadata": {
    "ExecuteTime": {
     "end_time": "2021-02-04T23:25:27.106081Z",
     "start_time": "2021-02-04T23:25:27.084258Z"
    },
    "hidden": true
   },
   "outputs": [],
   "source": [
    "def fuzzy_merge(df_1, df_2, key1, key2, threshold=90, limit=1):\n",
    "    \"\"\"\n",
    "    :param df_1: the left table to join\n",
    "    :param df_2: the right table to join\n",
    "    :param key1: key column of the left table\n",
    "    :param key2: key column of the right table\n",
    "    :param threshold: how close the matches should be to return a match, based on Levenshtein distance\n",
    "    :param limit: the amount of matches that will get returned, these are sorted high to low\n",
    "    :return: dataframe with boths keys and matches\n",
    "    \"\"\"\n",
    "    s = df_2[key2].tolist()\n",
    "\n",
    "    m = df_1[key1].apply(lambda x: process.extract(x, s, limit=limit))    \n",
    "    df_1['matches'] = m\n",
    "\n",
    "    m2 = df_1['matches'].apply(lambda x: ', '.join([i[0] for i in x if i[1] >= threshold]))\n",
    "    df_1['matches'] = m2\n",
    "\n",
    "    return df_1"
   ]
  },
  {
   "cell_type": "code",
   "execution_count": null,
   "metadata": {
    "ExecuteTime": {
     "end_time": "2021-02-04T23:53:14.506913Z",
     "start_time": "2021-02-04T23:28:26.162213Z"
    },
    "hidden": true
   },
   "outputs": [],
   "source": [
    "dfx = fuzzy_merge(df_obj, df_ref, 'medicamento', 'descripcion', threshold=65)"
   ]
  },
  {
   "cell_type": "code",
   "execution_count": null,
   "metadata": {
    "ExecuteTime": {
     "end_time": "2021-02-04T23:54:53.023200Z",
     "start_time": "2021-02-04T23:54:52.998359Z"
    },
    "hidden": true
   },
   "outputs": [],
   "source": [
    "df_obj = dfx.copy()"
   ]
  },
  {
   "cell_type": "markdown",
   "metadata": {
    "hidden": true
   },
   "source": [
    "### Using difflib"
   ]
  },
  {
   "cell_type": "markdown",
   "metadata": {
    "hidden": true
   },
   "source": [
    "#### Matching aproximates"
   ]
  },
  {
   "cell_type": "raw",
   "metadata": {
    "ExecuteTime": {
     "end_time": "2021-02-02T22:52:23.813739Z",
     "start_time": "2021-02-02T22:29:40.648216Z"
    },
    "hidden": true
   },
   "source": [
    "df_obj[\"match\"] = df_obj[\"medicamento\"].map(lambda x: difflib.get_close_matches(x, df_ref[\"descripcion\"], cutoff=0.25))\n",
    "df_obj.to_pickle(\"../data/match25.pkl\")"
   ]
  },
  {
   "cell_type": "raw",
   "metadata": {
    "ExecuteTime": {
     "end_time": "2021-02-02T22:52:23.845402Z",
     "start_time": "2021-02-02T22:52:23.826439Z"
    },
    "hidden": true
   },
   "source": [
    "df_obj[\"match_ct\"] = df_obj[\"match\"].apply(lambda x: len(x))"
   ]
  },
  {
   "cell_type": "raw",
   "metadata": {
    "ExecuteTime": {
     "end_time": "2021-02-02T22:55:04.580619Z",
     "start_time": "2021-02-02T22:55:04.571621Z"
    },
    "hidden": true
   },
   "source": [
    "df_obj[\"best_match\"] = df_obj[\"match\"].apply(lambda x: x[0])"
   ]
  },
  {
   "cell_type": "markdown",
   "metadata": {
    "hidden": true
   },
   "source": [
    "#### Loading saved results"
   ]
  },
  {
   "cell_type": "code",
   "execution_count": null,
   "metadata": {
    "ExecuteTime": {
     "end_time": "2021-02-04T23:10:42.847721Z",
     "start_time": "2021-02-04T23:10:42.822635Z"
    },
    "hidden": true
   },
   "outputs": [],
   "source": [
    "df_obj = pd.read_pickle(\"../data/match25.pkl\")"
   ]
  },
  {
   "cell_type": "raw",
   "metadata": {
    "ExecuteTime": {
     "end_time": "2021-02-03T20:24:03.173826Z",
     "start_time": "2021-02-03T20:24:03.140219Z"
    },
    "hidden": true
   },
   "source": [
    "df_obj"
   ]
  },
  {
   "cell_type": "markdown",
   "metadata": {
    "hidden": true
   },
   "source": [
    "#### Calculating levenshtein distances of matches"
   ]
  },
  {
   "cell_type": "code",
   "execution_count": null,
   "metadata": {
    "ExecuteTime": {
     "end_time": "2021-02-04T23:54:55.413767Z",
     "start_time": "2021-02-04T23:54:55.280147Z"
    },
    "hidden": true
   },
   "outputs": [],
   "source": [
    "df_obj[\"lev_score\"] = df_obj.apply(lambda x: rel_leveshtein(x[\"medicamento\"], x[\"best_match\"]), axis=1)"
   ]
  },
  {
   "cell_type": "raw",
   "metadata": {
    "ExecuteTime": {
     "end_time": "2021-02-03T19:57:06.342805Z",
     "start_time": "2021-02-03T19:57:06.326524Z"
    },
    "hidden": true
   },
   "source": [
    "df_obj"
   ]
  },
  {
   "cell_type": "raw",
   "metadata": {
    "ExecuteTime": {
     "end_time": "2021-02-03T20:24:49.768001Z",
     "start_time": "2021-02-03T20:24:49.405758Z"
    },
    "hidden": true
   },
   "source": [
    "plt.hist(\n",
    "    x=df_obj[\"lev_score\"],\n",
    "    bins=30\n",
    ")"
   ]
  },
  {
   "cell_type": "markdown",
   "metadata": {
    "hidden": true
   },
   "source": [
    "#### Marking all entries that were identified as mistakes"
   ]
  },
  {
   "cell_type": "code",
   "execution_count": null,
   "metadata": {
    "ExecuteTime": {
     "end_time": "2021-02-04T23:10:44.145494Z",
     "start_time": "2021-02-04T23:10:44.118344Z"
    },
    "hidden": true
   },
   "outputs": [],
   "source": [
    "df_obj[\"idm\"] = 0\n",
    "\"\"\"\n",
    "Codes:\n",
    "    a)  0 -> not evaluated\n",
    "    b)  1 -> confirmed correct\n",
    "    c) -1 -> confirmed incorrect\n",
    "\"\"\""
   ]
  },
  {
   "cell_type": "code",
   "execution_count": null,
   "metadata": {
    "ExecuteTime": {
     "end_time": "2021-02-04T23:10:44.375533Z",
     "start_time": "2021-02-04T23:10:44.346817Z"
    },
    "hidden": true
   },
   "outputs": [],
   "source": [
    "## Results with leveshteing similarity below or above specific treshold\n",
    "df_obj.loc[df_obj[\"lev_score\"] <= lev_low_tr, [\"idm\"]] = -1\n",
    "df_obj.loc[df_obj[\"lev_score\"] >= lev_high_tr, [\"idm\"]] = 1\n",
    "\n",
    "## Manual entered mistakes\n",
    "for mid in mistakes_id:\n",
    "    df_obj.loc[df_obj.index.isin(mistakes_id[mid]), \"idm\"] = -1"
   ]
  },
  {
   "cell_type": "code",
   "execution_count": null,
   "metadata": {
    "ExecuteTime": {
     "end_time": "2021-02-04T23:10:44.592943Z",
     "start_time": "2021-02-04T23:10:44.568881Z"
    },
    "hidden": true
   },
   "outputs": [],
   "source": [
    "df_obj[\"idm\"].value_counts()"
   ]
  },
  {
   "cell_type": "raw",
   "metadata": {
    "ExecuteTime": {
     "end_time": "2021-02-03T23:55:37.044722Z",
     "start_time": "2021-02-03T23:55:37.001045Z"
    },
    "hidden": true
   },
   "source": [
    "df_obj[df_obj[\"idm\"] == 1]"
   ]
  },
  {
   "cell_type": "markdown",
   "metadata": {
    "hidden": true
   },
   "source": [
    "---"
   ]
  },
  {
   "cell_type": "markdown",
   "metadata": {
    "heading_collapsed": true
   },
   "source": [
    "## Filling table with required info"
   ]
  },
  {
   "cell_type": "markdown",
   "metadata": {
    "hidden": true
   },
   "source": [
    "#### Preparing dataframe"
   ]
  },
  {
   "cell_type": "code",
   "execution_count": null,
   "metadata": {
    "ExecuteTime": {
     "end_time": "2021-02-04T23:10:52.853930Z",
     "start_time": "2021-02-04T23:10:52.811619Z"
    },
    "hidden": true
   },
   "outputs": [],
   "source": [
    "df_obj[\"best_match_lst\"] = df_obj[\"best_match\"].str.split(\" - \")\n",
    "df_obj[\"presents\"] = df_obj[\"best_match_lst\"].apply(lambda x: x[1] if len(x) > 1 else \"check\").str.strip()\n",
    "df_obj[\"pres_type\"] = df_obj[\"presents\"].apply(lambda x: x[:3])\n",
    "df_obj[\"pres_dims\"] = df_obj[\"presents\"].apply(lambda x: x[3:]).str.strip().str.replace(\" \", \"\")\n",
    "df_obj[\"pres_dims_gen\"] = df_obj[\"pres_dims\"].str.replace(\"\\d+\", \"#\")\n",
    "\n",
    "## Dropping unused columns\n",
    "df_obj.drop([\"clave\", \"match\", \"match_ct\", \"best_match_lst\"], axis=1, inplace=True)"
   ]
  },
  {
   "cell_type": "raw",
   "metadata": {
    "ExecuteTime": {
     "end_time": "2021-02-04T01:31:51.972990Z",
     "start_time": "2021-02-04T01:31:51.941335Z"
    },
    "hidden": true,
    "scrolled": true
   },
   "source": [
    "df_obj"
   ]
  },
  {
   "cell_type": "markdown",
   "metadata": {
    "hidden": true
   },
   "source": [
    "#### Filling dataframe with data from parameters"
   ]
  },
  {
   "cell_type": "code",
   "execution_count": null,
   "metadata": {
    "ExecuteTime": {
     "end_time": "2021-02-04T23:10:54.173596Z",
     "start_time": "2021-02-04T23:10:54.072895Z"
    },
    "hidden": true
   },
   "outputs": [],
   "source": [
    "df_obj[\"presentacion\"] = df_obj.apply(lambda x: fill_meds_info(x), axis=1)\n",
    "df_obj[\"presentacion\"] = df_obj[\"presentacion\"].str.capitalize()\n",
    "\n",
    "df_obj[\"administracion\"] = df_obj.apply(lambda x: fill_meds_adm(x), axis=1)"
   ]
  },
  {
   "cell_type": "code",
   "execution_count": null,
   "metadata": {
    "ExecuteTime": {
     "end_time": "2021-02-04T23:10:54.387589Z",
     "start_time": "2021-02-04T23:10:54.343476Z"
    },
    "hidden": true,
    "scrolled": true
   },
   "outputs": [],
   "source": [
    "df_obj"
   ]
  },
  {
   "cell_type": "raw",
   "metadata": {
    "ExecuteTime": {
     "end_time": "2021-02-04T23:08:45.856972Z",
     "start_time": "2021-02-04T23:08:45.817441Z"
    },
    "hidden": true,
    "scrolled": true
   },
   "source": [
    "df_obj[df_obj[\"presentacion\"]==\"No_success\"]"
   ]
  },
  {
   "cell_type": "raw",
   "metadata": {
    "ExecuteTime": {
     "end_time": "2021-02-04T22:57:01.972077Z",
     "start_time": "2021-02-04T22:57:01.945885Z"
    },
    "hidden": true
   },
   "source": [
    "print(df_obj[\"pres_type\"].value_counts(normalize=True)[:25])\n",
    "x = 15\n",
    "print(df_obj[\"pres_type\"].value_counts(normalize=True)[:x].sum())"
   ]
  },
  {
   "cell_type": "markdown",
   "metadata": {
    "hidden": true
   },
   "source": [
    "---"
   ]
  },
  {
   "cell_type": "markdown",
   "metadata": {
    "heading_collapsed": true
   },
   "source": [
    "## Preparing information for export"
   ]
  },
  {
   "cell_type": "raw",
   "metadata": {
    "ExecuteTime": {
     "end_time": "2021-02-04T22:58:06.835447Z",
     "start_time": "2021-02-04T22:58:06.802278Z"
    },
    "hidden": true
   },
   "source": [
    "df_obj[df_obj[\"medicamento\"].str.contains(\"LOMECAN\")]"
   ]
  },
  {
   "cell_type": "code",
   "execution_count": null,
   "metadata": {
    "ExecuteTime": {
     "end_time": "2021-02-04T23:10:56.221550Z",
     "start_time": "2021-02-04T23:10:56.178100Z"
    },
    "hidden": true
   },
   "outputs": [],
   "source": [
    "df_obj[df_obj.index==115]"
   ]
  },
  {
   "cell_type": "code",
   "execution_count": null,
   "metadata": {
    "ExecuteTime": {
     "end_time": "2021-02-04T23:10:57.820943Z",
     "start_time": "2021-02-04T23:10:57.788546Z"
    },
    "hidden": true
   },
   "outputs": [],
   "source": [
    "mr1 = df_obj[\"idm\"] == 1\n",
    "mr2 = df_obj[\"presentacion\"] != \"No_success\"\n",
    "\n",
    "df_res = df_obj.loc[mr1 & mr2, :].copy()\n",
    "\n",
    "rc = [\"medicamento\", \"presentacion\", \"administracion\"]\n",
    "df_res.drop([col for col in df_res.columns if col not in rc], axis=1, inplace=True)\n",
    "\n",
    "df_res"
   ]
  },
  {
   "cell_type": "code",
   "execution_count": null,
   "metadata": {
    "ExecuteTime": {
     "end_time": "2021-02-04T23:11:04.430769Z",
     "start_time": "2021-02-04T23:11:04.208721Z"
    },
    "hidden": true
   },
   "outputs": [],
   "source": [
    "df_res.to_excel(\"../results/cat_meds_raw.xlsx\")"
   ]
  },
  {
   "cell_type": "code",
   "execution_count": null,
   "metadata": {
    "ExecuteTime": {
     "end_time": "2021-02-04T23:05:53.126356Z",
     "start_time": "2021-02-04T23:05:53.092541Z"
    },
    "hidden": true
   },
   "outputs": [],
   "source": [
    "df_n = pd.read_csv(\"../utils/manual_notes.csv\")\n",
    "df_n"
   ]
  },
  {
   "cell_type": "code",
   "execution_count": null,
   "metadata": {
    "ExecuteTime": {
     "end_time": "2021-02-04T23:07:10.392312Z",
     "start_time": "2021-02-04T23:07:10.371660Z"
    },
    "hidden": true
   },
   "outputs": [],
   "source": [
    "x = df_n[df_n[\"b\"].notnull()].loc[:, \"a\"].to_list()"
   ]
  },
  {
   "cell_type": "code",
   "execution_count": null,
   "metadata": {
    "ExecuteTime": {
     "end_time": "2021-02-04T02:04:24.624082Z",
     "start_time": "2021-02-04T02:04:24.589080Z"
    },
    "hidden": true
   },
   "outputs": [],
   "source": [
    "df_res2 = pd.read_excel(\"../results/cat_meds_notes.xlsx\")"
   ]
  },
  {
   "cell_type": "code",
   "execution_count": null,
   "metadata": {
    "ExecuteTime": {
     "end_time": "2021-02-04T02:04:24.830434Z",
     "start_time": "2021-02-04T02:04:24.772826Z"
    },
    "hidden": true
   },
   "outputs": [],
   "source": [
    "df_res2 = df_res2[df_res2[\"Unnamed: 4\"]!=1].copy()\n",
    "\n",
    "df_res2.drop([\"Unnamed: 0\", \"Unnamed: 4\"], axis=1, inplace=True)\n",
    "\n",
    "df_res2.reset_index(inplace=True, drop=True)\n",
    "\n",
    "df_res2.to_excel(\"../results/cat_meds_rev.xlsx\")\n",
    "\n",
    "df_res2"
   ]
  },
  {
   "cell_type": "markdown",
   "metadata": {
    "hidden": true
   },
   "source": [
    "---"
   ]
  },
  {
   "cell_type": "markdown",
   "metadata": {},
   "source": [
    "## *Notes*"
   ]
  },
  {
   "cell_type": "markdown",
   "metadata": {},
   "source": [
    "### Analyzing possible presentations"
   ]
  },
  {
   "cell_type": "code",
   "execution_count": null,
   "metadata": {
    "ExecuteTime": {
     "end_time": "2021-02-04T22:52:32.130396Z",
     "start_time": "2021-02-04T22:52:32.104812Z"
    }
   },
   "outputs": [],
   "source": [
    "pres_t = \"BTE\""
   ]
  },
  {
   "cell_type": "code",
   "execution_count": null,
   "metadata": {
    "ExecuteTime": {
     "end_time": "2021-02-04T22:52:32.713607Z",
     "start_time": "2021-02-04T22:52:32.687005Z"
    }
   },
   "outputs": [],
   "source": [
    "dfx = df_obj.groupby([\"pres_type\", \"pres_dims_gen\"]).count()[[\"medicamento\"]]"
   ]
  },
  {
   "cell_type": "code",
   "execution_count": null,
   "metadata": {
    "ExecuteTime": {
     "end_time": "2021-02-04T22:52:32.902830Z",
     "start_time": "2021-02-04T22:52:32.875934Z"
    }
   },
   "outputs": [],
   "source": [
    "dfx[dfx.index.get_level_values(0)==pres_t]"
   ]
  },
  {
   "cell_type": "raw",
   "metadata": {
    "ExecuteTime": {
     "end_time": "2021-02-03T20:06:58.453714Z",
     "start_time": "2021-02-03T20:06:58.445795Z"
    }
   },
   "source": [
    "print(df_obj[\"pres_type\"].value_counts())\n",
    "\n",
    "print(df_obj[\"pres_type\"].value_counts(normalize=True))"
   ]
  },
  {
   "cell_type": "code",
   "execution_count": null,
   "metadata": {
    "ExecuteTime": {
     "end_time": "2021-02-04T22:52:46.668545Z",
     "start_time": "2021-02-04T22:52:46.643955Z"
    },
    "scrolled": true
   },
   "outputs": [],
   "source": [
    "mr1 = df_obj[\"pres_type\"]==pres_t\n",
    "mr2 = df_obj[\"pres_dims_gen\"]==\"#\"\n",
    "\n",
    "df_obj.loc[(mr1 & mr2), :]#.index.to_list()"
   ]
  },
  {
   "cell_type": "code",
   "execution_count": null,
   "metadata": {
    "ExecuteTime": {
     "end_time": "2021-02-04T22:52:34.929874Z",
     "start_time": "2021-02-04T22:52:34.892157Z"
    },
    "scrolled": true
   },
   "outputs": [],
   "source": [
    "mr1 = df_obj[\"pres_type\"]==pres_t\n",
    "mr2 = df_obj[\"pres_dims_gen\"]==\"#\"\n",
    "\n",
    "df_obj.loc[(mr1 & ~mr2), :]#.index.to_list()"
   ]
  },
  {
   "cell_type": "markdown",
   "metadata": {
    "heading_collapsed": true
   },
   "source": [
    "### Testing Levenshtein distance algorithm"
   ]
  },
  {
   "cell_type": "code",
   "execution_count": null,
   "metadata": {
    "ExecuteTime": {
     "end_time": "2021-02-03T19:51:18.851462Z",
     "start_time": "2021-02-03T19:51:18.846529Z"
    },
    "hidden": true
   },
   "outputs": [],
   "source": [
    "txt_a = \"360 ANTISEPTICO JALOMA\"\n",
    "\n",
    "txt_match = [\n",
    "    \"360 NTISEPCO JALOA\",\n",
    "    \";akjdncn;a a;dkj ;akwejn;qkejn gfkdj slkerjbal;\",\n",
    "    \"JALOMA ANTISEPTICO\",\n",
    "    \"360 ANTISEPTICO A;AKJNR JALOMA AS;DKJRNLA\"\n",
    "]"
   ]
  },
  {
   "cell_type": "code",
   "execution_count": null,
   "metadata": {
    "ExecuteTime": {
     "end_time": "2021-02-03T19:51:19.062464Z",
     "start_time": "2021-02-03T19:51:19.052418Z"
    },
    "hidden": true
   },
   "outputs": [],
   "source": [
    "for txt_m in txt_match:\n",
    "    print(\"{} --> {}\".format(txt_m, rel_leveshtein(txt_a, txt_m)))"
   ]
  },
  {
   "cell_type": "markdown",
   "metadata": {
    "heading_collapsed": true
   },
   "source": [
    "### Naive algorithm to tackle problem"
   ]
  },
  {
   "cell_type": "raw",
   "metadata": {
    "ExecuteTime": {
     "end_time": "2021-02-02T21:11:41.785202Z",
     "start_time": "2021-02-02T21:11:41.506671Z"
    },
    "hidden": true
   },
   "source": [
    "for i in range(0, df_obj.shape[0]):\n",
    "    \n",
    "    res = 0\n",
    "    \n",
    "    for j in range(0, df_ref.shape[0]):\n",
    "        \n",
    "        nres = Levenshtein.distance(df_obj.iloc[i, 1], df_ref.iloc[j, 3])\n",
    "        \n",
    "        if nres > res:\n",
    "            res = nres\n",
    "            \n",
    "        "
   ]
  },
  {
   "cell_type": "markdown",
   "metadata": {
    "heading_collapsed": true
   },
   "source": [
    "### Test fuzzy matching"
   ]
  },
  {
   "cell_type": "code",
   "execution_count": null,
   "metadata": {
    "ExecuteTime": {
     "end_time": "2021-02-02T21:40:08.753107Z",
     "start_time": "2021-02-02T21:40:08.740411Z"
    },
    "hidden": true
   },
   "outputs": [],
   "source": [
    "df1 = pd.DataFrame({'Key':['Apple', 'Banana', 'Orange', 'Strawberry']})\n",
    "df2 = pd.DataFrame({'Key':['Aple', 'Mango', 'Orag', 'Straw', 'Bannanna', 'Berry']})"
   ]
  },
  {
   "cell_type": "code",
   "execution_count": null,
   "metadata": {
    "ExecuteTime": {
     "end_time": "2021-02-02T21:40:17.322004Z",
     "start_time": "2021-02-02T21:40:17.311252Z"
    },
    "hidden": true
   },
   "outputs": [],
   "source": [
    "df1"
   ]
  },
  {
   "cell_type": "code",
   "execution_count": null,
   "metadata": {
    "ExecuteTime": {
     "end_time": "2021-02-02T21:40:21.833880Z",
     "start_time": "2021-02-02T21:40:21.827262Z"
    },
    "hidden": true
   },
   "outputs": [],
   "source": [
    "df2"
   ]
  },
  {
   "cell_type": "code",
   "execution_count": null,
   "metadata": {
    "ExecuteTime": {
     "end_time": "2021-02-02T21:40:35.241325Z",
     "start_time": "2021-02-02T21:40:35.228495Z"
    },
    "hidden": true
   },
   "outputs": [],
   "source": [
    "fuzzy_merge(df1, df2, 'Key', 'Key', threshold=80)"
   ]
  },
  {
   "cell_type": "markdown",
   "metadata": {
    "heading_collapsed": true
   },
   "source": [
    "### Test difflib\n",
    "- Notes:"
   ]
  },
  {
   "cell_type": "code",
   "execution_count": null,
   "metadata": {
    "ExecuteTime": {
     "end_time": "2021-02-02T22:06:51.377629Z",
     "start_time": "2021-02-02T22:06:51.372540Z"
    },
    "hidden": true
   },
   "outputs": [],
   "source": [
    "df1 = pd.DataFrame([[1],[2],[3],[4],[5], [11]], index=['one','two','three','four','five', \"eleven\"], columns=['number'])\n",
    "df2 = pd.DataFrame([['a'],['b'],['c'],['d'],['e'], [\"f\"],[\"g\"]], index=['onee','too','three','fours','fivvee', \"six\", \"one\"], columns=['letter'])"
   ]
  },
  {
   "cell_type": "code",
   "execution_count": null,
   "metadata": {
    "ExecuteTime": {
     "end_time": "2021-02-02T22:06:51.560468Z",
     "start_time": "2021-02-02T22:06:51.555674Z"
    },
    "hidden": true
   },
   "outputs": [],
   "source": [
    "df1"
   ]
  },
  {
   "cell_type": "code",
   "execution_count": null,
   "metadata": {
    "ExecuteTime": {
     "end_time": "2021-02-02T22:06:51.757316Z",
     "start_time": "2021-02-02T22:06:51.751309Z"
    },
    "hidden": true
   },
   "outputs": [],
   "source": [
    "df2"
   ]
  },
  {
   "cell_type": "code",
   "execution_count": null,
   "metadata": {
    "ExecuteTime": {
     "end_time": "2021-02-02T22:06:59.970760Z",
     "start_time": "2021-02-02T22:06:59.966806Z"
    },
    "hidden": true
   },
   "outputs": [],
   "source": [
    "df1[\"match\"] = df1.index.map(lambda x: difflib.get_close_matches(x, df2.index))"
   ]
  },
  {
   "cell_type": "code",
   "execution_count": null,
   "metadata": {
    "ExecuteTime": {
     "end_time": "2021-02-02T22:07:00.890949Z",
     "start_time": "2021-02-02T22:07:00.883002Z"
    },
    "hidden": true
   },
   "outputs": [],
   "source": [
    "df1"
   ]
  },
  {
   "cell_type": "markdown",
   "metadata": {
    "hidden": true
   },
   "source": [
    "---\n",
    "---"
   ]
  }
 ],
 "metadata": {
  "kernelspec": {
   "display_name": "Python 3",
   "language": "python",
   "name": "python3"
  },
  "language_info": {
   "codemirror_mode": {
    "name": "ipython",
    "version": 3
   },
   "file_extension": ".py",
   "mimetype": "text/x-python",
   "name": "python",
   "nbconvert_exporter": "python",
   "pygments_lexer": "ipython3",
   "version": "3.8.5"
  }
 },
 "nbformat": 4,
 "nbformat_minor": 4
}
