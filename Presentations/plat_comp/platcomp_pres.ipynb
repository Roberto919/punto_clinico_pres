{
 "cells": [
  {
   "cell_type": "markdown",
   "metadata": {
    "slideshow": {
     "slide_type": "skip"
    }
   },
   "source": [
    "## *Base code*"
   ]
  },
  {
   "cell_type": "markdown",
   "metadata": {
    "heading_collapsed": true,
    "slideshow": {
     "slide_type": "skip"
    }
   },
   "source": [
    "### Imports"
   ]
  },
  {
   "cell_type": "markdown",
   "metadata": {
    "heading_collapsed": true,
    "hidden": true,
    "slideshow": {
     "slide_type": "skip"
    }
   },
   "source": [
    "#### Standard library imports"
   ]
  },
  {
   "cell_type": "code",
   "execution_count": 4,
   "metadata": {
    "ExecuteTime": {
     "end_time": "2021-03-09T16:02:42.722752Z",
     "start_time": "2021-03-09T16:02:42.706697Z"
    },
    "hidden": true,
    "init_cell": true,
    "slideshow": {
     "slide_type": "skip"
    }
   },
   "outputs": [],
   "source": [
    "from IPython.display import display, Markdown, Latex\n",
    "import sys\n",
    "import os\n",
    "import re"
   ]
  },
  {
   "cell_type": "markdown",
   "metadata": {
    "heading_collapsed": true,
    "hidden": true,
    "slideshow": {
     "slide_type": "skip"
    }
   },
   "source": [
    "#### Third party imports"
   ]
  },
  {
   "cell_type": "code",
   "execution_count": 5,
   "metadata": {
    "ExecuteTime": {
     "end_time": "2021-03-09T16:02:42.740699Z",
     "start_time": "2021-03-09T16:02:42.724591Z"
    },
    "hidden": true,
    "init_cell": true,
    "slideshow": {
     "slide_type": "skip"
    }
   },
   "outputs": [],
   "source": [
    "import pandas as pd"
   ]
  },
  {
   "cell_type": "markdown",
   "metadata": {
    "heading_collapsed": true,
    "hidden": true,
    "slideshow": {
     "slide_type": "skip"
    }
   },
   "source": [
    "#### Local application imports"
   ]
  },
  {
   "cell_type": "code",
   "execution_count": 6,
   "metadata": {
    "ExecuteTime": {
     "end_time": "2021-03-09T16:02:42.760659Z",
     "start_time": "2021-03-09T16:02:42.742166Z"
    },
    "hidden": true,
    "init_cell": true,
    "slideshow": {
     "slide_type": "skip"
    }
   },
   "outputs": [
    {
     "name": "stdout",
     "output_type": "stream",
     "text": [
      "The autoreload extension is already loaded. To reload it, use:\n",
      "  %reload_ext autoreload\n"
     ]
    }
   ],
   "source": [
    "%load_ext autoreload\n",
    "%autoreload 2\n",
    "\n",
    "from modules.platcomp_params import (\n",
    "    ext_data_dir_name,\n",
    ")\n",
    "\n",
    "from modules.platcomp_prescont import (\n",
    "    slides_cont\n",
    ")"
   ]
  },
  {
   "cell_type": "markdown",
   "metadata": {
    "heading_collapsed": true,
    "slideshow": {
     "slide_type": "skip"
    }
   },
   "source": [
    "### Managing external data"
   ]
  },
  {
   "cell_type": "markdown",
   "metadata": {
    "heading_collapsed": true,
    "hidden": true,
    "slideshow": {
     "slide_type": "skip"
    }
   },
   "source": [
    "#### Notion comparative table"
   ]
  },
  {
   "cell_type": "code",
   "execution_count": 7,
   "metadata": {
    "ExecuteTime": {
     "end_time": "2021-03-09T16:02:42.781356Z",
     "start_time": "2021-03-09T16:02:42.764732Z"
    },
    "hidden": true,
    "slideshow": {
     "slide_type": "skip"
    }
   },
   "outputs": [],
   "source": [
    "## Getting most recent version of Notion table\n",
    "\n",
    "mrd = max([file.split(sep=\"_\")[0] for file in os.listdir(\"ext_data/\") if \".DS_Store\" not in file])\n",
    "\n",
    "notion_t = [file for file in os.listdir(\"ext_data/\") if mrd in file][0]"
   ]
  },
  {
   "cell_type": "code",
   "execution_count": 8,
   "metadata": {
    "ExecuteTime": {
     "end_time": "2021-03-09T16:02:42.825759Z",
     "start_time": "2021-03-09T16:02:42.784602Z"
    },
    "hidden": true,
    "scrolled": true,
    "slideshow": {
     "slide_type": "skip"
    }
   },
   "outputs": [],
   "source": [
    "df_n = pd.read_csv(ext_data_dir_name + notion_t)\n",
    "\n",
    "\n",
    "\n",
    "def count_strengths(row):\n",
    "    \"\"\"\n",
    "    \"\"\"\n",
    "    \n",
    "    res = 0\n",
    "    \n",
    "    counts = row.value_counts()\n",
    "    \n",
    "    if \"Yes\" in counts.index:\n",
    "        res = counts[\"Yes\"]\n",
    "        \n",
    "    return res\n",
    "\n",
    "\n",
    "\n",
    "strengths_cols = [col for col in df_n.columns if \"!\" in col]\n",
    "\n",
    "df_n[\"Aciertos\"] = df_n.loc[:, strengths_cols].apply(lambda x: count_strengths(x), axis=1)\n",
    "df_n[\"Faltas\"] = len(strengths_cols) - df_n[\"Aciertos\"]\n",
    "\n",
    "\n",
    "\n",
    "# df_n"
   ]
  },
  {
   "cell_type": "code",
   "execution_count": 9,
   "metadata": {
    "ExecuteTime": {
     "end_time": "2021-03-09T16:02:43.328448Z",
     "start_time": "2021-03-09T16:02:42.827468Z"
    },
    "hidden": true,
    "slideshow": {
     "slide_type": "skip"
    }
   },
   "outputs": [
    {
     "data": {
      "text/html": [
       "<style  type=\"text/css\" >\n",
       "    #T_e1c4f726_80f0_11eb_8dc7_acde48001122 th {\n",
       "          font-size: 18px;\n",
       "    }    #T_e1c4f726_80f0_11eb_8dc7_acde48001122 td {\n",
       "          font-size: 16px;\n",
       "    }</style><table id=\"T_e1c4f726_80f0_11eb_8dc7_acde48001122\" ><thead>    <tr>        <th class=\"blank level0\" ></th>        <th class=\"col_heading level0 col0\" >Plataforma</th>        <th class=\"col_heading level0 col1\" >Aciertos</th>        <th class=\"col_heading level0 col2\" >Faltas</th>        <th class=\"col_heading level0 col3\" >Relevancia</th>    </tr></thead><tbody>\n",
       "                <tr>\n",
       "                        <th id=\"T_e1c4f726_80f0_11eb_8dc7_acde48001122level0_row0\" class=\"row_heading level0 row0\" >1</th>\n",
       "                        <td id=\"T_e1c4f726_80f0_11eb_8dc7_acde48001122row0_col0\" class=\"data row0 col0\" >Medesk</td>\n",
       "                        <td id=\"T_e1c4f726_80f0_11eb_8dc7_acde48001122row0_col1\" class=\"data row0 col1\" >7</td>\n",
       "                        <td id=\"T_e1c4f726_80f0_11eb_8dc7_acde48001122row0_col2\" class=\"data row0 col2\" >1</td>\n",
       "                        <td id=\"T_e1c4f726_80f0_11eb_8dc7_acde48001122row0_col3\" class=\"data row0 col3\" > Alta 🔥</td>\n",
       "            </tr>\n",
       "            <tr>\n",
       "                        <th id=\"T_e1c4f726_80f0_11eb_8dc7_acde48001122level0_row1\" class=\"row_heading level0 row1\" >2</th>\n",
       "                        <td id=\"T_e1c4f726_80f0_11eb_8dc7_acde48001122row1_col0\" class=\"data row1 col0\" >Clinic Cloud</td>\n",
       "                        <td id=\"T_e1c4f726_80f0_11eb_8dc7_acde48001122row1_col1\" class=\"data row1 col1\" >8</td>\n",
       "                        <td id=\"T_e1c4f726_80f0_11eb_8dc7_acde48001122row1_col2\" class=\"data row1 col2\" >0</td>\n",
       "                        <td id=\"T_e1c4f726_80f0_11eb_8dc7_acde48001122row1_col3\" class=\"data row1 col3\" > Alta 🔥</td>\n",
       "            </tr>\n",
       "            <tr>\n",
       "                        <th id=\"T_e1c4f726_80f0_11eb_8dc7_acde48001122level0_row2\" class=\"row_heading level0 row2\" >3</th>\n",
       "                        <td id=\"T_e1c4f726_80f0_11eb_8dc7_acde48001122row2_col0\" class=\"data row2 col0\" >DriCloud</td>\n",
       "                        <td id=\"T_e1c4f726_80f0_11eb_8dc7_acde48001122row2_col1\" class=\"data row2 col1\" >8</td>\n",
       "                        <td id=\"T_e1c4f726_80f0_11eb_8dc7_acde48001122row2_col2\" class=\"data row2 col2\" >0</td>\n",
       "                        <td id=\"T_e1c4f726_80f0_11eb_8dc7_acde48001122row2_col3\" class=\"data row2 col3\" > Alta 🔥</td>\n",
       "            </tr>\n",
       "            <tr>\n",
       "                        <th id=\"T_e1c4f726_80f0_11eb_8dc7_acde48001122level0_row3\" class=\"row_heading level0 row3\" >4</th>\n",
       "                        <td id=\"T_e1c4f726_80f0_11eb_8dc7_acde48001122row3_col0\" class=\"data row3 col0\" >Medsi</td>\n",
       "                        <td id=\"T_e1c4f726_80f0_11eb_8dc7_acde48001122row3_col1\" class=\"data row3 col1\" >4</td>\n",
       "                        <td id=\"T_e1c4f726_80f0_11eb_8dc7_acde48001122row3_col2\" class=\"data row3 col2\" >4</td>\n",
       "                        <td id=\"T_e1c4f726_80f0_11eb_8dc7_acde48001122row3_col3\" class=\"data row3 col3\" > Media ☀️</td>\n",
       "            </tr>\n",
       "            <tr>\n",
       "                        <th id=\"T_e1c4f726_80f0_11eb_8dc7_acde48001122level0_row4\" class=\"row_heading level0 row4\" >5</th>\n",
       "                        <td id=\"T_e1c4f726_80f0_11eb_8dc7_acde48001122row4_col0\" class=\"data row4 col0\" >RICOH SmartDoctor</td>\n",
       "                        <td id=\"T_e1c4f726_80f0_11eb_8dc7_acde48001122row4_col1\" class=\"data row4 col1\" >1</td>\n",
       "                        <td id=\"T_e1c4f726_80f0_11eb_8dc7_acde48001122row4_col2\" class=\"data row4 col2\" >7</td>\n",
       "                        <td id=\"T_e1c4f726_80f0_11eb_8dc7_acde48001122row4_col3\" class=\"data row4 col3\" > Baja 🥶</td>\n",
       "            </tr>\n",
       "    </tbody></table>"
      ],
      "text/plain": [
       "<pandas.io.formats.style.Styler at 0x1304015e0>"
      ]
     },
     "execution_count": 9,
     "metadata": {},
     "output_type": "execute_result"
    }
   ],
   "source": [
    "## Manipulating original table\n",
    "\n",
    "mr1 = df_n[\"Relevancia\"].notnull()\n",
    "\n",
    "mc1 = [\n",
    "    \"Plataforma\",\n",
    "    \"Aciertos\",\n",
    "    \"Faltas\",\n",
    "    \"Relevancia\",\n",
    "]\n",
    "\n",
    "df_x = df_n.loc[mr1, mc1].copy()\n",
    "\n",
    "df_x.sort_values(by=\"Relevancia\", inplace=True)\n",
    "\n",
    "df_x[\"Relevancia\"] = df_x[\"Relevancia\"].apply(lambda x: x[2:])\n",
    "\n",
    "df_x.index = range(1, df_x.shape[0] + 1)\n",
    "\n",
    "\n",
    "\n",
    "## Styling output table\n",
    "\n",
    "df_x_style = [\n",
    "    {\n",
    "        \"selector\": \"th\",\n",
    "        \"props\": [('font-size', '18px')]\n",
    "    },\n",
    "    {\n",
    "        \"selector\": \"td\",\n",
    "        \"props\": [('font-size', '16px')]\n",
    "    },\n",
    "]\n",
    "\n",
    "df_x = df_x.style.set_table_styles(df_x_style)\n",
    "\n",
    "df_x"
   ]
  },
  {
   "cell_type": "markdown",
   "metadata": {
    "hidden": true,
    "slideshow": {
     "slide_type": "skip"
    }
   },
   "source": [
    "---"
   ]
  },
  {
   "cell_type": "markdown",
   "metadata": {
    "slideshow": {
     "slide_type": "slide"
    }
   },
   "source": [
    "# Introducción"
   ]
  },
  {
   "cell_type": "markdown",
   "metadata": {
    "slideshow": {
     "slide_type": "subslide"
    },
    "variables": {
     "Markdown(slides_cont[\"intro\"][\"intro_s1\"][\"title\"])": "<h2 id=\"objetivo-de-la-presentación\">Objetivo de la presentación</h2>\n"
    }
   },
   "source": [
    "{{Markdown(slides_cont[\"intro\"][\"intro_s1\"][\"title\"])}}"
   ]
  },
  {
   "cell_type": "markdown",
   "metadata": {
    "ExecuteTime": {
     "end_time": "2021-03-09T15:19:20.771436Z",
     "start_time": "2021-03-09T15:19:20.711434Z"
    },
    "variables": {
     "Markdown(slides_cont[\"intro\"][\"intro_s1\"][\"body_1\"])": "<p>Comparativo entre la plataforma utilizada por Punto Clínico y otras alternativas del mercado</p>\n"
    }
   },
   "source": [
    "{{Markdown(slides_cont[\"intro\"][\"intro_s1\"][\"body_1\"])}}"
   ]
  },
  {
   "cell_type": "markdown",
   "metadata": {
    "ExecuteTime": {
     "end_time": "2021-03-09T15:18:29.536807Z",
     "start_time": "2021-03-09T15:18:29.434855Z"
    },
    "cell_style": "split"
   },
   "source": [
    "<center>\n",
    "    <img src=\"https://media.giphy.com/media/JpdvqUB2xeydKPZA0I/giphy.gif\" width=\"300;\" padding=\"1px;\">\n",
    "<center/>"
   ]
  },
  {
   "cell_type": "markdown",
   "metadata": {
    "ExecuteTime": {
     "end_time": "2021-03-09T15:18:29.536807Z",
     "start_time": "2021-03-09T15:18:29.434855Z"
    },
    "cell_style": "split"
   },
   "source": [
    "<center>\n",
    "    <img src=\"https://media.giphy.com/media/j38H3w0Mbouj4b8JHv/giphy.gif\" width=\"300;\" padding=\"1px;\">\n",
    "<center/>"
   ]
  },
  {
   "cell_type": "markdown",
   "metadata": {
    "ExecuteTime": {
     "end_time": "2021-03-09T15:18:29.536807Z",
     "start_time": "2021-03-09T15:18:29.434855Z"
    },
    "cell_style": "split"
   },
   "source": [
    "<center>\n",
    "    <img src=\"https://media.giphy.com/media/VJCAR83MZzZYppw4mA/giphy.gif\" width=\"300;\" padding=\"1px;\">\n",
    "<center/>"
   ]
  },
  {
   "cell_type": "markdown",
   "metadata": {
    "ExecuteTime": {
     "end_time": "2021-03-09T15:30:20.806523Z",
     "start_time": "2021-03-09T15:30:20.789466Z"
    },
    "cell_style": "split"
   },
   "source": [
    "<center>\n",
    "    <img src=\"https://media.giphy.com/media/gFE2BfEn2vG9rEelT4/giphy.gif\" width=\"300;\" padding=\"1px;\">\n",
    "<center/>"
   ]
  },
  {
   "cell_type": "markdown",
   "metadata": {
    "slideshow": {
     "slide_type": "subslide"
    },
    "variables": {
     "Markdown(slides_cont[\"intro\"][\"intro_s2\"][\"title\"])": "<h2 id=\"motivaciones-para-desarrollar-plataforma\">Motivaciones para desarrollar plataforma</h2>\n"
    }
   },
   "source": [
    "{{Markdown(slides_cont[\"intro\"][\"intro_s2\"][\"title\"])}}"
   ]
  },
  {
   "cell_type": "markdown",
   "metadata": {
    "slideshow": {
     "slide_type": "fragment"
    },
    "variables": {
     "Markdown(slides_cont[\"intro\"][\"intro_s2\"][\"body_1\"])": "<p>1️⃣  Robustecer las <strong>funcionalidades administrativas</strong></p>\n"
    }
   },
   "source": [
    "{{Markdown(slides_cont[\"intro\"][\"intro_s2\"][\"body_1\"])}}"
   ]
  },
  {
   "cell_type": "markdown",
   "metadata": {
    "slideshow": {
     "slide_type": "fragment"
    },
    "variables": {
     "Markdown(slides_cont[\"intro\"][\"intro_s2\"][\"body_2\"])": "<p>2️⃣  Automatizar <strong>actividades recurrentes</strong></p>\n"
    }
   },
   "source": [
    "{{Markdown(slides_cont[\"intro\"][\"intro_s2\"][\"body_2\"])}}"
   ]
  },
  {
   "cell_type": "markdown",
   "metadata": {
    "slideshow": {
     "slide_type": "fragment"
    },
    "variables": {
     "Markdown(slides_cont[\"intro\"][\"intro_s2\"][\"body_3\"])": "<p>️3️⃣  Disponer de <strong>información de negocio</strong> para la toma de decisiones</p>\n"
    }
   },
   "source": [
    "{{Markdown(slides_cont[\"intro\"][\"intro_s2\"][\"body_3\"])}}"
   ]
  },
  {
   "cell_type": "markdown",
   "metadata": {
    "slideshow": {
     "slide_type": "fragment"
    },
    "variables": {
     "Markdown(slides_cont[\"intro\"][\"intro_s2\"][\"body_4\"])": "<p>4️⃣  Integrar <strong>herramientas externas</strong></p>\n"
    }
   },
   "source": [
    "{{Markdown(slides_cont[\"intro\"][\"intro_s2\"][\"body_4\"])}}"
   ]
  },
  {
   "cell_type": "markdown",
   "metadata": {
    "slideshow": {
     "slide_type": "fragment"
    },
    "variables": {
     "Markdown(slides_cont[\"intro\"][\"intro_s2\"][\"body_5\"])": "<p>5️⃣  Obtener control de los <strong>datos generados</strong></p>\n"
    }
   },
   "source": [
    "{{Markdown(slides_cont[\"intro\"][\"intro_s2\"][\"body_5\"])}}"
   ]
  },
  {
   "cell_type": "markdown",
   "metadata": {
    "slideshow": {
     "slide_type": "slide"
    }
   },
   "source": [
    "# Metodología"
   ]
  },
  {
   "cell_type": "markdown",
   "metadata": {
    "ExecuteTime": {
     "end_time": "2021-03-05T20:25:46.784045Z",
     "start_time": "2021-03-05T20:25:46.761012Z"
    },
    "slideshow": {
     "slide_type": "subslide"
    },
    "variables": {
     "Markdown(slides_cont[\"meto\"][\"meto_s1\"][\"title\"])": "<h2 id=\"atributos-considerados\">Atributos considerados</h2>\n"
    }
   },
   "source": [
    "{{Markdown(slides_cont[\"meto\"][\"meto_s1\"][\"title\"])}}"
   ]
  },
  {
   "cell_type": "markdown",
   "metadata": {
    "ExecuteTime": {
     "end_time": "2021-03-05T20:25:46.784045Z",
     "start_time": "2021-03-05T20:25:46.761012Z"
    },
    "slideshow": {
     "slide_type": ""
    },
    "variables": {
     "Markdown(slides_cont[\"meto\"][\"meto_s1\"][\"body_1\"])": "<p>Para el comparativo, se tomaron en cuenta 8 atributos relevantes: </p>\n"
    }
   },
   "source": [
    "{{Markdown(slides_cont[\"meto\"][\"meto_s1\"][\"body_1\"])}}"
   ]
  },
  {
   "cell_type": "markdown",
   "metadata": {
    "ExecuteTime": {
     "end_time": "2021-03-05T20:25:46.784045Z",
     "start_time": "2021-03-05T20:25:46.761012Z"
    },
    "cell_style": "split",
    "slideshow": {
     "slide_type": "fragment"
    },
    "variables": {
     "Markdown(slides_cont[\"meto\"][\"meto_s1\"][\"body_2\"])": "<p>📒  Agenda off-line</p>\n",
     "Markdown(slides_cont[\"meto\"][\"meto_s1\"][\"body_3\"])": "<p>🖱  Agenda on-line</p>\n",
     "Markdown(slides_cont[\"meto\"][\"meto_s1\"][\"body_4\"])": "<p>🩺  Módulo médico</p>\n",
     "Markdown(slides_cont[\"meto\"][\"meto_s1\"][\"body_5\"])": "<p>💻  Teleconsultas</p>\n"
    }
   },
   "source": [
    "{{Markdown(slides_cont[\"meto\"][\"meto_s1\"][\"body_2\"])}}\n",
    "\n",
    "{{Markdown(slides_cont[\"meto\"][\"meto_s1\"][\"body_3\"])}}\n",
    "\n",
    "{{Markdown(slides_cont[\"meto\"][\"meto_s1\"][\"body_4\"])}}\n",
    "\n",
    "{{Markdown(slides_cont[\"meto\"][\"meto_s1\"][\"body_5\"])}}"
   ]
  },
  {
   "cell_type": "markdown",
   "metadata": {
    "ExecuteTime": {
     "end_time": "2021-03-05T20:25:46.784045Z",
     "start_time": "2021-03-05T20:25:46.761012Z"
    },
    "cell_style": "split",
    "slideshow": {
     "slide_type": "fragment"
    },
    "variables": {
     "Markdown(slides_cont[\"meto\"][\"meto_s1\"][\"body_6\"])": "<p>✅  Administración</p>\n",
     "Markdown(slides_cont[\"meto\"][\"meto_s1\"][\"body_7\"])": "<p>👛  Finanzas</p>\n",
     "Markdown(slides_cont[\"meto\"][\"meto_s1\"][\"body_8\"])": "<p>💁🏼  Atención a cliente</p>\n",
     "Markdown(slides_cont[\"meto\"][\"meto_s1\"][\"body_9\"])": "<p>🤯  Otros</p>\n"
    }
   },
   "source": [
    "{{Markdown(slides_cont[\"meto\"][\"meto_s1\"][\"body_6\"])}}\n",
    "\n",
    "{{Markdown(slides_cont[\"meto\"][\"meto_s1\"][\"body_7\"])}}\n",
    "\n",
    "{{Markdown(slides_cont[\"meto\"][\"meto_s1\"][\"body_8\"])}}\n",
    "\n",
    "{{Markdown(slides_cont[\"meto\"][\"meto_s1\"][\"body_9\"])}}"
   ]
  },
  {
   "cell_type": "markdown",
   "metadata": {
    "slideshow": {
     "slide_type": "slide"
    }
   },
   "source": [
    "# Comparativo"
   ]
  },
  {
   "cell_type": "markdown",
   "metadata": {
    "ExecuteTime": {
     "end_time": "2021-03-05T20:25:46.784045Z",
     "start_time": "2021-03-05T20:25:46.761012Z"
    },
    "slideshow": {
     "slide_type": "subslide"
    },
    "variables": {
     "Markdown(slides_cont[\"comp\"][\"comp_s1\"][\"title\"])": "<h2 id=\"resultados-de-las-plataformas-evaluadas\">Resultados de las plataformas evaluadas</h2>\n"
    }
   },
   "source": [
    "{{Markdown(slides_cont[\"comp\"][\"comp_s1\"][\"title\"])}}"
   ]
  },
  {
   "cell_type": "markdown",
   "metadata": {
    "ExecuteTime": {
     "end_time": "2021-03-05T20:25:46.784045Z",
     "start_time": "2021-03-05T20:25:46.761012Z"
    },
    "slideshow": {
     "slide_type": "fragment"
    },
    "variables": {
     "Markdown(slides_cont[\"comp\"][\"comp_s1\"][\"body_1\"])": "<p>Resumen del comparativo realizado:</p>\n"
    }
   },
   "source": [
    "{{Markdown(slides_cont[\"comp\"][\"comp_s1\"][\"body_1\"])}}"
   ]
  },
  {
   "cell_type": "markdown",
   "metadata": {
    "ExecuteTime": {
     "end_time": "2021-03-05T20:25:46.784045Z",
     "start_time": "2021-03-05T20:25:46.761012Z"
    },
    "slideshow": {
     "slide_type": "fragment"
    },
    "variables": {
     "Markdown(display(df_x))": "&lt;IPython.core.display.Markdown object&gt;"
    }
   },
   "source": [
    "{{Markdown(display(df_x))}}"
   ]
  },
  {
   "cell_type": "markdown",
   "metadata": {
    "slideshow": {
     "slide_type": "slide"
    }
   },
   "source": [
    "**FIN**"
   ]
  },
  {
   "cell_type": "markdown",
   "metadata": {
    "slideshow": {
     "slide_type": "skip"
    }
   },
   "source": [
    "---"
   ]
  }
 ],
 "metadata": {
  "celltoolbar": "Slideshow",
  "kernelspec": {
   "display_name": "Python 3",
   "language": "python",
   "name": "python3"
  },
  "language_info": {
   "codemirror_mode": {
    "name": "ipython",
    "version": 3
   },
   "file_extension": ".py",
   "mimetype": "text/x-python",
   "name": "python",
   "nbconvert_exporter": "python",
   "pygments_lexer": "ipython3",
   "version": "3.8.5"
  },
  "rise": {
   "theme": "serif"
  },
  "toc": {
   "base_numbering": 1,
   "nav_menu": {},
   "number_sections": true,
   "sideBar": true,
   "skip_h1_title": false,
   "title_cell": "Table of Contents",
   "title_sidebar": "Contents",
   "toc_cell": false,
   "toc_position": {},
   "toc_section_display": true,
   "toc_window_display": false
  }
 },
 "nbformat": 4,
 "nbformat_minor": 4
}
