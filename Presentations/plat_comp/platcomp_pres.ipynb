{
 "cells": [
  {
   "cell_type": "markdown",
   "metadata": {
    "slideshow": {
     "slide_type": "skip"
    }
   },
   "source": [
    "## *Base code*"
   ]
  },
  {
   "cell_type": "markdown",
   "metadata": {
    "slideshow": {
     "slide_type": "skip"
    }
   },
   "source": [
    "### Imports"
   ]
  },
  {
   "cell_type": "markdown",
   "metadata": {
    "slideshow": {
     "slide_type": "skip"
    }
   },
   "source": [
    "#### Standard library imports"
   ]
  },
  {
   "cell_type": "code",
   "execution_count": 1,
   "metadata": {
    "ExecuteTime": {
     "end_time": "2021-03-25T18:46:52.015060Z",
     "start_time": "2021-03-25T18:46:52.011411Z"
    },
    "init_cell": true,
    "slideshow": {
     "slide_type": "skip"
    }
   },
   "outputs": [],
   "source": [
    "from IPython.display import display, Markdown, Latex\n",
    "import sys\n",
    "import os\n",
    "import re"
   ]
  },
  {
   "cell_type": "markdown",
   "metadata": {
    "heading_collapsed": true,
    "slideshow": {
     "slide_type": "skip"
    }
   },
   "source": [
    "#### Third party imports"
   ]
  },
  {
   "cell_type": "code",
   "execution_count": 2,
   "metadata": {
    "ExecuteTime": {
     "end_time": "2021-03-25T18:46:52.451554Z",
     "start_time": "2021-03-25T18:46:52.017338Z"
    },
    "hidden": true,
    "init_cell": true,
    "slideshow": {
     "slide_type": "skip"
    }
   },
   "outputs": [],
   "source": [
    "import pandas as pd"
   ]
  },
  {
   "cell_type": "markdown",
   "metadata": {
    "heading_collapsed": true,
    "slideshow": {
     "slide_type": "skip"
    }
   },
   "source": [
    "#### Local application imports"
   ]
  },
  {
   "cell_type": "code",
   "execution_count": 3,
   "metadata": {
    "ExecuteTime": {
     "end_time": "2021-03-25T18:46:52.481004Z",
     "start_time": "2021-03-25T18:46:52.453959Z"
    },
    "hidden": true,
    "init_cell": true,
    "slideshow": {
     "slide_type": "skip"
    }
   },
   "outputs": [],
   "source": [
    "%load_ext autoreload\n",
    "%autoreload 2\n",
    "\n",
    "from modules.platcomp_params import (\n",
    "    ext_data_dir_name,\n",
    ")\n",
    "\n",
    "from modules.platcomp_prescont import (\n",
    "    slides_cont\n",
    ")"
   ]
  },
  {
   "cell_type": "markdown",
   "metadata": {
    "slideshow": {
     "slide_type": "skip"
    }
   },
   "source": [
    "### Managing external data"
   ]
  },
  {
   "cell_type": "markdown",
   "metadata": {
    "slideshow": {
     "slide_type": "skip"
    }
   },
   "source": [
    "#### Notion comparative table"
   ]
  },
  {
   "cell_type": "code",
   "execution_count": 4,
   "metadata": {
    "ExecuteTime": {
     "end_time": "2021-03-25T18:46:55.390620Z",
     "start_time": "2021-03-25T18:46:55.373795Z"
    },
    "slideshow": {
     "slide_type": "skip"
    }
   },
   "outputs": [],
   "source": [
    "## Getting most recent version of Notion table\n",
    "\n",
    "mrd = max([file.split(sep=\"_\")[0] for file in os.listdir(\"ext_data/\") if \".DS_Store\" not in file])\n",
    "\n",
    "notion_t = [file for file in os.listdir(\"ext_data/\") if mrd in file][0]"
   ]
  },
  {
   "cell_type": "code",
   "execution_count": 5,
   "metadata": {
    "ExecuteTime": {
     "end_time": "2021-03-25T18:46:56.317618Z",
     "start_time": "2021-03-25T18:46:56.277725Z"
    },
    "scrolled": true,
    "slideshow": {
     "slide_type": "skip"
    }
   },
   "outputs": [],
   "source": [
    "df_n = pd.read_csv(ext_data_dir_name + notion_t)\n",
    "\n",
    "\n",
    "\n",
    "def count_strengths(row):\n",
    "    \"\"\"\n",
    "    \"\"\"\n",
    "    \n",
    "    res = 0\n",
    "    \n",
    "    counts = row.value_counts()\n",
    "    \n",
    "    if \"Yes\" in counts.index:\n",
    "        res = counts[\"Yes\"]\n",
    "        \n",
    "    return res\n",
    "\n",
    "\n",
    "\n",
    "strengths_cols = [col for col in df_n.columns if \"!\" in col]\n",
    "\n",
    "df_n[\"Aciertos\"] = df_n.loc[:, strengths_cols].apply(lambda x: count_strengths(x), axis=1)\n",
    "df_n[\"Faltas\"] = len(strengths_cols) - df_n[\"Aciertos\"]\n",
    "\n",
    "\n",
    "\n",
    "# df_n"
   ]
  },
  {
   "cell_type": "code",
   "execution_count": 6,
   "metadata": {
    "ExecuteTime": {
     "end_time": "2021-03-25T18:46:56.783182Z",
     "start_time": "2021-03-25T18:46:56.741210Z"
    }
   },
   "outputs": [
    {
     "data": {
      "text/html": [
       "<div>\n",
       "<style scoped>\n",
       "    .dataframe tbody tr th:only-of-type {\n",
       "        vertical-align: middle;\n",
       "    }\n",
       "\n",
       "    .dataframe tbody tr th {\n",
       "        vertical-align: top;\n",
       "    }\n",
       "\n",
       "    .dataframe thead th {\n",
       "        text-align: right;\n",
       "    }\n",
       "</style>\n",
       "<table border=\"1\" class=\"dataframe\">\n",
       "  <thead>\n",
       "    <tr style=\"text-align: right;\">\n",
       "      <th></th>\n",
       "      <th>Plataforma</th>\n",
       "      <th>Relevancia</th>\n",
       "      <th>!agenda_base</th>\n",
       "      <th>!agenda_remota</th>\n",
       "      <th>!modulo_medico</th>\n",
       "      <th>!teleconsultas</th>\n",
       "      <th>!administracion</th>\n",
       "      <th>!finanzas</th>\n",
       "      <th>!atención_cliente</th>\n",
       "      <th>!otros</th>\n",
       "      <th>Costo mensual</th>\n",
       "      <th>Aciertos</th>\n",
       "      <th>Faltas</th>\n",
       "    </tr>\n",
       "  </thead>\n",
       "  <tbody>\n",
       "    <tr>\n",
       "      <th>0</th>\n",
       "      <td>Medsi</td>\n",
       "      <td>2. Media ☀️</td>\n",
       "      <td>Yes</td>\n",
       "      <td>No</td>\n",
       "      <td>Yes</td>\n",
       "      <td>No</td>\n",
       "      <td>Yes</td>\n",
       "      <td>Yes</td>\n",
       "      <td>No</td>\n",
       "      <td>No</td>\n",
       "      <td>NaN</td>\n",
       "      <td>4</td>\n",
       "      <td>4</td>\n",
       "    </tr>\n",
       "    <tr>\n",
       "      <th>1</th>\n",
       "      <td>Medesk</td>\n",
       "      <td>3. Alta 🔥</td>\n",
       "      <td>Yes</td>\n",
       "      <td>Yes</td>\n",
       "      <td>Yes</td>\n",
       "      <td>Yes</td>\n",
       "      <td>Yes</td>\n",
       "      <td>Yes</td>\n",
       "      <td>No</td>\n",
       "      <td>Yes</td>\n",
       "      <td>NaN</td>\n",
       "      <td>7</td>\n",
       "      <td>1</td>\n",
       "    </tr>\n",
       "    <tr>\n",
       "      <th>2</th>\n",
       "      <td>Clinic Cloud</td>\n",
       "      <td>3. Alta 🔥</td>\n",
       "      <td>Yes</td>\n",
       "      <td>Yes</td>\n",
       "      <td>Yes</td>\n",
       "      <td>Yes</td>\n",
       "      <td>Yes</td>\n",
       "      <td>Yes</td>\n",
       "      <td>Yes</td>\n",
       "      <td>Yes</td>\n",
       "      <td>1400.00</td>\n",
       "      <td>8</td>\n",
       "      <td>0</td>\n",
       "    </tr>\n",
       "    <tr>\n",
       "      <th>3</th>\n",
       "      <td>RICOH SmartDoctor</td>\n",
       "      <td>1. Baja 🥶</td>\n",
       "      <td>No</td>\n",
       "      <td>No</td>\n",
       "      <td>Yes</td>\n",
       "      <td>No</td>\n",
       "      <td>No</td>\n",
       "      <td>No</td>\n",
       "      <td>No</td>\n",
       "      <td>No</td>\n",
       "      <td>NaN</td>\n",
       "      <td>1</td>\n",
       "      <td>7</td>\n",
       "    </tr>\n",
       "    <tr>\n",
       "      <th>4</th>\n",
       "      <td>BluMedica</td>\n",
       "      <td>NaN</td>\n",
       "      <td>No</td>\n",
       "      <td>No</td>\n",
       "      <td>No</td>\n",
       "      <td>No</td>\n",
       "      <td>No</td>\n",
       "      <td>No</td>\n",
       "      <td>No</td>\n",
       "      <td>No</td>\n",
       "      <td>NaN</td>\n",
       "      <td>0</td>\n",
       "      <td>8</td>\n",
       "    </tr>\n",
       "    <tr>\n",
       "      <th>5</th>\n",
       "      <td>Eleonor</td>\n",
       "      <td>NaN</td>\n",
       "      <td>No</td>\n",
       "      <td>No</td>\n",
       "      <td>No</td>\n",
       "      <td>No</td>\n",
       "      <td>No</td>\n",
       "      <td>No</td>\n",
       "      <td>No</td>\n",
       "      <td>No</td>\n",
       "      <td>NaN</td>\n",
       "      <td>0</td>\n",
       "      <td>8</td>\n",
       "    </tr>\n",
       "    <tr>\n",
       "      <th>6</th>\n",
       "      <td>Medlink</td>\n",
       "      <td>NaN</td>\n",
       "      <td>No</td>\n",
       "      <td>No</td>\n",
       "      <td>No</td>\n",
       "      <td>No</td>\n",
       "      <td>No</td>\n",
       "      <td>No</td>\n",
       "      <td>No</td>\n",
       "      <td>No</td>\n",
       "      <td>NaN</td>\n",
       "      <td>0</td>\n",
       "      <td>8</td>\n",
       "    </tr>\n",
       "    <tr>\n",
       "      <th>7</th>\n",
       "      <td>Agendapro</td>\n",
       "      <td>NaN</td>\n",
       "      <td>No</td>\n",
       "      <td>No</td>\n",
       "      <td>No</td>\n",
       "      <td>No</td>\n",
       "      <td>No</td>\n",
       "      <td>No</td>\n",
       "      <td>No</td>\n",
       "      <td>No</td>\n",
       "      <td>NaN</td>\n",
       "      <td>0</td>\n",
       "      <td>8</td>\n",
       "    </tr>\n",
       "    <tr>\n",
       "      <th>8</th>\n",
       "      <td>Medfar Myle</td>\n",
       "      <td>NaN</td>\n",
       "      <td>No</td>\n",
       "      <td>No</td>\n",
       "      <td>No</td>\n",
       "      <td>No</td>\n",
       "      <td>No</td>\n",
       "      <td>No</td>\n",
       "      <td>No</td>\n",
       "      <td>No</td>\n",
       "      <td>NaN</td>\n",
       "      <td>0</td>\n",
       "      <td>8</td>\n",
       "    </tr>\n",
       "    <tr>\n",
       "      <th>9</th>\n",
       "      <td>DriCloud</td>\n",
       "      <td>3. Alta 🔥</td>\n",
       "      <td>Yes</td>\n",
       "      <td>Yes</td>\n",
       "      <td>Yes</td>\n",
       "      <td>Yes</td>\n",
       "      <td>Yes</td>\n",
       "      <td>Yes</td>\n",
       "      <td>Yes</td>\n",
       "      <td>Yes</td>\n",
       "      <td>5432.31</td>\n",
       "      <td>8</td>\n",
       "      <td>0</td>\n",
       "    </tr>\n",
       "    <tr>\n",
       "      <th>10</th>\n",
       "      <td>Nubimed</td>\n",
       "      <td>NaN</td>\n",
       "      <td>No</td>\n",
       "      <td>No</td>\n",
       "      <td>No</td>\n",
       "      <td>No</td>\n",
       "      <td>No</td>\n",
       "      <td>No</td>\n",
       "      <td>No</td>\n",
       "      <td>No</td>\n",
       "      <td>5430.05</td>\n",
       "      <td>0</td>\n",
       "      <td>8</td>\n",
       "    </tr>\n",
       "    <tr>\n",
       "      <th>11</th>\n",
       "      <td>SO</td>\n",
       "      <td>NaN</td>\n",
       "      <td>No</td>\n",
       "      <td>No</td>\n",
       "      <td>No</td>\n",
       "      <td>No</td>\n",
       "      <td>No</td>\n",
       "      <td>No</td>\n",
       "      <td>No</td>\n",
       "      <td>No</td>\n",
       "      <td>NaN</td>\n",
       "      <td>0</td>\n",
       "      <td>8</td>\n",
       "    </tr>\n",
       "    <tr>\n",
       "      <th>12</th>\n",
       "      <td>DrApp</td>\n",
       "      <td>NaN</td>\n",
       "      <td>No</td>\n",
       "      <td>No</td>\n",
       "      <td>No</td>\n",
       "      <td>No</td>\n",
       "      <td>No</td>\n",
       "      <td>No</td>\n",
       "      <td>No</td>\n",
       "      <td>No</td>\n",
       "      <td>NaN</td>\n",
       "      <td>0</td>\n",
       "      <td>8</td>\n",
       "    </tr>\n",
       "    <tr>\n",
       "      <th>13</th>\n",
       "      <td>Infomed</td>\n",
       "      <td>NaN</td>\n",
       "      <td>No</td>\n",
       "      <td>No</td>\n",
       "      <td>No</td>\n",
       "      <td>No</td>\n",
       "      <td>No</td>\n",
       "      <td>No</td>\n",
       "      <td>No</td>\n",
       "      <td>No</td>\n",
       "      <td>NaN</td>\n",
       "      <td>0</td>\n",
       "      <td>8</td>\n",
       "    </tr>\n",
       "    <tr>\n",
       "      <th>14</th>\n",
       "      <td>XClinics</td>\n",
       "      <td>NaN</td>\n",
       "      <td>No</td>\n",
       "      <td>No</td>\n",
       "      <td>No</td>\n",
       "      <td>No</td>\n",
       "      <td>No</td>\n",
       "      <td>No</td>\n",
       "      <td>No</td>\n",
       "      <td>No</td>\n",
       "      <td>NaN</td>\n",
       "      <td>0</td>\n",
       "      <td>8</td>\n",
       "    </tr>\n",
       "    <tr>\n",
       "      <th>15</th>\n",
       "      <td>Salus</td>\n",
       "      <td>NaN</td>\n",
       "      <td>No</td>\n",
       "      <td>No</td>\n",
       "      <td>No</td>\n",
       "      <td>No</td>\n",
       "      <td>No</td>\n",
       "      <td>No</td>\n",
       "      <td>No</td>\n",
       "      <td>No</td>\n",
       "      <td>NaN</td>\n",
       "      <td>0</td>\n",
       "      <td>8</td>\n",
       "    </tr>\n",
       "    <tr>\n",
       "      <th>16</th>\n",
       "      <td>MNProgram</td>\n",
       "      <td>NaN</td>\n",
       "      <td>No</td>\n",
       "      <td>No</td>\n",
       "      <td>No</td>\n",
       "      <td>No</td>\n",
       "      <td>No</td>\n",
       "      <td>No</td>\n",
       "      <td>No</td>\n",
       "      <td>No</td>\n",
       "      <td>NaN</td>\n",
       "      <td>0</td>\n",
       "      <td>8</td>\n",
       "    </tr>\n",
       "    <tr>\n",
       "      <th>17</th>\n",
       "      <td>Ofimedic</td>\n",
       "      <td>NaN</td>\n",
       "      <td>No</td>\n",
       "      <td>No</td>\n",
       "      <td>No</td>\n",
       "      <td>No</td>\n",
       "      <td>No</td>\n",
       "      <td>No</td>\n",
       "      <td>No</td>\n",
       "      <td>No</td>\n",
       "      <td>NaN</td>\n",
       "      <td>0</td>\n",
       "      <td>8</td>\n",
       "    </tr>\n",
       "    <tr>\n",
       "      <th>18</th>\n",
       "      <td>Medigest Axon</td>\n",
       "      <td>NaN</td>\n",
       "      <td>No</td>\n",
       "      <td>No</td>\n",
       "      <td>No</td>\n",
       "      <td>No</td>\n",
       "      <td>No</td>\n",
       "      <td>No</td>\n",
       "      <td>No</td>\n",
       "      <td>No</td>\n",
       "      <td>NaN</td>\n",
       "      <td>0</td>\n",
       "      <td>8</td>\n",
       "    </tr>\n",
       "    <tr>\n",
       "      <th>19</th>\n",
       "      <td>Nimbo</td>\n",
       "      <td>NaN</td>\n",
       "      <td>No</td>\n",
       "      <td>No</td>\n",
       "      <td>No</td>\n",
       "      <td>No</td>\n",
       "      <td>No</td>\n",
       "      <td>No</td>\n",
       "      <td>No</td>\n",
       "      <td>No</td>\n",
       "      <td>NaN</td>\n",
       "      <td>0</td>\n",
       "      <td>8</td>\n",
       "    </tr>\n",
       "    <tr>\n",
       "      <th>20</th>\n",
       "      <td>Nubimed</td>\n",
       "      <td>NaN</td>\n",
       "      <td>No</td>\n",
       "      <td>No</td>\n",
       "      <td>No</td>\n",
       "      <td>No</td>\n",
       "      <td>No</td>\n",
       "      <td>No</td>\n",
       "      <td>No</td>\n",
       "      <td>No</td>\n",
       "      <td>NaN</td>\n",
       "      <td>0</td>\n",
       "      <td>8</td>\n",
       "    </tr>\n",
       "    <tr>\n",
       "      <th>21</th>\n",
       "      <td>Dasi Clinic</td>\n",
       "      <td>NaN</td>\n",
       "      <td>No</td>\n",
       "      <td>No</td>\n",
       "      <td>No</td>\n",
       "      <td>No</td>\n",
       "      <td>No</td>\n",
       "      <td>No</td>\n",
       "      <td>No</td>\n",
       "      <td>No</td>\n",
       "      <td>NaN</td>\n",
       "      <td>0</td>\n",
       "      <td>8</td>\n",
       "    </tr>\n",
       "    <tr>\n",
       "      <th>22</th>\n",
       "      <td>Clinics SFT</td>\n",
       "      <td>NaN</td>\n",
       "      <td>No</td>\n",
       "      <td>No</td>\n",
       "      <td>No</td>\n",
       "      <td>No</td>\n",
       "      <td>No</td>\n",
       "      <td>No</td>\n",
       "      <td>No</td>\n",
       "      <td>No</td>\n",
       "      <td>NaN</td>\n",
       "      <td>0</td>\n",
       "      <td>8</td>\n",
       "    </tr>\n",
       "    <tr>\n",
       "      <th>23</th>\n",
       "      <td>EsiClinic</td>\n",
       "      <td>NaN</td>\n",
       "      <td>No</td>\n",
       "      <td>No</td>\n",
       "      <td>No</td>\n",
       "      <td>No</td>\n",
       "      <td>No</td>\n",
       "      <td>No</td>\n",
       "      <td>No</td>\n",
       "      <td>No</td>\n",
       "      <td>NaN</td>\n",
       "      <td>0</td>\n",
       "      <td>8</td>\n",
       "    </tr>\n",
       "    <tr>\n",
       "      <th>24</th>\n",
       "      <td>NaturalSoft</td>\n",
       "      <td>NaN</td>\n",
       "      <td>No</td>\n",
       "      <td>No</td>\n",
       "      <td>No</td>\n",
       "      <td>No</td>\n",
       "      <td>No</td>\n",
       "      <td>No</td>\n",
       "      <td>No</td>\n",
       "      <td>No</td>\n",
       "      <td>NaN</td>\n",
       "      <td>0</td>\n",
       "      <td>8</td>\n",
       "    </tr>\n",
       "    <tr>\n",
       "      <th>25</th>\n",
       "      <td>benchmark</td>\n",
       "      <td>NaN</td>\n",
       "      <td>No</td>\n",
       "      <td>No</td>\n",
       "      <td>No</td>\n",
       "      <td>No</td>\n",
       "      <td>No</td>\n",
       "      <td>No</td>\n",
       "      <td>No</td>\n",
       "      <td>No</td>\n",
       "      <td>NaN</td>\n",
       "      <td>0</td>\n",
       "      <td>8</td>\n",
       "    </tr>\n",
       "  </tbody>\n",
       "</table>\n",
       "</div>"
      ],
      "text/plain": [
       "           Plataforma   Relevancia !agenda_base !agenda_remota !modulo_medico  \\\n",
       "0               Medsi  2. Media ☀️          Yes             No            Yes   \n",
       "1              Medesk    3. Alta 🔥          Yes            Yes            Yes   \n",
       "2        Clinic Cloud    3. Alta 🔥          Yes            Yes            Yes   \n",
       "3   RICOH SmartDoctor    1. Baja 🥶           No             No            Yes   \n",
       "4           BluMedica          NaN           No             No             No   \n",
       "5             Eleonor          NaN           No             No             No   \n",
       "6             Medlink          NaN           No             No             No   \n",
       "7           Agendapro          NaN           No             No             No   \n",
       "8         Medfar Myle          NaN           No             No             No   \n",
       "9            DriCloud    3. Alta 🔥          Yes            Yes            Yes   \n",
       "10            Nubimed          NaN           No             No             No   \n",
       "11                 SO          NaN           No             No             No   \n",
       "12              DrApp          NaN           No             No             No   \n",
       "13            Infomed          NaN           No             No             No   \n",
       "14           XClinics          NaN           No             No             No   \n",
       "15              Salus          NaN           No             No             No   \n",
       "16          MNProgram          NaN           No             No             No   \n",
       "17           Ofimedic          NaN           No             No             No   \n",
       "18      Medigest Axon          NaN           No             No             No   \n",
       "19              Nimbo          NaN           No             No             No   \n",
       "20            Nubimed          NaN           No             No             No   \n",
       "21        Dasi Clinic          NaN           No             No             No   \n",
       "22        Clinics SFT          NaN           No             No             No   \n",
       "23          EsiClinic          NaN           No             No             No   \n",
       "24        NaturalSoft          NaN           No             No             No   \n",
       "25          benchmark          NaN           No             No             No   \n",
       "\n",
       "   !teleconsultas !administracion !finanzas !atención_cliente !otros  \\\n",
       "0              No             Yes       Yes                No     No   \n",
       "1             Yes             Yes       Yes                No    Yes   \n",
       "2             Yes             Yes       Yes               Yes    Yes   \n",
       "3              No              No        No                No     No   \n",
       "4              No              No        No                No     No   \n",
       "5              No              No        No                No     No   \n",
       "6              No              No        No                No     No   \n",
       "7              No              No        No                No     No   \n",
       "8              No              No        No                No     No   \n",
       "9             Yes             Yes       Yes               Yes    Yes   \n",
       "10             No              No        No                No     No   \n",
       "11             No              No        No                No     No   \n",
       "12             No              No        No                No     No   \n",
       "13             No              No        No                No     No   \n",
       "14             No              No        No                No     No   \n",
       "15             No              No        No                No     No   \n",
       "16             No              No        No                No     No   \n",
       "17             No              No        No                No     No   \n",
       "18             No              No        No                No     No   \n",
       "19             No              No        No                No     No   \n",
       "20             No              No        No                No     No   \n",
       "21             No              No        No                No     No   \n",
       "22             No              No        No                No     No   \n",
       "23             No              No        No                No     No   \n",
       "24             No              No        No                No     No   \n",
       "25             No              No        No                No     No   \n",
       "\n",
       "    Costo mensual  Aciertos  Faltas  \n",
       "0             NaN         4       4  \n",
       "1             NaN         7       1  \n",
       "2         1400.00         8       0  \n",
       "3             NaN         1       7  \n",
       "4             NaN         0       8  \n",
       "5             NaN         0       8  \n",
       "6             NaN         0       8  \n",
       "7             NaN         0       8  \n",
       "8             NaN         0       8  \n",
       "9         5432.31         8       0  \n",
       "10        5430.05         0       8  \n",
       "11            NaN         0       8  \n",
       "12            NaN         0       8  \n",
       "13            NaN         0       8  \n",
       "14            NaN         0       8  \n",
       "15            NaN         0       8  \n",
       "16            NaN         0       8  \n",
       "17            NaN         0       8  \n",
       "18            NaN         0       8  \n",
       "19            NaN         0       8  \n",
       "20            NaN         0       8  \n",
       "21            NaN         0       8  \n",
       "22            NaN         0       8  \n",
       "23            NaN         0       8  \n",
       "24            NaN         0       8  \n",
       "25            NaN         0       8  "
      ]
     },
     "execution_count": 6,
     "metadata": {},
     "output_type": "execute_result"
    }
   ],
   "source": [
    "df_n"
   ]
  },
  {
   "cell_type": "code",
   "execution_count": 7,
   "metadata": {
    "ExecuteTime": {
     "end_time": "2021-03-25T18:46:57.090751Z",
     "start_time": "2021-03-25T18:46:57.063444Z"
    },
    "slideshow": {
     "slide_type": "skip"
    }
   },
   "outputs": [
    {
     "data": {
      "text/html": [
       "<div>\n",
       "<style scoped>\n",
       "    .dataframe tbody tr th:only-of-type {\n",
       "        vertical-align: middle;\n",
       "    }\n",
       "\n",
       "    .dataframe tbody tr th {\n",
       "        vertical-align: top;\n",
       "    }\n",
       "\n",
       "    .dataframe thead th {\n",
       "        text-align: right;\n",
       "    }\n",
       "</style>\n",
       "<table border=\"1\" class=\"dataframe\">\n",
       "  <thead>\n",
       "    <tr style=\"text-align: right;\">\n",
       "      <th></th>\n",
       "      <th>Plataforma</th>\n",
       "      <th>Aciertos</th>\n",
       "      <th>Faltas</th>\n",
       "      <th>Relevancia</th>\n",
       "    </tr>\n",
       "  </thead>\n",
       "  <tbody>\n",
       "    <tr>\n",
       "      <th>1</th>\n",
       "      <td>Clinic Cloud</td>\n",
       "      <td>8</td>\n",
       "      <td>0</td>\n",
       "      <td>Alta 🔥</td>\n",
       "    </tr>\n",
       "    <tr>\n",
       "      <th>2</th>\n",
       "      <td>DriCloud</td>\n",
       "      <td>8</td>\n",
       "      <td>0</td>\n",
       "      <td>Alta 🔥</td>\n",
       "    </tr>\n",
       "    <tr>\n",
       "      <th>3</th>\n",
       "      <td>Medesk</td>\n",
       "      <td>7</td>\n",
       "      <td>1</td>\n",
       "      <td>Alta 🔥</td>\n",
       "    </tr>\n",
       "    <tr>\n",
       "      <th>4</th>\n",
       "      <td>Medsi</td>\n",
       "      <td>4</td>\n",
       "      <td>4</td>\n",
       "      <td>Media ☀️</td>\n",
       "    </tr>\n",
       "    <tr>\n",
       "      <th>5</th>\n",
       "      <td>RICOH SmartDoctor</td>\n",
       "      <td>1</td>\n",
       "      <td>7</td>\n",
       "      <td>Baja 🥶</td>\n",
       "    </tr>\n",
       "  </tbody>\n",
       "</table>\n",
       "</div>"
      ],
      "text/plain": [
       "          Plataforma  Aciertos  Faltas Relevancia\n",
       "1       Clinic Cloud         8       0     Alta 🔥\n",
       "2           DriCloud         8       0     Alta 🔥\n",
       "3             Medesk         7       1     Alta 🔥\n",
       "4              Medsi         4       4   Media ☀️\n",
       "5  RICOH SmartDoctor         1       7     Baja 🥶"
      ]
     },
     "execution_count": 7,
     "metadata": {},
     "output_type": "execute_result"
    }
   ],
   "source": [
    "## Manipulating original table\n",
    "\n",
    "mr1 = df_n[\"Relevancia\"].notnull()\n",
    "\n",
    "mc1 = [\n",
    "    \"Plataforma\",\n",
    "    \"Aciertos\",\n",
    "    \"Faltas\",\n",
    "    \"Relevancia\",\n",
    "]\n",
    "\n",
    "df_x = df_n.loc[mr1, mc1].copy()\n",
    "\n",
    "df_x.sort_values(by=[\"Relevancia\", \"Aciertos\"], ascending=False, inplace=True)\n",
    "\n",
    "df_x[\"Relevancia\"] = df_x[\"Relevancia\"].apply(lambda x: x[2:])\n",
    "\n",
    "df_x.index = range(1, df_x.shape[0] + 1)\n",
    "\n",
    "df_x"
   ]
  },
  {
   "cell_type": "code",
   "execution_count": 8,
   "metadata": {
    "ExecuteTime": {
     "end_time": "2021-03-25T18:47:03.732852Z",
     "start_time": "2021-03-25T18:47:03.716041Z"
    }
   },
   "outputs": [],
   "source": [
    "df_table_style = [\n",
    "    \n",
    "    ## Styling for dataframe header\n",
    "    { \n",
    "        \"selector\": \"th\",\n",
    "        \"props\": [\n",
    "            (\"font-size\", \"150%\"),\n",
    "            (\"text-align\", \"center\"),\n",
    "        ]\n",
    "    },\n",
    "    \n",
    "    ## Styling for dataframe data\n",
    "    {\n",
    "        \"selector\": \"td\",\n",
    "        \"props\": [\n",
    "            (\"font-size\", \"125%\"),\n",
    "            (\"text-align\", \"center\"),\n",
    "        ]\n",
    "    },\n",
    "    \n",
    "    ## Styling the first column\n",
    "#     {\n",
    "#         \"Aciertos\": [\n",
    "#             {\n",
    "#                 \"selector\": \"\",\n",
    "#                 \"props\": [\n",
    "#                     (\"color\", \"green\"),\n",
    "#                 ]\n",
    "#             }\n",
    "#         ],\n",
    "#     }\n",
    "    \n",
    "]"
   ]
  },
  {
   "cell_type": "raw",
   "metadata": {
    "ExecuteTime": {
     "end_time": "2021-03-25T18:33:21.475674Z",
     "start_time": "2021-03-25T18:33:21.457630Z"
    }
   },
   "source": [
    "df_x.style.set_properties(subset=[\"Aciertos\"], **{\"color\": \"green\"})\n",
    "\n",
    "df_x.style.set_properties(subset=[\"Faltas\"], **{\"color\": \"red\"})"
   ]
  },
  {
   "cell_type": "code",
   "execution_count": 9,
   "metadata": {
    "ExecuteTime": {
     "end_time": "2021-03-25T18:47:04.763543Z",
     "start_time": "2021-03-25T18:47:04.279797Z"
    }
   },
   "outputs": [
    {
     "data": {
      "text/html": [
       "<style  type=\"text/css\" >\n",
       "    #T_7e409ffa_8d9a_11eb_bb3b_acde48001122 th {\n",
       "          font-size: 150%;\n",
       "          text-align: center;\n",
       "    }    #T_7e409ffa_8d9a_11eb_bb3b_acde48001122 td {\n",
       "          font-size: 125%;\n",
       "          text-align: center;\n",
       "    }</style><table id=\"T_7e409ffa_8d9a_11eb_bb3b_acde48001122\" ><thead>    <tr>        <th class=\"blank level0\" ></th>        <th class=\"col_heading level0 col0\" >Plataforma</th>        <th class=\"col_heading level0 col1\" >Aciertos</th>        <th class=\"col_heading level0 col2\" >Faltas</th>        <th class=\"col_heading level0 col3\" >Relevancia</th>    </tr></thead><tbody>\n",
       "                <tr>\n",
       "                        <th id=\"T_7e409ffa_8d9a_11eb_bb3b_acde48001122level0_row0\" class=\"row_heading level0 row0\" >1</th>\n",
       "                        <td id=\"T_7e409ffa_8d9a_11eb_bb3b_acde48001122row0_col0\" class=\"data row0 col0\" >Clinic Cloud</td>\n",
       "                        <td id=\"T_7e409ffa_8d9a_11eb_bb3b_acde48001122row0_col1\" class=\"data row0 col1\" >8</td>\n",
       "                        <td id=\"T_7e409ffa_8d9a_11eb_bb3b_acde48001122row0_col2\" class=\"data row0 col2\" >0</td>\n",
       "                        <td id=\"T_7e409ffa_8d9a_11eb_bb3b_acde48001122row0_col3\" class=\"data row0 col3\" > Alta 🔥</td>\n",
       "            </tr>\n",
       "            <tr>\n",
       "                        <th id=\"T_7e409ffa_8d9a_11eb_bb3b_acde48001122level0_row1\" class=\"row_heading level0 row1\" >2</th>\n",
       "                        <td id=\"T_7e409ffa_8d9a_11eb_bb3b_acde48001122row1_col0\" class=\"data row1 col0\" >DriCloud</td>\n",
       "                        <td id=\"T_7e409ffa_8d9a_11eb_bb3b_acde48001122row1_col1\" class=\"data row1 col1\" >8</td>\n",
       "                        <td id=\"T_7e409ffa_8d9a_11eb_bb3b_acde48001122row1_col2\" class=\"data row1 col2\" >0</td>\n",
       "                        <td id=\"T_7e409ffa_8d9a_11eb_bb3b_acde48001122row1_col3\" class=\"data row1 col3\" > Alta 🔥</td>\n",
       "            </tr>\n",
       "            <tr>\n",
       "                        <th id=\"T_7e409ffa_8d9a_11eb_bb3b_acde48001122level0_row2\" class=\"row_heading level0 row2\" >3</th>\n",
       "                        <td id=\"T_7e409ffa_8d9a_11eb_bb3b_acde48001122row2_col0\" class=\"data row2 col0\" >Medesk</td>\n",
       "                        <td id=\"T_7e409ffa_8d9a_11eb_bb3b_acde48001122row2_col1\" class=\"data row2 col1\" >7</td>\n",
       "                        <td id=\"T_7e409ffa_8d9a_11eb_bb3b_acde48001122row2_col2\" class=\"data row2 col2\" >1</td>\n",
       "                        <td id=\"T_7e409ffa_8d9a_11eb_bb3b_acde48001122row2_col3\" class=\"data row2 col3\" > Alta 🔥</td>\n",
       "            </tr>\n",
       "            <tr>\n",
       "                        <th id=\"T_7e409ffa_8d9a_11eb_bb3b_acde48001122level0_row3\" class=\"row_heading level0 row3\" >4</th>\n",
       "                        <td id=\"T_7e409ffa_8d9a_11eb_bb3b_acde48001122row3_col0\" class=\"data row3 col0\" >Medsi</td>\n",
       "                        <td id=\"T_7e409ffa_8d9a_11eb_bb3b_acde48001122row3_col1\" class=\"data row3 col1\" >4</td>\n",
       "                        <td id=\"T_7e409ffa_8d9a_11eb_bb3b_acde48001122row3_col2\" class=\"data row3 col2\" >4</td>\n",
       "                        <td id=\"T_7e409ffa_8d9a_11eb_bb3b_acde48001122row3_col3\" class=\"data row3 col3\" > Media ☀️</td>\n",
       "            </tr>\n",
       "            <tr>\n",
       "                        <th id=\"T_7e409ffa_8d9a_11eb_bb3b_acde48001122level0_row4\" class=\"row_heading level0 row4\" >5</th>\n",
       "                        <td id=\"T_7e409ffa_8d9a_11eb_bb3b_acde48001122row4_col0\" class=\"data row4 col0\" >RICOH SmartDoctor</td>\n",
       "                        <td id=\"T_7e409ffa_8d9a_11eb_bb3b_acde48001122row4_col1\" class=\"data row4 col1\" >1</td>\n",
       "                        <td id=\"T_7e409ffa_8d9a_11eb_bb3b_acde48001122row4_col2\" class=\"data row4 col2\" >7</td>\n",
       "                        <td id=\"T_7e409ffa_8d9a_11eb_bb3b_acde48001122row4_col3\" class=\"data row4 col3\" > Baja 🥶</td>\n",
       "            </tr>\n",
       "    </tbody></table>"
      ],
      "text/plain": [
       "<pandas.io.formats.style.Styler at 0x12e764d30>"
      ]
     },
     "execution_count": 9,
     "metadata": {},
     "output_type": "execute_result"
    }
   ],
   "source": [
    "df_x = df_x.style.set_table_styles(df_table_style)\n",
    "df_x"
   ]
  },
  {
   "cell_type": "markdown",
   "metadata": {
    "slideshow": {
     "slide_type": "skip"
    }
   },
   "source": [
    "---"
   ]
  },
  {
   "cell_type": "markdown",
   "metadata": {
    "slideshow": {
     "slide_type": "slide"
    }
   },
   "source": [
    "# Introducción"
   ]
  },
  {
   "cell_type": "markdown",
   "metadata": {
    "slideshow": {
     "slide_type": "subslide"
    }
   },
   "source": [
    "{{Markdown(slides_cont[\"intro\"][\"intro_s1\"][\"title\"])}}"
   ]
  },
  {
   "cell_type": "markdown",
   "metadata": {
    "ExecuteTime": {
     "end_time": "2021-03-09T15:19:20.771436Z",
     "start_time": "2021-03-09T15:19:20.711434Z"
    }
   },
   "source": [
    "{{Markdown(slides_cont[\"intro\"][\"intro_s1\"][\"body_1\"])}}"
   ]
  },
  {
   "cell_type": "markdown",
   "metadata": {
    "ExecuteTime": {
     "end_time": "2021-03-09T15:18:29.536807Z",
     "start_time": "2021-03-09T15:18:29.434855Z"
    },
    "cell_style": "split"
   },
   "source": [
    "<center>\n",
    "    <img src=\"https://media.giphy.com/media/JpdvqUB2xeydKPZA0I/giphy.gif\" width=\"300;\" padding=\"1px;\">\n",
    "<center/>"
   ]
  },
  {
   "cell_type": "markdown",
   "metadata": {
    "ExecuteTime": {
     "end_time": "2021-03-09T15:18:29.536807Z",
     "start_time": "2021-03-09T15:18:29.434855Z"
    },
    "cell_style": "split"
   },
   "source": [
    "<center>\n",
    "    <img src=\"https://media.giphy.com/media/j38H3w0Mbouj4b8JHv/giphy.gif\" width=\"300;\" padding=\"1px;\">\n",
    "<center/>"
   ]
  },
  {
   "cell_type": "markdown",
   "metadata": {
    "ExecuteTime": {
     "end_time": "2021-03-09T15:18:29.536807Z",
     "start_time": "2021-03-09T15:18:29.434855Z"
    },
    "cell_style": "split"
   },
   "source": [
    "<center>\n",
    "    <img src=\"https://media.giphy.com/media/VJCAR83MZzZYppw4mA/giphy.gif\" width=\"300;\" padding=\"1px;\">\n",
    "<center/>"
   ]
  },
  {
   "cell_type": "markdown",
   "metadata": {
    "ExecuteTime": {
     "end_time": "2021-03-09T15:30:20.806523Z",
     "start_time": "2021-03-09T15:30:20.789466Z"
    },
    "cell_style": "split"
   },
   "source": [
    "<center>\n",
    "    <img src=\"https://media.giphy.com/media/gFE2BfEn2vG9rEelT4/giphy.gif\" width=\"300;\" padding=\"1px;\">\n",
    "<center/>"
   ]
  },
  {
   "cell_type": "markdown",
   "metadata": {
    "slideshow": {
     "slide_type": "subslide"
    }
   },
   "source": [
    "{{Markdown(slides_cont[\"intro\"][\"intro_s2\"][\"title\"])}}"
   ]
  },
  {
   "cell_type": "markdown",
   "metadata": {
    "slideshow": {
     "slide_type": "fragment"
    }
   },
   "source": [
    "{{Markdown(slides_cont[\"intro\"][\"intro_s2\"][\"body_1\"])}}"
   ]
  },
  {
   "cell_type": "markdown",
   "metadata": {
    "slideshow": {
     "slide_type": "fragment"
    }
   },
   "source": [
    "{{Markdown(slides_cont[\"intro\"][\"intro_s2\"][\"body_2\"])}}"
   ]
  },
  {
   "cell_type": "markdown",
   "metadata": {
    "slideshow": {
     "slide_type": "fragment"
    }
   },
   "source": [
    "{{Markdown(slides_cont[\"intro\"][\"intro_s2\"][\"body_3\"])}}"
   ]
  },
  {
   "cell_type": "markdown",
   "metadata": {
    "slideshow": {
     "slide_type": "fragment"
    }
   },
   "source": [
    "{{Markdown(slides_cont[\"intro\"][\"intro_s2\"][\"body_4\"])}}"
   ]
  },
  {
   "cell_type": "markdown",
   "metadata": {
    "slideshow": {
     "slide_type": "fragment"
    }
   },
   "source": [
    "{{Markdown(slides_cont[\"intro\"][\"intro_s2\"][\"body_5\"])}}"
   ]
  },
  {
   "cell_type": "markdown",
   "metadata": {
    "slideshow": {
     "slide_type": "slide"
    }
   },
   "source": [
    "# Metodología"
   ]
  },
  {
   "cell_type": "markdown",
   "metadata": {
    "ExecuteTime": {
     "end_time": "2021-03-05T20:25:46.784045Z",
     "start_time": "2021-03-05T20:25:46.761012Z"
    },
    "slideshow": {
     "slide_type": "subslide"
    }
   },
   "source": [
    "{{Markdown(slides_cont[\"meto\"][\"meto_s1\"][\"title\"])}}"
   ]
  },
  {
   "cell_type": "markdown",
   "metadata": {
    "ExecuteTime": {
     "end_time": "2021-03-05T20:25:46.784045Z",
     "start_time": "2021-03-05T20:25:46.761012Z"
    },
    "slideshow": {
     "slide_type": ""
    }
   },
   "source": [
    "{{Markdown(slides_cont[\"meto\"][\"meto_s1\"][\"body_1\"])}}"
   ]
  },
  {
   "cell_type": "markdown",
   "metadata": {
    "ExecuteTime": {
     "end_time": "2021-03-05T20:25:46.784045Z",
     "start_time": "2021-03-05T20:25:46.761012Z"
    },
    "cell_style": "split",
    "slideshow": {
     "slide_type": "fragment"
    }
   },
   "source": [
    "{{Markdown(slides_cont[\"meto\"][\"meto_s1\"][\"body_2\"])}}\n",
    "\n",
    "{{Markdown(slides_cont[\"meto\"][\"meto_s1\"][\"body_3\"])}}\n",
    "\n",
    "{{Markdown(slides_cont[\"meto\"][\"meto_s1\"][\"body_4\"])}}\n",
    "\n",
    "{{Markdown(slides_cont[\"meto\"][\"meto_s1\"][\"body_5\"])}}"
   ]
  },
  {
   "cell_type": "markdown",
   "metadata": {
    "ExecuteTime": {
     "end_time": "2021-03-05T20:25:46.784045Z",
     "start_time": "2021-03-05T20:25:46.761012Z"
    },
    "cell_style": "split",
    "slideshow": {
     "slide_type": "fragment"
    }
   },
   "source": [
    "{{Markdown(slides_cont[\"meto\"][\"meto_s1\"][\"body_6\"])}}\n",
    "\n",
    "{{Markdown(slides_cont[\"meto\"][\"meto_s1\"][\"body_7\"])}}\n",
    "\n",
    "{{Markdown(slides_cont[\"meto\"][\"meto_s1\"][\"body_8\"])}}\n",
    "\n",
    "{{Markdown(slides_cont[\"meto\"][\"meto_s1\"][\"body_9\"])}}"
   ]
  },
  {
   "cell_type": "markdown",
   "metadata": {
    "slideshow": {
     "slide_type": "slide"
    }
   },
   "source": [
    "# Comparativo"
   ]
  },
  {
   "cell_type": "markdown",
   "metadata": {
    "ExecuteTime": {
     "end_time": "2021-03-05T20:25:46.784045Z",
     "start_time": "2021-03-05T20:25:46.761012Z"
    },
    "slideshow": {
     "slide_type": "subslide"
    }
   },
   "source": [
    "{{Markdown(slides_cont[\"comp\"][\"comp_s1\"][\"title\"])}}"
   ]
  },
  {
   "cell_type": "markdown",
   "metadata": {
    "ExecuteTime": {
     "end_time": "2021-03-05T20:25:46.784045Z",
     "start_time": "2021-03-05T20:25:46.761012Z"
    },
    "slideshow": {
     "slide_type": "fragment"
    }
   },
   "source": [
    "{{Markdown(slides_cont[\"comp\"][\"comp_s1\"][\"body_1\"])}}"
   ]
  },
  {
   "cell_type": "markdown",
   "metadata": {
    "ExecuteTime": {
     "end_time": "2021-03-25T17:18:31.758657Z",
     "start_time": "2021-03-25T17:18:31.685942Z"
    },
    "slideshow": {
     "slide_type": "fragment"
    }
   },
   "source": [
    "{{Markdown(display(df_x))}}"
   ]
  },
  {
   "cell_type": "markdown",
   "metadata": {
    "slideshow": {
     "slide_type": "slide"
    }
   },
   "source": [
    "**FIN**"
   ]
  },
  {
   "cell_type": "markdown",
   "metadata": {
    "slideshow": {
     "slide_type": "skip"
    }
   },
   "source": [
    "---"
   ]
  }
 ],
 "metadata": {
  "celltoolbar": "Slideshow",
  "kernelspec": {
   "display_name": "Python 3",
   "language": "python",
   "name": "python3"
  },
  "language_info": {
   "codemirror_mode": {
    "name": "ipython",
    "version": 3
   },
   "file_extension": ".py",
   "mimetype": "text/x-python",
   "name": "python",
   "nbconvert_exporter": "python",
   "pygments_lexer": "ipython3",
   "version": "3.8.5"
  },
  "rise": {
   "enable_chalkboard": true,
   "overlay": "<div class='pclogo'><img src='images/punto_clinico_logo.png'></div>",
   "scroll": true
  },
  "toc": {
   "base_numbering": 1,
   "nav_menu": {},
   "number_sections": true,
   "sideBar": true,
   "skip_h1_title": false,
   "title_cell": "Table of Contents",
   "title_sidebar": "Contents",
   "toc_cell": false,
   "toc_position": {},
   "toc_section_display": true,
   "toc_window_display": false
  }
 },
 "nbformat": 4,
 "nbformat_minor": 4
}
