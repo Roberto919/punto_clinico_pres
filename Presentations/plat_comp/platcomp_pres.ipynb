{
 "cells": [
  {
   "cell_type": "markdown",
   "metadata": {
    "slideshow": {
     "slide_type": "skip"
    }
   },
   "source": [
    "---"
   ]
  },
  {
   "cell_type": "markdown",
   "metadata": {
    "slideshow": {
     "slide_type": "slide"
    }
   },
   "source": [
    "# Introducción"
   ]
  },
  {
   "cell_type": "markdown",
   "metadata": {
    "slideshow": {
     "slide_type": "subslide"
    },
    "variables": {
     "Markdown(slides_cont[\"intro\"][\"intro_s1\"][\"title\"])": "<h2 id=\"objetivo-de-la-presentación\">Objetivo de la presentación</h2>\n"
    }
   },
   "source": [
    "{{Markdown(slides_cont[\"intro\"][\"intro_s1\"][\"title\"])}}"
   ]
  },
  {
   "cell_type": "markdown",
   "metadata": {
    "slideshow": {
     "slide_type": "fragment"
    },
    "variables": {
     "Markdown(slides_cont[\"intro\"][\"intro_s1\"][\"body_1\"])": "<p>Comparativo entre la plataforma utilizada por Punto Clínico y otras alternativas del mercado</p>\n"
    }
   },
   "source": [
    "{{Markdown(slides_cont[\"intro\"][\"intro_s1\"][\"body_1\"])}}\n",
    "\n",
    "<center>\n",
    "    <img src=\"images/general_imgs/stock.jpg\" width=\"900;\" padding=\"1px;\">\n",
    "<center/>"
   ]
  },
  {
   "cell_type": "markdown",
   "metadata": {
    "slideshow": {
     "slide_type": "subslide"
    },
    "variables": {
     "Markdown(slides_cont[\"intro\"][\"intro_s2\"][\"title\"])": "<h2 id=\"motivaciones-para-desarrollar-plataforma\">Motivaciones para desarrollar plataforma</h2>\n"
    }
   },
   "source": [
    "{{Markdown(slides_cont[\"intro\"][\"intro_s2\"][\"title\"])}}"
   ]
  },
  {
   "cell_type": "markdown",
   "metadata": {
    "slideshow": {
     "slide_type": "fragment"
    },
    "variables": {
     "Markdown(slides_cont[\"intro\"][\"intro_s2\"][\"body_1\"])": "<p>1️⃣  Robustecer las <strong>funcionalidades administrativas</strong></p>\n<p>2️⃣  Automatizar <strong>actividades recurrentes</strong></p>\n<p>️3️⃣  Disponer de <strong>información de negocio</strong> para la toma de decisiones</p>\n<p>4️⃣  Integrar <strong>herramientas externas</strong></p>\n<p>5️⃣  Obtener control de los <strong>datos generados</strong></p>\n"
    }
   },
   "source": [
    "{{Markdown(slides_cont[\"intro\"][\"intro_s2\"][\"body_1\"])}}"
   ]
  },
  {
   "cell_type": "markdown",
   "metadata": {
    "slideshow": {
     "slide_type": "slide"
    }
   },
   "source": [
    "# Metodología"
   ]
  },
  {
   "cell_type": "markdown",
   "metadata": {
    "slideshow": {
     "slide_type": "fragment"
    }
   },
   "source": [
    "{{Markdown(slides_cont[\"intro\"][\"intro_s1\"][\"body_1\"])}}"
   ]
  },
  {
   "cell_type": "markdown",
   "metadata": {
    "slideshow": {
     "slide_type": "slide"
    }
   },
   "source": [
    "# Comparativo"
   ]
  },
  {
   "cell_type": "markdown",
   "metadata": {
    "slideshow": {
     "slide_type": "subslide"
    }
   },
   "source": [
    "- Listado de todas las plataformas evaluadas"
   ]
  },
  {
   "cell_type": "markdown",
   "metadata": {
    "slideshow": {
     "slide_type": "slide"
    }
   },
   "source": [
    "**FIN**"
   ]
  },
  {
   "cell_type": "markdown",
   "metadata": {
    "slideshow": {
     "slide_type": "skip"
    }
   },
   "source": [
    "---"
   ]
  },
  {
   "cell_type": "markdown",
   "metadata": {
    "slideshow": {
     "slide_type": "skip"
    }
   },
   "source": [
    "# *Code*"
   ]
  },
  {
   "cell_type": "markdown",
   "metadata": {
    "heading_collapsed": true,
    "slideshow": {
     "slide_type": "skip"
    }
   },
   "source": [
    "## Imports"
   ]
  },
  {
   "cell_type": "markdown",
   "metadata": {
    "hidden": true,
    "slideshow": {
     "slide_type": "skip"
    }
   },
   "source": [
    "#### Standard library imports"
   ]
  },
  {
   "cell_type": "code",
   "execution_count": 1,
   "metadata": {
    "ExecuteTime": {
     "end_time": "2021-03-04T16:21:48.460543Z",
     "start_time": "2021-03-04T16:21:48.457610Z"
    },
    "hidden": true,
    "init_cell": true,
    "slideshow": {
     "slide_type": "skip"
    }
   },
   "outputs": [],
   "source": [
    "from IPython.display import display, Markdown, Latex\n",
    "import sys\n",
    "import os\n",
    "import re"
   ]
  },
  {
   "cell_type": "markdown",
   "metadata": {
    "hidden": true,
    "slideshow": {
     "slide_type": "skip"
    }
   },
   "source": [
    "#### Third party imports"
   ]
  },
  {
   "cell_type": "code",
   "execution_count": 2,
   "metadata": {
    "ExecuteTime": {
     "end_time": "2021-03-04T16:21:48.885639Z",
     "start_time": "2021-03-04T16:21:48.462480Z"
    },
    "hidden": true,
    "init_cell": true,
    "slideshow": {
     "slide_type": "skip"
    }
   },
   "outputs": [],
   "source": [
    "import pandas as pd"
   ]
  },
  {
   "cell_type": "markdown",
   "metadata": {
    "hidden": true,
    "slideshow": {
     "slide_type": "skip"
    }
   },
   "source": [
    "#### Local application imports"
   ]
  },
  {
   "cell_type": "code",
   "execution_count": 3,
   "metadata": {
    "ExecuteTime": {
     "end_time": "2021-03-04T16:21:48.911759Z",
     "start_time": "2021-03-04T16:21:48.887970Z"
    },
    "hidden": true,
    "init_cell": true,
    "slideshow": {
     "slide_type": "skip"
    }
   },
   "outputs": [],
   "source": [
    "%load_ext autoreload\n",
    "%autoreload 2\n",
    "\n",
    "from modules.platcomp_params import (\n",
    "    ext_data_dir_name,\n",
    ")\n",
    "\n",
    "from modules.platcomp_prescont import (\n",
    "    slides_cont\n",
    ")"
   ]
  },
  {
   "cell_type": "markdown",
   "metadata": {
    "slideshow": {
     "slide_type": "skip"
    }
   },
   "source": [
    "## Managing external data"
   ]
  },
  {
   "cell_type": "markdown",
   "metadata": {
    "slideshow": {
     "slide_type": "skip"
    }
   },
   "source": [
    "### Notion comparative table"
   ]
  },
  {
   "cell_type": "code",
   "execution_count": null,
   "metadata": {
    "ExecuteTime": {
     "end_time": "2021-03-04T16:09:02.986042Z",
     "start_time": "2021-03-04T16:09:02.967363Z"
    },
    "slideshow": {
     "slide_type": "skip"
    }
   },
   "outputs": [],
   "source": [
    "## Getting most recent version of Notion table\n",
    "\n",
    "mrd = max([file.split(sep=\"_\")[0] for file in os.listdir(\"ext_data/\") if \".DS_Store\" not in file])\n",
    "\n",
    "notion_t = [file for file in os.listdir(\"ext_data/\") if mrd in file][0]"
   ]
  },
  {
   "cell_type": "code",
   "execution_count": null,
   "metadata": {
    "ExecuteTime": {
     "end_time": "2021-03-04T16:09:03.192661Z",
     "start_time": "2021-03-04T16:09:03.172485Z"
    },
    "slideshow": {
     "slide_type": "skip"
    }
   },
   "outputs": [],
   "source": [
    "df_n = pd.read_csv(ext_data_dir_name + notion_t)"
   ]
  },
  {
   "cell_type": "code",
   "execution_count": null,
   "metadata": {
    "ExecuteTime": {
     "end_time": "2021-03-04T16:11:07.302255Z",
     "start_time": "2021-03-04T16:11:07.285204Z"
    },
    "scrolled": true,
    "slideshow": {
     "slide_type": "skip"
    }
   },
   "outputs": [],
   "source": [
    "df_n.shape"
   ]
  },
  {
   "cell_type": "code",
   "execution_count": null,
   "metadata": {
    "ExecuteTime": {
     "end_time": "2021-03-04T16:09:03.731595Z",
     "start_time": "2021-03-04T16:09:03.689621Z"
    },
    "scrolled": true,
    "slideshow": {
     "slide_type": "skip"
    }
   },
   "outputs": [],
   "source": [
    "df_n"
   ]
  },
  {
   "cell_type": "markdown",
   "metadata": {
    "slideshow": {
     "slide_type": "skip"
    }
   },
   "source": [
    "---"
   ]
  }
 ],
 "metadata": {
  "celltoolbar": "Slideshow",
  "kernelspec": {
   "display_name": "Python 3",
   "language": "python",
   "name": "python3"
  },
  "language_info": {
   "codemirror_mode": {
    "name": "ipython",
    "version": 3
   },
   "file_extension": ".py",
   "mimetype": "text/x-python",
   "name": "python",
   "nbconvert_exporter": "python",
   "pygments_lexer": "ipython3",
   "version": "3.8.5"
  },
  "toc": {
   "base_numbering": 1,
   "nav_menu": {},
   "number_sections": true,
   "sideBar": true,
   "skip_h1_title": false,
   "title_cell": "Table of Contents",
   "title_sidebar": "Contents",
   "toc_cell": false,
   "toc_position": {},
   "toc_section_display": true,
   "toc_window_display": false
  }
 },
 "nbformat": 4,
 "nbformat_minor": 4
}
